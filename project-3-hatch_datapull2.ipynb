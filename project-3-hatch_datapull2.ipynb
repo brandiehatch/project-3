{
 "cells": [
  {
   "cell_type": "markdown",
   "metadata": {},
   "source": [
    "# Project 3: Web APIs and NLP <br>\n",
    "\n",
    "#### Brandie Hatch"
   ]
  },
  {
   "cell_type": "markdown",
   "metadata": {},
   "source": [
    "## Problem\n",
    "\n",
    "\n",
    "\n",
    "Learn with Chewie presents:\n",
    "Web API and NLP Services"
   ]
  },
  {
   "cell_type": "code",
   "execution_count": null,
   "metadata": {},
   "outputs": [],
   "source": []
  },
  {
   "cell_type": "markdown",
   "metadata": {},
   "source": [
    "## Preparation"
   ]
  },
  {
   "cell_type": "code",
   "execution_count": 1,
   "metadata": {},
   "outputs": [
    {
     "name": "stderr",
     "output_type": "stream",
     "text": [
      "c:\\Users\\hatch\\anaconda3\\lib\\site-packages\\statsmodels\\compat\\pandas.py:61: FutureWarning: pandas.Int64Index is deprecated and will be removed from pandas in a future version. Use pandas.Index with the appropriate dtype instead.\n",
      "  from pandas import Int64Index as NumericIndex\n"
     ]
    }
   ],
   "source": [
    "# imports\n",
    "import pandas as pd\n",
    "import numpy as np\n",
    "import matplotlib.pyplot as plt\n",
    "import seaborn as sns\n",
    "import scipy.stats as stats\n",
    "import statsmodels.api as sm\n",
    "\n",
    "%matplotlib inline\n",
    "pd.options.display.max_columns =999\n",
    "\n",
    "import praw\n",
    "import requests\n",
    "import time\n",
    "import re\n",
    "import nltk"
   ]
  },
  {
   "cell_type": "code",
   "execution_count": 53,
   "metadata": {},
   "outputs": [
    {
     "name": "stdout",
     "output_type": "stream",
     "text": [
      "False\n"
     ]
    }
   ],
   "source": [
    "# Gather Data\n",
    "\n",
    "\n",
    "reddit = praw.Reddit(\n",
    "    client_id = '5aTMVLqpXQvo6vpgNv171w',\n",
    "    client_secret = 'FAjO19Zyx5W4N9llEeklP8apwz20Zw',\n",
    "    username='BrandieHatch',\n",
    "    password='Qwert123',\n",
    "    user_agent='praw_BH',\n",
    ")\n",
    "print(reddit.read_only)"
   ]
  },
  {
   "cell_type": "code",
   "execution_count": 2,
   "metadata": {},
   "outputs": [],
   "source": [
    "CLIENT_ID = '5aTMVLqpXQvo6vpgNv171w'\n",
    "SECRET_KEY = 'FAjO19Zyx5W4N9llEeklP8apwz20Zw'"
   ]
  },
  {
   "cell_type": "code",
   "execution_count": 3,
   "metadata": {},
   "outputs": [],
   "source": [
    "with open('pw.txt', 'r') as f:\n",
    "    pw = f.read()"
   ]
  },
  {
   "cell_type": "code",
   "execution_count": 4,
   "metadata": {},
   "outputs": [
    {
     "data": {
      "text/plain": [
       "<Response [200]>"
      ]
     },
     "execution_count": 4,
     "metadata": {},
     "output_type": "execute_result"
    }
   ],
   "source": [
    "auth = requests.auth.HTTPBasicAuth(CLIENT_ID, SECRET_KEY)\n",
    "\n",
    "data = {\n",
    "    'grant_type': 'password',\n",
    "    'username': 'BrandieHatch',\n",
    "    'password': pw\n",
    "}\n",
    "\n",
    "headers = {'user-agent': 'praw_BH/0.0.1', 'accept': '*/*'}\n",
    "\n",
    "res = requests.post('https://www.reddit.com/api/v1/access_token',\n",
    "                    auth=auth, data=data, headers=headers)\n",
    "\n",
    "token = res.json()['access_token']\n",
    "\n",
    "\n",
    "# add authorization to our headers dictionary\n",
    "headers = {**headers, **{'Authorization': f'bearer {token}'}}\n",
    "\n",
    "# while the token is valid (~2 hours) we just add headers=headers to our requests\n",
    "requests.get('https://oauth.reddit.com/api/v1/me', headers=headers)"
   ]
  },
  {
   "cell_type": "code",
   "execution_count": null,
   "metadata": {},
   "outputs": [],
   "source": [
    "# requests.get(\"https://oauth.reddit.com/r/dogtraining/hot\", headers=headers).json()"
   ]
  },
  {
   "cell_type": "code",
   "execution_count": 85,
   "metadata": {},
   "outputs": [],
   "source": [
    "#params = {'size': 100}\n",
    "\n",
    "#res = requests.get(\"https://oauth.reddit.com/r/dogtraining/hot\", params, headers=headers).json()"
   ]
  },
  {
   "cell_type": "code",
   "execution_count": 7,
   "metadata": {},
   "outputs": [
    {
     "name": "stderr",
     "output_type": "stream",
     "text": [
      "C:\\Users\\hatch\\AppData\\Local\\Temp/ipykernel_18828/3201479657.py:10: FutureWarning: The frame.append method is deprecated and will be removed from pandas in a future version. Use pandas.concat instead.\n",
      "  df_dogtraining = df_dogtraining.append({\n"
     ]
    }
   ],
   "source": [
    "params = {\n",
    "     'size': 100\n",
    "}\n",
    "\n",
    "res = requests.get(\"https://oauth.reddit.com/r/dogtraining/\", params, headers=headers)\n",
    "\n",
    "df_dogtraining = pd.DataFrame()\n",
    "\n",
    "for submission in res.json()['data']['children']:\n",
    "    df_dogtraining = df_dogtraining.append({\n",
    "        'subreddit': submission['data']['subreddit'],\n",
    "        'id': submission['data']['id'],\n",
    "        'title': submission['data']['title'],\n",
    "        'selftext': submission['data']['selftext'], \n",
    "        'author': submission['data']['author'],\n",
    "        'name': submission['data']['name'],\n",
    "        'ups': submission['data']['ups'], \n",
    "        'downs': submission['data']['downs'],\n",
    "        'score': submission['data']['score'],\n",
    "        'num_comments': submission['data']['num_comments'], \n",
    "        'created_utc': submission['data']['created_utc'],\n",
    "        'over_18': submission['data']['over_18']\n",
    "    }, ignore_index=True)\n",
    "\n",
    "    import warnings\n",
    "    warnings.simplefilter(\"ignore\")"
   ]
  },
  {
   "cell_type": "code",
   "execution_count": 8,
   "metadata": {},
   "outputs": [
    {
     "data": {
      "text/plain": [
       "(27, 12)"
      ]
     },
     "execution_count": 8,
     "metadata": {},
     "output_type": "execute_result"
    }
   ],
   "source": [
    "df_dogtraining.shape"
   ]
  },
  {
   "cell_type": "code",
   "execution_count": null,
   "metadata": {},
   "outputs": [],
   "source": []
  },
  {
   "cell_type": "markdown",
   "metadata": {},
   "source": [
    "## Explore Data"
   ]
  },
  {
   "cell_type": "code",
   "execution_count": 2,
   "metadata": {},
   "outputs": [],
   "source": [
    "# Imports\n",
    "\n"
   ]
  },
  {
   "cell_type": "markdown",
   "metadata": {},
   "source": [
    "## Model"
   ]
  },
  {
   "cell_type": "code",
   "execution_count": null,
   "metadata": {},
   "outputs": [],
   "source": []
  },
  {
   "cell_type": "markdown",
   "metadata": {},
   "source": [
    "## Model Evaluation"
   ]
  },
  {
   "cell_type": "code",
   "execution_count": null,
   "metadata": {},
   "outputs": [],
   "source": []
  },
  {
   "cell_type": "markdown",
   "metadata": {},
   "source": [
    "## Answer Problem, Conclusions, and Recommendations"
   ]
  },
  {
   "cell_type": "code",
   "execution_count": null,
   "metadata": {},
   "outputs": [],
   "source": []
  },
  {
   "cell_type": "markdown",
   "metadata": {},
   "source": [
    "## Sources"
   ]
  }
 ],
 "metadata": {
  "interpreter": {
   "hash": "bee7f723e8de006fbc10ab2a326e1b10643793c86d76dca5e0479e98f4fcd42d"
  },
  "kernelspec": {
   "display_name": "Python 3.8.12 ('base')",
   "language": "python",
   "name": "python3"
  },
  "language_info": {
   "codemirror_mode": {
    "name": "ipython",
    "version": 3
   },
   "file_extension": ".py",
   "mimetype": "text/x-python",
   "name": "python",
   "nbconvert_exporter": "python",
   "pygments_lexer": "ipython3",
   "version": "3.8.12"
  },
  "orig_nbformat": 4
 },
 "nbformat": 4,
 "nbformat_minor": 2
}
