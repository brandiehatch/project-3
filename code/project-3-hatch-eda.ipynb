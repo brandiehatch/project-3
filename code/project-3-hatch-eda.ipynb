{
 "cells": [
  {
   "cell_type": "markdown",
   "metadata": {},
   "source": [
    "# Project 3: Web APIs and NLP <br>\n",
    "\n",
    "#### Brandie Hatch\n",
    "\n",
    "### Exploratory Data Analysis, Cleaning, and Feature Engineering"
   ]
  },
  {
   "cell_type": "markdown",
   "metadata": {},
   "source": [
    "## Problem\n",
    "\n",
    "\n",
    "\n",
    "Learn with Chewie presents:\n",
    "Web API and NLP Services"
   ]
  },
  {
   "cell_type": "markdown",
   "metadata": {},
   "source": [
    "What do the users of Reddit consider dog CARE vs. dog TRAINING?"
   ]
  },
  {
   "cell_type": "markdown",
   "metadata": {},
   "source": [
    "__Data Dictionary__\n",
    "\n",
    "Features used listed below:\n",
    "| **Feature**      | **Type** | **Dataset** | **Description**                                           |\n",
    "|------------------|----------|-------------|-----------------------------------------------------------|\n",
    "| **subreddit**    | _object_ | df          | Subreddit Name (instance of Subreddit)                    |\n",
    "| **title**        | _object_ | df          | Title of submission                                       |\n",
    "| **selftext**     | _object_ | df          | Selftext of a submission (an empty string if a link post) |\n",
    "| **author**       | _object_ | df          | Author (Redditor) of the submission                       |\n",
    "| **name**         | _object_ | df          | Full ID of submission, prefixed with t4_                  |\n",
    "| **ups**          | _int64_  | df          | Number of up-vote points for a submission                 |\n",
    "| **downs**        | _int64_  | df          | Number of down-vote points for a submission               |\n",
    "| **score**        | _int64_  | df          | Total points for a submission                             |\n",
    "| **num_comments** | _int64_  | df          | Number of comments on the submission                      |\n",
    "\n",
    "Created with: https://www.tablesgenerator.com/markdown_tables#                                                             "
   ]
  },
  {
   "cell_type": "markdown",
   "metadata": {},
   "source": [
    "## Imports and Reading In Data"
   ]
  },
  {
   "cell_type": "code",
   "execution_count": 4,
   "metadata": {},
   "outputs": [
    {
     "name": "stderr",
     "output_type": "stream",
     "text": [
      "c:\\Users\\hatch\\anaconda3\\envs\\dsi-222\\lib\\site-packages\\statsmodels\\compat\\pandas.py:61: FutureWarning: pandas.Int64Index is deprecated and will be removed from pandas in a future version. Use pandas.Index with the appropriate dtype instead.\n",
      "  from pandas import Int64Index as NumericIndex\n"
     ]
    }
   ],
   "source": [
    "# python library imports\n",
    "import pandas as pd\n",
    "import numpy as np\n",
    "import matplotlib.pyplot as plt\n",
    "import seaborn as sns\n",
    "import scipy.stats as stats\n",
    "import statsmodels.api as sm\n",
    "\n",
    "%matplotlib inline\n",
    "pd.options.display.max_columns =999\n",
    "\n",
    "import requests\n",
    "import time\n",
    "import re\n",
    "import nltk"
   ]
  },
  {
   "cell_type": "code",
   "execution_count": 5,
   "metadata": {},
   "outputs": [
    {
     "name": "stdout",
     "output_type": "stream",
     "text": [
      "(5130, 12)\n"
     ]
    },
    {
     "data": {
      "text/html": [
       "<div>\n",
       "<style scoped>\n",
       "    .dataframe tbody tr th:only-of-type {\n",
       "        vertical-align: middle;\n",
       "    }\n",
       "\n",
       "    .dataframe tbody tr th {\n",
       "        vertical-align: top;\n",
       "    }\n",
       "\n",
       "    .dataframe thead th {\n",
       "        text-align: right;\n",
       "    }\n",
       "</style>\n",
       "<table border=\"1\" class=\"dataframe\">\n",
       "  <thead>\n",
       "    <tr style=\"text-align: right;\">\n",
       "      <th></th>\n",
       "      <th>subreddit</th>\n",
       "      <th>id</th>\n",
       "      <th>title</th>\n",
       "      <th>selftext</th>\n",
       "      <th>author</th>\n",
       "      <th>name</th>\n",
       "      <th>ups</th>\n",
       "      <th>downs</th>\n",
       "      <th>score</th>\n",
       "      <th>num_comments</th>\n",
       "      <th>created_utc</th>\n",
       "      <th>over_18</th>\n",
       "    </tr>\n",
       "  </thead>\n",
       "  <tbody>\n",
       "    <tr>\n",
       "      <th>0</th>\n",
       "      <td>Dogtraining</td>\n",
       "      <td>uijir1</td>\n",
       "      <td>Trick of the Month - May 2022 - Crawl Backwards</td>\n",
       "      <td>Welcome to the Trick of the Month!\\n\\nThis mon...</td>\n",
       "      <td>moo6</td>\n",
       "      <td>t3_uijir1</td>\n",
       "      <td>5</td>\n",
       "      <td>0</td>\n",
       "      <td>5</td>\n",
       "      <td>4</td>\n",
       "      <td>2022-05-04T16:25:25Z</td>\n",
       "      <td>False</td>\n",
       "    </tr>\n",
       "    <tr>\n",
       "      <th>1</th>\n",
       "      <td>Dogtraining</td>\n",
       "      <td>ujxbsz</td>\n",
       "      <td>Announcement - Puppy Enrichment AMA With Allie...</td>\n",
       "      <td>NaN</td>\n",
       "      <td>Cursethewind</td>\n",
       "      <td>t3_ujxbsz</td>\n",
       "      <td>6</td>\n",
       "      <td>0</td>\n",
       "      <td>6</td>\n",
       "      <td>2</td>\n",
       "      <td>2022-05-06T14:05:34Z</td>\n",
       "      <td>False</td>\n",
       "    </tr>\n",
       "    <tr>\n",
       "      <th>2</th>\n",
       "      <td>Dogtraining</td>\n",
       "      <td>up52vw</td>\n",
       "      <td>How do I get a cafe/brewery dog?</td>\n",
       "      <td>I am sitting at a brewery right now and all th...</td>\n",
       "      <td>slothsandwhich</td>\n",
       "      <td>t3_up52vw</td>\n",
       "      <td>272</td>\n",
       "      <td>0</td>\n",
       "      <td>272</td>\n",
       "      <td>87</td>\n",
       "      <td>2022-05-13T17:11:13Z</td>\n",
       "      <td>False</td>\n",
       "    </tr>\n",
       "    <tr>\n",
       "      <th>3</th>\n",
       "      <td>Dogtraining</td>\n",
       "      <td>upd3e8</td>\n",
       "      <td>Hi, does anybody know the company that makes t...</td>\n",
       "      <td>NaN</td>\n",
       "      <td>Fluffy_Overlord_1995</td>\n",
       "      <td>t3_upd3e8</td>\n",
       "      <td>38</td>\n",
       "      <td>0</td>\n",
       "      <td>38</td>\n",
       "      <td>5</td>\n",
       "      <td>2022-05-14T01:47:21Z</td>\n",
       "      <td>False</td>\n",
       "    </tr>\n",
       "    <tr>\n",
       "      <th>4</th>\n",
       "      <td>Dogtraining</td>\n",
       "      <td>upf4dj</td>\n",
       "      <td>My 3 months samoyed forgot all his training af...</td>\n",
       "      <td>As the title says, after having stomach issues...</td>\n",
       "      <td>osmancode</td>\n",
       "      <td>t3_upf4dj</td>\n",
       "      <td>23</td>\n",
       "      <td>0</td>\n",
       "      <td>23</td>\n",
       "      <td>15</td>\n",
       "      <td>2022-05-14T04:16:59Z</td>\n",
       "      <td>False</td>\n",
       "    </tr>\n",
       "  </tbody>\n",
       "</table>\n",
       "</div>"
      ],
      "text/plain": [
       "     subreddit      id                                              title  \\\n",
       "0  Dogtraining  uijir1    Trick of the Month - May 2022 - Crawl Backwards   \n",
       "1  Dogtraining  ujxbsz  Announcement - Puppy Enrichment AMA With Allie...   \n",
       "2  Dogtraining  up52vw                   How do I get a cafe/brewery dog?   \n",
       "3  Dogtraining  upd3e8  Hi, does anybody know the company that makes t...   \n",
       "4  Dogtraining  upf4dj  My 3 months samoyed forgot all his training af...   \n",
       "\n",
       "                                            selftext                author  \\\n",
       "0  Welcome to the Trick of the Month!\\n\\nThis mon...                  moo6   \n",
       "1                                                NaN          Cursethewind   \n",
       "2  I am sitting at a brewery right now and all th...        slothsandwhich   \n",
       "3                                                NaN  Fluffy_Overlord_1995   \n",
       "4  As the title says, after having stomach issues...             osmancode   \n",
       "\n",
       "        name  ups  downs  score  num_comments           created_utc  over_18  \n",
       "0  t3_uijir1    5      0      5             4  2022-05-04T16:25:25Z    False  \n",
       "1  t3_ujxbsz    6      0      6             2  2022-05-06T14:05:34Z    False  \n",
       "2  t3_up52vw  272      0    272            87  2022-05-13T17:11:13Z    False  \n",
       "3  t3_upd3e8   38      0     38             5  2022-05-14T01:47:21Z    False  \n",
       "4  t3_upf4dj   23      0     23            15  2022-05-14T04:16:59Z    False  "
      ]
     },
     "execution_count": 5,
     "metadata": {},
     "output_type": "execute_result"
    }
   ],
   "source": [
    "# load data\n",
    "\n",
    "dogtraining = pd.read_csv('./data/dogtraining.csv')\n",
    "print(dogtraining.shape)\n",
    "dogtraining.head()"
   ]
  },
  {
   "cell_type": "markdown",
   "metadata": {},
   "source": [
    "The Dog Training data set includes 5099 observations of eight variables. "
   ]
  },
  {
   "cell_type": "code",
   "execution_count": 7,
   "metadata": {},
   "outputs": [
    {
     "data": {
      "text/plain": [
       "subreddit       object\n",
       "id              object\n",
       "title           object\n",
       "selftext        object\n",
       "author          object\n",
       "name            object\n",
       "ups              int64\n",
       "downs            int64\n",
       "score            int64\n",
       "num_comments     int64\n",
       "created_utc     object\n",
       "over_18           bool\n",
       "dtype: object"
      ]
     },
     "execution_count": 7,
     "metadata": {},
     "output_type": "execute_result"
    }
   ],
   "source": [
    "dogtraining.dtypes"
   ]
  },
  {
   "cell_type": "code",
   "execution_count": 8,
   "metadata": {},
   "outputs": [
    {
     "data": {
      "text/plain": [
       "subreddit         0\n",
       "id                0\n",
       "title             0\n",
       "selftext        760\n",
       "author            0\n",
       "name              0\n",
       "ups               0\n",
       "downs             0\n",
       "score             0\n",
       "num_comments      0\n",
       "created_utc       0\n",
       "over_18           0\n",
       "dtype: int64"
      ]
     },
     "execution_count": 8,
     "metadata": {},
     "output_type": "execute_result"
    }
   ],
   "source": [
    "dogtraining.isnull().sum()"
   ]
  },
  {
   "cell_type": "code",
   "execution_count": 9,
   "metadata": {},
   "outputs": [
    {
     "data": {
      "text/html": [
       "<div>\n",
       "<style scoped>\n",
       "    .dataframe tbody tr th:only-of-type {\n",
       "        vertical-align: middle;\n",
       "    }\n",
       "\n",
       "    .dataframe tbody tr th {\n",
       "        vertical-align: top;\n",
       "    }\n",
       "\n",
       "    .dataframe thead th {\n",
       "        text-align: right;\n",
       "    }\n",
       "</style>\n",
       "<table border=\"1\" class=\"dataframe\">\n",
       "  <thead>\n",
       "    <tr style=\"text-align: right;\">\n",
       "      <th></th>\n",
       "      <th>ups</th>\n",
       "      <th>downs</th>\n",
       "      <th>score</th>\n",
       "      <th>num_comments</th>\n",
       "    </tr>\n",
       "  </thead>\n",
       "  <tbody>\n",
       "    <tr>\n",
       "      <th>count</th>\n",
       "      <td>5130.000000</td>\n",
       "      <td>5130.0</td>\n",
       "      <td>5130.000000</td>\n",
       "      <td>5130.000000</td>\n",
       "    </tr>\n",
       "    <tr>\n",
       "      <th>mean</th>\n",
       "      <td>36.542885</td>\n",
       "      <td>0.0</td>\n",
       "      <td>36.542885</td>\n",
       "      <td>14.703704</td>\n",
       "    </tr>\n",
       "    <tr>\n",
       "      <th>std</th>\n",
       "      <td>94.937302</td>\n",
       "      <td>0.0</td>\n",
       "      <td>94.937302</td>\n",
       "      <td>34.123826</td>\n",
       "    </tr>\n",
       "    <tr>\n",
       "      <th>min</th>\n",
       "      <td>0.000000</td>\n",
       "      <td>0.0</td>\n",
       "      <td>0.000000</td>\n",
       "      <td>0.000000</td>\n",
       "    </tr>\n",
       "    <tr>\n",
       "      <th>25%</th>\n",
       "      <td>1.000000</td>\n",
       "      <td>0.0</td>\n",
       "      <td>1.000000</td>\n",
       "      <td>1.000000</td>\n",
       "    </tr>\n",
       "    <tr>\n",
       "      <th>50%</th>\n",
       "      <td>4.000000</td>\n",
       "      <td>0.0</td>\n",
       "      <td>4.000000</td>\n",
       "      <td>4.000000</td>\n",
       "    </tr>\n",
       "    <tr>\n",
       "      <th>75%</th>\n",
       "      <td>12.000000</td>\n",
       "      <td>0.0</td>\n",
       "      <td>12.000000</td>\n",
       "      <td>10.000000</td>\n",
       "    </tr>\n",
       "    <tr>\n",
       "      <th>max</th>\n",
       "      <td>433.000000</td>\n",
       "      <td>0.0</td>\n",
       "      <td>433.000000</td>\n",
       "      <td>166.000000</td>\n",
       "    </tr>\n",
       "  </tbody>\n",
       "</table>\n",
       "</div>"
      ],
      "text/plain": [
       "               ups   downs        score  num_comments\n",
       "count  5130.000000  5130.0  5130.000000   5130.000000\n",
       "mean     36.542885     0.0    36.542885     14.703704\n",
       "std      94.937302     0.0    94.937302     34.123826\n",
       "min       0.000000     0.0     0.000000      0.000000\n",
       "25%       1.000000     0.0     1.000000      1.000000\n",
       "50%       4.000000     0.0     4.000000      4.000000\n",
       "75%      12.000000     0.0    12.000000     10.000000\n",
       "max     433.000000     0.0   433.000000    166.000000"
      ]
     },
     "execution_count": 9,
     "metadata": {},
     "output_type": "execute_result"
    }
   ],
   "source": [
    "dogtraining.describe()"
   ]
  },
  {
   "cell_type": "code",
   "execution_count": 11,
   "metadata": {},
   "outputs": [
    {
     "data": {
      "text/html": [
       "<div>\n",
       "<style scoped>\n",
       "    .dataframe tbody tr th:only-of-type {\n",
       "        vertical-align: middle;\n",
       "    }\n",
       "\n",
       "    .dataframe tbody tr th {\n",
       "        vertical-align: top;\n",
       "    }\n",
       "\n",
       "    .dataframe thead th {\n",
       "        text-align: right;\n",
       "    }\n",
       "</style>\n",
       "<table border=\"1\" class=\"dataframe\">\n",
       "  <thead>\n",
       "    <tr style=\"text-align: right;\">\n",
       "      <th></th>\n",
       "      <th>subreddit</th>\n",
       "      <th>id</th>\n",
       "      <th>title</th>\n",
       "      <th>selftext</th>\n",
       "      <th>author</th>\n",
       "      <th>name</th>\n",
       "      <th>ups</th>\n",
       "      <th>downs</th>\n",
       "      <th>score</th>\n",
       "      <th>num_comments</th>\n",
       "      <th>created_utc</th>\n",
       "      <th>over_18</th>\n",
       "    </tr>\n",
       "  </thead>\n",
       "  <tbody>\n",
       "    <tr>\n",
       "      <th>0</th>\n",
       "      <td>DogCare</td>\n",
       "      <td>upgugb</td>\n",
       "      <td>Massages for hip dysplasia?</td>\n",
       "      <td>He's a 6 yo boxer/mastiff,135 lbs and in good ...</td>\n",
       "      <td>Flaky_Watch</td>\n",
       "      <td>t3_upgugb</td>\n",
       "      <td>3</td>\n",
       "      <td>0</td>\n",
       "      <td>3</td>\n",
       "      <td>1</td>\n",
       "      <td>2022-05-14T06:04:21Z</td>\n",
       "      <td>False</td>\n",
       "    </tr>\n",
       "    <tr>\n",
       "      <th>1</th>\n",
       "      <td>DogCare</td>\n",
       "      <td>uow11b</td>\n",
       "      <td>My dog has this weird thing on the tail, can a...</td>\n",
       "      <td>NaN</td>\n",
       "      <td>NivTheGever</td>\n",
       "      <td>t3_uow11b</td>\n",
       "      <td>24</td>\n",
       "      <td>0</td>\n",
       "      <td>24</td>\n",
       "      <td>15</td>\n",
       "      <td>2022-05-13T09:50:09Z</td>\n",
       "      <td>False</td>\n",
       "    </tr>\n",
       "    <tr>\n",
       "      <th>2</th>\n",
       "      <td>DogCare</td>\n",
       "      <td>upa4qd</td>\n",
       "      <td>Lab/Great Dane puppy leg shattered</td>\n",
       "      <td>So my dog jumped out of my truck and completel...</td>\n",
       "      <td>Boomstick825</td>\n",
       "      <td>t3_upa4qd</td>\n",
       "      <td>0</td>\n",
       "      <td>0</td>\n",
       "      <td>0</td>\n",
       "      <td>3</td>\n",
       "      <td>2022-05-13T22:14:14Z</td>\n",
       "      <td>False</td>\n",
       "    </tr>\n",
       "    <tr>\n",
       "      <th>3</th>\n",
       "      <td>DogCare</td>\n",
       "      <td>up7lse</td>\n",
       "      <td>Any ideas what this might be?</td>\n",
       "      <td>I came home from work a couple of days ago and...</td>\n",
       "      <td>ChunkyMonkey3499</td>\n",
       "      <td>t3_up7lse</td>\n",
       "      <td>0</td>\n",
       "      <td>0</td>\n",
       "      <td>0</td>\n",
       "      <td>1</td>\n",
       "      <td>2022-05-13T19:35:38Z</td>\n",
       "      <td>False</td>\n",
       "    </tr>\n",
       "    <tr>\n",
       "      <th>4</th>\n",
       "      <td>DogCare</td>\n",
       "      <td>uoyffw</td>\n",
       "      <td>Anyone know what this could be? 7 Yr old Irish...</td>\n",
       "      <td>NaN</td>\n",
       "      <td>Disastrous_Bobcat402</td>\n",
       "      <td>t3_uoyffw</td>\n",
       "      <td>1</td>\n",
       "      <td>0</td>\n",
       "      <td>1</td>\n",
       "      <td>0</td>\n",
       "      <td>2022-05-13T11:44:38Z</td>\n",
       "      <td>False</td>\n",
       "    </tr>\n",
       "  </tbody>\n",
       "</table>\n",
       "</div>"
      ],
      "text/plain": [
       "  subreddit      id                                              title  \\\n",
       "0   DogCare  upgugb                        Massages for hip dysplasia?   \n",
       "1   DogCare  uow11b  My dog has this weird thing on the tail, can a...   \n",
       "2   DogCare  upa4qd                 Lab/Great Dane puppy leg shattered   \n",
       "3   DogCare  up7lse                      Any ideas what this might be?   \n",
       "4   DogCare  uoyffw  Anyone know what this could be? 7 Yr old Irish...   \n",
       "\n",
       "                                            selftext                author  \\\n",
       "0  He's a 6 yo boxer/mastiff,135 lbs and in good ...           Flaky_Watch   \n",
       "1                                                NaN           NivTheGever   \n",
       "2  So my dog jumped out of my truck and completel...          Boomstick825   \n",
       "3  I came home from work a couple of days ago and...      ChunkyMonkey3499   \n",
       "4                                                NaN  Disastrous_Bobcat402   \n",
       "\n",
       "        name  ups  downs  score  num_comments           created_utc  over_18  \n",
       "0  t3_upgugb    3      0      3             1  2022-05-14T06:04:21Z    False  \n",
       "1  t3_uow11b   24      0     24            15  2022-05-13T09:50:09Z    False  \n",
       "2  t3_upa4qd    0      0      0             3  2022-05-13T22:14:14Z    False  \n",
       "3  t3_up7lse    0      0      0             1  2022-05-13T19:35:38Z    False  \n",
       "4  t3_uoyffw    1      0      1             0  2022-05-13T11:44:38Z    False  "
      ]
     },
     "execution_count": 11,
     "metadata": {},
     "output_type": "execute_result"
    }
   ],
   "source": [
    "dogcare = pd.read_csv('./data/dogcare.csv')\n",
    "dogcare.head()"
   ]
  },
  {
   "cell_type": "code",
   "execution_count": 12,
   "metadata": {},
   "outputs": [
    {
     "data": {
      "text/plain": [
       "subreddit       object\n",
       "id              object\n",
       "title           object\n",
       "selftext        object\n",
       "author          object\n",
       "name            object\n",
       "ups              int64\n",
       "downs            int64\n",
       "score            int64\n",
       "num_comments     int64\n",
       "created_utc     object\n",
       "over_18           bool\n",
       "dtype: object"
      ]
     },
     "execution_count": 12,
     "metadata": {},
     "output_type": "execute_result"
    }
   ],
   "source": [
    "dogtraining.dtypes"
   ]
  },
  {
   "cell_type": "code",
   "execution_count": 13,
   "metadata": {},
   "outputs": [
    {
     "data": {
      "text/plain": [
       "subreddit          0\n",
       "id                 0\n",
       "title              0\n",
       "selftext        3300\n",
       "author             0\n",
       "name               0\n",
       "ups                0\n",
       "downs              0\n",
       "score              0\n",
       "num_comments       0\n",
       "created_utc        0\n",
       "over_18            0\n",
       "dtype: int64"
      ]
     },
     "execution_count": 13,
     "metadata": {},
     "output_type": "execute_result"
    }
   ],
   "source": [
    "dogcare.isnull().sum()"
   ]
  },
  {
   "cell_type": "code",
   "execution_count": 14,
   "metadata": {},
   "outputs": [
    {
     "data": {
      "text/html": [
       "<div>\n",
       "<style scoped>\n",
       "    .dataframe tbody tr th:only-of-type {\n",
       "        vertical-align: middle;\n",
       "    }\n",
       "\n",
       "    .dataframe tbody tr th {\n",
       "        vertical-align: top;\n",
       "    }\n",
       "\n",
       "    .dataframe thead th {\n",
       "        text-align: right;\n",
       "    }\n",
       "</style>\n",
       "<table border=\"1\" class=\"dataframe\">\n",
       "  <thead>\n",
       "    <tr style=\"text-align: right;\">\n",
       "      <th></th>\n",
       "      <th>ups</th>\n",
       "      <th>downs</th>\n",
       "      <th>score</th>\n",
       "      <th>num_comments</th>\n",
       "    </tr>\n",
       "  </thead>\n",
       "  <tbody>\n",
       "    <tr>\n",
       "      <th>count</th>\n",
       "      <td>7500.000000</td>\n",
       "      <td>7500.0</td>\n",
       "      <td>7500.000000</td>\n",
       "      <td>7500.000000</td>\n",
       "    </tr>\n",
       "    <tr>\n",
       "      <th>mean</th>\n",
       "      <td>6.782000</td>\n",
       "      <td>0.0</td>\n",
       "      <td>6.782000</td>\n",
       "      <td>8.040000</td>\n",
       "    </tr>\n",
       "    <tr>\n",
       "      <th>std</th>\n",
       "      <td>7.219849</td>\n",
       "      <td>0.0</td>\n",
       "      <td>7.219849</td>\n",
       "      <td>9.443002</td>\n",
       "    </tr>\n",
       "    <tr>\n",
       "      <th>min</th>\n",
       "      <td>0.000000</td>\n",
       "      <td>0.0</td>\n",
       "      <td>0.000000</td>\n",
       "      <td>0.000000</td>\n",
       "    </tr>\n",
       "    <tr>\n",
       "      <th>25%</th>\n",
       "      <td>3.000000</td>\n",
       "      <td>0.0</td>\n",
       "      <td>3.000000</td>\n",
       "      <td>3.000000</td>\n",
       "    </tr>\n",
       "    <tr>\n",
       "      <th>50%</th>\n",
       "      <td>4.000000</td>\n",
       "      <td>0.0</td>\n",
       "      <td>4.000000</td>\n",
       "      <td>4.000000</td>\n",
       "    </tr>\n",
       "    <tr>\n",
       "      <th>75%</th>\n",
       "      <td>7.000000</td>\n",
       "      <td>0.0</td>\n",
       "      <td>7.000000</td>\n",
       "      <td>10.000000</td>\n",
       "    </tr>\n",
       "    <tr>\n",
       "      <th>max</th>\n",
       "      <td>26.000000</td>\n",
       "      <td>0.0</td>\n",
       "      <td>26.000000</td>\n",
       "      <td>42.000000</td>\n",
       "    </tr>\n",
       "  </tbody>\n",
       "</table>\n",
       "</div>"
      ],
      "text/plain": [
       "               ups   downs        score  num_comments\n",
       "count  7500.000000  7500.0  7500.000000   7500.000000\n",
       "mean      6.782000     0.0     6.782000      8.040000\n",
       "std       7.219849     0.0     7.219849      9.443002\n",
       "min       0.000000     0.0     0.000000      0.000000\n",
       "25%       3.000000     0.0     3.000000      3.000000\n",
       "50%       4.000000     0.0     4.000000      4.000000\n",
       "75%       7.000000     0.0     7.000000     10.000000\n",
       "max      26.000000     0.0    26.000000     42.000000"
      ]
     },
     "execution_count": 14,
     "metadata": {},
     "output_type": "execute_result"
    }
   ],
   "source": [
    "dogcare.describe()"
   ]
  },
  {
   "cell_type": "code",
   "execution_count": null,
   "metadata": {},
   "outputs": [],
   "source": [
    "# remove rows with self text nulls??"
   ]
  },
  {
   "cell_type": "code",
   "execution_count": null,
   "metadata": {},
   "outputs": [
    {
     "ename": "NameError",
     "evalue": "name 'dogcare' is not defined",
     "output_type": "error",
     "traceback": [
      "\u001b[1;31m---------------------------------------------------------------------------\u001b[0m",
      "\u001b[1;31mNameError\u001b[0m                                 Traceback (most recent call last)",
      "\u001b[1;32m~\\AppData\\Local\\Temp/ipykernel_12696/3398866363.py\u001b[0m in \u001b[0;36m<module>\u001b[1;34m\u001b[0m\n\u001b[0;32m      1\u001b[0m \u001b[1;31m# remove selftext, id, and those over 18 that are True (if any)\u001b[0m\u001b[1;33m\u001b[0m\u001b[1;33m\u001b[0m\u001b[1;33m\u001b[0m\u001b[0m\n\u001b[1;32m----> 2\u001b[1;33m \u001b[0mdogcare\u001b[0m\u001b[1;33m.\u001b[0m\u001b[0mdrop\u001b[0m\u001b[1;33m(\u001b[0m\u001b[0mcolumns\u001b[0m\u001b[1;33m=\u001b[0m\u001b[1;33m[\u001b[0m\u001b[1;34m'id'\u001b[0m\u001b[1;33m,\u001b[0m \u001b[1;34m'selftext'\u001b[0m\u001b[1;33m]\u001b[0m\u001b[1;33m)\u001b[0m\u001b[1;33m\u001b[0m\u001b[1;33m\u001b[0m\u001b[0m\n\u001b[0m",
      "\u001b[1;31mNameError\u001b[0m: name 'dogcare' is not defined"
     ]
    }
   ],
   "source": [
    "# remove id, and those over 18 that are True (if any)\n",
    "#dogcare.drop(columns=['id', 'created_utc', 'over_18'])"
   ]
  },
  {
   "cell_type": "code",
   "execution_count": null,
   "metadata": {},
   "outputs": [],
   "source": [
    "# join the two DataFrames\n",
    "#df = pd.concat([dogtraining, dogcare])"
   ]
  },
  {
   "cell_type": "markdown",
   "metadata": {},
   "source": [
    "## Explore Data"
   ]
  },
  {
   "cell_type": "code",
   "execution_count": null,
   "metadata": {},
   "outputs": [],
   "source": [
    "# look at ups, downs, num_comments in comparison to the subreddit\n"
   ]
  },
  {
   "cell_type": "markdown",
   "metadata": {},
   "source": [
    "### Lengths of Titles and Selftext descriptions\n",
    "\n",
    "Determining if length of Titles and Selftext descriptions is worth more review by creating new columns with lengths to analyze."
   ]
  },
  {
   "cell_type": "code",
   "execution_count": null,
   "metadata": {},
   "outputs": [],
   "source": [
    "# create a new column called title_length that contains the length of each title\n",
    "\n",
    "df['title_length'] = df['title'].transform(len)\n",
    "df.head()"
   ]
  },
  {
   "cell_type": "code",
   "execution_count": null,
   "metadata": {},
   "outputs": [],
   "source": [
    "# create a new column called title_word_count that contains the number of words in each title\n",
    "\n",
    "df['title_word_count'] = df['title'].map(lambda x: len(x.split(' ')))"
   ]
  },
  {
   "cell_type": "code",
   "execution_count": null,
   "metadata": {},
   "outputs": [],
   "source": [
    "# create a new column called selftext_length that contains the length of each selftext\n",
    "\n",
    "df['selftext_length'] = df['selftext'].transform(len)\n",
    "df.head()"
   ]
  },
  {
   "cell_type": "code",
   "execution_count": null,
   "metadata": {},
   "outputs": [],
   "source": [
    "# create a new column called selftext_word_count that contains the number of words in each selftext\n",
    "\n",
    "df['selftext_word_count'] = df['selftext'].map(lambda x: len(x.split(' ')))"
   ]
  },
  {
   "cell_type": "markdown",
   "metadata": {},
   "source": [
    "### Longest and shortest Titles and Selftext descriptions\n",
    "\n",
    "Determining if it is worth more review by looking at the five longest and five shortest Titles and Selftext description word counts."
   ]
  },
  {
   "cell_type": "code",
   "execution_count": null,
   "metadata": {},
   "outputs": [
    {
     "ename": "NameError",
     "evalue": "name 'df' is not defined",
     "output_type": "error",
     "traceback": [
      "\u001b[1;31m---------------------------------------------------------------------------\u001b[0m",
      "\u001b[1;31mNameError\u001b[0m                                 Traceback (most recent call last)",
      "\u001b[1;32m~\\AppData\\Local\\Temp/ipykernel_12696/1979573730.py\u001b[0m in \u001b[0;36m<module>\u001b[1;34m\u001b[0m\n\u001b[1;32m----> 1\u001b[1;33m \u001b[0mdf\u001b[0m\u001b[1;33m.\u001b[0m\u001b[0msort_values\u001b[0m\u001b[1;33m(\u001b[0m\u001b[0mby\u001b[0m\u001b[1;33m=\u001b[0m\u001b[1;34m'title_word_count'\u001b[0m\u001b[1;33m)\u001b[0m\u001b[1;33m[\u001b[0m\u001b[1;34m'title'\u001b[0m\u001b[1;33m]\u001b[0m\u001b[1;33m.\u001b[0m\u001b[0mhead\u001b[0m\u001b[1;33m(\u001b[0m\u001b[1;36m5\u001b[0m\u001b[1;33m)\u001b[0m\u001b[1;33m\u001b[0m\u001b[1;33m\u001b[0m\u001b[0m\n\u001b[0m",
      "\u001b[1;31mNameError\u001b[0m: name 'df' is not defined"
     ]
    }
   ],
   "source": [
    "df.sort_values(by='title_word_count')['title'].head(5)"
   ]
  },
  {
   "cell_type": "code",
   "execution_count": null,
   "metadata": {},
   "outputs": [],
   "source": [
    "df.sort_values(by='selftext_word_count')['selftext'].head(5)"
   ]
  },
  {
   "cell_type": "code",
   "execution_count": null,
   "metadata": {},
   "outputs": [],
   "source": [
    "df.sort_values(by='title_word_count', ascending=False)['title'].head(5)"
   ]
  },
  {
   "cell_type": "code",
   "execution_count": null,
   "metadata": {},
   "outputs": [],
   "source": [
    "df.sort_values(by='selftext_word_count', ascending=False)['selftext'].head(5)"
   ]
  },
  {
   "cell_type": "markdown",
   "metadata": {},
   "source": [
    "### Distribution of lengths of Titles and Selftext descriptions"
   ]
  },
  {
   "cell_type": "code",
   "execution_count": null,
   "metadata": {},
   "outputs": [],
   "source": [
    "df['title_length'].hist()\n",
    "plt.title('Distribution of Titles Posts by Character Length')\n",
    "plt.xlabel('Character Count')\n",
    "plt.ylabel('Title Count');"
   ]
  },
  {
   "cell_type": "code",
   "execution_count": null,
   "metadata": {},
   "outputs": [],
   "source": [
    "df['title_word_count'].hist()\n",
    "plt.title('Distribution of Titles by Word Count')\n",
    "plt.xlabel('Word Count')\n",
    "plt.ylabel('Title Count');"
   ]
  },
  {
   "cell_type": "code",
   "execution_count": null,
   "metadata": {},
   "outputs": [],
   "source": []
  },
  {
   "cell_type": "markdown",
   "metadata": {},
   "source": [
    "### EDA Conclusions and Notes"
   ]
  }
 ],
 "metadata": {
  "interpreter": {
   "hash": "ec913dcbef39c008784dc6fe095f00003c17434557640291833f1bcf12636147"
  },
  "kernelspec": {
   "display_name": "Python 3.8.12 ('dsi-222')",
   "language": "python",
   "name": "python3"
  },
  "language_info": {
   "codemirror_mode": {
    "name": "ipython",
    "version": 3
   },
   "file_extension": ".py",
   "mimetype": "text/x-python",
   "name": "python",
   "nbconvert_exporter": "python",
   "pygments_lexer": "ipython3",
   "version": "3.8.12"
  },
  "orig_nbformat": 4
 },
 "nbformat": 4,
 "nbformat_minor": 2
}
