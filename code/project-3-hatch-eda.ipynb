{
 "cells": [
  {
   "cell_type": "markdown",
   "metadata": {},
   "source": [
    "# Project 3: Web APIs and NLP <br>\n",
    "\n",
    "#### Brandie Hatch\n",
    "\n",
    "### Exploratory Data Analysis, Cleaning, and Feature Engineering"
   ]
  },
  {
   "cell_type": "markdown",
   "metadata": {},
   "source": [
    "## Problem\n",
    "\n",
    "\n",
    "\n",
    "Learn with Chewie presents:\n",
    "Web API and NLP Services"
   ]
  },
  {
   "cell_type": "markdown",
   "metadata": {},
   "source": [
    "What do the users of Reddit consider dog CARE vs. dog TRAINING?"
   ]
  },
  {
   "cell_type": "markdown",
   "metadata": {},
   "source": [
    "__Data Dictionary__\n",
    "\n",
    "Features used listed below:\n",
    "| **Feature**      | **Type** | **Dataset** | **Description**                                           |\n",
    "|------------------|----------|-------------|-----------------------------------------------------------|\n",
    "| **subreddit**    | _object_ | df          | Subreddit Name (instance of Subreddit)                    |\n",
    "| **title**        | _object_ | df          | Title of submission                                       |\n",
    "| **selftext**     | _object_ | df          | Selftext of a submission (an empty string if a link post) |\n",
    "| **author**       | _object_ | df          | Author (Redditor) of the submission                       |\n",
    "| **name**         | _object_ | df          | Full ID of submission, prefixed with t4_                  |\n",
    "| **ups**          | _int64_  | df          | Number of up-vote points for a submission                 |\n",
    "| **downs**        | _int64_  | df          | Number of down-vote points for a submission               |\n",
    "| **score**        | _int64_  | df          | Total points for a submission                             |\n",
    "| **num_comments** | _int64_  | df          | Number of comments on the submission                      |\n",
    "\n",
    "Created with: https://www.tablesgenerator.com/markdown_tables#                                                             "
   ]
  },
  {
   "cell_type": "markdown",
   "metadata": {},
   "source": [
    "## Imports, Reading in Data, and Cleaning Data\n",
    "\n",
    "Cleaning data will be in response to some basic EDA to create a single DataFrame that can be used for more detailed EDA to determine modeling."
   ]
  },
  {
   "cell_type": "code",
   "execution_count": 32,
   "metadata": {},
   "outputs": [],
   "source": [
    "# python library imports\n",
    "import pandas as pd\n",
    "import numpy as np\n",
    "import matplotlib.pyplot as plt\n",
    "import seaborn as sns\n",
    "import scipy.stats as stats\n",
    "import statsmodels.api as sm\n",
    "\n",
    "%matplotlib inline\n",
    "pd.options.display.max_columns =999\n",
    "\n",
    "import requests\n",
    "import re\n",
    "import nltk"
   ]
  },
  {
   "cell_type": "code",
   "execution_count": 33,
   "metadata": {},
   "outputs": [
    {
     "name": "stdout",
     "output_type": "stream",
     "text": [
      "(5400, 12)\n"
     ]
    },
    {
     "data": {
      "text/html": [
       "<div>\n",
       "<style scoped>\n",
       "    .dataframe tbody tr th:only-of-type {\n",
       "        vertical-align: middle;\n",
       "    }\n",
       "\n",
       "    .dataframe tbody tr th {\n",
       "        vertical-align: top;\n",
       "    }\n",
       "\n",
       "    .dataframe thead th {\n",
       "        text-align: right;\n",
       "    }\n",
       "</style>\n",
       "<table border=\"1\" class=\"dataframe\">\n",
       "  <thead>\n",
       "    <tr style=\"text-align: right;\">\n",
       "      <th></th>\n",
       "      <th>subreddit</th>\n",
       "      <th>id</th>\n",
       "      <th>title</th>\n",
       "      <th>selftext</th>\n",
       "      <th>author</th>\n",
       "      <th>name</th>\n",
       "      <th>ups</th>\n",
       "      <th>downs</th>\n",
       "      <th>score</th>\n",
       "      <th>num_comments</th>\n",
       "      <th>created_utc</th>\n",
       "      <th>over_18</th>\n",
       "    </tr>\n",
       "  </thead>\n",
       "  <tbody>\n",
       "    <tr>\n",
       "      <th>0</th>\n",
       "      <td>Dogtraining</td>\n",
       "      <td>uijir1</td>\n",
       "      <td>Trick of the Month - May 2022 - Crawl Backwards</td>\n",
       "      <td>Welcome to the Trick of the Month!\\n\\nThis mon...</td>\n",
       "      <td>moo6</td>\n",
       "      <td>t3_uijir1</td>\n",
       "      <td>8</td>\n",
       "      <td>0</td>\n",
       "      <td>8</td>\n",
       "      <td>4</td>\n",
       "      <td>2022-05-04T16:25:25Z</td>\n",
       "      <td>False</td>\n",
       "    </tr>\n",
       "    <tr>\n",
       "      <th>1</th>\n",
       "      <td>Dogtraining</td>\n",
       "      <td>ujxbsz</td>\n",
       "      <td>Announcement - Puppy Enrichment AMA With Allie...</td>\n",
       "      <td>NaN</td>\n",
       "      <td>Cursethewind</td>\n",
       "      <td>t3_ujxbsz</td>\n",
       "      <td>7</td>\n",
       "      <td>0</td>\n",
       "      <td>7</td>\n",
       "      <td>2</td>\n",
       "      <td>2022-05-06T14:05:34Z</td>\n",
       "      <td>False</td>\n",
       "    </tr>\n",
       "    <tr>\n",
       "      <th>2</th>\n",
       "      <td>Dogtraining</td>\n",
       "      <td>up52vw</td>\n",
       "      <td>How do I get a cafe/brewery dog?</td>\n",
       "      <td>I am sitting at a brewery right now and all th...</td>\n",
       "      <td>slothsandwhich</td>\n",
       "      <td>t3_up52vw</td>\n",
       "      <td>311</td>\n",
       "      <td>0</td>\n",
       "      <td>311</td>\n",
       "      <td>88</td>\n",
       "      <td>2022-05-13T17:11:13Z</td>\n",
       "      <td>False</td>\n",
       "    </tr>\n",
       "    <tr>\n",
       "      <th>3</th>\n",
       "      <td>Dogtraining</td>\n",
       "      <td>upd3e8</td>\n",
       "      <td>Hi, does anybody know the company that makes t...</td>\n",
       "      <td>NaN</td>\n",
       "      <td>Fluffy_Overlord_1995</td>\n",
       "      <td>t3_upd3e8</td>\n",
       "      <td>59</td>\n",
       "      <td>0</td>\n",
       "      <td>59</td>\n",
       "      <td>6</td>\n",
       "      <td>2022-05-14T01:47:21Z</td>\n",
       "      <td>False</td>\n",
       "    </tr>\n",
       "    <tr>\n",
       "      <th>4</th>\n",
       "      <td>Dogtraining</td>\n",
       "      <td>upgv84</td>\n",
       "      <td>Warning: Gross</td>\n",
       "      <td>I noticed my dog trying to eat the poop of oth...</td>\n",
       "      <td>oxabexo</td>\n",
       "      <td>t3_upgv84</td>\n",
       "      <td>19</td>\n",
       "      <td>0</td>\n",
       "      <td>19</td>\n",
       "      <td>40</td>\n",
       "      <td>2022-05-14T06:05:24Z</td>\n",
       "      <td>False</td>\n",
       "    </tr>\n",
       "  </tbody>\n",
       "</table>\n",
       "</div>"
      ],
      "text/plain": [
       "     subreddit      id                                              title  \\\n",
       "0  Dogtraining  uijir1    Trick of the Month - May 2022 - Crawl Backwards   \n",
       "1  Dogtraining  ujxbsz  Announcement - Puppy Enrichment AMA With Allie...   \n",
       "2  Dogtraining  up52vw                   How do I get a cafe/brewery dog?   \n",
       "3  Dogtraining  upd3e8  Hi, does anybody know the company that makes t...   \n",
       "4  Dogtraining  upgv84                                     Warning: Gross   \n",
       "\n",
       "                                            selftext                author  \\\n",
       "0  Welcome to the Trick of the Month!\\n\\nThis mon...                  moo6   \n",
       "1                                                NaN          Cursethewind   \n",
       "2  I am sitting at a brewery right now and all th...        slothsandwhich   \n",
       "3                                                NaN  Fluffy_Overlord_1995   \n",
       "4  I noticed my dog trying to eat the poop of oth...               oxabexo   \n",
       "\n",
       "        name  ups  downs  score  num_comments           created_utc  over_18  \n",
       "0  t3_uijir1    8      0      8             4  2022-05-04T16:25:25Z    False  \n",
       "1  t3_ujxbsz    7      0      7             2  2022-05-06T14:05:34Z    False  \n",
       "2  t3_up52vw  311      0    311            88  2022-05-13T17:11:13Z    False  \n",
       "3  t3_upd3e8   59      0     59             6  2022-05-14T01:47:21Z    False  \n",
       "4  t3_upgv84   19      0     19            40  2022-05-14T06:05:24Z    False  "
      ]
     },
     "execution_count": 33,
     "metadata": {},
     "output_type": "execute_result"
    }
   ],
   "source": [
    "# load data\n",
    "\n",
    "dogtraining = pd.read_csv('../data/dogtraining.csv')\n",
    "print(dogtraining.shape)\n",
    "dogtraining.head()"
   ]
  },
  {
   "cell_type": "markdown",
   "metadata": {},
   "source": [
    "The Dog Training data set includes 5400 observations of twelve variables. I chose to add extra observations because the selftext column has 800 null values that I think need to be dropped (each row with null will be removed)."
   ]
  },
  {
   "cell_type": "code",
   "execution_count": 34,
   "metadata": {},
   "outputs": [
    {
     "data": {
      "text/plain": [
       "subreddit         0\n",
       "id                0\n",
       "title             0\n",
       "selftext        800\n",
       "author            0\n",
       "name              0\n",
       "ups               0\n",
       "downs             0\n",
       "score             0\n",
       "num_comments      0\n",
       "created_utc       0\n",
       "over_18           0\n",
       "dtype: int64"
      ]
     },
     "execution_count": 34,
     "metadata": {},
     "output_type": "execute_result"
    }
   ],
   "source": [
    "dogtraining.isnull().sum()"
   ]
  },
  {
   "cell_type": "code",
   "execution_count": 35,
   "metadata": {},
   "outputs": [
    {
     "data": {
      "text/html": [
       "<div>\n",
       "<style scoped>\n",
       "    .dataframe tbody tr th:only-of-type {\n",
       "        vertical-align: middle;\n",
       "    }\n",
       "\n",
       "    .dataframe tbody tr th {\n",
       "        vertical-align: top;\n",
       "    }\n",
       "\n",
       "    .dataframe thead th {\n",
       "        text-align: right;\n",
       "    }\n",
       "</style>\n",
       "<table border=\"1\" class=\"dataframe\">\n",
       "  <thead>\n",
       "    <tr style=\"text-align: right;\">\n",
       "      <th></th>\n",
       "      <th>ups</th>\n",
       "      <th>downs</th>\n",
       "      <th>score</th>\n",
       "      <th>num_comments</th>\n",
       "    </tr>\n",
       "  </thead>\n",
       "  <tbody>\n",
       "    <tr>\n",
       "      <th>count</th>\n",
       "      <td>5400.000000</td>\n",
       "      <td>5400.0</td>\n",
       "      <td>5400.000000</td>\n",
       "      <td>5400.000000</td>\n",
       "    </tr>\n",
       "    <tr>\n",
       "      <th>mean</th>\n",
       "      <td>39.948519</td>\n",
       "      <td>0.0</td>\n",
       "      <td>39.948519</td>\n",
       "      <td>15.046481</td>\n",
       "    </tr>\n",
       "    <tr>\n",
       "      <th>std</th>\n",
       "      <td>99.368998</td>\n",
       "      <td>0.0</td>\n",
       "      <td>99.368998</td>\n",
       "      <td>34.532518</td>\n",
       "    </tr>\n",
       "    <tr>\n",
       "      <th>min</th>\n",
       "      <td>0.000000</td>\n",
       "      <td>0.0</td>\n",
       "      <td>0.000000</td>\n",
       "      <td>0.000000</td>\n",
       "    </tr>\n",
       "    <tr>\n",
       "      <th>25%</th>\n",
       "      <td>1.000000</td>\n",
       "      <td>0.0</td>\n",
       "      <td>1.000000</td>\n",
       "      <td>2.000000</td>\n",
       "    </tr>\n",
       "    <tr>\n",
       "      <th>50%</th>\n",
       "      <td>3.000000</td>\n",
       "      <td>0.0</td>\n",
       "      <td>3.000000</td>\n",
       "      <td>4.000000</td>\n",
       "    </tr>\n",
       "    <tr>\n",
       "      <th>75%</th>\n",
       "      <td>16.000000</td>\n",
       "      <td>0.0</td>\n",
       "      <td>16.000000</td>\n",
       "      <td>9.000000</td>\n",
       "    </tr>\n",
       "    <tr>\n",
       "      <th>max</th>\n",
       "      <td>433.000000</td>\n",
       "      <td>0.0</td>\n",
       "      <td>433.000000</td>\n",
       "      <td>167.000000</td>\n",
       "    </tr>\n",
       "  </tbody>\n",
       "</table>\n",
       "</div>"
      ],
      "text/plain": [
       "               ups   downs        score  num_comments\n",
       "count  5400.000000  5400.0  5400.000000   5400.000000\n",
       "mean     39.948519     0.0    39.948519     15.046481\n",
       "std      99.368998     0.0    99.368998     34.532518\n",
       "min       0.000000     0.0     0.000000      0.000000\n",
       "25%       1.000000     0.0     1.000000      2.000000\n",
       "50%       3.000000     0.0     3.000000      4.000000\n",
       "75%      16.000000     0.0    16.000000      9.000000\n",
       "max     433.000000     0.0   433.000000    167.000000"
      ]
     },
     "execution_count": 35,
     "metadata": {},
     "output_type": "execute_result"
    }
   ],
   "source": [
    "# general statistics to see what the numeric data looks like \n",
    "# will remove downs because there are no vote downs in the data collected, so there is no reason to keep it (for space saving reasons)\n",
    "dogtraining.describe()"
   ]
  },
  {
   "cell_type": "code",
   "execution_count": 36,
   "metadata": {},
   "outputs": [
    {
     "data": {
      "text/plain": [
       "subreddit       object\n",
       "id              object\n",
       "title           object\n",
       "selftext        object\n",
       "author          object\n",
       "name            object\n",
       "ups              int64\n",
       "downs            int64\n",
       "score            int64\n",
       "num_comments     int64\n",
       "created_utc     object\n",
       "over_18           bool\n",
       "dtype: object"
      ]
     },
     "execution_count": 36,
     "metadata": {},
     "output_type": "execute_result"
    }
   ],
   "source": [
    "# dtypes for Data Dictionary above\n",
    "dogtraining.dtypes"
   ]
  },
  {
   "cell_type": "code",
   "execution_count": 37,
   "metadata": {},
   "outputs": [
    {
     "name": "stdout",
     "output_type": "stream",
     "text": [
      "(8750, 12)\n"
     ]
    },
    {
     "data": {
      "text/html": [
       "<div>\n",
       "<style scoped>\n",
       "    .dataframe tbody tr th:only-of-type {\n",
       "        vertical-align: middle;\n",
       "    }\n",
       "\n",
       "    .dataframe tbody tr th {\n",
       "        vertical-align: top;\n",
       "    }\n",
       "\n",
       "    .dataframe thead th {\n",
       "        text-align: right;\n",
       "    }\n",
       "</style>\n",
       "<table border=\"1\" class=\"dataframe\">\n",
       "  <thead>\n",
       "    <tr style=\"text-align: right;\">\n",
       "      <th></th>\n",
       "      <th>subreddit</th>\n",
       "      <th>id</th>\n",
       "      <th>title</th>\n",
       "      <th>selftext</th>\n",
       "      <th>author</th>\n",
       "      <th>name</th>\n",
       "      <th>ups</th>\n",
       "      <th>downs</th>\n",
       "      <th>score</th>\n",
       "      <th>num_comments</th>\n",
       "      <th>created_utc</th>\n",
       "      <th>over_18</th>\n",
       "    </tr>\n",
       "  </thead>\n",
       "  <tbody>\n",
       "    <tr>\n",
       "      <th>0</th>\n",
       "      <td>DogCare</td>\n",
       "      <td>upgugb</td>\n",
       "      <td>Massages for hip dysplasia?</td>\n",
       "      <td>He's a 6 yo boxer/mastiff,135 lbs and in good ...</td>\n",
       "      <td>Flaky_Watch</td>\n",
       "      <td>t3_upgugb</td>\n",
       "      <td>5</td>\n",
       "      <td>0</td>\n",
       "      <td>5</td>\n",
       "      <td>1</td>\n",
       "      <td>2022-05-14T06:04:21Z</td>\n",
       "      <td>False</td>\n",
       "    </tr>\n",
       "    <tr>\n",
       "      <th>1</th>\n",
       "      <td>DogCare</td>\n",
       "      <td>uow11b</td>\n",
       "      <td>My dog has this weird thing on the tail, can a...</td>\n",
       "      <td>NaN</td>\n",
       "      <td>NivTheGever</td>\n",
       "      <td>t3_uow11b</td>\n",
       "      <td>24</td>\n",
       "      <td>0</td>\n",
       "      <td>24</td>\n",
       "      <td>15</td>\n",
       "      <td>2022-05-13T09:50:09Z</td>\n",
       "      <td>False</td>\n",
       "    </tr>\n",
       "    <tr>\n",
       "      <th>2</th>\n",
       "      <td>DogCare</td>\n",
       "      <td>upa4qd</td>\n",
       "      <td>Lab/Great Dane puppy leg shattered</td>\n",
       "      <td>So my dog jumped out of my truck and completel...</td>\n",
       "      <td>Boomstick825</td>\n",
       "      <td>t3_upa4qd</td>\n",
       "      <td>1</td>\n",
       "      <td>0</td>\n",
       "      <td>1</td>\n",
       "      <td>4</td>\n",
       "      <td>2022-05-13T22:14:14Z</td>\n",
       "      <td>False</td>\n",
       "    </tr>\n",
       "    <tr>\n",
       "      <th>3</th>\n",
       "      <td>DogCare</td>\n",
       "      <td>up7lse</td>\n",
       "      <td>Any ideas what this might be?</td>\n",
       "      <td>I came home from work a couple of days ago and...</td>\n",
       "      <td>ChunkyMonkey3499</td>\n",
       "      <td>t3_up7lse</td>\n",
       "      <td>0</td>\n",
       "      <td>0</td>\n",
       "      <td>0</td>\n",
       "      <td>1</td>\n",
       "      <td>2022-05-13T19:35:38Z</td>\n",
       "      <td>False</td>\n",
       "    </tr>\n",
       "    <tr>\n",
       "      <th>4</th>\n",
       "      <td>DogCare</td>\n",
       "      <td>uoyffw</td>\n",
       "      <td>Anyone know what this could be? 7 Yr old Irish...</td>\n",
       "      <td>NaN</td>\n",
       "      <td>Disastrous_Bobcat402</td>\n",
       "      <td>t3_uoyffw</td>\n",
       "      <td>1</td>\n",
       "      <td>0</td>\n",
       "      <td>1</td>\n",
       "      <td>0</td>\n",
       "      <td>2022-05-13T11:44:38Z</td>\n",
       "      <td>False</td>\n",
       "    </tr>\n",
       "  </tbody>\n",
       "</table>\n",
       "</div>"
      ],
      "text/plain": [
       "  subreddit      id                                              title  \\\n",
       "0   DogCare  upgugb                        Massages for hip dysplasia?   \n",
       "1   DogCare  uow11b  My dog has this weird thing on the tail, can a...   \n",
       "2   DogCare  upa4qd                 Lab/Great Dane puppy leg shattered   \n",
       "3   DogCare  up7lse                      Any ideas what this might be?   \n",
       "4   DogCare  uoyffw  Anyone know what this could be? 7 Yr old Irish...   \n",
       "\n",
       "                                            selftext                author  \\\n",
       "0  He's a 6 yo boxer/mastiff,135 lbs and in good ...           Flaky_Watch   \n",
       "1                                                NaN           NivTheGever   \n",
       "2  So my dog jumped out of my truck and completel...          Boomstick825   \n",
       "3  I came home from work a couple of days ago and...      ChunkyMonkey3499   \n",
       "4                                                NaN  Disastrous_Bobcat402   \n",
       "\n",
       "        name  ups  downs  score  num_comments           created_utc  over_18  \n",
       "0  t3_upgugb    5      0      5             1  2022-05-14T06:04:21Z    False  \n",
       "1  t3_uow11b   24      0     24            15  2022-05-13T09:50:09Z    False  \n",
       "2  t3_upa4qd    1      0      1             4  2022-05-13T22:14:14Z    False  \n",
       "3  t3_up7lse    0      0      0             1  2022-05-13T19:35:38Z    False  \n",
       "4  t3_uoyffw    1      0      1             0  2022-05-13T11:44:38Z    False  "
      ]
     },
     "execution_count": 37,
     "metadata": {},
     "output_type": "execute_result"
    }
   ],
   "source": [
    "# read in data\n",
    "dogcare = pd.read_csv('../data/dogcare.csv')\n",
    "print(dogcare.shape)\n",
    "dogcare.head()"
   ]
  },
  {
   "cell_type": "markdown",
   "metadata": {},
   "source": [
    "The Dog Care data set includes 8750 observations of twelve variables. I chose to add extra observations because the selftext column has 3850 null values that I think need to be dropped (each row with null will be removed)."
   ]
  },
  {
   "cell_type": "code",
   "execution_count": 38,
   "metadata": {},
   "outputs": [
    {
     "data": {
      "text/plain": [
       "subreddit          0\n",
       "id                 0\n",
       "title              0\n",
       "selftext        3850\n",
       "author             0\n",
       "name               0\n",
       "ups                0\n",
       "downs              0\n",
       "score              0\n",
       "num_comments       0\n",
       "created_utc        0\n",
       "over_18            0\n",
       "dtype: int64"
      ]
     },
     "execution_count": 38,
     "metadata": {},
     "output_type": "execute_result"
    }
   ],
   "source": [
    "dogcare.isnull().sum()"
   ]
  },
  {
   "cell_type": "code",
   "execution_count": 39,
   "metadata": {},
   "outputs": [
    {
     "data": {
      "text/plain": [
       "subreddit       object\n",
       "id              object\n",
       "title           object\n",
       "selftext        object\n",
       "author          object\n",
       "name            object\n",
       "ups              int64\n",
       "downs            int64\n",
       "score            int64\n",
       "num_comments     int64\n",
       "created_utc     object\n",
       "over_18           bool\n",
       "dtype: object"
      ]
     },
     "execution_count": 39,
     "metadata": {},
     "output_type": "execute_result"
    }
   ],
   "source": [
    "# dtypes for Data Dictionary above\n",
    "dogtraining.dtypes"
   ]
  },
  {
   "cell_type": "code",
   "execution_count": 40,
   "metadata": {},
   "outputs": [
    {
     "data": {
      "text/html": [
       "<div>\n",
       "<style scoped>\n",
       "    .dataframe tbody tr th:only-of-type {\n",
       "        vertical-align: middle;\n",
       "    }\n",
       "\n",
       "    .dataframe tbody tr th {\n",
       "        vertical-align: top;\n",
       "    }\n",
       "\n",
       "    .dataframe thead th {\n",
       "        text-align: right;\n",
       "    }\n",
       "</style>\n",
       "<table border=\"1\" class=\"dataframe\">\n",
       "  <thead>\n",
       "    <tr style=\"text-align: right;\">\n",
       "      <th></th>\n",
       "      <th>ups</th>\n",
       "      <th>downs</th>\n",
       "      <th>score</th>\n",
       "      <th>num_comments</th>\n",
       "    </tr>\n",
       "  </thead>\n",
       "  <tbody>\n",
       "    <tr>\n",
       "      <th>count</th>\n",
       "      <td>8750.000000</td>\n",
       "      <td>8750.0</td>\n",
       "      <td>8750.000000</td>\n",
       "      <td>8750.000000</td>\n",
       "    </tr>\n",
       "    <tr>\n",
       "      <th>mean</th>\n",
       "      <td>6.834057</td>\n",
       "      <td>0.0</td>\n",
       "      <td>6.834057</td>\n",
       "      <td>8.120000</td>\n",
       "    </tr>\n",
       "    <tr>\n",
       "      <th>std</th>\n",
       "      <td>7.188870</td>\n",
       "      <td>0.0</td>\n",
       "      <td>7.188870</td>\n",
       "      <td>9.408279</td>\n",
       "    </tr>\n",
       "    <tr>\n",
       "      <th>min</th>\n",
       "      <td>0.000000</td>\n",
       "      <td>0.0</td>\n",
       "      <td>0.000000</td>\n",
       "      <td>0.000000</td>\n",
       "    </tr>\n",
       "    <tr>\n",
       "      <th>25%</th>\n",
       "      <td>3.000000</td>\n",
       "      <td>0.0</td>\n",
       "      <td>3.000000</td>\n",
       "      <td>3.000000</td>\n",
       "    </tr>\n",
       "    <tr>\n",
       "      <th>50%</th>\n",
       "      <td>5.000000</td>\n",
       "      <td>0.0</td>\n",
       "      <td>5.000000</td>\n",
       "      <td>4.000000</td>\n",
       "    </tr>\n",
       "    <tr>\n",
       "      <th>75%</th>\n",
       "      <td>7.000000</td>\n",
       "      <td>0.0</td>\n",
       "      <td>7.000000</td>\n",
       "      <td>10.000000</td>\n",
       "    </tr>\n",
       "    <tr>\n",
       "      <th>max</th>\n",
       "      <td>26.000000</td>\n",
       "      <td>0.0</td>\n",
       "      <td>26.000000</td>\n",
       "      <td>42.000000</td>\n",
       "    </tr>\n",
       "  </tbody>\n",
       "</table>\n",
       "</div>"
      ],
      "text/plain": [
       "               ups   downs        score  num_comments\n",
       "count  8750.000000  8750.0  8750.000000   8750.000000\n",
       "mean      6.834057     0.0     6.834057      8.120000\n",
       "std       7.188870     0.0     7.188870      9.408279\n",
       "min       0.000000     0.0     0.000000      0.000000\n",
       "25%       3.000000     0.0     3.000000      3.000000\n",
       "50%       5.000000     0.0     5.000000      4.000000\n",
       "75%       7.000000     0.0     7.000000     10.000000\n",
       "max      26.000000     0.0    26.000000     42.000000"
      ]
     },
     "execution_count": 40,
     "metadata": {},
     "output_type": "execute_result"
    }
   ],
   "source": [
    "# general statistics to see what the numeric data looks like \n",
    "# will remove downs because there are no vote downs in the data collected, so there is no reason to keep it (for space saving reasons)\n",
    "dogcare.describe()"
   ]
  },
  {
   "cell_type": "code",
   "execution_count": 30,
   "metadata": {},
   "outputs": [
    {
     "data": {
      "text/html": [
       "<div>\n",
       "<style scoped>\n",
       "    .dataframe tbody tr th:only-of-type {\n",
       "        vertical-align: middle;\n",
       "    }\n",
       "\n",
       "    .dataframe tbody tr th {\n",
       "        vertical-align: top;\n",
       "    }\n",
       "\n",
       "    .dataframe thead th {\n",
       "        text-align: right;\n",
       "    }\n",
       "</style>\n",
       "<table border=\"1\" class=\"dataframe\">\n",
       "  <thead>\n",
       "    <tr style=\"text-align: right;\">\n",
       "      <th></th>\n",
       "      <th>subreddit</th>\n",
       "      <th>id</th>\n",
       "      <th>title</th>\n",
       "      <th>selftext</th>\n",
       "      <th>author</th>\n",
       "      <th>name</th>\n",
       "      <th>ups</th>\n",
       "      <th>downs</th>\n",
       "      <th>score</th>\n",
       "      <th>num_comments</th>\n",
       "      <th>created_utc</th>\n",
       "      <th>over_18</th>\n",
       "    </tr>\n",
       "  </thead>\n",
       "  <tbody>\n",
       "    <tr>\n",
       "      <th>0</th>\n",
       "      <td>Dogtraining</td>\n",
       "      <td>uijir1</td>\n",
       "      <td>Trick of the Month - May 2022 - Crawl Backwards</td>\n",
       "      <td>Welcome to the Trick of the Month!\\n\\nThis mon...</td>\n",
       "      <td>moo6</td>\n",
       "      <td>t3_uijir1</td>\n",
       "      <td>10</td>\n",
       "      <td>0</td>\n",
       "      <td>10</td>\n",
       "      <td>4</td>\n",
       "      <td>2022-05-04T16:25:25Z</td>\n",
       "      <td>False</td>\n",
       "    </tr>\n",
       "    <tr>\n",
       "      <th>1</th>\n",
       "      <td>Dogtraining</td>\n",
       "      <td>ujxbsz</td>\n",
       "      <td>Announcement - Puppy Enrichment AMA With Allie...</td>\n",
       "      <td>NaN</td>\n",
       "      <td>Cursethewind</td>\n",
       "      <td>t3_ujxbsz</td>\n",
       "      <td>6</td>\n",
       "      <td>0</td>\n",
       "      <td>6</td>\n",
       "      <td>2</td>\n",
       "      <td>2022-05-06T14:05:34Z</td>\n",
       "      <td>False</td>\n",
       "    </tr>\n",
       "    <tr>\n",
       "      <th>2</th>\n",
       "      <td>Dogtraining</td>\n",
       "      <td>up52vw</td>\n",
       "      <td>How do I get a cafe/brewery dog?</td>\n",
       "      <td>I am sitting at a brewery right now and all th...</td>\n",
       "      <td>slothsandwhich</td>\n",
       "      <td>t3_up52vw</td>\n",
       "      <td>295</td>\n",
       "      <td>0</td>\n",
       "      <td>295</td>\n",
       "      <td>87</td>\n",
       "      <td>2022-05-13T17:11:13Z</td>\n",
       "      <td>False</td>\n",
       "    </tr>\n",
       "    <tr>\n",
       "      <th>3</th>\n",
       "      <td>Dogtraining</td>\n",
       "      <td>upd3e8</td>\n",
       "      <td>Hi, does anybody know the company that makes t...</td>\n",
       "      <td>NaN</td>\n",
       "      <td>Fluffy_Overlord_1995</td>\n",
       "      <td>t3_upd3e8</td>\n",
       "      <td>47</td>\n",
       "      <td>0</td>\n",
       "      <td>47</td>\n",
       "      <td>6</td>\n",
       "      <td>2022-05-14T01:47:21Z</td>\n",
       "      <td>False</td>\n",
       "    </tr>\n",
       "    <tr>\n",
       "      <th>4</th>\n",
       "      <td>Dogtraining</td>\n",
       "      <td>upgv84</td>\n",
       "      <td>Warning: Gross</td>\n",
       "      <td>I noticed my dog trying to eat the poop of oth...</td>\n",
       "      <td>oxabexo</td>\n",
       "      <td>t3_upgv84</td>\n",
       "      <td>17</td>\n",
       "      <td>0</td>\n",
       "      <td>17</td>\n",
       "      <td>36</td>\n",
       "      <td>2022-05-14T06:05:24Z</td>\n",
       "      <td>False</td>\n",
       "    </tr>\n",
       "    <tr>\n",
       "      <th>...</th>\n",
       "      <td>...</td>\n",
       "      <td>...</td>\n",
       "      <td>...</td>\n",
       "      <td>...</td>\n",
       "      <td>...</td>\n",
       "      <td>...</td>\n",
       "      <td>...</td>\n",
       "      <td>...</td>\n",
       "      <td>...</td>\n",
       "      <td>...</td>\n",
       "      <td>...</td>\n",
       "      <td>...</td>\n",
       "    </tr>\n",
       "    <tr>\n",
       "      <th>13875</th>\n",
       "      <td>DogCare</td>\n",
       "      <td>uluayd</td>\n",
       "      <td>I have an 19lb dog and a 50lb dog. I know the ...</td>\n",
       "      <td>Edit: Resolved thank you</td>\n",
       "      <td>mediocritia</td>\n",
       "      <td>t3_uluayd</td>\n",
       "      <td>11</td>\n",
       "      <td>0</td>\n",
       "      <td>11</td>\n",
       "      <td>10</td>\n",
       "      <td>2022-05-09T08:51:57Z</td>\n",
       "      <td>False</td>\n",
       "    </tr>\n",
       "    <tr>\n",
       "      <th>13876</th>\n",
       "      <td>DogCare</td>\n",
       "      <td>ulfpgs</td>\n",
       "      <td>Gray patches of skin on dogs belly, is it normal?</td>\n",
       "      <td>NaN</td>\n",
       "      <td>codyfern02</td>\n",
       "      <td>t3_ulfpgs</td>\n",
       "      <td>15</td>\n",
       "      <td>0</td>\n",
       "      <td>15</td>\n",
       "      <td>10</td>\n",
       "      <td>2022-05-08T18:04:26Z</td>\n",
       "      <td>False</td>\n",
       "    </tr>\n",
       "    <tr>\n",
       "      <th>13877</th>\n",
       "      <td>DogCare</td>\n",
       "      <td>uknbhn</td>\n",
       "      <td>wife is concerned about foaming dog (help)</td>\n",
       "      <td>My wife has noticed recently (since 05/06/22) ...</td>\n",
       "      <td>Nill0c1</td>\n",
       "      <td>t3_uknbhn</td>\n",
       "      <td>6</td>\n",
       "      <td>0</td>\n",
       "      <td>6</td>\n",
       "      <td>6</td>\n",
       "      <td>2022-05-07T14:52:57Z</td>\n",
       "      <td>False</td>\n",
       "    </tr>\n",
       "    <tr>\n",
       "      <th>13878</th>\n",
       "      <td>DogCare</td>\n",
       "      <td>ukkf3p</td>\n",
       "      <td>Warning, gross picture. Is this blood in my do...</td>\n",
       "      <td>Help! I'm not sure if this is blood or not. I'...</td>\n",
       "      <td>Imaginary_Editor22</td>\n",
       "      <td>t3_ukkf3p</td>\n",
       "      <td>9</td>\n",
       "      <td>0</td>\n",
       "      <td>9</td>\n",
       "      <td>4</td>\n",
       "      <td>2022-05-07T12:24:00Z</td>\n",
       "      <td>True</td>\n",
       "    </tr>\n",
       "    <tr>\n",
       "      <th>13879</th>\n",
       "      <td>DogCare</td>\n",
       "      <td>ukhuia</td>\n",
       "      <td>Bumps on his inner ear flap?</td>\n",
       "      <td>NaN</td>\n",
       "      <td>killertofu420</td>\n",
       "      <td>t3_ukhuia</td>\n",
       "      <td>3</td>\n",
       "      <td>0</td>\n",
       "      <td>3</td>\n",
       "      <td>4</td>\n",
       "      <td>2022-05-07T10:14:33Z</td>\n",
       "      <td>False</td>\n",
       "    </tr>\n",
       "  </tbody>\n",
       "</table>\n",
       "<p>13880 rows × 12 columns</p>\n",
       "</div>"
      ],
      "text/plain": [
       "         subreddit      id                                              title  \\\n",
       "0      Dogtraining  uijir1    Trick of the Month - May 2022 - Crawl Backwards   \n",
       "1      Dogtraining  ujxbsz  Announcement - Puppy Enrichment AMA With Allie...   \n",
       "2      Dogtraining  up52vw                   How do I get a cafe/brewery dog?   \n",
       "3      Dogtraining  upd3e8  Hi, does anybody know the company that makes t...   \n",
       "4      Dogtraining  upgv84                                     Warning: Gross   \n",
       "...            ...     ...                                                ...   \n",
       "13875      DogCare  uluayd  I have an 19lb dog and a 50lb dog. I know the ...   \n",
       "13876      DogCare  ulfpgs  Gray patches of skin on dogs belly, is it normal?   \n",
       "13877      DogCare  uknbhn         wife is concerned about foaming dog (help)   \n",
       "13878      DogCare  ukkf3p  Warning, gross picture. Is this blood in my do...   \n",
       "13879      DogCare  ukhuia                       Bumps on his inner ear flap?   \n",
       "\n",
       "                                                selftext  \\\n",
       "0      Welcome to the Trick of the Month!\\n\\nThis mon...   \n",
       "1                                                    NaN   \n",
       "2      I am sitting at a brewery right now and all th...   \n",
       "3                                                    NaN   \n",
       "4      I noticed my dog trying to eat the poop of oth...   \n",
       "...                                                  ...   \n",
       "13875                           Edit: Resolved thank you   \n",
       "13876                                                NaN   \n",
       "13877  My wife has noticed recently (since 05/06/22) ...   \n",
       "13878  Help! I'm not sure if this is blood or not. I'...   \n",
       "13879                                                NaN   \n",
       "\n",
       "                     author       name  ups  downs  score  num_comments  \\\n",
       "0                      moo6  t3_uijir1   10      0     10             4   \n",
       "1              Cursethewind  t3_ujxbsz    6      0      6             2   \n",
       "2            slothsandwhich  t3_up52vw  295      0    295            87   \n",
       "3      Fluffy_Overlord_1995  t3_upd3e8   47      0     47             6   \n",
       "4                   oxabexo  t3_upgv84   17      0     17            36   \n",
       "...                     ...        ...  ...    ...    ...           ...   \n",
       "13875           mediocritia  t3_uluayd   11      0     11            10   \n",
       "13876            codyfern02  t3_ulfpgs   15      0     15            10   \n",
       "13877               Nill0c1  t3_uknbhn    6      0      6             6   \n",
       "13878    Imaginary_Editor22  t3_ukkf3p    9      0      9             4   \n",
       "13879         killertofu420  t3_ukhuia    3      0      3             4   \n",
       "\n",
       "                created_utc  over_18  \n",
       "0      2022-05-04T16:25:25Z    False  \n",
       "1      2022-05-06T14:05:34Z    False  \n",
       "2      2022-05-13T17:11:13Z    False  \n",
       "3      2022-05-14T01:47:21Z    False  \n",
       "4      2022-05-14T06:05:24Z    False  \n",
       "...                     ...      ...  \n",
       "13875  2022-05-09T08:51:57Z    False  \n",
       "13876  2022-05-08T18:04:26Z    False  \n",
       "13877  2022-05-07T14:52:57Z    False  \n",
       "13878  2022-05-07T12:24:00Z     True  \n",
       "13879  2022-05-07T10:14:33Z    False  \n",
       "\n",
       "[13880 rows x 12 columns]"
      ]
     },
     "execution_count": 30,
     "metadata": {},
     "output_type": "execute_result"
    }
   ],
   "source": [
    "# join the two DataFrames\n",
    "df = pd.concat([dogtraining, dogcare], axis=0, ignore_index=True)"
   ]
  },
  {
   "cell_type": "code",
   "execution_count": 46,
   "metadata": {},
   "outputs": [],
   "source": [
    "# remove rows with selftext nulls/NaN\n",
    "df = df.dropna(axis=0)"
   ]
  },
  {
   "cell_type": "code",
   "execution_count": 50,
   "metadata": {},
   "outputs": [],
   "source": [
    "# remove rows that have over_18 = True (these are likely NSFW submissions)\n",
    "df = df[(df['over_18'] == False)]"
   ]
  },
  {
   "cell_type": "code",
   "execution_count": 77,
   "metadata": {},
   "outputs": [
    {
     "data": {
      "text/plain": [
       "DogCare        0.51009\n",
       "Dogtraining    0.48991\n",
       "Name: subreddit, dtype: float64"
      ]
     },
     "execution_count": 77,
     "metadata": {},
     "output_type": "execute_result"
    }
   ],
   "source": [
    "# verifying that with the removal of rows and columns, the split between the two subreddits is approximately 50/50 (or at least really close)\n",
    "df['subreddit'].value_counts(normalize=True)"
   ]
  },
  {
   "cell_type": "code",
   "execution_count": null,
   "metadata": {},
   "outputs": [],
   "source": [
    "# remove columns that will not be needed for next steps\n",
    "#df = df.drop(columns=['id', 'author', 'name', 'downs', 'created_utc', 'over_18'])"
   ]
  },
  {
   "cell_type": "code",
   "execution_count": 64,
   "metadata": {},
   "outputs": [],
   "source": [
    "# resetting index after all of the cleanup\n",
    "df = df.reset_index(drop=True)"
   ]
  },
  {
   "cell_type": "code",
   "execution_count": 65,
   "metadata": {},
   "outputs": [
    {
     "name": "stdout",
     "output_type": "stream",
     "text": [
      "(8920, 6)\n"
     ]
    },
    {
     "data": {
      "text/html": [
       "<div>\n",
       "<style scoped>\n",
       "    .dataframe tbody tr th:only-of-type {\n",
       "        vertical-align: middle;\n",
       "    }\n",
       "\n",
       "    .dataframe tbody tr th {\n",
       "        vertical-align: top;\n",
       "    }\n",
       "\n",
       "    .dataframe thead th {\n",
       "        text-align: right;\n",
       "    }\n",
       "</style>\n",
       "<table border=\"1\" class=\"dataframe\">\n",
       "  <thead>\n",
       "    <tr style=\"text-align: right;\">\n",
       "      <th></th>\n",
       "      <th>subreddit</th>\n",
       "      <th>title</th>\n",
       "      <th>selftext</th>\n",
       "      <th>ups</th>\n",
       "      <th>score</th>\n",
       "      <th>num_comments</th>\n",
       "    </tr>\n",
       "  </thead>\n",
       "  <tbody>\n",
       "    <tr>\n",
       "      <th>0</th>\n",
       "      <td>Dogtraining</td>\n",
       "      <td>Trick of the Month - May 2022 - Crawl Backwards</td>\n",
       "      <td>Welcome to the Trick of the Month!\\n\\nThis mon...</td>\n",
       "      <td>10</td>\n",
       "      <td>10</td>\n",
       "      <td>4</td>\n",
       "    </tr>\n",
       "    <tr>\n",
       "      <th>1</th>\n",
       "      <td>Dogtraining</td>\n",
       "      <td>How do I get a cafe/brewery dog?</td>\n",
       "      <td>I am sitting at a brewery right now and all th...</td>\n",
       "      <td>295</td>\n",
       "      <td>295</td>\n",
       "      <td>87</td>\n",
       "    </tr>\n",
       "    <tr>\n",
       "      <th>2</th>\n",
       "      <td>Dogtraining</td>\n",
       "      <td>Warning: Gross</td>\n",
       "      <td>I noticed my dog trying to eat the poop of oth...</td>\n",
       "      <td>17</td>\n",
       "      <td>17</td>\n",
       "      <td>36</td>\n",
       "    </tr>\n",
       "    <tr>\n",
       "      <th>3</th>\n",
       "      <td>Dogtraining</td>\n",
       "      <td>My 3 months samoyed forgot all his training af...</td>\n",
       "      <td>As the title says, after having stomach issues...</td>\n",
       "      <td>23</td>\n",
       "      <td>23</td>\n",
       "      <td>15</td>\n",
       "    </tr>\n",
       "    <tr>\n",
       "      <th>4</th>\n",
       "      <td>Dogtraining</td>\n",
       "      <td>Two mat questions!</td>\n",
       "      <td>Hi! I have a dog bed in the living room and I’...</td>\n",
       "      <td>5</td>\n",
       "      <td>5</td>\n",
       "      <td>0</td>\n",
       "    </tr>\n",
       "  </tbody>\n",
       "</table>\n",
       "</div>"
      ],
      "text/plain": [
       "     subreddit                                              title  \\\n",
       "0  Dogtraining    Trick of the Month - May 2022 - Crawl Backwards   \n",
       "1  Dogtraining                   How do I get a cafe/brewery dog?   \n",
       "2  Dogtraining                                     Warning: Gross   \n",
       "3  Dogtraining  My 3 months samoyed forgot all his training af...   \n",
       "4  Dogtraining                                 Two mat questions!   \n",
       "\n",
       "                                            selftext  ups  score  num_comments  \n",
       "0  Welcome to the Trick of the Month!\\n\\nThis mon...   10     10             4  \n",
       "1  I am sitting at a brewery right now and all th...  295    295            87  \n",
       "2  I noticed my dog trying to eat the poop of oth...   17     17            36  \n",
       "3  As the title says, after having stomach issues...   23     23            15  \n",
       "4  Hi! I have a dog bed in the living room and I’...    5      5             0  "
      ]
     },
     "execution_count": 65,
     "metadata": {},
     "output_type": "execute_result"
    }
   ],
   "source": [
    "print(df.shape)\n",
    "df.head()"
   ]
  },
  {
   "cell_type": "code",
   "execution_count": 66,
   "metadata": {},
   "outputs": [],
   "source": [
    "df.to_csv('../data/raw.csv')"
   ]
  },
  {
   "cell_type": "markdown",
   "metadata": {},
   "source": [
    "## Explore Data"
   ]
  },
  {
   "cell_type": "code",
   "execution_count": null,
   "metadata": {},
   "outputs": [],
   "source": [
    "# look at ups, downs, num_comments in comparison to the subreddit\n"
   ]
  },
  {
   "cell_type": "markdown",
   "metadata": {},
   "source": [
    "### Lengths of Titles and Selftext descriptions\n",
    "\n",
    "Determining if length of Titles and Selftext descriptions is worth more review by creating new columns with lengths to analyze."
   ]
  },
  {
   "cell_type": "code",
   "execution_count": 67,
   "metadata": {},
   "outputs": [
    {
     "data": {
      "text/html": [
       "<div>\n",
       "<style scoped>\n",
       "    .dataframe tbody tr th:only-of-type {\n",
       "        vertical-align: middle;\n",
       "    }\n",
       "\n",
       "    .dataframe tbody tr th {\n",
       "        vertical-align: top;\n",
       "    }\n",
       "\n",
       "    .dataframe thead th {\n",
       "        text-align: right;\n",
       "    }\n",
       "</style>\n",
       "<table border=\"1\" class=\"dataframe\">\n",
       "  <thead>\n",
       "    <tr style=\"text-align: right;\">\n",
       "      <th></th>\n",
       "      <th>subreddit</th>\n",
       "      <th>title</th>\n",
       "      <th>selftext</th>\n",
       "      <th>ups</th>\n",
       "      <th>score</th>\n",
       "      <th>num_comments</th>\n",
       "      <th>title_length</th>\n",
       "    </tr>\n",
       "  </thead>\n",
       "  <tbody>\n",
       "    <tr>\n",
       "      <th>0</th>\n",
       "      <td>Dogtraining</td>\n",
       "      <td>Trick of the Month - May 2022 - Crawl Backwards</td>\n",
       "      <td>Welcome to the Trick of the Month!\\n\\nThis mon...</td>\n",
       "      <td>10</td>\n",
       "      <td>10</td>\n",
       "      <td>4</td>\n",
       "      <td>47</td>\n",
       "    </tr>\n",
       "    <tr>\n",
       "      <th>1</th>\n",
       "      <td>Dogtraining</td>\n",
       "      <td>How do I get a cafe/brewery dog?</td>\n",
       "      <td>I am sitting at a brewery right now and all th...</td>\n",
       "      <td>295</td>\n",
       "      <td>295</td>\n",
       "      <td>87</td>\n",
       "      <td>32</td>\n",
       "    </tr>\n",
       "    <tr>\n",
       "      <th>2</th>\n",
       "      <td>Dogtraining</td>\n",
       "      <td>Warning: Gross</td>\n",
       "      <td>I noticed my dog trying to eat the poop of oth...</td>\n",
       "      <td>17</td>\n",
       "      <td>17</td>\n",
       "      <td>36</td>\n",
       "      <td>14</td>\n",
       "    </tr>\n",
       "    <tr>\n",
       "      <th>3</th>\n",
       "      <td>Dogtraining</td>\n",
       "      <td>My 3 months samoyed forgot all his training af...</td>\n",
       "      <td>As the title says, after having stomach issues...</td>\n",
       "      <td>23</td>\n",
       "      <td>23</td>\n",
       "      <td>15</td>\n",
       "      <td>71</td>\n",
       "    </tr>\n",
       "    <tr>\n",
       "      <th>4</th>\n",
       "      <td>Dogtraining</td>\n",
       "      <td>Two mat questions!</td>\n",
       "      <td>Hi! I have a dog bed in the living room and I’...</td>\n",
       "      <td>5</td>\n",
       "      <td>5</td>\n",
       "      <td>0</td>\n",
       "      <td>18</td>\n",
       "    </tr>\n",
       "  </tbody>\n",
       "</table>\n",
       "</div>"
      ],
      "text/plain": [
       "     subreddit                                              title  \\\n",
       "0  Dogtraining    Trick of the Month - May 2022 - Crawl Backwards   \n",
       "1  Dogtraining                   How do I get a cafe/brewery dog?   \n",
       "2  Dogtraining                                     Warning: Gross   \n",
       "3  Dogtraining  My 3 months samoyed forgot all his training af...   \n",
       "4  Dogtraining                                 Two mat questions!   \n",
       "\n",
       "                                            selftext  ups  score  \\\n",
       "0  Welcome to the Trick of the Month!\\n\\nThis mon...   10     10   \n",
       "1  I am sitting at a brewery right now and all th...  295    295   \n",
       "2  I noticed my dog trying to eat the poop of oth...   17     17   \n",
       "3  As the title says, after having stomach issues...   23     23   \n",
       "4  Hi! I have a dog bed in the living room and I’...    5      5   \n",
       "\n",
       "   num_comments  title_length  \n",
       "0             4            47  \n",
       "1            87            32  \n",
       "2            36            14  \n",
       "3            15            71  \n",
       "4             0            18  "
      ]
     },
     "execution_count": 67,
     "metadata": {},
     "output_type": "execute_result"
    }
   ],
   "source": [
    "# create a new column called title_length that contains the length of each title\n",
    "\n",
    "df['title_length'] = df['title'].transform(len)\n",
    "df.head()"
   ]
  },
  {
   "cell_type": "code",
   "execution_count": 68,
   "metadata": {},
   "outputs": [],
   "source": [
    "# create a new column called title_word_count that contains the number of words in each title\n",
    "\n",
    "df['title_word_count'] = df['title'].map(lambda x: len(x.split(' ')))"
   ]
  },
  {
   "cell_type": "code",
   "execution_count": 69,
   "metadata": {},
   "outputs": [
    {
     "data": {
      "text/html": [
       "<div>\n",
       "<style scoped>\n",
       "    .dataframe tbody tr th:only-of-type {\n",
       "        vertical-align: middle;\n",
       "    }\n",
       "\n",
       "    .dataframe tbody tr th {\n",
       "        vertical-align: top;\n",
       "    }\n",
       "\n",
       "    .dataframe thead th {\n",
       "        text-align: right;\n",
       "    }\n",
       "</style>\n",
       "<table border=\"1\" class=\"dataframe\">\n",
       "  <thead>\n",
       "    <tr style=\"text-align: right;\">\n",
       "      <th></th>\n",
       "      <th>subreddit</th>\n",
       "      <th>title</th>\n",
       "      <th>selftext</th>\n",
       "      <th>ups</th>\n",
       "      <th>score</th>\n",
       "      <th>num_comments</th>\n",
       "      <th>title_length</th>\n",
       "      <th>title_word_count</th>\n",
       "      <th>selftext_length</th>\n",
       "    </tr>\n",
       "  </thead>\n",
       "  <tbody>\n",
       "    <tr>\n",
       "      <th>0</th>\n",
       "      <td>Dogtraining</td>\n",
       "      <td>Trick of the Month - May 2022 - Crawl Backwards</td>\n",
       "      <td>Welcome to the Trick of the Month!\\n\\nThis mon...</td>\n",
       "      <td>10</td>\n",
       "      <td>10</td>\n",
       "      <td>4</td>\n",
       "      <td>47</td>\n",
       "      <td>10</td>\n",
       "      <td>856</td>\n",
       "    </tr>\n",
       "    <tr>\n",
       "      <th>1</th>\n",
       "      <td>Dogtraining</td>\n",
       "      <td>How do I get a cafe/brewery dog?</td>\n",
       "      <td>I am sitting at a brewery right now and all th...</td>\n",
       "      <td>295</td>\n",
       "      <td>295</td>\n",
       "      <td>87</td>\n",
       "      <td>32</td>\n",
       "      <td>7</td>\n",
       "      <td>337</td>\n",
       "    </tr>\n",
       "    <tr>\n",
       "      <th>2</th>\n",
       "      <td>Dogtraining</td>\n",
       "      <td>Warning: Gross</td>\n",
       "      <td>I noticed my dog trying to eat the poop of oth...</td>\n",
       "      <td>17</td>\n",
       "      <td>17</td>\n",
       "      <td>36</td>\n",
       "      <td>14</td>\n",
       "      <td>2</td>\n",
       "      <td>249</td>\n",
       "    </tr>\n",
       "    <tr>\n",
       "      <th>3</th>\n",
       "      <td>Dogtraining</td>\n",
       "      <td>My 3 months samoyed forgot all his training af...</td>\n",
       "      <td>As the title says, after having stomach issues...</td>\n",
       "      <td>23</td>\n",
       "      <td>23</td>\n",
       "      <td>15</td>\n",
       "      <td>71</td>\n",
       "      <td>14</td>\n",
       "      <td>680</td>\n",
       "    </tr>\n",
       "    <tr>\n",
       "      <th>4</th>\n",
       "      <td>Dogtraining</td>\n",
       "      <td>Two mat questions!</td>\n",
       "      <td>Hi! I have a dog bed in the living room and I’...</td>\n",
       "      <td>5</td>\n",
       "      <td>5</td>\n",
       "      <td>0</td>\n",
       "      <td>18</td>\n",
       "      <td>3</td>\n",
       "      <td>797</td>\n",
       "    </tr>\n",
       "  </tbody>\n",
       "</table>\n",
       "</div>"
      ],
      "text/plain": [
       "     subreddit                                              title  \\\n",
       "0  Dogtraining    Trick of the Month - May 2022 - Crawl Backwards   \n",
       "1  Dogtraining                   How do I get a cafe/brewery dog?   \n",
       "2  Dogtraining                                     Warning: Gross   \n",
       "3  Dogtraining  My 3 months samoyed forgot all his training af...   \n",
       "4  Dogtraining                                 Two mat questions!   \n",
       "\n",
       "                                            selftext  ups  score  \\\n",
       "0  Welcome to the Trick of the Month!\\n\\nThis mon...   10     10   \n",
       "1  I am sitting at a brewery right now and all th...  295    295   \n",
       "2  I noticed my dog trying to eat the poop of oth...   17     17   \n",
       "3  As the title says, after having stomach issues...   23     23   \n",
       "4  Hi! I have a dog bed in the living room and I’...    5      5   \n",
       "\n",
       "   num_comments  title_length  title_word_count  selftext_length  \n",
       "0             4            47                10              856  \n",
       "1            87            32                 7              337  \n",
       "2            36            14                 2              249  \n",
       "3            15            71                14              680  \n",
       "4             0            18                 3              797  "
      ]
     },
     "execution_count": 69,
     "metadata": {},
     "output_type": "execute_result"
    }
   ],
   "source": [
    "# create a new column called selftext_length that contains the length of each selftext\n",
    "\n",
    "df['selftext_length'] = df['selftext'].transform(len)\n",
    "df.head()"
   ]
  },
  {
   "cell_type": "code",
   "execution_count": 70,
   "metadata": {},
   "outputs": [],
   "source": [
    "# create a new column called selftext_word_count that contains the number of words in each selftext\n",
    "\n",
    "df['selftext_word_count'] = df['selftext'].map(lambda x: len(x.split(' ')))"
   ]
  },
  {
   "cell_type": "markdown",
   "metadata": {},
   "source": [
    "### Longest and shortest Titles and Selftext descriptions\n",
    "\n",
    "Determining if it is worth more review by looking at the five longest and five shortest Titles and Selftext description word counts."
   ]
  },
  {
   "cell_type": "code",
   "execution_count": 71,
   "metadata": {},
   "outputs": [
    {
     "data": {
      "text/plain": [
       "2648    Warning: Gross\n",
       "1544    Warning: Gross\n",
       "163     Warning: Gross\n",
       "348     Warning: Gross\n",
       "3821    Warning: Gross\n",
       "Name: title, dtype: object"
      ]
     },
     "execution_count": 71,
     "metadata": {},
     "output_type": "execute_result"
    }
   ],
   "source": [
    "df.sort_values(by='title_word_count')['title'].head(5)"
   ]
  },
  {
   "cell_type": "code",
   "execution_count": 72,
   "metadata": {},
   "outputs": [
    {
     "data": {
      "text/plain": [
       "4459    Edit: Resolved thank you\n",
       "527           Title says it all.\n",
       "5408    Edit: Resolved thank you\n",
       "1631          Title says it all.\n",
       "7774    Edit: Resolved thank you\n",
       "Name: selftext, dtype: object"
      ]
     },
     "execution_count": 72,
     "metadata": {},
     "output_type": "execute_result"
    }
   ],
   "source": [
    "df.sort_values(by='selftext_word_count')['selftext'].head(5)"
   ]
  },
  {
   "cell_type": "code",
   "execution_count": 73,
   "metadata": {},
   "outputs": [
    {
     "data": {
      "text/plain": [
       "343     It appears that the highest value reward for m...\n",
       "1999    It appears that the highest value reward for m...\n",
       "964     It appears that the highest value reward for m...\n",
       "1516    It appears that the highest value reward for m...\n",
       "3172    It appears that the highest value reward for m...\n",
       "Name: title, dtype: object"
      ]
     },
     "execution_count": 73,
     "metadata": {},
     "output_type": "execute_result"
    }
   ],
   "source": [
    "df.sort_values(by='title_word_count', ascending=False)['title'].head(5)"
   ]
  },
  {
   "cell_type": "code",
   "execution_count": 74,
   "metadata": {},
   "outputs": [
    {
     "data": {
      "text/plain": [
       "544      This is a long one, I'm looking for advice on...\n",
       "1579     This is a long one, I'm looking for advice on...\n",
       "1602     This is a long one, I'm looking for advice on...\n",
       "4339     This is a long one, I'm looking for advice on...\n",
       "1625     This is a long one, I'm looking for advice on...\n",
       "Name: selftext, dtype: object"
      ]
     },
     "execution_count": 74,
     "metadata": {},
     "output_type": "execute_result"
    }
   ],
   "source": [
    "df.sort_values(by='selftext_word_count', ascending=False)['selftext'].head(5)"
   ]
  },
  {
   "cell_type": "markdown",
   "metadata": {},
   "source": [
    "### Distribution of lengths of Titles and Selftext descriptions"
   ]
  },
  {
   "cell_type": "code",
   "execution_count": 75,
   "metadata": {},
   "outputs": [
    {
     "data": {
      "image/png": "[encoded data removed]",
      "text/plain": [
       "<Figure size 432x288 with 1 Axes>"
      ]
     },
     "metadata": {
      "needs_background": "light"
     },
     "output_type": "display_data"
    }
   ],
   "source": [
    "df['title_length'].hist()\n",
    "plt.title('Distribution of Titles Posts by Character Length')\n",
    "plt.xlabel('Character Count')\n",
    "plt.ylabel('Title Count');"
   ]
  },
  {
   "cell_type": "code",
   "execution_count": 76,
   "metadata": {},
   "outputs": [
    {
     "data": {
      "image/png": "[encoded data removed]",
      "text/plain": [
       "<Figure size 432x288 with 1 Axes>"
      ]
     },
     "metadata": {
      "needs_background": "light"
     },
     "output_type": "display_data"
    }
   ],
   "source": [
    "df['title_word_count'].hist()\n",
    "plt.title('Distribution of Titles by Word Count')\n",
    "plt.xlabel('Word Count')\n",
    "plt.ylabel('Title Count');"
   ]
  },
  {
   "cell_type": "code",
   "execution_count": null,
   "metadata": {},
   "outputs": [],
   "source": []
  },
  {
   "cell_type": "markdown",
   "metadata": {},
   "source": [
    "### EDA Conclusions and Notes"
   ]
  }
 ],
 "metadata": {
  "interpreter": {
   "hash": "bee7f723e8de006fbc10ab2a326e1b10643793c86d76dca5e0479e98f4fcd42d"
  },
  "kernelspec": {
   "display_name": "Python 3.8.12 ('base')",
   "language": "python",
   "name": "python3"
  },
  "language_info": {
   "codemirror_mode": {
    "name": "ipython",
    "version": 3
   },
   "file_extension": ".py",
   "mimetype": "text/x-python",
   "name": "python",
   "nbconvert_exporter": "python",
   "pygments_lexer": "ipython3",
   "version": "3.8.12"
  },
  "orig_nbformat": 4
 },
 "nbformat": 4,
 "nbformat_minor": 2
}
