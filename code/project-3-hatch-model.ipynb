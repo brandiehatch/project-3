{
 "cells": [
  {
   "cell_type": "markdown",
   "metadata": {},
   "source": [
    "# Project 3: Web APIs and NLP <br>\n",
    "\n",
    "#### Brandie Hatch\n",
    "\n",
    "### Modeling"
   ]
  },
  {
   "cell_type": "markdown",
   "metadata": {},
   "source": [
    "## Imports and Pickle"
   ]
  },
  {
   "cell_type": "code",
   "execution_count": 3,
   "metadata": {},
   "outputs": [],
   "source": [
    "# python library imports\n",
    "import pandas as pd\n",
    "import numpy as np\n",
    "import matplotlib.pyplot as plt\n",
    "import seaborn as sns\n",
    "import scipy.stats as stats\n",
    "import statsmodels.api as sm\n",
    "\n",
    "%matplotlib inline\n",
    "pd.options.display.max_columns =999\n",
    "\n",
    "import requests\n",
    "import time\n",
    "import re\n",
    "import nltk"
   ]
  },
  {
   "cell_type": "code",
   "execution_count": 11,
   "metadata": {},
   "outputs": [
    {
     "name": "stdout",
     "output_type": "stream",
     "text": [
      "(5099, 8)\n"
     ]
    },
    {
     "data": {
      "text/html": [
       "<div>\n",
       "<style scoped>\n",
       "    .dataframe tbody tr th:only-of-type {\n",
       "        vertical-align: middle;\n",
       "    }\n",
       "\n",
       "    .dataframe tbody tr th {\n",
       "        vertical-align: top;\n",
       "    }\n",
       "\n",
       "    .dataframe thead th {\n",
       "        text-align: right;\n",
       "    }\n",
       "</style>\n",
       "<table border=\"1\" class=\"dataframe\">\n",
       "  <thead>\n",
       "    <tr style=\"text-align: right;\">\n",
       "      <th></th>\n",
       "      <th>subreddit</th>\n",
       "      <th>id</th>\n",
       "      <th>author</th>\n",
       "      <th>score</th>\n",
       "      <th>title</th>\n",
       "      <th>selftext</th>\n",
       "      <th>num_comments</th>\n",
       "      <th>created_utc</th>\n",
       "    </tr>\n",
       "  </thead>\n",
       "  <tbody>\n",
       "    <tr>\n",
       "      <th>0</th>\n",
       "      <td>Dogtraining</td>\n",
       "      <td>up55oy</td>\n",
       "      <td>devitosecret</td>\n",
       "      <td>1</td>\n",
       "      <td>Introducing big puppy to smaller older dog?</td>\n",
       "      <td>I have a 5.5 month old GSD who gets very excit...</td>\n",
       "      <td>0</td>\n",
       "      <td>1652487326</td>\n",
       "    </tr>\n",
       "    <tr>\n",
       "      <th>1</th>\n",
       "      <td>Dogtraining</td>\n",
       "      <td>up52vw</td>\n",
       "      <td>slothsandwhich</td>\n",
       "      <td>1</td>\n",
       "      <td>How do I get a cafe/brewery dog?</td>\n",
       "      <td>I am sitting at a brewery right now and all th...</td>\n",
       "      <td>0</td>\n",
       "      <td>1652487073</td>\n",
       "    </tr>\n",
       "    <tr>\n",
       "      <th>2</th>\n",
       "      <td>Dogtraining</td>\n",
       "      <td>up4qcr</td>\n",
       "      <td>L1Llunch</td>\n",
       "      <td>1</td>\n",
       "      <td>Not paying attention to me outside of my bedroom.</td>\n",
       "      <td>i have a year old german shepherd, have only h...</td>\n",
       "      <td>2</td>\n",
       "      <td>1652485953</td>\n",
       "    </tr>\n",
       "    <tr>\n",
       "      <th>3</th>\n",
       "      <td>Dogtraining</td>\n",
       "      <td>up4b6t</td>\n",
       "      <td>Affectionate-Box-276</td>\n",
       "      <td>1</td>\n",
       "      <td>6 month old husky/ shepherd mix suddenly terri...</td>\n",
       "      <td>We adopted a husky/ shepherd mix about 3 weeks...</td>\n",
       "      <td>1</td>\n",
       "      <td>1652484573</td>\n",
       "    </tr>\n",
       "    <tr>\n",
       "      <th>4</th>\n",
       "      <td>Dogtraining</td>\n",
       "      <td>up49sh</td>\n",
       "      <td>Live_Damage_2902</td>\n",
       "      <td>1</td>\n",
       "      <td>why does my Dog get excited when certain peopl...</td>\n",
       "      <td>I've noticed that when my phone rings it gets ...</td>\n",
       "      <td>0</td>\n",
       "      <td>1652484449</td>\n",
       "    </tr>\n",
       "  </tbody>\n",
       "</table>\n",
       "</div>"
      ],
      "text/plain": [
       "     subreddit      id                author  score  \\\n",
       "0  Dogtraining  up55oy          devitosecret      1   \n",
       "1  Dogtraining  up52vw        slothsandwhich      1   \n",
       "2  Dogtraining  up4qcr              L1Llunch      1   \n",
       "3  Dogtraining  up4b6t  Affectionate-Box-276      1   \n",
       "4  Dogtraining  up49sh      Live_Damage_2902      1   \n",
       "\n",
       "                                               title  \\\n",
       "0        Introducing big puppy to smaller older dog?   \n",
       "1                   How do I get a cafe/brewery dog?   \n",
       "2  Not paying attention to me outside of my bedroom.   \n",
       "3  6 month old husky/ shepherd mix suddenly terri...   \n",
       "4  why does my Dog get excited when certain peopl...   \n",
       "\n",
       "                                            selftext  num_comments  \\\n",
       "0  I have a 5.5 month old GSD who gets very excit...             0   \n",
       "1  I am sitting at a brewery right now and all th...             0   \n",
       "2  i have a year old german shepherd, have only h...             2   \n",
       "3  We adopted a husky/ shepherd mix about 3 weeks...             1   \n",
       "4  I've noticed that when my phone rings it gets ...             0   \n",
       "\n",
       "   created_utc  \n",
       "0   1652487326  \n",
       "1   1652487073  \n",
       "2   1652485953  \n",
       "3   1652484573  \n",
       "4   1652484449  "
      ]
     },
     "execution_count": 11,
     "metadata": {},
     "output_type": "execute_result"
    }
   ],
   "source": [
    "# pickle\n",
    "\n",
    "dogtraining = pd.read_csv('./dogtraining.csv')\n",
    "print(dogtraining.shape)\n",
    "dogtraining.head()"
   ]
  },
  {
   "cell_type": "markdown",
   "metadata": {},
   "source": [
    "## Model"
   ]
  },
  {
   "cell_type": "code",
   "execution_count": null,
   "metadata": {},
   "outputs": [],
   "source": []
  },
  {
   "cell_type": "markdown",
   "metadata": {},
   "source": [
    "## Model Evaluation"
   ]
  },
  {
   "cell_type": "code",
   "execution_count": null,
   "metadata": {},
   "outputs": [],
   "source": []
  },
  {
   "cell_type": "markdown",
   "metadata": {},
   "source": [
    "## Answer Problem, Conclusions, and Recommendations"
   ]
  },
  {
   "cell_type": "code",
   "execution_count": null,
   "metadata": {},
   "outputs": [],
   "source": []
  },
  {
   "cell_type": "markdown",
   "metadata": {},
   "source": [
    "## Sources"
   ]
  }
 ],
 "metadata": {
  "interpreter": {
   "hash": "ec913dcbef39c008784dc6fe095f00003c17434557640291833f1bcf12636147"
  },
  "kernelspec": {
   "display_name": "Python 3.8.12 ('dsi-222')",
   "language": "python",
   "name": "python3"
  },
  "language_info": {
   "codemirror_mode": {
    "name": "ipython",
    "version": 3
   },
   "file_extension": ".py",
   "mimetype": "text/x-python",
   "name": "python",
   "nbconvert_exporter": "python",
   "pygments_lexer": "ipython3",
   "version": "3.8.12"
  },
  "orig_nbformat": 4
 },
 "nbformat": 4,
 "nbformat_minor": 2
}
