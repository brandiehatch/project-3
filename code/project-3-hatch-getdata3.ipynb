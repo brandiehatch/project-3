{
 "cells": [
  {
   "cell_type": "markdown",
   "metadata": {},
   "source": [
    "# Project 3: Web APIs and NLP <br>\n",
    "\n",
    "#### Brandie Hatch"
   ]
  },
  {
   "cell_type": "markdown",
   "metadata": {},
   "source": [
    "## Preparation and Get Data"
   ]
  },
  {
   "cell_type": "code",
   "execution_count": 1,
   "metadata": {},
   "outputs": [],
   "source": [
    "# imports\n",
    "import pandas as pd\n",
    "\n",
    "pd.options.display.max_columns =999\n",
    "\n",
    "import requests\n",
    "import time\n",
    "import re\n",
    "import nltk\n",
    "from datetime import datetime"
   ]
  },
  {
   "cell_type": "code",
   "execution_count": 2,
   "metadata": {},
   "outputs": [],
   "source": [
    "def get_posts_batch(subreddit, before):\n",
    "    \n",
    "    url = 'https://api.pushshift.io/reddit/search/submission'\n",
    "    \n",
    "    params = {\n",
    "        'subreddit': subreddit,\n",
    "        'size': 100\n",
    "    }\n",
    "    if before is not None: \n",
    "        params['before'] = before\n",
    "        \n",
    "    res = requests.get(url, params)\n",
    "    return res.json()\n",
    "\n",
    "def posts_to_df(posts):\n",
    "    data = posts['data']\n",
    "   \n",
    "    df = pd.DataFrame(data)\n",
    "    return df[['subreddit', 'id', 'author', 'score', 'title', 'selftext', 'num_comments', 'created_utc']]\n",
    "\n",
    "def get_posts(subreddit, num_posts):\n",
    "    \n",
    "    post_ids = set()\n",
    "    \n",
    "    before = None\n",
    "    \n",
    "    i = 0\n",
    "    \n",
    "    while len(post_ids) < num_posts:\n",
    "        batch = get_posts_batch(subreddit, before)\n",
    "        \n",
    "        df = posts_to_df(batch)\n",
    "        \n",
    "        before = df['created_utc'].min()\n",
    "        \n",
    "        post_ids.update(df['id'])\n",
    "        \n",
    "        if i == 0: \n",
    "            header = True\n",
    "            mode = 'w'\n",
    "        else: \n",
    "            header = False \n",
    "            mode = 'a'\n",
    "        df.to_csv(subreddit + '.csv', mode=mode, header=header, index=False)\n",
    "        print(f'We have scraped {len(post_ids)} posts.')\n",
    "        i += 1\n",
    "        time.sleep(2)"
   ]
  },
  {
   "cell_type": "code",
   "execution_count": 5,
   "metadata": {},
   "outputs": [
    {
     "ename": "JSONDecodeError",
     "evalue": "[Errno Expecting value] <html>\n  <head>\n    <title>Internal Server Error</title>\n  </head>\n  <body>\n    <h1><p>Internal Server Error</p></h1>\n    \n  </body>\n</html>\n: 0",
     "output_type": "error",
     "traceback": [
      "\u001b[1;31m---------------------------------------------------------------------------\u001b[0m",
      "\u001b[1;31mJSONDecodeError\u001b[0m                           Traceback (most recent call last)",
      "\u001b[1;32mc:\\Users\\hatch\\anaconda3\\envs\\dsi-222\\lib\\site-packages\\requests\\models.py\u001b[0m in \u001b[0;36mjson\u001b[1;34m(self, **kwargs)\u001b[0m\n\u001b[0;32m    909\u001b[0m         \u001b[1;32mtry\u001b[0m\u001b[1;33m:\u001b[0m\u001b[1;33m\u001b[0m\u001b[1;33m\u001b[0m\u001b[0m\n\u001b[1;32m--> 910\u001b[1;33m             \u001b[1;32mreturn\u001b[0m \u001b[0mcomplexjson\u001b[0m\u001b[1;33m.\u001b[0m\u001b[0mloads\u001b[0m\u001b[1;33m(\u001b[0m\u001b[0mself\u001b[0m\u001b[1;33m.\u001b[0m\u001b[0mtext\u001b[0m\u001b[1;33m,\u001b[0m \u001b[1;33m**\u001b[0m\u001b[0mkwargs\u001b[0m\u001b[1;33m)\u001b[0m\u001b[1;33m\u001b[0m\u001b[1;33m\u001b[0m\u001b[0m\n\u001b[0m\u001b[0;32m    911\u001b[0m         \u001b[1;32mexcept\u001b[0m \u001b[0mJSONDecodeError\u001b[0m \u001b[1;32mas\u001b[0m \u001b[0me\u001b[0m\u001b[1;33m:\u001b[0m\u001b[1;33m\u001b[0m\u001b[1;33m\u001b[0m\u001b[0m\n",
      "\u001b[1;32mc:\\Users\\hatch\\anaconda3\\envs\\dsi-222\\lib\\json\\__init__.py\u001b[0m in \u001b[0;36mloads\u001b[1;34m(s, cls, object_hook, parse_float, parse_int, parse_constant, object_pairs_hook, **kw)\u001b[0m\n\u001b[0;32m    356\u001b[0m             parse_constant is None and object_pairs_hook is None and not kw):\n\u001b[1;32m--> 357\u001b[1;33m         \u001b[1;32mreturn\u001b[0m \u001b[0m_default_decoder\u001b[0m\u001b[1;33m.\u001b[0m\u001b[0mdecode\u001b[0m\u001b[1;33m(\u001b[0m\u001b[0ms\u001b[0m\u001b[1;33m)\u001b[0m\u001b[1;33m\u001b[0m\u001b[1;33m\u001b[0m\u001b[0m\n\u001b[0m\u001b[0;32m    358\u001b[0m     \u001b[1;32mif\u001b[0m \u001b[0mcls\u001b[0m \u001b[1;32mis\u001b[0m \u001b[1;32mNone\u001b[0m\u001b[1;33m:\u001b[0m\u001b[1;33m\u001b[0m\u001b[1;33m\u001b[0m\u001b[0m\n",
      "\u001b[1;32mc:\\Users\\hatch\\anaconda3\\envs\\dsi-222\\lib\\json\\decoder.py\u001b[0m in \u001b[0;36mdecode\u001b[1;34m(self, s, _w)\u001b[0m\n\u001b[0;32m    336\u001b[0m         \"\"\"\n\u001b[1;32m--> 337\u001b[1;33m         \u001b[0mobj\u001b[0m\u001b[1;33m,\u001b[0m \u001b[0mend\u001b[0m \u001b[1;33m=\u001b[0m \u001b[0mself\u001b[0m\u001b[1;33m.\u001b[0m\u001b[0mraw_decode\u001b[0m\u001b[1;33m(\u001b[0m\u001b[0ms\u001b[0m\u001b[1;33m,\u001b[0m \u001b[0midx\u001b[0m\u001b[1;33m=\u001b[0m\u001b[0m_w\u001b[0m\u001b[1;33m(\u001b[0m\u001b[0ms\u001b[0m\u001b[1;33m,\u001b[0m \u001b[1;36m0\u001b[0m\u001b[1;33m)\u001b[0m\u001b[1;33m.\u001b[0m\u001b[0mend\u001b[0m\u001b[1;33m(\u001b[0m\u001b[1;33m)\u001b[0m\u001b[1;33m)\u001b[0m\u001b[1;33m\u001b[0m\u001b[1;33m\u001b[0m\u001b[0m\n\u001b[0m\u001b[0;32m    338\u001b[0m         \u001b[0mend\u001b[0m \u001b[1;33m=\u001b[0m \u001b[0m_w\u001b[0m\u001b[1;33m(\u001b[0m\u001b[0ms\u001b[0m\u001b[1;33m,\u001b[0m \u001b[0mend\u001b[0m\u001b[1;33m)\u001b[0m\u001b[1;33m.\u001b[0m\u001b[0mend\u001b[0m\u001b[1;33m(\u001b[0m\u001b[1;33m)\u001b[0m\u001b[1;33m\u001b[0m\u001b[1;33m\u001b[0m\u001b[0m\n",
      "\u001b[1;32mc:\\Users\\hatch\\anaconda3\\envs\\dsi-222\\lib\\json\\decoder.py\u001b[0m in \u001b[0;36mraw_decode\u001b[1;34m(self, s, idx)\u001b[0m\n\u001b[0;32m    354\u001b[0m         \u001b[1;32mexcept\u001b[0m \u001b[0mStopIteration\u001b[0m \u001b[1;32mas\u001b[0m \u001b[0merr\u001b[0m\u001b[1;33m:\u001b[0m\u001b[1;33m\u001b[0m\u001b[1;33m\u001b[0m\u001b[0m\n\u001b[1;32m--> 355\u001b[1;33m             \u001b[1;32mraise\u001b[0m \u001b[0mJSONDecodeError\u001b[0m\u001b[1;33m(\u001b[0m\u001b[1;34m\"Expecting value\"\u001b[0m\u001b[1;33m,\u001b[0m \u001b[0ms\u001b[0m\u001b[1;33m,\u001b[0m \u001b[0merr\u001b[0m\u001b[1;33m.\u001b[0m\u001b[0mvalue\u001b[0m\u001b[1;33m)\u001b[0m \u001b[1;32mfrom\u001b[0m \u001b[1;32mNone\u001b[0m\u001b[1;33m\u001b[0m\u001b[1;33m\u001b[0m\u001b[0m\n\u001b[0m\u001b[0;32m    356\u001b[0m         \u001b[1;32mreturn\u001b[0m \u001b[0mobj\u001b[0m\u001b[1;33m,\u001b[0m \u001b[0mend\u001b[0m\u001b[1;33m\u001b[0m\u001b[1;33m\u001b[0m\u001b[0m\n",
      "\u001b[1;31mJSONDecodeError\u001b[0m: Expecting value: line 1 column 1 (char 0)",
      "\nDuring handling of the above exception, another exception occurred:\n",
      "\u001b[1;31mJSONDecodeError\u001b[0m                           Traceback (most recent call last)",
      "\u001b[1;32m~\\AppData\\Local\\Temp/ipykernel_13208/1534206966.py\u001b[0m in \u001b[0;36m<module>\u001b[1;34m\u001b[0m\n\u001b[1;32m----> 1\u001b[1;33m \u001b[0mget_posts_batch\u001b[0m\u001b[1;33m(\u001b[0m\u001b[1;34m'cattraining'\u001b[0m\u001b[1;33m,\u001b[0m \u001b[1;34m'2022-05-14T06:04:21Z'\u001b[0m\u001b[1;33m)\u001b[0m\u001b[1;33m\u001b[0m\u001b[1;33m\u001b[0m\u001b[0m\n\u001b[0m",
      "\u001b[1;32m~\\AppData\\Local\\Temp/ipykernel_13208/1524355511.py\u001b[0m in \u001b[0;36mget_posts_batch\u001b[1;34m(subreddit, before)\u001b[0m\n\u001b[0;32m     11\u001b[0m \u001b[1;33m\u001b[0m\u001b[0m\n\u001b[0;32m     12\u001b[0m     \u001b[0mres\u001b[0m \u001b[1;33m=\u001b[0m \u001b[0mrequests\u001b[0m\u001b[1;33m.\u001b[0m\u001b[0mget\u001b[0m\u001b[1;33m(\u001b[0m\u001b[0murl\u001b[0m\u001b[1;33m,\u001b[0m \u001b[0mparams\u001b[0m\u001b[1;33m)\u001b[0m\u001b[1;33m\u001b[0m\u001b[1;33m\u001b[0m\u001b[0m\n\u001b[1;32m---> 13\u001b[1;33m     \u001b[1;32mreturn\u001b[0m \u001b[0mres\u001b[0m\u001b[1;33m.\u001b[0m\u001b[0mjson\u001b[0m\u001b[1;33m(\u001b[0m\u001b[1;33m)\u001b[0m\u001b[1;33m\u001b[0m\u001b[1;33m\u001b[0m\u001b[0m\n\u001b[0m\u001b[0;32m     14\u001b[0m \u001b[1;33m\u001b[0m\u001b[0m\n\u001b[0;32m     15\u001b[0m \u001b[1;32mdef\u001b[0m \u001b[0mposts_to_df\u001b[0m\u001b[1;33m(\u001b[0m\u001b[0mposts\u001b[0m\u001b[1;33m)\u001b[0m\u001b[1;33m:\u001b[0m\u001b[1;33m\u001b[0m\u001b[1;33m\u001b[0m\u001b[0m\n",
      "\u001b[1;32mc:\\Users\\hatch\\anaconda3\\envs\\dsi-222\\lib\\site-packages\\requests\\models.py\u001b[0m in \u001b[0;36mjson\u001b[1;34m(self, **kwargs)\u001b[0m\n\u001b[0;32m    915\u001b[0m                 \u001b[1;32mraise\u001b[0m \u001b[0mRequestsJSONDecodeError\u001b[0m\u001b[1;33m(\u001b[0m\u001b[0me\u001b[0m\u001b[1;33m.\u001b[0m\u001b[0mmessage\u001b[0m\u001b[1;33m)\u001b[0m\u001b[1;33m\u001b[0m\u001b[1;33m\u001b[0m\u001b[0m\n\u001b[0;32m    916\u001b[0m             \u001b[1;32melse\u001b[0m\u001b[1;33m:\u001b[0m\u001b[1;33m\u001b[0m\u001b[1;33m\u001b[0m\u001b[0m\n\u001b[1;32m--> 917\u001b[1;33m                 \u001b[1;32mraise\u001b[0m \u001b[0mRequestsJSONDecodeError\u001b[0m\u001b[1;33m(\u001b[0m\u001b[0me\u001b[0m\u001b[1;33m.\u001b[0m\u001b[0mmsg\u001b[0m\u001b[1;33m,\u001b[0m \u001b[0me\u001b[0m\u001b[1;33m.\u001b[0m\u001b[0mdoc\u001b[0m\u001b[1;33m,\u001b[0m \u001b[0me\u001b[0m\u001b[1;33m.\u001b[0m\u001b[0mpos\u001b[0m\u001b[1;33m)\u001b[0m\u001b[1;33m\u001b[0m\u001b[1;33m\u001b[0m\u001b[0m\n\u001b[0m\u001b[0;32m    918\u001b[0m \u001b[1;33m\u001b[0m\u001b[0m\n\u001b[0;32m    919\u001b[0m     \u001b[1;33m@\u001b[0m\u001b[0mproperty\u001b[0m\u001b[1;33m\u001b[0m\u001b[1;33m\u001b[0m\u001b[0m\n",
      "\u001b[1;31mJSONDecodeError\u001b[0m: [Errno Expecting value] <html>\n  <head>\n    <title>Internal Server Error</title>\n  </head>\n  <body>\n    <h1><p>Internal Server Error</p></h1>\n    \n  </body>\n</html>\n: 0"
     ]
    }
   ],
   "source": [
    "get_posts_batch('cattraining', '2022-05-14T06:04:21Z')"
   ]
  },
  {
   "cell_type": "code",
   "execution_count": 32,
   "metadata": {},
   "outputs": [],
   "source": [
    "CLIENT_ID = '5aTMVLqpXQvo6vpgNv171w'\n",
    "SECRET_KEY = 'FAjO19Zyx5W4N9llEeklP8apwz20Zw'"
   ]
  },
  {
   "cell_type": "code",
   "execution_count": 33,
   "metadata": {},
   "outputs": [],
   "source": [
    "with open('../assets/pw.txt', 'r') as f:\n",
    "    pw = f.read()"
   ]
  },
  {
   "cell_type": "code",
   "execution_count": 36,
   "metadata": {},
   "outputs": [
    {
     "data": {
      "text/plain": [
       "<Response [200]>"
      ]
     },
     "execution_count": 36,
     "metadata": {},
     "output_type": "execute_result"
    }
   ],
   "source": [
    "auth = requests.auth.HTTPBasicAuth(CLIENT_ID, SECRET_KEY)\n",
    "\n",
    "data = {\n",
    "    'grant_type': 'password',\n",
    "    'username': 'BrandieHatch',\n",
    "    'password': pw\n",
    "}\n",
    "\n",
    "headers = {'user-agent': 'praw_BH/0.0.1', 'accept': '*/*'}\n",
    "\n",
    "res = requests.post('https://www.reddit.com/api/v1/access_token',\n",
    "                    auth=auth, data=data, headers=headers)\n",
    "\n",
    "token = res.json()['access_token']\n",
    "\n",
    "\n",
    "# add authorization to our headers dictionary\n",
    "headers = {**headers, **{'Authorization': f'bearer {token}'}}\n",
    "\n",
    "# while the token is valid (~2 hours) we just add headers=headers to our requests\n",
    "requests.get('https://oauth.reddit.com/api/v1/me', headers=headers)"
   ]
  },
  {
   "cell_type": "code",
   "execution_count": 37,
   "metadata": {},
   "outputs": [],
   "source": [
    "def get_posts(subreddit):\n",
    "    \n",
    "    url = f\"https://oauth.reddit.com/r/{subreddit}\"\n",
    "\n",
    "    params = {\n",
    "        'subreddit': subreddit,\n",
    "        'size': 100\n",
    "    }\n",
    "\n",
    "    res = requests.get(url, headers=headers, params=params)\n",
    "\n",
    "    return res.json()['data']['children']\n"
   ]
  },
  {
   "cell_type": "code",
   "execution_count": 38,
   "metadata": {},
   "outputs": [],
   "source": [
    "# function to convert the responses to a dataframe\n",
    "\n",
    "def res_to_df(res):\n",
    "    \n",
    "    df = []\n",
    "\n",
    "    for submission in res:\n",
    "        df.append({\n",
    "            'subreddit': submission['data']['subreddit'],\n",
    "            'id': submission['data']['id'],\n",
    "            'title': submission['data']['title'],\n",
    "            'selftext': submission['data']['selftext'],\n",
    "            'author': submission['data']['author'],\n",
    "            'name': submission['data']['name'],\n",
    "            'ups': submission['data']['ups'], \n",
    "            'downs': submission['data']['downs'],\n",
    "            'score': submission['data']['score'],\n",
    "            'num_comments': submission['data']['num_comments'], \n",
    "            'created_utc': datetime.fromtimestamp(submission['data']['created_utc']).strftime('%Y-%m-%dT%H:%M:%SZ'),\n",
    "            'over_18': submission['data']['over_18']\n",
    "        })\n",
    "    # print(df)\n",
    "    return df"
   ]
  },
  {
   "cell_type": "code",
   "execution_count": 39,
   "metadata": {},
   "outputs": [
    {
     "name": "stderr",
     "output_type": "stream",
     "text": [
      "C:\\Users\\hatch\\AppData\\Local\\Temp/ipykernel_16424/432376291.py:22: FutureWarning: The frame.append method is deprecated and will be removed from pandas in a future version. Use pandas.concat instead.\n",
      "  df_dogtraining = df_dogtraining.append(new_df, ignore_index=False)\n"
     ]
    }
   ],
   "source": [
    "df_dogtraining = pd.DataFrame()\n",
    "params = {'limit': 200}\n",
    "url = f\"https://oauth.reddit.com/r/dogtraining/new\"\n",
    "\n",
    "# loop through to get multiple requests\n",
    "for i in range(200):\n",
    "    # make request\n",
    "    res = requests.get(url,\n",
    "                       headers=headers,\n",
    "                       params=params)\n",
    "\n",
    "    # get dataframe from responses\n",
    "    new_df = pd.DataFrame(res_to_df(get_posts('dogtraining')))\n",
    "    # take the final row (which is the oldest entry)\n",
    "    row = new_df.iloc[len(new_df)-1]\n",
    "    # create fullname\n",
    "    fullname = '_' + row['id']\n",
    "    # add fullname in params\n",
    "    params['after'] = fullname\n",
    "    \n",
    "    # append new_df to data\n",
    "    df_dogtraining = df_dogtraining.append(new_df, ignore_index=False)\n",
    "    \n",
    "    import warnings\n",
    "    warnings.simplefilter(\"ignore\")"
   ]
  },
  {
   "cell_type": "code",
   "execution_count": 40,
   "metadata": {},
   "outputs": [
    {
     "data": {
      "text/plain": [
       "(5400, 12)"
      ]
     },
     "execution_count": 40,
     "metadata": {},
     "output_type": "execute_result"
    }
   ],
   "source": [
    "df_dogtraining.shape"
   ]
  },
  {
   "cell_type": "code",
   "execution_count": 41,
   "metadata": {},
   "outputs": [
    {
     "data": {
      "text/html": [
       "<div>\n",
       "<style scoped>\n",
       "    .dataframe tbody tr th:only-of-type {\n",
       "        vertical-align: middle;\n",
       "    }\n",
       "\n",
       "    .dataframe tbody tr th {\n",
       "        vertical-align: top;\n",
       "    }\n",
       "\n",
       "    .dataframe thead th {\n",
       "        text-align: right;\n",
       "    }\n",
       "</style>\n",
       "<table border=\"1\" class=\"dataframe\">\n",
       "  <thead>\n",
       "    <tr style=\"text-align: right;\">\n",
       "      <th></th>\n",
       "      <th>subreddit</th>\n",
       "      <th>id</th>\n",
       "      <th>title</th>\n",
       "      <th>selftext</th>\n",
       "      <th>author</th>\n",
       "      <th>name</th>\n",
       "      <th>ups</th>\n",
       "      <th>downs</th>\n",
       "      <th>score</th>\n",
       "      <th>num_comments</th>\n",
       "      <th>created_utc</th>\n",
       "      <th>over_18</th>\n",
       "    </tr>\n",
       "  </thead>\n",
       "  <tbody>\n",
       "    <tr>\n",
       "      <th>0</th>\n",
       "      <td>Dogtraining</td>\n",
       "      <td>uijir1</td>\n",
       "      <td>Trick of the Month - May 2022 - Crawl Backwards</td>\n",
       "      <td>Welcome to the Trick of the Month!\\n\\nThis mon...</td>\n",
       "      <td>moo6</td>\n",
       "      <td>t3_uijir1</td>\n",
       "      <td>9</td>\n",
       "      <td>0</td>\n",
       "      <td>9</td>\n",
       "      <td>4</td>\n",
       "      <td>2022-05-04T16:25:25Z</td>\n",
       "      <td>False</td>\n",
       "    </tr>\n",
       "    <tr>\n",
       "      <th>1</th>\n",
       "      <td>Dogtraining</td>\n",
       "      <td>ujxbsz</td>\n",
       "      <td>Announcement - Puppy Enrichment AMA With Allie...</td>\n",
       "      <td></td>\n",
       "      <td>Cursethewind</td>\n",
       "      <td>t3_ujxbsz</td>\n",
       "      <td>6</td>\n",
       "      <td>0</td>\n",
       "      <td>6</td>\n",
       "      <td>2</td>\n",
       "      <td>2022-05-06T14:05:34Z</td>\n",
       "      <td>False</td>\n",
       "    </tr>\n",
       "    <tr>\n",
       "      <th>2</th>\n",
       "      <td>Dogtraining</td>\n",
       "      <td>ur8mh2</td>\n",
       "      <td>Zeke getting so much better off leash. 1 yr ol...</td>\n",
       "      <td></td>\n",
       "      <td>Interr0gate</td>\n",
       "      <td>t3_ur8mh2</td>\n",
       "      <td>501</td>\n",
       "      <td>0</td>\n",
       "      <td>501</td>\n",
       "      <td>24</td>\n",
       "      <td>2022-05-16T16:06:13Z</td>\n",
       "      <td>False</td>\n",
       "    </tr>\n",
       "    <tr>\n",
       "      <th>3</th>\n",
       "      <td>Dogtraining</td>\n",
       "      <td>urcw3p</td>\n",
       "      <td>Need help with crate training. Also is this cr...</td>\n",
       "      <td></td>\n",
       "      <td>urrkah</td>\n",
       "      <td>t3_urcw3p</td>\n",
       "      <td>64</td>\n",
       "      <td>0</td>\n",
       "      <td>64</td>\n",
       "      <td>28</td>\n",
       "      <td>2022-05-16T19:58:18Z</td>\n",
       "      <td>False</td>\n",
       "    </tr>\n",
       "    <tr>\n",
       "      <th>4</th>\n",
       "      <td>Dogtraining</td>\n",
       "      <td>urma9k</td>\n",
       "      <td>People keep approaching my puppy</td>\n",
       "      <td>So, background, we recently adopted a 4 month ...</td>\n",
       "      <td>Marv_Harry_TWB15</td>\n",
       "      <td>t3_urma9k</td>\n",
       "      <td>3</td>\n",
       "      <td>0</td>\n",
       "      <td>3</td>\n",
       "      <td>7</td>\n",
       "      <td>2022-05-17T06:19:00Z</td>\n",
       "      <td>False</td>\n",
       "    </tr>\n",
       "  </tbody>\n",
       "</table>\n",
       "</div>"
      ],
      "text/plain": [
       "     subreddit      id                                              title  \\\n",
       "0  Dogtraining  uijir1    Trick of the Month - May 2022 - Crawl Backwards   \n",
       "1  Dogtraining  ujxbsz  Announcement - Puppy Enrichment AMA With Allie...   \n",
       "2  Dogtraining  ur8mh2  Zeke getting so much better off leash. 1 yr ol...   \n",
       "3  Dogtraining  urcw3p  Need help with crate training. Also is this cr...   \n",
       "4  Dogtraining  urma9k                   People keep approaching my puppy   \n",
       "\n",
       "                                            selftext            author  \\\n",
       "0  Welcome to the Trick of the Month!\\n\\nThis mon...              moo6   \n",
       "1                                                         Cursethewind   \n",
       "2                                                          Interr0gate   \n",
       "3                                                               urrkah   \n",
       "4  So, background, we recently adopted a 4 month ...  Marv_Harry_TWB15   \n",
       "\n",
       "        name  ups  downs  score  num_comments           created_utc  over_18  \n",
       "0  t3_uijir1    9      0      9             4  2022-05-04T16:25:25Z    False  \n",
       "1  t3_ujxbsz    6      0      6             2  2022-05-06T14:05:34Z    False  \n",
       "2  t3_ur8mh2  501      0    501            24  2022-05-16T16:06:13Z    False  \n",
       "3  t3_urcw3p   64      0     64            28  2022-05-16T19:58:18Z    False  \n",
       "4  t3_urma9k    3      0      3             7  2022-05-17T06:19:00Z    False  "
      ]
     },
     "execution_count": 41,
     "metadata": {},
     "output_type": "execute_result"
    }
   ],
   "source": [
    "df_dogtraining.head()"
   ]
  },
  {
   "cell_type": "code",
   "execution_count": 42,
   "metadata": {},
   "outputs": [],
   "source": [
    "df_dogtraining.to_csv('../data/dogtraining' + '.csv', header=True, index=False)"
   ]
  },
  {
   "cell_type": "code",
   "execution_count": 46,
   "metadata": {},
   "outputs": [],
   "source": [
    "df_cattraining = pd.DataFrame()\n",
    "params = {'limit': 200}\n",
    "url = f\"https://oauth.reddit.com/r/cattraining/new\"\n",
    "\n",
    "# loop through to get multiple requests\n",
    "for i in range(200):\n",
    "    # make request\n",
    "    res = requests.get(url,\n",
    "                       headers=headers,\n",
    "                       params=params)\n",
    "\n",
    "    # get dataframe from response\n",
    "    new_df = pd.DataFrame(res_to_df(get_posts('cattraining')))\n",
    "    # take the final row (which is the oldest entry)\n",
    "    row = new_df.iloc[len(new_df)-1]\n",
    "    # create fullname\n",
    "    fullname = '_' + row['id']\n",
    "    # add fullname in params\n",
    "    params['after'] = fullname\n",
    "    \n",
    "    # add new_df to data\n",
    "    df_cattraining = df_cattraining.append(new_df, ignore_index=False)\n",
    "    \n",
    "    import warnings\n",
    "    warnings.simplefilter(\"ignore\")"
   ]
  },
  {
   "cell_type": "code",
   "execution_count": 47,
   "metadata": {},
   "outputs": [
    {
     "data": {
      "text/plain": [
       "(5200, 12)"
      ]
     },
     "execution_count": 47,
     "metadata": {},
     "output_type": "execute_result"
    }
   ],
   "source": [
    "df_cattraining.shape"
   ]
  },
  {
   "cell_type": "code",
   "execution_count": 48,
   "metadata": {},
   "outputs": [
    {
     "data": {
      "text/html": [
       "<div>\n",
       "<style scoped>\n",
       "    .dataframe tbody tr th:only-of-type {\n",
       "        vertical-align: middle;\n",
       "    }\n",
       "\n",
       "    .dataframe tbody tr th {\n",
       "        vertical-align: top;\n",
       "    }\n",
       "\n",
       "    .dataframe thead th {\n",
       "        text-align: right;\n",
       "    }\n",
       "</style>\n",
       "<table border=\"1\" class=\"dataframe\">\n",
       "  <thead>\n",
       "    <tr style=\"text-align: right;\">\n",
       "      <th></th>\n",
       "      <th>subreddit</th>\n",
       "      <th>id</th>\n",
       "      <th>title</th>\n",
       "      <th>selftext</th>\n",
       "      <th>author</th>\n",
       "      <th>name</th>\n",
       "      <th>ups</th>\n",
       "      <th>downs</th>\n",
       "      <th>score</th>\n",
       "      <th>num_comments</th>\n",
       "      <th>created_utc</th>\n",
       "      <th>over_18</th>\n",
       "    </tr>\n",
       "  </thead>\n",
       "  <tbody>\n",
       "    <tr>\n",
       "      <th>0</th>\n",
       "      <td>CatTraining</td>\n",
       "      <td>glg2qe</td>\n",
       "      <td>META: Sub Updated</td>\n",
       "      <td>All,\\n\\nI've gone through and updated the Rule...</td>\n",
       "      <td>shrttle</td>\n",
       "      <td>t3_glg2qe</td>\n",
       "      <td>13</td>\n",
       "      <td>0</td>\n",
       "      <td>13</td>\n",
       "      <td>11</td>\n",
       "      <td>2020-05-17T07:14:51Z</td>\n",
       "      <td>False</td>\n",
       "    </tr>\n",
       "    <tr>\n",
       "      <th>1</th>\n",
       "      <td>CatTraining</td>\n",
       "      <td>ur6a1i</td>\n",
       "      <td>Cat Not Covering Waste</td>\n",
       "      <td></td>\n",
       "      <td>jZeus__</td>\n",
       "      <td>t3_ur6a1i</td>\n",
       "      <td>34</td>\n",
       "      <td>0</td>\n",
       "      <td>34</td>\n",
       "      <td>12</td>\n",
       "      <td>2022-05-16T14:15:24Z</td>\n",
       "      <td>False</td>\n",
       "    </tr>\n",
       "    <tr>\n",
       "      <th>2</th>\n",
       "      <td>CatTraining</td>\n",
       "      <td>uqrytj</td>\n",
       "      <td>How can I train a stray cat to not try to rush...</td>\n",
       "      <td>Hey guys. So a little background; there are a ...</td>\n",
       "      <td>U_hav_2_call_me_drgn</td>\n",
       "      <td>t3_uqrytj</td>\n",
       "      <td>29</td>\n",
       "      <td>0</td>\n",
       "      <td>29</td>\n",
       "      <td>26</td>\n",
       "      <td>2022-05-16T02:33:27Z</td>\n",
       "      <td>False</td>\n",
       "    </tr>\n",
       "    <tr>\n",
       "      <th>3</th>\n",
       "      <td>CatTraining</td>\n",
       "      <td>uqxmkm</td>\n",
       "      <td>Cat wants to go outside and never shuts up meo...</td>\n",
       "      <td>Hey so we don’t let my cat outside and all he ...</td>\n",
       "      <td>thugmanthug</td>\n",
       "      <td>t3_uqxmkm</td>\n",
       "      <td>3</td>\n",
       "      <td>0</td>\n",
       "      <td>3</td>\n",
       "      <td>7</td>\n",
       "      <td>2022-05-16T07:46:38Z</td>\n",
       "      <td>False</td>\n",
       "    </tr>\n",
       "    <tr>\n",
       "      <th>4</th>\n",
       "      <td>CatTraining</td>\n",
       "      <td>uqum76</td>\n",
       "      <td>What age should I start clicker training my ki...</td>\n",
       "      <td></td>\n",
       "      <td>Longjumping-Mine-145</td>\n",
       "      <td>t3_uqum76</td>\n",
       "      <td>5</td>\n",
       "      <td>0</td>\n",
       "      <td>5</td>\n",
       "      <td>3</td>\n",
       "      <td>2022-05-16T05:18:16Z</td>\n",
       "      <td>False</td>\n",
       "    </tr>\n",
       "  </tbody>\n",
       "</table>\n",
       "</div>"
      ],
      "text/plain": [
       "     subreddit      id                                              title  \\\n",
       "0  CatTraining  glg2qe                                  META: Sub Updated   \n",
       "1  CatTraining  ur6a1i                             Cat Not Covering Waste   \n",
       "2  CatTraining  uqrytj  How can I train a stray cat to not try to rush...   \n",
       "3  CatTraining  uqxmkm  Cat wants to go outside and never shuts up meo...   \n",
       "4  CatTraining  uqum76  What age should I start clicker training my ki...   \n",
       "\n",
       "                                            selftext                author  \\\n",
       "0  All,\\n\\nI've gone through and updated the Rule...               shrttle   \n",
       "1                                                                  jZeus__   \n",
       "2  Hey guys. So a little background; there are a ...  U_hav_2_call_me_drgn   \n",
       "3  Hey so we don’t let my cat outside and all he ...           thugmanthug   \n",
       "4                                                     Longjumping-Mine-145   \n",
       "\n",
       "        name  ups  downs  score  num_comments           created_utc  over_18  \n",
       "0  t3_glg2qe   13      0     13            11  2020-05-17T07:14:51Z    False  \n",
       "1  t3_ur6a1i   34      0     34            12  2022-05-16T14:15:24Z    False  \n",
       "2  t3_uqrytj   29      0     29            26  2022-05-16T02:33:27Z    False  \n",
       "3  t3_uqxmkm    3      0      3             7  2022-05-16T07:46:38Z    False  \n",
       "4  t3_uqum76    5      0      5             3  2022-05-16T05:18:16Z    False  "
      ]
     },
     "execution_count": 48,
     "metadata": {},
     "output_type": "execute_result"
    }
   ],
   "source": [
    "df_cattraining.head()"
   ]
  },
  {
   "cell_type": "code",
   "execution_count": 49,
   "metadata": {},
   "outputs": [],
   "source": [
    "df_cattraining.to_csv('../data/cattraining' + '.csv', header=True, index=False)"
   ]
  },
  {
   "cell_type": "markdown",
   "metadata": {},
   "source": [
    "## Sources:\n",
    "\n",
    "Initial authorization and PRAW tutorial: https://youtu.be/NRgfgtzIhBQ \n",
    "\n",
    "PRAW, Requests, and authorization code assistance to build functions:\n",
    "https://towardsdatascience.com/how-to-use-the-reddit-api-in-python-5e05ddfd1e5c\n",
    "\n",
    "Python Requests Library Guide: https://realpython.com/python-requests/ "
   ]
  }
 ],
 "metadata": {
  "interpreter": {
   "hash": "ec913dcbef39c008784dc6fe095f00003c17434557640291833f1bcf12636147"
  },
  "kernelspec": {
   "display_name": "Python 3.8.12 ('dsi-222')",
   "language": "python",
   "name": "python3"
  },
  "language_info": {
   "codemirror_mode": {
    "name": "ipython",
    "version": 3
   },
   "file_extension": ".py",
   "mimetype": "text/x-python",
   "name": "python",
   "nbconvert_exporter": "python",
   "pygments_lexer": "ipython3",
   "version": "3.8.12"
  },
  "orig_nbformat": 4
 },
 "nbformat": 4,
 "nbformat_minor": 2
}
