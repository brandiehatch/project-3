{
 "cells": [
  {
   "cell_type": "markdown",
   "metadata": {},
   "source": [
    "# Project 3: Web APIs and NLP <br>\n",
    "\n",
    "#### Brandie Hatch\n",
    "\n",
    "### Modeling"
   ]
  },
  {
   "cell_type": "markdown",
   "metadata": {},
   "source": [
    "## Imports, Data Reading, and Model Prep"
   ]
  },
  {
   "cell_type": "code",
   "execution_count": 48,
   "metadata": {},
   "outputs": [],
   "source": [
    "# python library imports\n",
    "import pandas as pd\n",
    "import numpy as np\n",
    "import matplotlib.pyplot as plt\n",
    "import seaborn as sns\n",
    "import scipy.stats as stats\n",
    "import statsmodels.api as sm\n",
    "\n",
    "from sklearn.ensemble import RandomForestClassifier, ExtraTreesClassifier\n",
    "from sklearn.tree import DecisionTreeRegressor, plot_tree, DecisionTreeClassifier\n",
    "from sklearn.dummy import DummyRegressor, DummyClassifier\n",
    "from sklearn.model_selection import cross_val_score, train_test_split, GridSearchCV\n",
    "\n",
    "from sklearn.linear_model import LinearRegression, LogisticRegression, LassoCV, RidgeCV, Ridge, Lasso, ElasticNet, ElasticNetCV\n",
    "from sklearn.metrics import mean_squared_error, r2_score, mean_absolute_error, confusion_matrix, plot_confusion_matrix, ConfusionMatrixDisplay, roc_auc_score, accuracy_score, balanced_accuracy_score, precision_score, recall_score, f1_score\n",
    "from sklearn.neighbors import KNeighborsRegressor\n",
    "from sklearn.model_selection import train_test_split, cross_val_score, cross_val_predict, GridSearchCV, learning_curve, RandomizedSearchCV\n",
    "from sklearn.preprocessing import StandardScaler, PolynomialFeatures, OneHotEncoder\n",
    "from sklearn.pipeline import Pipeline, make_pipeline\n",
    "from sklearn.compose import make_column_transformer, ColumnTransformer, TransformedTargetRegressor\n",
    "from sklearn.svm import LinearSVC, SVC \n",
    "from sklearn.feature_extraction.text import CountVectorizer\n",
    "\n",
    "\n",
    "%matplotlib inline\n",
    "pd.options.display.max_columns =999\n",
    "\n",
    "import requests\n",
    "import time\n",
    "import re\n",
    "import nltk"
   ]
  },
  {
   "cell_type": "code",
   "execution_count": 49,
   "metadata": {},
   "outputs": [
    {
     "name": "stdout",
     "output_type": "stream",
     "text": [
      "(9436, 11)\n"
     ]
    },
    {
     "data": {
      "text/html": [
       "<div>\n",
       "<style scoped>\n",
       "    .dataframe tbody tr th:only-of-type {\n",
       "        vertical-align: middle;\n",
       "    }\n",
       "\n",
       "    .dataframe tbody tr th {\n",
       "        vertical-align: top;\n",
       "    }\n",
       "\n",
       "    .dataframe thead th {\n",
       "        text-align: right;\n",
       "    }\n",
       "</style>\n",
       "<table border=\"1\" class=\"dataframe\">\n",
       "  <thead>\n",
       "    <tr style=\"text-align: right;\">\n",
       "      <th></th>\n",
       "      <th>num_comments</th>\n",
       "      <th>score</th>\n",
       "      <th>selftext</th>\n",
       "      <th>subreddit</th>\n",
       "      <th>title</th>\n",
       "      <th>text</th>\n",
       "      <th>title_length</th>\n",
       "      <th>title_word_count</th>\n",
       "      <th>selftext_length</th>\n",
       "      <th>selftext_word_count</th>\n",
       "      <th>subreddit_num</th>\n",
       "    </tr>\n",
       "  </thead>\n",
       "  <tbody>\n",
       "    <tr>\n",
       "      <th>0</th>\n",
       "      <td>2</td>\n",
       "      <td>1</td>\n",
       "      <td>The wife and I adopted a 1 to 3 year old beagl...</td>\n",
       "      <td>Dogtraining</td>\n",
       "      <td>Rescue dog will not come inside from fenced in...</td>\n",
       "      <td>Rescue dog will not come inside from fenced in...</td>\n",
       "      <td>51</td>\n",
       "      <td>10</td>\n",
       "      <td>986</td>\n",
       "      <td>203</td>\n",
       "      <td>1</td>\n",
       "    </tr>\n",
       "    <tr>\n",
       "      <th>1</th>\n",
       "      <td>1</td>\n",
       "      <td>1</td>\n",
       "      <td>I have an 8 month old Rottweiler puppy who is ...</td>\n",
       "      <td>Dogtraining</td>\n",
       "      <td>“Drop it” fails</td>\n",
       "      <td>“Drop it ” fails I have an 8 month old Rottwei...</td>\n",
       "      <td>15</td>\n",
       "      <td>3</td>\n",
       "      <td>1056</td>\n",
       "      <td>207</td>\n",
       "      <td>1</td>\n",
       "    </tr>\n",
       "    <tr>\n",
       "      <th>2</th>\n",
       "      <td>1</td>\n",
       "      <td>1</td>\n",
       "      <td>Long story short we used to have two dogs. A d...</td>\n",
       "      <td>Dogtraining</td>\n",
       "      <td>My dog will ONLY submissive pee.</td>\n",
       "      <td>My dog will ONLY submissive pee . Long story s...</td>\n",
       "      <td>32</td>\n",
       "      <td>6</td>\n",
       "      <td>732</td>\n",
       "      <td>147</td>\n",
       "      <td>1</td>\n",
       "    </tr>\n",
       "    <tr>\n",
       "      <th>3</th>\n",
       "      <td>1</td>\n",
       "      <td>1</td>\n",
       "      <td>I’ve recently adopted a golden retriever! He’s...</td>\n",
       "      <td>Dogtraining</td>\n",
       "      <td>Separation anxiety in dog used to living in a ...</td>\n",
       "      <td>Separation anxiety in dog used to living in a ...</td>\n",
       "      <td>51</td>\n",
       "      <td>10</td>\n",
       "      <td>573</td>\n",
       "      <td>112</td>\n",
       "      <td>1</td>\n",
       "    </tr>\n",
       "    <tr>\n",
       "      <th>4</th>\n",
       "      <td>1</td>\n",
       "      <td>1</td>\n",
       "      <td>**TLDR:** Do you leave your dog unsupervised ...</td>\n",
       "      <td>Dogtraining</td>\n",
       "      <td>So, is my backyard making my dog more reactive?</td>\n",
       "      <td>So , is my backyard making my dog more reactiv...</td>\n",
       "      <td>47</td>\n",
       "      <td>9</td>\n",
       "      <td>1866</td>\n",
       "      <td>330</td>\n",
       "      <td>1</td>\n",
       "    </tr>\n",
       "  </tbody>\n",
       "</table>\n",
       "</div>"
      ],
      "text/plain": [
       "   num_comments  score                                           selftext  \\\n",
       "0             2      1  The wife and I adopted a 1 to 3 year old beagl...   \n",
       "1             1      1  I have an 8 month old Rottweiler puppy who is ...   \n",
       "2             1      1  Long story short we used to have two dogs. A d...   \n",
       "3             1      1  I’ve recently adopted a golden retriever! He’s...   \n",
       "4             1      1   **TLDR:** Do you leave your dog unsupervised ...   \n",
       "\n",
       "     subreddit                                              title  \\\n",
       "0  Dogtraining  Rescue dog will not come inside from fenced in...   \n",
       "1  Dogtraining                                    “Drop it” fails   \n",
       "2  Dogtraining                   My dog will ONLY submissive pee.   \n",
       "3  Dogtraining  Separation anxiety in dog used to living in a ...   \n",
       "4  Dogtraining    So, is my backyard making my dog more reactive?   \n",
       "\n",
       "                                                text  title_length  \\\n",
       "0  Rescue dog will not come inside from fenced in...            51   \n",
       "1  “Drop it ” fails I have an 8 month old Rottwei...            15   \n",
       "2  My dog will ONLY submissive pee . Long story s...            32   \n",
       "3  Separation anxiety in dog used to living in a ...            51   \n",
       "4  So , is my backyard making my dog more reactiv...            47   \n",
       "\n",
       "   title_word_count  selftext_length  selftext_word_count  subreddit_num  \n",
       "0                10              986                  203              1  \n",
       "1                 3             1056                  207              1  \n",
       "2                 6              732                  147              1  \n",
       "3                10              573                  112              1  \n",
       "4                 9             1866                  330              1  "
      ]
     },
     "execution_count": 49,
     "metadata": {},
     "output_type": "execute_result"
    }
   ],
   "source": [
    "# Read in Data\n",
    "\n",
    "df = pd.read_csv('../data/prepped.csv', index_col=False)\n",
    "print(df.shape)\n",
    "df.head()"
   ]
  },
  {
   "cell_type": "code",
   "execution_count": 50,
   "metadata": {},
   "outputs": [
    {
     "data": {
      "text/plain": [
       "Dogtraining     0.500424\n",
       "service_dogs    0.499576\n",
       "Name: subreddit, dtype: float64"
      ]
     },
     "execution_count": 50,
     "metadata": {},
     "output_type": "execute_result"
    }
   ],
   "source": [
    "# imported data split between two subreddits\n",
    "df['subreddit'].value_counts(normalize=True)"
   ]
  },
  {
   "cell_type": "code",
   "execution_count": 51,
   "metadata": {},
   "outputs": [],
   "source": [
    "# Create X and y using StandardScaler to scale values\n",
    "\n",
    "X = df.drop(columns=['subreddit', 'subreddit_num', 'title', 'selftext'])\n",
    "y = df['subreddit_num']"
   ]
  },
  {
   "cell_type": "code",
   "execution_count": 52,
   "metadata": {},
   "outputs": [],
   "source": [
    "# Train/Test Split\n",
    "X_train, X_test, y_train, y_test = train_test_split(\n",
    "    X,\n",
    "    y,\n",
    "    test_size=0.3,\n",
    "    random_state=42,\n",
    "    stratify=y\n",
    ")"
   ]
  },
  {
   "cell_type": "code",
   "execution_count": 53,
   "metadata": {},
   "outputs": [
    {
     "data": {
      "text/plain": [
       "1    0.500424\n",
       "0    0.499576\n",
       "Name: subreddit_num, dtype: float64"
      ]
     },
     "execution_count": 53,
     "metadata": {},
     "output_type": "execute_result"
    }
   ],
   "source": [
    "# calculate the baseline accuracy (% of the majority class, dogtraining)\n",
    "# benchmark to beat is .502732\n",
    "y.value_counts(normalize=True)"
   ]
  },
  {
   "cell_type": "markdown",
   "metadata": {},
   "source": [
    "## Modeling"
   ]
  },
  {
   "cell_type": "markdown",
   "metadata": {},
   "source": [
    "### Random Forest Classifier"
   ]
  },
  {
   "cell_type": "code",
   "execution_count": 54,
   "metadata": {},
   "outputs": [],
   "source": [
    "# column transformer, countvectorizer needs to only go to the text columns\n",
    "col_trans = ColumnTransformer([\n",
    "    ('cvex', CountVectorizer(lowercase=True, stop_words={'english'}), 'text'),\n",
    "    ('ss', StandardScaler(), ['score', 'num_comments', 'title_length', 'title_word_count', 'selftext_length', 'selftext_word_count'])],\n",
    "    remainder='passthrough',\n",
    "    sparse_threshold=0\n",
    ")"
   ]
  },
  {
   "cell_type": "code",
   "execution_count": 55,
   "metadata": {},
   "outputs": [
    {
     "data": {
      "text/plain": [
       "ColumnTransformer(remainder='passthrough', sparse_threshold=0,\n",
       "                  transformers=[('cvex',\n",
       "                                 CountVectorizer(stop_words={'english'}),\n",
       "                                 'text'),\n",
       "                                ('ss', StandardScaler(),\n",
       "                                 ['score', 'num_comments', 'title_length',\n",
       "                                  'title_word_count', 'selftext_length',\n",
       "                                  'selftext_word_count'])])"
      ]
     },
     "execution_count": 55,
     "metadata": {},
     "output_type": "execute_result"
    }
   ],
   "source": [
    "col_trans.fit(X_train)"
   ]
  },
  {
   "cell_type": "code",
   "execution_count": 56,
   "metadata": {},
   "outputs": [
    {
     "data": {
      "text/plain": [
       "array([[ 0.        ,  0.        ,  0.        , ...,  0.00784865,\n",
       "         4.03839705,  4.09657099],\n",
       "       [ 0.        ,  0.        ,  0.        , ..., -1.03943033,\n",
       "        -0.64380322, -0.69326259],\n",
       "       [ 0.        ,  0.        ,  0.        , ..., -1.21397682,\n",
       "        -0.42467672, -0.47383304],\n",
       "       ...,\n",
       "       [ 0.        ,  0.        ,  0.        , ...,  0.18239514,\n",
       "         0.15334345,  0.12803087],\n",
       "       [ 0.        ,  0.        ,  0.        , ..., -0.51579084,\n",
       "        -0.24345318, -0.22932583],\n",
       "       [ 0.        ,  0.        ,  0.        , ..., -0.51579084,\n",
       "         1.15421854,  1.16875387]])"
      ]
     },
     "execution_count": 56,
     "metadata": {},
     "output_type": "execute_result"
    }
   ],
   "source": [
    "col_trans.transform(X_train)"
   ]
  },
  {
   "cell_type": "code",
   "execution_count": 57,
   "metadata": {},
   "outputs": [],
   "source": [
    "# pipeline StandardScaler + instantiate RandomForestClassifier\n",
    "pipe = Pipeline([\n",
    "    ('col_trans', col_trans),\n",
    "    ('rf', RandomForestClassifier())\n",
    "])"
   ]
  },
  {
   "cell_type": "code",
   "execution_count": 58,
   "metadata": {},
   "outputs": [
    {
     "name": "stdout",
     "output_type": "stream",
     "text": [
      "0.952763058289175\n"
     ]
    },
    {
     "data": {
      "text/plain": [
       "{'rf__max_depth': None, 'rf__n_estimators': 200}"
      ]
     },
     "execution_count": 58,
     "metadata": {},
     "output_type": "execute_result"
    }
   ],
   "source": [
    "params = {\n",
    "    'rf__n_estimators': [1, 100, 200],\n",
    "    'rf__max_depth': [None, 1, 2, 3, 4, 5]\n",
    "}\n",
    "gs = GridSearchCV(pipe, param_grid=params, cv=5)\n",
    "gs.fit(X_train, y_train)\n",
    "print(gs.best_score_)\n",
    "gs.best_params_"
   ]
  },
  {
   "cell_type": "code",
   "execution_count": 59,
   "metadata": {},
   "outputs": [
    {
     "name": "stdout",
     "output_type": "stream",
     "text": [
      "0.5003785011355034 0.5005298481102084\n"
     ]
    }
   ],
   "source": [
    "print(y_train.mean(), y_test.mean())"
   ]
  },
  {
   "cell_type": "code",
   "execution_count": 60,
   "metadata": {},
   "outputs": [
    {
     "data": {
      "text/html": [
       "<div>\n",
       "<style scoped>\n",
       "    .dataframe tbody tr th:only-of-type {\n",
       "        vertical-align: middle;\n",
       "    }\n",
       "\n",
       "    .dataframe tbody tr th {\n",
       "        vertical-align: top;\n",
       "    }\n",
       "\n",
       "    .dataframe thead th {\n",
       "        text-align: right;\n",
       "    }\n",
       "</style>\n",
       "<table border=\"1\" class=\"dataframe\">\n",
       "  <thead>\n",
       "    <tr style=\"text-align: right;\">\n",
       "      <th></th>\n",
       "      <th>mean_fit_time</th>\n",
       "      <th>std_fit_time</th>\n",
       "      <th>mean_score_time</th>\n",
       "      <th>std_score_time</th>\n",
       "      <th>param_rf__max_depth</th>\n",
       "      <th>param_rf__n_estimators</th>\n",
       "      <th>params</th>\n",
       "      <th>split0_test_score</th>\n",
       "      <th>split1_test_score</th>\n",
       "      <th>split2_test_score</th>\n",
       "      <th>split3_test_score</th>\n",
       "      <th>split4_test_score</th>\n",
       "      <th>mean_test_score</th>\n",
       "      <th>std_test_score</th>\n",
       "      <th>rank_test_score</th>\n",
       "    </tr>\n",
       "  </thead>\n",
       "  <tbody>\n",
       "    <tr>\n",
       "      <th>2</th>\n",
       "      <td>44.720746</td>\n",
       "      <td>0.760179</td>\n",
       "      <td>0.516693</td>\n",
       "      <td>0.038771</td>\n",
       "      <td>None</td>\n",
       "      <td>200</td>\n",
       "      <td>{'rf__max_depth': None, 'rf__n_estimators': 200}</td>\n",
       "      <td>0.962907</td>\n",
       "      <td>0.951552</td>\n",
       "      <td>0.944739</td>\n",
       "      <td>0.958365</td>\n",
       "      <td>0.946253</td>\n",
       "      <td>0.952763</td>\n",
       "      <td>0.006964</td>\n",
       "      <td>1</td>\n",
       "    </tr>\n",
       "    <tr>\n",
       "      <th>1</th>\n",
       "      <td>23.171087</td>\n",
       "      <td>0.186736</td>\n",
       "      <td>0.419532</td>\n",
       "      <td>0.007114</td>\n",
       "      <td>None</td>\n",
       "      <td>100</td>\n",
       "      <td>{'rf__max_depth': None, 'rf__n_estimators': 100}</td>\n",
       "      <td>0.962150</td>\n",
       "      <td>0.948524</td>\n",
       "      <td>0.945496</td>\n",
       "      <td>0.960636</td>\n",
       "      <td>0.941711</td>\n",
       "      <td>0.951703</td>\n",
       "      <td>0.008215</td>\n",
       "      <td>2</td>\n",
       "    </tr>\n",
       "    <tr>\n",
       "      <th>17</th>\n",
       "      <td>13.375733</td>\n",
       "      <td>0.122760</td>\n",
       "      <td>0.387531</td>\n",
       "      <td>0.008171</td>\n",
       "      <td>5</td>\n",
       "      <td>200</td>\n",
       "      <td>{'rf__max_depth': 5, 'rf__n_estimators': 200}</td>\n",
       "      <td>0.906889</td>\n",
       "      <td>0.906132</td>\n",
       "      <td>0.897048</td>\n",
       "      <td>0.919758</td>\n",
       "      <td>0.876609</td>\n",
       "      <td>0.901287</td>\n",
       "      <td>0.014304</td>\n",
       "      <td>3</td>\n",
       "    </tr>\n",
       "    <tr>\n",
       "      <th>16</th>\n",
       "      <td>8.130831</td>\n",
       "      <td>0.466495</td>\n",
       "      <td>0.436134</td>\n",
       "      <td>0.047179</td>\n",
       "      <td>5</td>\n",
       "      <td>100</td>\n",
       "      <td>{'rf__max_depth': 5, 'rf__n_estimators': 100}</td>\n",
       "      <td>0.890235</td>\n",
       "      <td>0.887207</td>\n",
       "      <td>0.887207</td>\n",
       "      <td>0.922786</td>\n",
       "      <td>0.908403</td>\n",
       "      <td>0.899167</td>\n",
       "      <td>0.014206</td>\n",
       "      <td>4</td>\n",
       "    </tr>\n",
       "    <tr>\n",
       "      <th>14</th>\n",
       "      <td>11.715391</td>\n",
       "      <td>0.115836</td>\n",
       "      <td>0.435764</td>\n",
       "      <td>0.030490</td>\n",
       "      <td>4</td>\n",
       "      <td>200</td>\n",
       "      <td>{'rf__max_depth': 4, 'rf__n_estimators': 200}</td>\n",
       "      <td>0.912188</td>\n",
       "      <td>0.880394</td>\n",
       "      <td>0.897805</td>\n",
       "      <td>0.897048</td>\n",
       "      <td>0.902347</td>\n",
       "      <td>0.897956</td>\n",
       "      <td>0.010306</td>\n",
       "      <td>5</td>\n",
       "    </tr>\n",
       "    <tr>\n",
       "      <th>13</th>\n",
       "      <td>6.711440</td>\n",
       "      <td>0.280110</td>\n",
       "      <td>0.475193</td>\n",
       "      <td>0.094500</td>\n",
       "      <td>4</td>\n",
       "      <td>100</td>\n",
       "      <td>{'rf__max_depth': 4, 'rf__n_estimators': 100}</td>\n",
       "      <td>0.912945</td>\n",
       "      <td>0.909917</td>\n",
       "      <td>0.875852</td>\n",
       "      <td>0.889478</td>\n",
       "      <td>0.875852</td>\n",
       "      <td>0.892808</td>\n",
       "      <td>0.016027</td>\n",
       "      <td>6</td>\n",
       "    </tr>\n",
       "    <tr>\n",
       "      <th>5</th>\n",
       "      <td>4.290004</td>\n",
       "      <td>0.083759</td>\n",
       "      <td>0.458434</td>\n",
       "      <td>0.067318</td>\n",
       "      <td>1</td>\n",
       "      <td>200</td>\n",
       "      <td>{'rf__max_depth': 1, 'rf__n_estimators': 200}</td>\n",
       "      <td>0.934141</td>\n",
       "      <td>0.881151</td>\n",
       "      <td>0.900833</td>\n",
       "      <td>0.853899</td>\n",
       "      <td>0.869796</td>\n",
       "      <td>0.887964</td>\n",
       "      <td>0.027694</td>\n",
       "      <td>7</td>\n",
       "    </tr>\n",
       "    <tr>\n",
       "      <th>7</th>\n",
       "      <td>4.100731</td>\n",
       "      <td>0.073703</td>\n",
       "      <td>0.379422</td>\n",
       "      <td>0.018517</td>\n",
       "      <td>2</td>\n",
       "      <td>100</td>\n",
       "      <td>{'rf__max_depth': 2, 'rf__n_estimators': 100}</td>\n",
       "      <td>0.891749</td>\n",
       "      <td>0.858441</td>\n",
       "      <td>0.877366</td>\n",
       "      <td>0.934141</td>\n",
       "      <td>0.873581</td>\n",
       "      <td>0.887055</td>\n",
       "      <td>0.025820</td>\n",
       "      <td>8</td>\n",
       "    </tr>\n",
       "    <tr>\n",
       "      <th>8</th>\n",
       "      <td>6.752865</td>\n",
       "      <td>0.124248</td>\n",
       "      <td>0.405672</td>\n",
       "      <td>0.017005</td>\n",
       "      <td>2</td>\n",
       "      <td>200</td>\n",
       "      <td>{'rf__max_depth': 2, 'rf__n_estimators': 200}</td>\n",
       "      <td>0.885693</td>\n",
       "      <td>0.884936</td>\n",
       "      <td>0.878880</td>\n",
       "      <td>0.891749</td>\n",
       "      <td>0.890235</td>\n",
       "      <td>0.886298</td>\n",
       "      <td>0.004527</td>\n",
       "      <td>9</td>\n",
       "    </tr>\n",
       "    <tr>\n",
       "      <th>11</th>\n",
       "      <td>9.140648</td>\n",
       "      <td>0.204579</td>\n",
       "      <td>0.429907</td>\n",
       "      <td>0.054683</td>\n",
       "      <td>3</td>\n",
       "      <td>200</td>\n",
       "      <td>{'rf__max_depth': 3, 'rf__n_estimators': 200}</td>\n",
       "      <td>0.900076</td>\n",
       "      <td>0.875852</td>\n",
       "      <td>0.868282</td>\n",
       "      <td>0.890235</td>\n",
       "      <td>0.884936</td>\n",
       "      <td>0.883876</td>\n",
       "      <td>0.011059</td>\n",
       "      <td>10</td>\n",
       "    </tr>\n",
       "    <tr>\n",
       "      <th>10</th>\n",
       "      <td>5.475362</td>\n",
       "      <td>0.191125</td>\n",
       "      <td>0.396455</td>\n",
       "      <td>0.032400</td>\n",
       "      <td>3</td>\n",
       "      <td>100</td>\n",
       "      <td>{'rf__max_depth': 3, 'rf__n_estimators': 100}</td>\n",
       "      <td>0.918244</td>\n",
       "      <td>0.875852</td>\n",
       "      <td>0.887207</td>\n",
       "      <td>0.877366</td>\n",
       "      <td>0.859955</td>\n",
       "      <td>0.883724</td>\n",
       "      <td>0.019345</td>\n",
       "      <td>11</td>\n",
       "    </tr>\n",
       "    <tr>\n",
       "      <th>4</th>\n",
       "      <td>2.872823</td>\n",
       "      <td>0.062317</td>\n",
       "      <td>0.379106</td>\n",
       "      <td>0.017832</td>\n",
       "      <td>1</td>\n",
       "      <td>100</td>\n",
       "      <td>{'rf__max_depth': 1, 'rf__n_estimators': 100}</td>\n",
       "      <td>0.825132</td>\n",
       "      <td>0.822861</td>\n",
       "      <td>0.901590</td>\n",
       "      <td>0.877366</td>\n",
       "      <td>0.871310</td>\n",
       "      <td>0.859652</td>\n",
       "      <td>0.030834</td>\n",
       "      <td>12</td>\n",
       "    </tr>\n",
       "    <tr>\n",
       "      <th>0</th>\n",
       "      <td>1.668512</td>\n",
       "      <td>0.072332</td>\n",
       "      <td>0.349722</td>\n",
       "      <td>0.019234</td>\n",
       "      <td>None</td>\n",
       "      <td>1</td>\n",
       "      <td>{'rf__max_depth': None, 'rf__n_estimators': 1}</td>\n",
       "      <td>0.738077</td>\n",
       "      <td>0.772142</td>\n",
       "      <td>0.785768</td>\n",
       "      <td>0.822861</td>\n",
       "      <td>0.733535</td>\n",
       "      <td>0.770477</td>\n",
       "      <td>0.032849</td>\n",
       "      <td>13</td>\n",
       "    </tr>\n",
       "    <tr>\n",
       "      <th>12</th>\n",
       "      <td>1.862015</td>\n",
       "      <td>0.280902</td>\n",
       "      <td>0.490215</td>\n",
       "      <td>0.143720</td>\n",
       "      <td>4</td>\n",
       "      <td>1</td>\n",
       "      <td>{'rf__max_depth': 4, 'rf__n_estimators': 1}</td>\n",
       "      <td>0.584406</td>\n",
       "      <td>0.621499</td>\n",
       "      <td>0.633611</td>\n",
       "      <td>0.700984</td>\n",
       "      <td>0.596518</td>\n",
       "      <td>0.627403</td>\n",
       "      <td>0.040719</td>\n",
       "      <td>14</td>\n",
       "    </tr>\n",
       "    <tr>\n",
       "      <th>15</th>\n",
       "      <td>1.739483</td>\n",
       "      <td>0.171193</td>\n",
       "      <td>0.402456</td>\n",
       "      <td>0.034276</td>\n",
       "      <td>5</td>\n",
       "      <td>1</td>\n",
       "      <td>{'rf__max_depth': 5, 'rf__n_estimators': 1}</td>\n",
       "      <td>0.607873</td>\n",
       "      <td>0.654807</td>\n",
       "      <td>0.595761</td>\n",
       "      <td>0.597275</td>\n",
       "      <td>0.657078</td>\n",
       "      <td>0.622559</td>\n",
       "      <td>0.027585</td>\n",
       "      <td>15</td>\n",
       "    </tr>\n",
       "    <tr>\n",
       "      <th>9</th>\n",
       "      <td>1.722598</td>\n",
       "      <td>0.061499</td>\n",
       "      <td>0.415849</td>\n",
       "      <td>0.061241</td>\n",
       "      <td>3</td>\n",
       "      <td>1</td>\n",
       "      <td>{'rf__max_depth': 3, 'rf__n_estimators': 1}</td>\n",
       "      <td>0.590462</td>\n",
       "      <td>0.559425</td>\n",
       "      <td>0.548827</td>\n",
       "      <td>0.656321</td>\n",
       "      <td>0.595761</td>\n",
       "      <td>0.590159</td>\n",
       "      <td>0.037581</td>\n",
       "      <td>16</td>\n",
       "    </tr>\n",
       "    <tr>\n",
       "      <th>6</th>\n",
       "      <td>1.782673</td>\n",
       "      <td>0.103222</td>\n",
       "      <td>0.370227</td>\n",
       "      <td>0.028923</td>\n",
       "      <td>2</td>\n",
       "      <td>1</td>\n",
       "      <td>{'rf__max_depth': 2, 'rf__n_estimators': 1}</td>\n",
       "      <td>0.569266</td>\n",
       "      <td>0.588191</td>\n",
       "      <td>0.554126</td>\n",
       "      <td>0.546556</td>\n",
       "      <td>0.533687</td>\n",
       "      <td>0.558365</td>\n",
       "      <td>0.018841</td>\n",
       "      <td>17</td>\n",
       "    </tr>\n",
       "    <tr>\n",
       "      <th>3</th>\n",
       "      <td>1.517074</td>\n",
       "      <td>0.053367</td>\n",
       "      <td>0.370878</td>\n",
       "      <td>0.015395</td>\n",
       "      <td>1</td>\n",
       "      <td>1</td>\n",
       "      <td>{'rf__max_depth': 1, 'rf__n_estimators': 1}</td>\n",
       "      <td>0.538229</td>\n",
       "      <td>0.539743</td>\n",
       "      <td>0.508706</td>\n",
       "      <td>0.570780</td>\n",
       "      <td>0.503407</td>\n",
       "      <td>0.532173</td>\n",
       "      <td>0.024342</td>\n",
       "      <td>18</td>\n",
       "    </tr>\n",
       "  </tbody>\n",
       "</table>\n",
       "</div>"
      ],
      "text/plain": [
       "    mean_fit_time  std_fit_time  mean_score_time  std_score_time  \\\n",
       "2       44.720746      0.760179         0.516693        0.038771   \n",
       "1       23.171087      0.186736         0.419532        0.007114   \n",
       "17      13.375733      0.122760         0.387531        0.008171   \n",
       "16       8.130831      0.466495         0.436134        0.047179   \n",
       "14      11.715391      0.115836         0.435764        0.030490   \n",
       "13       6.711440      0.280110         0.475193        0.094500   \n",
       "5        4.290004      0.083759         0.458434        0.067318   \n",
       "7        4.100731      0.073703         0.379422        0.018517   \n",
       "8        6.752865      0.124248         0.405672        0.017005   \n",
       "11       9.140648      0.204579         0.429907        0.054683   \n",
       "10       5.475362      0.191125         0.396455        0.032400   \n",
       "4        2.872823      0.062317         0.379106        0.017832   \n",
       "0        1.668512      0.072332         0.349722        0.019234   \n",
       "12       1.862015      0.280902         0.490215        0.143720   \n",
       "15       1.739483      0.171193         0.402456        0.034276   \n",
       "9        1.722598      0.061499         0.415849        0.061241   \n",
       "6        1.782673      0.103222         0.370227        0.028923   \n",
       "3        1.517074      0.053367         0.370878        0.015395   \n",
       "\n",
       "   param_rf__max_depth param_rf__n_estimators  \\\n",
       "2                 None                    200   \n",
       "1                 None                    100   \n",
       "17                   5                    200   \n",
       "16                   5                    100   \n",
       "14                   4                    200   \n",
       "13                   4                    100   \n",
       "5                    1                    200   \n",
       "7                    2                    100   \n",
       "8                    2                    200   \n",
       "11                   3                    200   \n",
       "10                   3                    100   \n",
       "4                    1                    100   \n",
       "0                 None                      1   \n",
       "12                   4                      1   \n",
       "15                   5                      1   \n",
       "9                    3                      1   \n",
       "6                    2                      1   \n",
       "3                    1                      1   \n",
       "\n",
       "                                              params  split0_test_score  \\\n",
       "2   {'rf__max_depth': None, 'rf__n_estimators': 200}           0.962907   \n",
       "1   {'rf__max_depth': None, 'rf__n_estimators': 100}           0.962150   \n",
       "17     {'rf__max_depth': 5, 'rf__n_estimators': 200}           0.906889   \n",
       "16     {'rf__max_depth': 5, 'rf__n_estimators': 100}           0.890235   \n",
       "14     {'rf__max_depth': 4, 'rf__n_estimators': 200}           0.912188   \n",
       "13     {'rf__max_depth': 4, 'rf__n_estimators': 100}           0.912945   \n",
       "5      {'rf__max_depth': 1, 'rf__n_estimators': 200}           0.934141   \n",
       "7      {'rf__max_depth': 2, 'rf__n_estimators': 100}           0.891749   \n",
       "8      {'rf__max_depth': 2, 'rf__n_estimators': 200}           0.885693   \n",
       "11     {'rf__max_depth': 3, 'rf__n_estimators': 200}           0.900076   \n",
       "10     {'rf__max_depth': 3, 'rf__n_estimators': 100}           0.918244   \n",
       "4      {'rf__max_depth': 1, 'rf__n_estimators': 100}           0.825132   \n",
       "0     {'rf__max_depth': None, 'rf__n_estimators': 1}           0.738077   \n",
       "12       {'rf__max_depth': 4, 'rf__n_estimators': 1}           0.584406   \n",
       "15       {'rf__max_depth': 5, 'rf__n_estimators': 1}           0.607873   \n",
       "9        {'rf__max_depth': 3, 'rf__n_estimators': 1}           0.590462   \n",
       "6        {'rf__max_depth': 2, 'rf__n_estimators': 1}           0.569266   \n",
       "3        {'rf__max_depth': 1, 'rf__n_estimators': 1}           0.538229   \n",
       "\n",
       "    split1_test_score  split2_test_score  split3_test_score  \\\n",
       "2            0.951552           0.944739           0.958365   \n",
       "1            0.948524           0.945496           0.960636   \n",
       "17           0.906132           0.897048           0.919758   \n",
       "16           0.887207           0.887207           0.922786   \n",
       "14           0.880394           0.897805           0.897048   \n",
       "13           0.909917           0.875852           0.889478   \n",
       "5            0.881151           0.900833           0.853899   \n",
       "7            0.858441           0.877366           0.934141   \n",
       "8            0.884936           0.878880           0.891749   \n",
       "11           0.875852           0.868282           0.890235   \n",
       "10           0.875852           0.887207           0.877366   \n",
       "4            0.822861           0.901590           0.877366   \n",
       "0            0.772142           0.785768           0.822861   \n",
       "12           0.621499           0.633611           0.700984   \n",
       "15           0.654807           0.595761           0.597275   \n",
       "9            0.559425           0.548827           0.656321   \n",
       "6            0.588191           0.554126           0.546556   \n",
       "3            0.539743           0.508706           0.570780   \n",
       "\n",
       "    split4_test_score  mean_test_score  std_test_score  rank_test_score  \n",
       "2            0.946253         0.952763        0.006964                1  \n",
       "1            0.941711         0.951703        0.008215                2  \n",
       "17           0.876609         0.901287        0.014304                3  \n",
       "16           0.908403         0.899167        0.014206                4  \n",
       "14           0.902347         0.897956        0.010306                5  \n",
       "13           0.875852         0.892808        0.016027                6  \n",
       "5            0.869796         0.887964        0.027694                7  \n",
       "7            0.873581         0.887055        0.025820                8  \n",
       "8            0.890235         0.886298        0.004527                9  \n",
       "11           0.884936         0.883876        0.011059               10  \n",
       "10           0.859955         0.883724        0.019345               11  \n",
       "4            0.871310         0.859652        0.030834               12  \n",
       "0            0.733535         0.770477        0.032849               13  \n",
       "12           0.596518         0.627403        0.040719               14  \n",
       "15           0.657078         0.622559        0.027585               15  \n",
       "9            0.595761         0.590159        0.037581               16  \n",
       "6            0.533687         0.558365        0.018841               17  \n",
       "3            0.503407         0.532173        0.024342               18  "
      ]
     },
     "execution_count": 60,
     "metadata": {},
     "output_type": "execute_result"
    }
   ],
   "source": [
    "pd.DataFrame(gs.cv_results_).sort_values(by='mean_test_score', ascending=False)"
   ]
  },
  {
   "cell_type": "code",
   "execution_count": 61,
   "metadata": {},
   "outputs": [
    {
     "data": {
      "text/plain": [
       "1.0"
      ]
     },
     "execution_count": 61,
     "metadata": {},
     "output_type": "execute_result"
    }
   ],
   "source": [
    "gs.score(X_train, y_train)"
   ]
  },
  {
   "cell_type": "code",
   "execution_count": 62,
   "metadata": {},
   "outputs": [
    {
     "data": {
      "text/plain": [
       "0.9547862945955493"
      ]
     },
     "execution_count": 62,
     "metadata": {},
     "output_type": "execute_result"
    }
   ],
   "source": [
    "gs.score(X_test, y_test)"
   ]
  },
  {
   "cell_type": "markdown",
   "metadata": {},
   "source": [
    "### Decision Tree Classifier\n"
   ]
  },
  {
   "cell_type": "code",
   "execution_count": 63,
   "metadata": {},
   "outputs": [],
   "source": [
    "# column transformer, countvectorizer needs to only go to the text columns\n",
    "col_trans_tree = ColumnTransformer([\n",
    "    ('cvex', CountVectorizer(lowercase=True, stop_words={'english'}), 'text'),\n",
    "    ('ss', StandardScaler(), ['score', 'num_comments', 'title_length', 'title_word_count', 'selftext_length', 'selftext_word_count'])],\n",
    "    remainder='passthrough',\n",
    "    sparse_threshold=0\n",
    ")"
   ]
  },
  {
   "cell_type": "code",
   "execution_count": 64,
   "metadata": {},
   "outputs": [
    {
     "data": {
      "text/plain": [
       "ColumnTransformer(remainder='passthrough', sparse_threshold=0,\n",
       "                  transformers=[('cvex',\n",
       "                                 CountVectorizer(stop_words={'english'}),\n",
       "                                 'text'),\n",
       "                                ('ss', StandardScaler(),\n",
       "                                 ['score', 'num_comments', 'title_length',\n",
       "                                  'title_word_count', 'selftext_length',\n",
       "                                  'selftext_word_count'])])"
      ]
     },
     "execution_count": 64,
     "metadata": {},
     "output_type": "execute_result"
    }
   ],
   "source": [
    "col_trans_tree.fit(X_train)"
   ]
  },
  {
   "cell_type": "code",
   "execution_count": 65,
   "metadata": {},
   "outputs": [
    {
     "data": {
      "text/plain": [
       "array([[ 0.        ,  0.        ,  0.        , ...,  0.00784865,\n",
       "         4.03839705,  4.09657099],\n",
       "       [ 0.        ,  0.        ,  0.        , ..., -1.03943033,\n",
       "        -0.64380322, -0.69326259],\n",
       "       [ 0.        ,  0.        ,  0.        , ..., -1.21397682,\n",
       "        -0.42467672, -0.47383304],\n",
       "       ...,\n",
       "       [ 0.        ,  0.        ,  0.        , ...,  0.18239514,\n",
       "         0.15334345,  0.12803087],\n",
       "       [ 0.        ,  0.        ,  0.        , ..., -0.51579084,\n",
       "        -0.24345318, -0.22932583],\n",
       "       [ 0.        ,  0.        ,  0.        , ..., -0.51579084,\n",
       "         1.15421854,  1.16875387]])"
      ]
     },
     "execution_count": 65,
     "metadata": {},
     "output_type": "execute_result"
    }
   ],
   "source": [
    "col_trans_tree.transform(X_train)"
   ]
  },
  {
   "cell_type": "code",
   "execution_count": 66,
   "metadata": {},
   "outputs": [],
   "source": [
    "# pipeline StandardScaler + instantiate decision tree classifier\n",
    "pipe_tree = Pipeline([\n",
    "    ('col_trans_tree', col_trans_tree),\n",
    "    ('tree', DecisionTreeClassifier())\n",
    "])"
   ]
  },
  {
   "cell_type": "code",
   "execution_count": 67,
   "metadata": {},
   "outputs": [
    {
     "name": "stdout",
     "output_type": "stream",
     "text": [
      "0.953217259651779\n"
     ]
    },
    {
     "data": {
      "text/plain": [
       "{'tree__max_depth': None, 'tree__random_state': 1}"
      ]
     },
     "execution_count": 67,
     "metadata": {},
     "output_type": "execute_result"
    }
   ],
   "source": [
    "params_tree = {\n",
    "    'tree__random_state': [1, 2],\n",
    "    'tree__max_depth': [None, 1, 2, 3]\n",
    "}\n",
    "tree_gs = GridSearchCV(pipe_tree, param_grid=params_tree, cv=5)\n",
    "tree_gs.fit(X_train, y_train)\n",
    "print(tree_gs.best_score_)\n",
    "tree_gs.best_params_"
   ]
  },
  {
   "cell_type": "code",
   "execution_count": 68,
   "metadata": {},
   "outputs": [
    {
     "data": {
      "text/plain": [
       "(1.0, 0.949134581419993)"
      ]
     },
     "execution_count": 68,
     "metadata": {},
     "output_type": "execute_result"
    }
   ],
   "source": [
    "tree_gs.score(X_train, y_train), tree_gs.score(X_test, y_test)"
   ]
  },
  {
   "cell_type": "code",
   "execution_count": 69,
   "metadata": {},
   "outputs": [
    {
     "data": {
      "text/plain": [
       "1    1423\n",
       "0    1408\n",
       "dtype: int64"
      ]
     },
     "execution_count": 69,
     "metadata": {},
     "output_type": "execute_result"
    }
   ],
   "source": [
    "pd.Series(tree_gs.predict(X_test)).value_counts()"
   ]
  },
  {
   "cell_type": "code",
   "execution_count": 70,
   "metadata": {},
   "outputs": [
    {
     "data": {
      "image/png": "[encoded data removed]",
      "text/plain": [
       "<Figure size 432x288 with 2 Axes>"
      ]
     },
     "metadata": {
      "needs_background": "light"
     },
     "output_type": "display_data"
    }
   ],
   "source": [
    "ConfusionMatrixDisplay.from_estimator(\n",
    "    tree_gs, \n",
    "    X_test, \n",
    "    y_test, \n",
    "    display_labels=['Dog Training', 'Service Dogs'], \n",
    "    cmap='Blues'\n",
    ");"
   ]
  },
  {
   "cell_type": "code",
   "execution_count": 71,
   "metadata": {},
   "outputs": [
    {
     "data": {
      "text/plain": [
       "0.949134581419993"
      ]
     },
     "execution_count": 71,
     "metadata": {},
     "output_type": "execute_result"
    }
   ],
   "source": [
    "accuracy_score(y_test, tree_gs.predict(X_test))"
   ]
  },
  {
   "cell_type": "code",
   "execution_count": 72,
   "metadata": {},
   "outputs": [
    {
     "data": {
      "text/plain": [
       "0.5005298481102084"
      ]
     },
     "execution_count": 72,
     "metadata": {},
     "output_type": "execute_result"
    }
   ],
   "source": [
    "y_test.sum()/y_test.count()"
   ]
  },
  {
   "cell_type": "code",
   "execution_count": 73,
   "metadata": {},
   "outputs": [
    {
     "data": {
      "text/plain": [
       "0.9547787574402162"
      ]
     },
     "execution_count": 73,
     "metadata": {},
     "output_type": "execute_result"
    }
   ],
   "source": [
    "roc_auc_score(y_test, gs.predict(X_test))"
   ]
  },
  {
   "cell_type": "code",
   "execution_count": 74,
   "metadata": {},
   "outputs": [
    {
     "data": {
      "text/plain": [
       "0.9485038274182325"
      ]
     },
     "execution_count": 74,
     "metadata": {},
     "output_type": "execute_result"
    }
   ],
   "source": [
    "precision_score(y_test, gs.predict(X_test))"
   ]
  },
  {
   "cell_type": "code",
   "execution_count": 75,
   "metadata": {},
   "outputs": [
    {
     "data": {
      "text/plain": [
       "0.9618913196894848"
      ]
     },
     "execution_count": 75,
     "metadata": {},
     "output_type": "execute_result"
    }
   ],
   "source": [
    "recall_score(y_test, gs.predict(X_test))"
   ]
  },
  {
   "cell_type": "code",
   "execution_count": 76,
   "metadata": {},
   "outputs": [
    {
     "data": {
      "text/plain": [
       "0.9476661951909476"
      ]
     },
     "execution_count": 76,
     "metadata": {},
     "output_type": "execute_result"
    }
   ],
   "source": [
    "# specificity\n",
    "recall_score(y_test, gs.predict(X_test), pos_label=0)"
   ]
  },
  {
   "cell_type": "code",
   "execution_count": 77,
   "metadata": {},
   "outputs": [
    {
     "data": {
      "text/plain": [
       "0.9551506657323054"
      ]
     },
     "execution_count": 77,
     "metadata": {},
     "output_type": "execute_result"
    }
   ],
   "source": [
    "f1_score(y_test, gs.predict(X_test))"
   ]
  },
  {
   "cell_type": "code",
   "execution_count": 78,
   "metadata": {},
   "outputs": [
    {
     "data": {
      "text/plain": [
       "1    0.50053\n",
       "0    0.49947\n",
       "Name: subreddit_num, dtype: float64"
      ]
     },
     "execution_count": 78,
     "metadata": {},
     "output_type": "execute_result"
    }
   ],
   "source": [
    "y_test.value_counts(normalize=True)"
   ]
  },
  {
   "cell_type": "markdown",
   "metadata": {},
   "source": [
    "### Support Vector Machines (SVM): Linear SVC & C-Support Vector Classification"
   ]
  },
  {
   "cell_type": "code",
   "execution_count": 83,
   "metadata": {},
   "outputs": [],
   "source": [
    "# define linspace variable\n",
    "pgrid = ['C', np.linspace(0.0001, 1, 20)]"
   ]
  },
  {
   "cell_type": "code",
   "execution_count": 84,
   "metadata": {},
   "outputs": [],
   "source": [
    "# pipeline StandardScaler + instantiate RandomForestClassifier\n",
    "pipe_svm = Pipeline([\n",
    "    ('col_trans', col_trans),\n",
    "    ('ln_svc', LinearSVC())\n",
    "])"
   ]
  },
  {
   "cell_type": "code",
   "execution_count": 86,
   "metadata": {},
   "outputs": [
    {
     "name": "stdout",
     "output_type": "stream",
     "text": [
      "0.9609386828160484\n"
     ]
    },
    {
     "data": {
      "text/plain": [
       "{'ln_svc__max_iter': 5000}"
      ]
     },
     "execution_count": 86,
     "metadata": {},
     "output_type": "execute_result"
    }
   ],
   "source": [
    "# instantiate and fit gridsearch\n",
    "\n",
    "params_svm = {\n",
    "    'ln_svc__max_iter': [5000, 10000]\n",
    "}\n",
    "gs_svm = GridSearchCV(pipe_svm, param_grid=params_svm, cv=5)\n",
    "gs_svm.fit(X_train, y_train)\n",
    "print(gs_svm.best_score_)\n",
    "gs_svm.best_params_\n",
    "\n",
    "\n",
    "#gs_svm = GridSearchCV(LinearSVC(max_iter=5000), pgrid)\n",
    "\n",
    "#gs_svm.fit(X, y)"
   ]
  },
  {
   "cell_type": "code",
   "execution_count": 87,
   "metadata": {},
   "outputs": [
    {
     "name": "stdout",
     "output_type": "stream",
     "text": [
      "0.9609386828160484\n",
      "{'ln_svc__max_iter': 5000}\n"
     ]
    }
   ],
   "source": [
    "print(gs_svm.best_score_)\n",
    "print(gs_svm.best_params_)"
   ]
  },
  {
   "cell_type": "code",
   "execution_count": 92,
   "metadata": {},
   "outputs": [
    {
     "data": {
      "image/png": "[encoded data removed]",
      "text/plain": [
       "<Figure size 648x504 with 2 Axes>"
      ]
     },
     "metadata": {
      "needs_background": "light"
     },
     "output_type": "display_data"
    }
   ],
   "source": [
    "fig, ax = plt.subplots(figsize=(9, 7))\n",
    "ConfusionMatrixDisplay.from_estimator(gs_svm,\n",
    "                                      X_test,\n",
    "                                      y_test,\n",
    "                                      display_labels=['Dog Training', 'Service Dogs'], \n",
    "                                      cmap='Blues', \n",
    "                                      ax=ax);"
   ]
  },
  {
   "cell_type": "code",
   "execution_count": 89,
   "metadata": {},
   "outputs": [
    {
     "data": {
      "text/plain": [
       "0.7254509018036072"
      ]
     },
     "execution_count": 89,
     "metadata": {},
     "output_type": "execute_result"
    }
   ],
   "source": [
    "(3619+1)/(3619+1+1367+3)"
   ]
  },
  {
   "cell_type": "code",
   "execution_count": 90,
   "metadata": {},
   "outputs": [
    {
     "data": {
      "text/plain": [
       "6838    0\n",
       "8813    0\n",
       "4242    1\n",
       "7517    0\n",
       "5906    0\n",
       "       ..\n",
       "5876    0\n",
       "4073    1\n",
       "3868    1\n",
       "1134    1\n",
       "1985    1\n",
       "Name: subreddit_num, Length: 2831, dtype: int64"
      ]
     },
     "execution_count": 90,
     "metadata": {},
     "output_type": "execute_result"
    }
   ],
   "source": [
    "y_test"
   ]
  },
  {
   "cell_type": "code",
   "execution_count": 105,
   "metadata": {},
   "outputs": [],
   "source": [
    "# pipeline StandardScaler + instantiate decision tree classifier\n",
    "pipe_svc = Pipeline([\n",
    "    ('col_trans_tree', col_trans_tree),\n",
    "    ('svc', SVC())\n",
    "])"
   ]
  },
  {
   "cell_type": "code",
   "execution_count": 107,
   "metadata": {},
   "outputs": [
    {
     "name": "stderr",
     "output_type": "stream",
     "text": [
      "c:\\Users\\hatch\\anaconda3\\envs\\dsi-222\\lib\\site-packages\\sklearn\\model_selection\\_validation.py:372: FitFailedWarning: \n",
      "5 fits failed out of a total of 15.\n",
      "The score on these train-test partitions for these parameters will be set to nan.\n",
      "If these failures are not expected, you can try to debug them by setting error_score='raise'.\n",
      "\n",
      "Below are more details about the failures:\n",
      "--------------------------------------------------------------------------------\n",
      "5 fits failed with the following error:\n",
      "Traceback (most recent call last):\n",
      "  File \"c:\\Users\\hatch\\anaconda3\\envs\\dsi-222\\lib\\site-packages\\sklearn\\model_selection\\_validation.py\", line 680, in _fit_and_score\n",
      "    estimator.fit(X_train, y_train, **fit_params)\n",
      "  File \"c:\\Users\\hatch\\anaconda3\\envs\\dsi-222\\lib\\site-packages\\sklearn\\pipeline.py\", line 394, in fit\n",
      "    self._final_estimator.fit(Xt, y, **fit_params_last_step)\n",
      "  File \"c:\\Users\\hatch\\anaconda3\\envs\\dsi-222\\lib\\site-packages\\sklearn\\svm\\_base.py\", line 255, in fit\n",
      "    fit(X, y, sample_weight, solver_type, kernel, random_seed=seed)\n",
      "  File \"c:\\Users\\hatch\\anaconda3\\envs\\dsi-222\\lib\\site-packages\\sklearn\\svm\\_base.py\", line 315, in _dense_fit\n",
      "    ) = libsvm.fit(\n",
      "  File \"sklearn\\svm\\_libsvm.pyx\", line 58, in sklearn.svm._libsvm.fit\n",
      "TypeError: must be real number, not NoneType\n",
      "\n",
      "  warnings.warn(some_fits_failed_message, FitFailedWarning)\n",
      "c:\\Users\\hatch\\anaconda3\\envs\\dsi-222\\lib\\site-packages\\sklearn\\model_selection\\_search.py:969: UserWarning: One or more of the test scores are non-finite: [       nan 0.87706283 0.8996215 ]\n",
      "  warnings.warn(\n"
     ]
    },
    {
     "name": "stdout",
     "output_type": "stream",
     "text": [
      "0.8996214988644965\n"
     ]
    },
    {
     "data": {
      "text/plain": [
       "{'svc__C': 2, 'svc__degree': 2, 'svc__gamma': 'scale', 'svc__kernel': 'poly'}"
      ]
     },
     "execution_count": 107,
     "metadata": {},
     "output_type": "execute_result"
    }
   ],
   "source": [
    "\n",
    "pgrid_svc = {\n",
    "    'svc__C': [None, 1, 2],\n",
    "    'svc__kernel': ['poly'],\n",
    "    'svc__degree': [2],\n",
    "    'svc__gamma': ['scale'] \n",
    "}\n",
    "gs_svc = GridSearchCV(pipe_svc, param_grid=pgrid_svc, cv=5)\n",
    "gs_svc.fit(X_train, y_train)\n",
    "print(gs_svc.best_score_)\n",
    "gs_svc.best_params_"
   ]
  },
  {
   "cell_type": "code",
   "execution_count": 108,
   "metadata": {},
   "outputs": [
    {
     "data": {
      "text/html": [
       "<div>\n",
       "<style scoped>\n",
       "    .dataframe tbody tr th:only-of-type {\n",
       "        vertical-align: middle;\n",
       "    }\n",
       "\n",
       "    .dataframe tbody tr th {\n",
       "        vertical-align: top;\n",
       "    }\n",
       "\n",
       "    .dataframe thead th {\n",
       "        text-align: right;\n",
       "    }\n",
       "</style>\n",
       "<table border=\"1\" class=\"dataframe\">\n",
       "  <thead>\n",
       "    <tr style=\"text-align: right;\">\n",
       "      <th></th>\n",
       "      <th>predicted</th>\n",
       "      <th>actual</th>\n",
       "    </tr>\n",
       "  </thead>\n",
       "  <tbody>\n",
       "    <tr>\n",
       "      <th>0</th>\n",
       "      <td>0</td>\n",
       "      <td>NaN</td>\n",
       "    </tr>\n",
       "    <tr>\n",
       "      <th>1</th>\n",
       "      <td>0</td>\n",
       "      <td>NaN</td>\n",
       "    </tr>\n",
       "    <tr>\n",
       "      <th>2</th>\n",
       "      <td>1</td>\n",
       "      <td>NaN</td>\n",
       "    </tr>\n",
       "    <tr>\n",
       "      <th>3</th>\n",
       "      <td>0</td>\n",
       "      <td>NaN</td>\n",
       "    </tr>\n",
       "    <tr>\n",
       "      <th>4</th>\n",
       "      <td>0</td>\n",
       "      <td>NaN</td>\n",
       "    </tr>\n",
       "  </tbody>\n",
       "</table>\n",
       "</div>"
      ],
      "text/plain": [
       "   predicted  actual\n",
       "0          0     NaN\n",
       "1          0     NaN\n",
       "2          1     NaN\n",
       "3          0     NaN\n",
       "4          0     NaN"
      ]
     },
     "execution_count": 108,
     "metadata": {},
     "output_type": "execute_result"
    }
   ],
   "source": [
    "# Create DataFrame with column for predicted values.\n",
    "results = pd.DataFrame(gs_svc.predict(X_test), columns=['predicted'])\n",
    "# Create column for observed values.\n",
    "results['actual'] = y_test\n",
    "results.head()"
   ]
  },
  {
   "cell_type": "markdown",
   "metadata": {},
   "source": [
    "## Model Evaluation & Comparison"
   ]
  },
  {
   "cell_type": "code",
   "execution_count": 118,
   "metadata": {},
   "outputs": [
    {
     "ename": "ValueError",
     "evalue": "could not convert string to float: \"Should I take my assistance dog overseas ? AUS -USA This is the main part of my post , after the break I have a couple of additional questions that I would also really appreciate advice on but I know this post is already super long so no worries if you can 't read the second part as well haha . Hi all ! I am from Australia and I have a psychiatric assistance dog . Currently he is still in training but he will be finished by the time we actually go . My family is planning on taking a trip to the US in two or three years , and I am really unsure as to whether I should bring him . Having him with me would be an amazing help as I will be quite scared and overwhelmed in a foreign country especially as my parents aren 't really great with coping with me when I 'm like that . The only thing that is giving me doubts is that one of the main reasons we are going to the US is to go to Disney . To be honest , I have absolutely no idea how he would do . And I don 't even really know how we could practice for it . We do have Movie World in Australia which I think is pretty much the only theme park here which even begins to compare to Disney . But it would be so , so much money to go there 10 + times in order to get him trained up enough especially considering I don 't even like Movie World LMAO . Obviously all asisstance dogs need to be bomb -proof, but I know he will need to be like nuclear warfare -proof to go to Disney . So I think maybe in a year or two time I will just take him once or twice to Movie World and if he nails it I will probably take him to the US but if he doesn 't cope I will have to leave him , as I know Disney will be 100x more busy , loud , and intense . Does this sound like an ok plan ? Arghhh I don 't know what to do . Can you think of any places we could train for it that don 't cost $100 per visit ? If I decide he 's not up to going to Disney , do you think it would be possible to still bring him to the US and just board him or something for the day that we go to Disney ? Thank you all so so much for reading . Below are my additional questions if you have time . Also , please let me know if there 's anything I haven 't considered that I need to . ________________________ Additional advice ? Will I be able to enjoy my experience at Disney with him there ? I 'm not really into fast or scary rides so I don 't think that would be an issue , and I know there are some calmer rides that are safe for dogs . I think I could probably enjoy my experience there without going on any rides at all though . It looks like there is a lot to do and a lot to look at even without doing rides - is that correct ? I don 't think he would ruin my experience . I think the distress and fear of being there without him would be more likely to ruin my experience though obviously I will just deal with it if he 's not going to cope . Also , how would it work legally ? The laws in Australia (in my state at least ) are pretty similar to the US from what I understand . My assistance dog complies with both Australian and American assistance /service dog laws . So would we face any issues bringing him as foreigners or should it be fine ? Am I correct to assume that any hotel in the US would have to house us ? And should I tell them about him first or wait til after our booking has been confirmed ? Is it better to use my org vest labelled assistance dog or should I get one for America labelled service dog to avoid confusion ? Also , I am concerned that flying may be an issue . I know in the US even ESAs can go on planes but from my understanding it 's hard to even get proper assistance dogs on planes in Australia . Even though owner training is completely legal here , AFAIK most if not all airlines only accept organisation dogs . We are working with an owner training org (not gonna name names publicly because I don 't know if that 's allowed , but it 's the only owner training psychiatric assistance dog org here ) but not every airline accepts dogs from my org . Legally assistance dogs have access to all public places and housing and public transport such as buses and trains , but I don 't believe they legally must be allowed to access planes . My understanding on this may be a little flawed and I probably need to do more research on this by myself but if you 're an Aussie with experience flying with your assistance dog I would really really appreciate any advice you could give . Thank you so much again if you read all of this !!!\"",
     "output_type": "error",
     "traceback": [
      "\u001b[1;31m---------------------------------------------------------------------------\u001b[0m",
      "\u001b[1;31mValueError\u001b[0m                                Traceback (most recent call last)",
      "\u001b[1;32m~\\AppData\\Local\\Temp/ipykernel_10592/4256299180.py\u001b[0m in \u001b[0;36m<module>\u001b[1;34m\u001b[0m\n\u001b[0;32m      9\u001b[0m \u001b[1;33m\u001b[0m\u001b[0m\n\u001b[0;32m     10\u001b[0m \u001b[1;32mfor\u001b[0m \u001b[0mi\u001b[0m\u001b[1;33m,\u001b[0m \u001b[1;33m(\u001b[0m\u001b[0mkey\u001b[0m\u001b[1;33m,\u001b[0m \u001b[0mclassifier\u001b[0m\u001b[1;33m)\u001b[0m \u001b[1;32min\u001b[0m \u001b[0menumerate\u001b[0m\u001b[1;33m(\u001b[0m\u001b[0mclassifiers\u001b[0m\u001b[1;33m.\u001b[0m\u001b[0mitems\u001b[0m\u001b[1;33m(\u001b[0m\u001b[1;33m)\u001b[0m\u001b[1;33m)\u001b[0m\u001b[1;33m:\u001b[0m\u001b[1;33m\u001b[0m\u001b[1;33m\u001b[0m\u001b[0m\n\u001b[1;32m---> 11\u001b[1;33m     \u001b[0my_pred\u001b[0m \u001b[1;33m=\u001b[0m \u001b[0mclassifier\u001b[0m\u001b[1;33m.\u001b[0m\u001b[0mfit\u001b[0m\u001b[1;33m(\u001b[0m\u001b[0mX_train\u001b[0m\u001b[1;33m,\u001b[0m \u001b[0my_train\u001b[0m\u001b[1;33m)\u001b[0m\u001b[1;33m.\u001b[0m\u001b[0mpredict\u001b[0m\u001b[1;33m(\u001b[0m\u001b[0mX_test\u001b[0m\u001b[1;33m)\u001b[0m\u001b[1;33m\u001b[0m\u001b[1;33m\u001b[0m\u001b[0m\n\u001b[0m\u001b[0;32m     12\u001b[0m     \u001b[0mcf_matrix\u001b[0m \u001b[1;33m=\u001b[0m \u001b[0mconfusion_matrix\u001b[0m\u001b[1;33m(\u001b[0m\u001b[0my_test\u001b[0m\u001b[1;33m,\u001b[0m \u001b[0my_pred\u001b[0m\u001b[1;33m)\u001b[0m\u001b[1;33m\u001b[0m\u001b[1;33m\u001b[0m\u001b[0m\n\u001b[0;32m     13\u001b[0m     disp = ConfusionMatrixDisplay(cf_matrix,\n",
      "\u001b[1;32mc:\\Users\\hatch\\anaconda3\\envs\\dsi-222\\lib\\site-packages\\sklearn\\ensemble\\_forest.py\u001b[0m in \u001b[0;36mfit\u001b[1;34m(self, X, y, sample_weight)\u001b[0m\n\u001b[0;32m    325\u001b[0m         \u001b[1;32mif\u001b[0m \u001b[0missparse\u001b[0m\u001b[1;33m(\u001b[0m\u001b[0my\u001b[0m\u001b[1;33m)\u001b[0m\u001b[1;33m:\u001b[0m\u001b[1;33m\u001b[0m\u001b[1;33m\u001b[0m\u001b[0m\n\u001b[0;32m    326\u001b[0m             \u001b[1;32mraise\u001b[0m \u001b[0mValueError\u001b[0m\u001b[1;33m(\u001b[0m\u001b[1;34m\"sparse multilabel-indicator for y is not supported.\"\u001b[0m\u001b[1;33m)\u001b[0m\u001b[1;33m\u001b[0m\u001b[1;33m\u001b[0m\u001b[0m\n\u001b[1;32m--> 327\u001b[1;33m         X, y = self._validate_data(\n\u001b[0m\u001b[0;32m    328\u001b[0m             \u001b[0mX\u001b[0m\u001b[1;33m,\u001b[0m \u001b[0my\u001b[0m\u001b[1;33m,\u001b[0m \u001b[0mmulti_output\u001b[0m\u001b[1;33m=\u001b[0m\u001b[1;32mTrue\u001b[0m\u001b[1;33m,\u001b[0m \u001b[0maccept_sparse\u001b[0m\u001b[1;33m=\u001b[0m\u001b[1;34m\"csc\"\u001b[0m\u001b[1;33m,\u001b[0m \u001b[0mdtype\u001b[0m\u001b[1;33m=\u001b[0m\u001b[0mDTYPE\u001b[0m\u001b[1;33m\u001b[0m\u001b[1;33m\u001b[0m\u001b[0m\n\u001b[0;32m    329\u001b[0m         )\n",
      "\u001b[1;32mc:\\Users\\hatch\\anaconda3\\envs\\dsi-222\\lib\\site-packages\\sklearn\\base.py\u001b[0m in \u001b[0;36m_validate_data\u001b[1;34m(self, X, y, reset, validate_separately, **check_params)\u001b[0m\n\u001b[0;32m    579\u001b[0m                 \u001b[0my\u001b[0m \u001b[1;33m=\u001b[0m \u001b[0mcheck_array\u001b[0m\u001b[1;33m(\u001b[0m\u001b[0my\u001b[0m\u001b[1;33m,\u001b[0m \u001b[1;33m**\u001b[0m\u001b[0mcheck_y_params\u001b[0m\u001b[1;33m)\u001b[0m\u001b[1;33m\u001b[0m\u001b[1;33m\u001b[0m\u001b[0m\n\u001b[0;32m    580\u001b[0m             \u001b[1;32melse\u001b[0m\u001b[1;33m:\u001b[0m\u001b[1;33m\u001b[0m\u001b[1;33m\u001b[0m\u001b[0m\n\u001b[1;32m--> 581\u001b[1;33m                 \u001b[0mX\u001b[0m\u001b[1;33m,\u001b[0m \u001b[0my\u001b[0m \u001b[1;33m=\u001b[0m \u001b[0mcheck_X_y\u001b[0m\u001b[1;33m(\u001b[0m\u001b[0mX\u001b[0m\u001b[1;33m,\u001b[0m \u001b[0my\u001b[0m\u001b[1;33m,\u001b[0m \u001b[1;33m**\u001b[0m\u001b[0mcheck_params\u001b[0m\u001b[1;33m)\u001b[0m\u001b[1;33m\u001b[0m\u001b[1;33m\u001b[0m\u001b[0m\n\u001b[0m\u001b[0;32m    582\u001b[0m             \u001b[0mout\u001b[0m \u001b[1;33m=\u001b[0m \u001b[0mX\u001b[0m\u001b[1;33m,\u001b[0m \u001b[0my\u001b[0m\u001b[1;33m\u001b[0m\u001b[1;33m\u001b[0m\u001b[0m\n\u001b[0;32m    583\u001b[0m \u001b[1;33m\u001b[0m\u001b[0m\n",
      "\u001b[1;32mc:\\Users\\hatch\\anaconda3\\envs\\dsi-222\\lib\\site-packages\\sklearn\\utils\\validation.py\u001b[0m in \u001b[0;36mcheck_X_y\u001b[1;34m(X, y, accept_sparse, accept_large_sparse, dtype, order, copy, force_all_finite, ensure_2d, allow_nd, multi_output, ensure_min_samples, ensure_min_features, y_numeric, estimator)\u001b[0m\n\u001b[0;32m    962\u001b[0m         \u001b[1;32mraise\u001b[0m \u001b[0mValueError\u001b[0m\u001b[1;33m(\u001b[0m\u001b[1;34m\"y cannot be None\"\u001b[0m\u001b[1;33m)\u001b[0m\u001b[1;33m\u001b[0m\u001b[1;33m\u001b[0m\u001b[0m\n\u001b[0;32m    963\u001b[0m \u001b[1;33m\u001b[0m\u001b[0m\n\u001b[1;32m--> 964\u001b[1;33m     X = check_array(\n\u001b[0m\u001b[0;32m    965\u001b[0m         \u001b[0mX\u001b[0m\u001b[1;33m,\u001b[0m\u001b[1;33m\u001b[0m\u001b[1;33m\u001b[0m\u001b[0m\n\u001b[0;32m    966\u001b[0m         \u001b[0maccept_sparse\u001b[0m\u001b[1;33m=\u001b[0m\u001b[0maccept_sparse\u001b[0m\u001b[1;33m,\u001b[0m\u001b[1;33m\u001b[0m\u001b[1;33m\u001b[0m\u001b[0m\n",
      "\u001b[1;32mc:\\Users\\hatch\\anaconda3\\envs\\dsi-222\\lib\\site-packages\\sklearn\\utils\\validation.py\u001b[0m in \u001b[0;36mcheck_array\u001b[1;34m(array, accept_sparse, accept_large_sparse, dtype, order, copy, force_all_finite, ensure_2d, allow_nd, ensure_min_samples, ensure_min_features, estimator)\u001b[0m\n\u001b[0;32m    744\u001b[0m                     \u001b[0marray\u001b[0m \u001b[1;33m=\u001b[0m \u001b[0marray\u001b[0m\u001b[1;33m.\u001b[0m\u001b[0mastype\u001b[0m\u001b[1;33m(\u001b[0m\u001b[0mdtype\u001b[0m\u001b[1;33m,\u001b[0m \u001b[0mcasting\u001b[0m\u001b[1;33m=\u001b[0m\u001b[1;34m\"unsafe\"\u001b[0m\u001b[1;33m,\u001b[0m \u001b[0mcopy\u001b[0m\u001b[1;33m=\u001b[0m\u001b[1;32mFalse\u001b[0m\u001b[1;33m)\u001b[0m\u001b[1;33m\u001b[0m\u001b[1;33m\u001b[0m\u001b[0m\n\u001b[0;32m    745\u001b[0m                 \u001b[1;32melse\u001b[0m\u001b[1;33m:\u001b[0m\u001b[1;33m\u001b[0m\u001b[1;33m\u001b[0m\u001b[0m\n\u001b[1;32m--> 746\u001b[1;33m                     \u001b[0marray\u001b[0m \u001b[1;33m=\u001b[0m \u001b[0mnp\u001b[0m\u001b[1;33m.\u001b[0m\u001b[0masarray\u001b[0m\u001b[1;33m(\u001b[0m\u001b[0marray\u001b[0m\u001b[1;33m,\u001b[0m \u001b[0morder\u001b[0m\u001b[1;33m=\u001b[0m\u001b[0morder\u001b[0m\u001b[1;33m,\u001b[0m \u001b[0mdtype\u001b[0m\u001b[1;33m=\u001b[0m\u001b[0mdtype\u001b[0m\u001b[1;33m)\u001b[0m\u001b[1;33m\u001b[0m\u001b[1;33m\u001b[0m\u001b[0m\n\u001b[0m\u001b[0;32m    747\u001b[0m             \u001b[1;32mexcept\u001b[0m \u001b[0mComplexWarning\u001b[0m \u001b[1;32mas\u001b[0m \u001b[0mcomplex_warning\u001b[0m\u001b[1;33m:\u001b[0m\u001b[1;33m\u001b[0m\u001b[1;33m\u001b[0m\u001b[0m\n\u001b[0;32m    748\u001b[0m                 raise ValueError(\n",
      "\u001b[1;32mc:\\Users\\hatch\\anaconda3\\envs\\dsi-222\\lib\\site-packages\\pandas\\core\\generic.py\u001b[0m in \u001b[0;36m__array__\u001b[1;34m(self, dtype)\u001b[0m\n\u001b[0;32m   2070\u001b[0m \u001b[1;33m\u001b[0m\u001b[0m\n\u001b[0;32m   2071\u001b[0m     \u001b[1;32mdef\u001b[0m \u001b[0m__array__\u001b[0m\u001b[1;33m(\u001b[0m\u001b[0mself\u001b[0m\u001b[1;33m,\u001b[0m \u001b[0mdtype\u001b[0m\u001b[1;33m:\u001b[0m \u001b[0mnpt\u001b[0m\u001b[1;33m.\u001b[0m\u001b[0mDTypeLike\u001b[0m \u001b[1;33m|\u001b[0m \u001b[1;32mNone\u001b[0m \u001b[1;33m=\u001b[0m \u001b[1;32mNone\u001b[0m\u001b[1;33m)\u001b[0m \u001b[1;33m->\u001b[0m \u001b[0mnp\u001b[0m\u001b[1;33m.\u001b[0m\u001b[0mndarray\u001b[0m\u001b[1;33m:\u001b[0m\u001b[1;33m\u001b[0m\u001b[1;33m\u001b[0m\u001b[0m\n\u001b[1;32m-> 2072\u001b[1;33m         \u001b[1;32mreturn\u001b[0m \u001b[0mnp\u001b[0m\u001b[1;33m.\u001b[0m\u001b[0masarray\u001b[0m\u001b[1;33m(\u001b[0m\u001b[0mself\u001b[0m\u001b[1;33m.\u001b[0m\u001b[0m_values\u001b[0m\u001b[1;33m,\u001b[0m \u001b[0mdtype\u001b[0m\u001b[1;33m=\u001b[0m\u001b[0mdtype\u001b[0m\u001b[1;33m)\u001b[0m\u001b[1;33m\u001b[0m\u001b[1;33m\u001b[0m\u001b[0m\n\u001b[0m\u001b[0;32m   2073\u001b[0m \u001b[1;33m\u001b[0m\u001b[0m\n\u001b[0;32m   2074\u001b[0m     def __array_wrap__(\n",
      "\u001b[1;31mValueError\u001b[0m: could not convert string to float: \"Should I take my assistance dog overseas ? AUS -USA This is the main part of my post , after the break I have a couple of additional questions that I would also really appreciate advice on but I know this post is already super long so no worries if you can 't read the second part as well haha . Hi all ! I am from Australia and I have a psychiatric assistance dog . Currently he is still in training but he will be finished by the time we actually go . My family is planning on taking a trip to the US in two or three years , and I am really unsure as to whether I should bring him . Having him with me would be an amazing help as I will be quite scared and overwhelmed in a foreign country especially as my parents aren 't really great with coping with me when I 'm like that . The only thing that is giving me doubts is that one of the main reasons we are going to the US is to go to Disney . To be honest , I have absolutely no idea how he would do . And I don 't even really know how we could practice for it . We do have Movie World in Australia which I think is pretty much the only theme park here which even begins to compare to Disney . But it would be so , so much money to go there 10 + times in order to get him trained up enough especially considering I don 't even like Movie World LMAO . Obviously all asisstance dogs need to be bomb -proof, but I know he will need to be like nuclear warfare -proof to go to Disney . So I think maybe in a year or two time I will just take him once or twice to Movie World and if he nails it I will probably take him to the US but if he doesn 't cope I will have to leave him , as I know Disney will be 100x more busy , loud , and intense . Does this sound like an ok plan ? Arghhh I don 't know what to do . Can you think of any places we could train for it that don 't cost $100 per visit ? If I decide he 's not up to going to Disney , do you think it would be possible to still bring him to the US and just board him or something for the day that we go to Disney ? Thank you all so so much for reading . Below are my additional questions if you have time . Also , please let me know if there 's anything I haven 't considered that I need to . ________________________ Additional advice ? Will I be able to enjoy my experience at Disney with him there ? I 'm not really into fast or scary rides so I don 't think that would be an issue , and I know there are some calmer rides that are safe for dogs . I think I could probably enjoy my experience there without going on any rides at all though . It looks like there is a lot to do and a lot to look at even without doing rides - is that correct ? I don 't think he would ruin my experience . I think the distress and fear of being there without him would be more likely to ruin my experience though obviously I will just deal with it if he 's not going to cope . Also , how would it work legally ? The laws in Australia (in my state at least ) are pretty similar to the US from what I understand . My assistance dog complies with both Australian and American assistance /service dog laws . So would we face any issues bringing him as foreigners or should it be fine ? Am I correct to assume that any hotel in the US would have to house us ? And should I tell them about him first or wait til after our booking has been confirmed ? Is it better to use my org vest labelled assistance dog or should I get one for America labelled service dog to avoid confusion ? Also , I am concerned that flying may be an issue . I know in the US even ESAs can go on planes but from my understanding it 's hard to even get proper assistance dogs on planes in Australia . Even though owner training is completely legal here , AFAIK most if not all airlines only accept organisation dogs . We are working with an owner training org (not gonna name names publicly because I don 't know if that 's allowed , but it 's the only owner training psychiatric assistance dog org here ) but not every airline accepts dogs from my org . Legally assistance dogs have access to all public places and housing and public transport such as buses and trains , but I don 't believe they legally must be allowed to access planes . My understanding on this may be a little flawed and I probably need to do more research on this by myself but if you 're an Aussie with experience flying with your assistance dog I would really really appreciate any advice you could give . Thank you so much again if you read all of this !!!\""
     ]
    },
    {
     "data": {
      "image/png": "[encoded data removed]",
      "text/plain": [
       "<Figure size 1440x360 with 5 Axes>"
      ]
     },
     "metadata": {
      "needs_background": "light"
     },
     "output_type": "display_data"
    }
   ],
   "source": [
    "classifiers = {\n",
    "    \"Random Forest Classifier\": RandomForestClassifier(),\n",
    "    \"Decision Tree Classifier\": DecisionTreeClassifier(),\n",
    "    \"Linear SVC\": LinearSVC(),\n",
    "    \"Support Vector Classifier\": SVC(),\n",
    "    \"LogisiticRegression\": LogisticRegression(),\n",
    "}\n",
    "\n",
    "f, axes = plt.subplots(1, 5, figsize=(20, 5), sharey='row')\n",
    "\n",
    "for i, (key, classifier) in enumerate(classifiers.items()):\n",
    "    y_pred = classifier.fit(X_train, y_train).predict(X_test)\n",
    "    cf_matrix = confusion_matrix(y_test, y_pred)\n",
    "    disp = ConfusionMatrixDisplay(cf_matrix,\n",
    "                                  display_labels=['Dog Training', 'Service Dogs'])\n",
    "    disp.plot(ax=axes[i], xticks_rotation=45)\n",
    "    disp.ax_.set_title(key)\n",
    "    disp.im_.colorbar.remove()\n",
    "    disp.ax_.set_xlabel('')\n",
    "    if i!=0:\n",
    "        disp.ax_.set_ylabel('')\n",
    "\n",
    "f.text(0.4, 0.1, 'Predicted label', ha='left')\n",
    "plt.subplots_adjust(wspace=0.40, hspace=0.1)\n",
    "\n",
    "\n",
    "f.colorbar(disp.im_, ax=axes)\n",
    "plt.show()"
   ]
  },
  {
   "cell_type": "code",
   "execution_count": 110,
   "metadata": {},
   "outputs": [
    {
     "data": {
      "text/plain": [
       "0.949134581419993"
      ]
     },
     "execution_count": 110,
     "metadata": {},
     "output_type": "execute_result"
    }
   ],
   "source": [
    "accuracy_score(y_test, tree_gs.predict(X_test))"
   ]
  },
  {
   "cell_type": "code",
   "execution_count": 111,
   "metadata": {},
   "outputs": [
    {
     "data": {
      "text/plain": [
       "0.5005298481102084"
      ]
     },
     "execution_count": 111,
     "metadata": {},
     "output_type": "execute_result"
    }
   ],
   "source": [
    "y_test.sum()/y_test.count()"
   ]
  },
  {
   "cell_type": "code",
   "execution_count": 112,
   "metadata": {},
   "outputs": [
    {
     "data": {
      "text/plain": [
       "0.9547787574402162"
      ]
     },
     "execution_count": 112,
     "metadata": {},
     "output_type": "execute_result"
    }
   ],
   "source": [
    "roc_auc_score(y_test, gs.predict(X_test))"
   ]
  },
  {
   "cell_type": "code",
   "execution_count": 113,
   "metadata": {},
   "outputs": [
    {
     "data": {
      "text/plain": [
       "0.9485038274182325"
      ]
     },
     "execution_count": 113,
     "metadata": {},
     "output_type": "execute_result"
    }
   ],
   "source": [
    "precision_score(y_test, gs.predict(X_test))"
   ]
  },
  {
   "cell_type": "code",
   "execution_count": 114,
   "metadata": {},
   "outputs": [
    {
     "data": {
      "text/plain": [
       "0.9618913196894848"
      ]
     },
     "execution_count": 114,
     "metadata": {},
     "output_type": "execute_result"
    }
   ],
   "source": [
    "recall_score(y_test, gs.predict(X_test))"
   ]
  },
  {
   "cell_type": "code",
   "execution_count": 115,
   "metadata": {},
   "outputs": [
    {
     "data": {
      "text/plain": [
       "0.9476661951909476"
      ]
     },
     "execution_count": 115,
     "metadata": {},
     "output_type": "execute_result"
    }
   ],
   "source": [
    "# specificity\n",
    "recall_score(y_test, gs.predict(X_test), pos_label=0)"
   ]
  },
  {
   "cell_type": "code",
   "execution_count": 116,
   "metadata": {},
   "outputs": [
    {
     "data": {
      "text/plain": [
       "0.9551506657323054"
      ]
     },
     "execution_count": 116,
     "metadata": {},
     "output_type": "execute_result"
    }
   ],
   "source": [
    "f1_score(y_test, gs.predict(X_test))"
   ]
  },
  {
   "cell_type": "code",
   "execution_count": 117,
   "metadata": {},
   "outputs": [
    {
     "data": {
      "text/plain": [
       "1    0.50053\n",
       "0    0.49947\n",
       "Name: subreddit_num, dtype: float64"
      ]
     },
     "execution_count": 117,
     "metadata": {},
     "output_type": "execute_result"
    }
   ],
   "source": [
    "y_test.value_counts(normalize=True)"
   ]
  },
  {
   "cell_type": "markdown",
   "metadata": {},
   "source": [
    "## Answer Problem, Conclusions, and Recommendations"
   ]
  },
  {
   "cell_type": "code",
   "execution_count": null,
   "metadata": {},
   "outputs": [],
   "source": []
  },
  {
   "cell_type": "markdown",
   "metadata": {},
   "source": [
    "## Sources"
   ]
  }
 ],
 "metadata": {
  "interpreter": {
   "hash": "ec913dcbef39c008784dc6fe095f00003c17434557640291833f1bcf12636147"
  },
  "kernelspec": {
   "display_name": "Python 3.8.12 ('dsi-222')",
   "language": "python",
   "name": "python3"
  },
  "language_info": {
   "codemirror_mode": {
    "name": "ipython",
    "version": 3
   },
   "file_extension": ".py",
   "mimetype": "text/x-python",
   "name": "python",
   "nbconvert_exporter": "python",
   "pygments_lexer": "ipython3",
   "version": "3.8.12"
  },
  "orig_nbformat": 4
 },
 "nbformat": 4,
 "nbformat_minor": 2
}
