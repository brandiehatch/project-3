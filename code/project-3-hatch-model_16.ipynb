{
 "cells": [
  {
   "cell_type": "markdown",
   "metadata": {},
   "source": [
    "# Project 3: Web APIs and NLP <br>\n",
    "\n",
    "#### Brandie Hatch\n",
    "\n",
    "### Modeling"
   ]
  },
  {
   "cell_type": "markdown",
   "metadata": {},
   "source": [
    "## Imports, Data Reading, and Model Prep"
   ]
  },
  {
   "cell_type": "code",
   "execution_count": 70,
   "metadata": {},
   "outputs": [],
   "source": [
    "# python library imports\n",
    "import pandas as pd\n",
    "import numpy as np\n",
    "import matplotlib.pyplot as plt\n",
    "\n",
    "from sklearn.ensemble import RandomForestClassifier\n",
    "from sklearn.tree import plot_tree, DecisionTreeClassifier\n",
    "from sklearn.linear_model import LogisticRegression\n",
    "from sklearn.metrics import confusion_matrix, plot_confusion_matrix, ConfusionMatrixDisplay, plot_roc_curve, roc_auc_score, accuracy_score, precision_score, recall_score, f1_score\n",
    "from sklearn.neighbors import KNeighborsRegressor\n",
    "from sklearn.model_selection import train_test_split, GridSearchCV\n",
    "from sklearn.preprocessing import StandardScaler\n",
    "from sklearn.pipeline import Pipeline\n",
    "from sklearn.compose import ColumnTransformer\n",
    "from sklearn.svm import LinearSVC, SVC \n",
    "from sklearn.feature_extraction.text import CountVectorizer\n",
    "\n",
    "\n",
    "%matplotlib inline\n",
    "pd.options.display.max_columns =999\n"
   ]
  },
  {
   "cell_type": "code",
   "execution_count": 6,
   "metadata": {},
   "outputs": [
    {
     "name": "stdout",
     "output_type": "stream",
     "text": [
      "(9436, 11)\n"
     ]
    },
    {
     "data": {
      "text/html": [
       "<div>\n",
       "<style scoped>\n",
       "    .dataframe tbody tr th:only-of-type {\n",
       "        vertical-align: middle;\n",
       "    }\n",
       "\n",
       "    .dataframe tbody tr th {\n",
       "        vertical-align: top;\n",
       "    }\n",
       "\n",
       "    .dataframe thead th {\n",
       "        text-align: right;\n",
       "    }\n",
       "</style>\n",
       "<table border=\"1\" class=\"dataframe\">\n",
       "  <thead>\n",
       "    <tr style=\"text-align: right;\">\n",
       "      <th></th>\n",
       "      <th>num_comments</th>\n",
       "      <th>score</th>\n",
       "      <th>selftext</th>\n",
       "      <th>subreddit</th>\n",
       "      <th>title</th>\n",
       "      <th>text</th>\n",
       "      <th>title_length</th>\n",
       "      <th>title_word_count</th>\n",
       "      <th>selftext_length</th>\n",
       "      <th>selftext_word_count</th>\n",
       "      <th>subreddit_num</th>\n",
       "    </tr>\n",
       "  </thead>\n",
       "  <tbody>\n",
       "    <tr>\n",
       "      <th>0</th>\n",
       "      <td>2</td>\n",
       "      <td>1</td>\n",
       "      <td>The wife and I adopted a 1 to 3 year old beagl...</td>\n",
       "      <td>Dogtraining</td>\n",
       "      <td>Rescue dog will not come inside from fenced in...</td>\n",
       "      <td>Rescue dog will not come inside from fenced in...</td>\n",
       "      <td>51</td>\n",
       "      <td>10</td>\n",
       "      <td>986</td>\n",
       "      <td>203</td>\n",
       "      <td>1</td>\n",
       "    </tr>\n",
       "    <tr>\n",
       "      <th>1</th>\n",
       "      <td>1</td>\n",
       "      <td>1</td>\n",
       "      <td>I have an 8 month old Rottweiler puppy who is ...</td>\n",
       "      <td>Dogtraining</td>\n",
       "      <td>“Drop it” fails</td>\n",
       "      <td>“Drop it ” fails I have an 8 month old Rottwei...</td>\n",
       "      <td>15</td>\n",
       "      <td>3</td>\n",
       "      <td>1056</td>\n",
       "      <td>207</td>\n",
       "      <td>1</td>\n",
       "    </tr>\n",
       "    <tr>\n",
       "      <th>2</th>\n",
       "      <td>1</td>\n",
       "      <td>1</td>\n",
       "      <td>Long story short we used to have two dogs. A d...</td>\n",
       "      <td>Dogtraining</td>\n",
       "      <td>My dog will ONLY submissive pee.</td>\n",
       "      <td>My dog will ONLY submissive pee . Long story s...</td>\n",
       "      <td>32</td>\n",
       "      <td>6</td>\n",
       "      <td>732</td>\n",
       "      <td>147</td>\n",
       "      <td>1</td>\n",
       "    </tr>\n",
       "    <tr>\n",
       "      <th>3</th>\n",
       "      <td>1</td>\n",
       "      <td>1</td>\n",
       "      <td>I’ve recently adopted a golden retriever! He’s...</td>\n",
       "      <td>Dogtraining</td>\n",
       "      <td>Separation anxiety in dog used to living in a ...</td>\n",
       "      <td>Separation anxiety in dog used to living in a ...</td>\n",
       "      <td>51</td>\n",
       "      <td>10</td>\n",
       "      <td>573</td>\n",
       "      <td>112</td>\n",
       "      <td>1</td>\n",
       "    </tr>\n",
       "    <tr>\n",
       "      <th>4</th>\n",
       "      <td>1</td>\n",
       "      <td>1</td>\n",
       "      <td>**TLDR:** Do you leave your dog unsupervised ...</td>\n",
       "      <td>Dogtraining</td>\n",
       "      <td>So, is my backyard making my dog more reactive?</td>\n",
       "      <td>So , is my backyard making my dog more reactiv...</td>\n",
       "      <td>47</td>\n",
       "      <td>9</td>\n",
       "      <td>1866</td>\n",
       "      <td>330</td>\n",
       "      <td>1</td>\n",
       "    </tr>\n",
       "  </tbody>\n",
       "</table>\n",
       "</div>"
      ],
      "text/plain": [
       "   num_comments  score                                           selftext  \\\n",
       "0             2      1  The wife and I adopted a 1 to 3 year old beagl...   \n",
       "1             1      1  I have an 8 month old Rottweiler puppy who is ...   \n",
       "2             1      1  Long story short we used to have two dogs. A d...   \n",
       "3             1      1  I’ve recently adopted a golden retriever! He’s...   \n",
       "4             1      1   **TLDR:** Do you leave your dog unsupervised ...   \n",
       "\n",
       "     subreddit                                              title  \\\n",
       "0  Dogtraining  Rescue dog will not come inside from fenced in...   \n",
       "1  Dogtraining                                    “Drop it” fails   \n",
       "2  Dogtraining                   My dog will ONLY submissive pee.   \n",
       "3  Dogtraining  Separation anxiety in dog used to living in a ...   \n",
       "4  Dogtraining    So, is my backyard making my dog more reactive?   \n",
       "\n",
       "                                                text  title_length  \\\n",
       "0  Rescue dog will not come inside from fenced in...            51   \n",
       "1  “Drop it ” fails I have an 8 month old Rottwei...            15   \n",
       "2  My dog will ONLY submissive pee . Long story s...            32   \n",
       "3  Separation anxiety in dog used to living in a ...            51   \n",
       "4  So , is my backyard making my dog more reactiv...            47   \n",
       "\n",
       "   title_word_count  selftext_length  selftext_word_count  subreddit_num  \n",
       "0                10              986                  203              1  \n",
       "1                 3             1056                  207              1  \n",
       "2                 6              732                  147              1  \n",
       "3                10              573                  112              1  \n",
       "4                 9             1866                  330              1  "
      ]
     },
     "execution_count": 6,
     "metadata": {},
     "output_type": "execute_result"
    }
   ],
   "source": [
    "# Read in Data\n",
    "\n",
    "df = pd.read_csv('../data/prepped.csv', index_col=False)\n",
    "print(df.shape)\n",
    "df.head()"
   ]
  },
  {
   "cell_type": "code",
   "execution_count": 7,
   "metadata": {},
   "outputs": [
    {
     "data": {
      "text/plain": [
       "Dogtraining     0.500424\n",
       "service_dogs    0.499576\n",
       "Name: subreddit, dtype: float64"
      ]
     },
     "execution_count": 7,
     "metadata": {},
     "output_type": "execute_result"
    }
   ],
   "source": [
    "# imported data split between two subreddits\n",
    "df['subreddit'].value_counts(normalize=True)"
   ]
  },
  {
   "cell_type": "code",
   "execution_count": 8,
   "metadata": {},
   "outputs": [],
   "source": [
    "# Create X and y using StandardScaler to scale values\n",
    "\n",
    "X = df.drop(columns=['subreddit', 'subreddit_num', 'title', 'selftext'])\n",
    "y = df['subreddit_num']"
   ]
  },
  {
   "cell_type": "code",
   "execution_count": 9,
   "metadata": {},
   "outputs": [],
   "source": [
    "# Train/Test Split\n",
    "X_train, X_test, y_train, y_test = train_test_split(\n",
    "    X,\n",
    "    y,\n",
    "    test_size=0.3,\n",
    "    random_state=42,\n",
    "    stratify=y\n",
    ")"
   ]
  },
  {
   "cell_type": "code",
   "execution_count": 10,
   "metadata": {},
   "outputs": [
    {
     "data": {
      "text/plain": [
       "1    0.500424\n",
       "0    0.499576\n",
       "Name: subreddit_num, dtype: float64"
      ]
     },
     "execution_count": 10,
     "metadata": {},
     "output_type": "execute_result"
    }
   ],
   "source": [
    "# calculate the baseline accuracy (% of the majority class, dogtraining)\n",
    "# benchmark to beat is .502732\n",
    "y.value_counts(normalize=True)"
   ]
  },
  {
   "cell_type": "markdown",
   "metadata": {},
   "source": [
    "## Modeling"
   ]
  },
  {
   "cell_type": "markdown",
   "metadata": {},
   "source": [
    "### Random Forest Classifier"
   ]
  },
  {
   "cell_type": "code",
   "execution_count": 11,
   "metadata": {},
   "outputs": [],
   "source": [
    "# column transformer, countvectorizer needs to only go to the text columns\n",
    "col_trans = ColumnTransformer([\n",
    "    ('cvex', CountVectorizer(lowercase=True, stop_words={'english'}), 'text'),\n",
    "    ('ss', StandardScaler(), ['score', 'num_comments', 'title_length', 'title_word_count', 'selftext_length', 'selftext_word_count'])],\n",
    "    remainder='passthrough',\n",
    "    sparse_threshold=0\n",
    ")"
   ]
  },
  {
   "cell_type": "code",
   "execution_count": 12,
   "metadata": {},
   "outputs": [
    {
     "data": {
      "text/plain": [
       "ColumnTransformer(remainder='passthrough', sparse_threshold=0,\n",
       "                  transformers=[('cvex',\n",
       "                                 CountVectorizer(stop_words={'english'}),\n",
       "                                 'text'),\n",
       "                                ('ss', StandardScaler(),\n",
       "                                 ['score', 'num_comments', 'title_length',\n",
       "                                  'title_word_count', 'selftext_length',\n",
       "                                  'selftext_word_count'])])"
      ]
     },
     "execution_count": 12,
     "metadata": {},
     "output_type": "execute_result"
    }
   ],
   "source": [
    "col_trans.fit(X_train)"
   ]
  },
  {
   "cell_type": "code",
   "execution_count": 13,
   "metadata": {},
   "outputs": [
    {
     "data": {
      "text/plain": [
       "array([[ 0.        ,  0.        ,  0.        , ...,  0.00784865,\n",
       "         4.03839705,  4.09657099],\n",
       "       [ 0.        ,  0.        ,  0.        , ..., -1.03943033,\n",
       "        -0.64380322, -0.69326259],\n",
       "       [ 0.        ,  0.        ,  0.        , ..., -1.21397682,\n",
       "        -0.42467672, -0.47383304],\n",
       "       ...,\n",
       "       [ 0.        ,  0.        ,  0.        , ...,  0.18239514,\n",
       "         0.15334345,  0.12803087],\n",
       "       [ 0.        ,  0.        ,  0.        , ..., -0.51579084,\n",
       "        -0.24345318, -0.22932583],\n",
       "       [ 0.        ,  0.        ,  0.        , ..., -0.51579084,\n",
       "         1.15421854,  1.16875387]])"
      ]
     },
     "execution_count": 13,
     "metadata": {},
     "output_type": "execute_result"
    }
   ],
   "source": [
    "col_trans.transform(X_train)"
   ]
  },
  {
   "cell_type": "code",
   "execution_count": 27,
   "metadata": {},
   "outputs": [],
   "source": [
    "# pipeline StandardScaler + instantiate RandomForestClassifier\n",
    "pipe = Pipeline([\n",
    "    ('col_trans', col_trans),\n",
    "    ('rf', RandomForestClassifier())\n",
    "])"
   ]
  },
  {
   "cell_type": "code",
   "execution_count": 28,
   "metadata": {},
   "outputs": [
    {
     "name": "stdout",
     "output_type": "stream",
     "text": [
      "0.9554882664647995\n"
     ]
    },
    {
     "data": {
      "text/plain": [
       "{'rf__max_depth': None, 'rf__n_estimators': 200}"
      ]
     },
     "execution_count": 28,
     "metadata": {},
     "output_type": "execute_result"
    }
   ],
   "source": [
    "params = {\n",
    "    'rf__n_estimators': [1, 100, 200],\n",
    "    'rf__max_depth': [None, 1, 2, 3, 4, 5]\n",
    "}\n",
    "gs = GridSearchCV(pipe, param_grid=params, cv=5)\n",
    "gs.fit(X_train, y_train)\n",
    "print(gs.best_score_)\n",
    "gs.best_params_"
   ]
  },
  {
   "cell_type": "code",
   "execution_count": 29,
   "metadata": {},
   "outputs": [
    {
     "data": {
      "text/plain": [
       "(1.0, 0.9530201342281879)"
      ]
     },
     "execution_count": 29,
     "metadata": {},
     "output_type": "execute_result"
    }
   ],
   "source": [
    "gs.score(X_train, y_train), gs.score(X_test, y_test)"
   ]
  },
  {
   "cell_type": "code",
   "execution_count": 66,
   "metadata": {},
   "outputs": [
    {
     "data": {
      "text/plain": [
       "1    1438\n",
       "0    1393\n",
       "dtype: int64"
      ]
     },
     "execution_count": 66,
     "metadata": {},
     "output_type": "execute_result"
    }
   ],
   "source": [
    "pd.Series(gs.predict(X_test)).value_counts()"
   ]
  },
  {
   "cell_type": "markdown",
   "metadata": {},
   "source": [
    "### Decision Tree Classifier\n"
   ]
  },
  {
   "cell_type": "code",
   "execution_count": 31,
   "metadata": {},
   "outputs": [],
   "source": [
    "# column transformer, countvectorizer needs to only go to the text columns\n",
    "col_trans_tree = ColumnTransformer([\n",
    "    ('cvex', CountVectorizer(lowercase=True, stop_words={'english'}), 'text'),\n",
    "    ('ss', StandardScaler(), ['score', 'num_comments', 'title_length', 'title_word_count', 'selftext_length', 'selftext_word_count'])],\n",
    "    remainder='passthrough',\n",
    "    sparse_threshold=0\n",
    ")"
   ]
  },
  {
   "cell_type": "code",
   "execution_count": 32,
   "metadata": {},
   "outputs": [
    {
     "data": {
      "text/plain": [
       "ColumnTransformer(remainder='passthrough', sparse_threshold=0,\n",
       "                  transformers=[('cvex',\n",
       "                                 CountVectorizer(stop_words={'english'}),\n",
       "                                 'text'),\n",
       "                                ('ss', StandardScaler(),\n",
       "                                 ['score', 'num_comments', 'title_length',\n",
       "                                  'title_word_count', 'selftext_length',\n",
       "                                  'selftext_word_count'])])"
      ]
     },
     "execution_count": 32,
     "metadata": {},
     "output_type": "execute_result"
    }
   ],
   "source": [
    "col_trans_tree.fit(X_train)"
   ]
  },
  {
   "cell_type": "code",
   "execution_count": 33,
   "metadata": {},
   "outputs": [
    {
     "data": {
      "text/plain": [
       "array([[ 0.        ,  0.        ,  0.        , ...,  0.00784865,\n",
       "         4.03839705,  4.09657099],\n",
       "       [ 0.        ,  0.        ,  0.        , ..., -1.03943033,\n",
       "        -0.64380322, -0.69326259],\n",
       "       [ 0.        ,  0.        ,  0.        , ..., -1.21397682,\n",
       "        -0.42467672, -0.47383304],\n",
       "       ...,\n",
       "       [ 0.        ,  0.        ,  0.        , ...,  0.18239514,\n",
       "         0.15334345,  0.12803087],\n",
       "       [ 0.        ,  0.        ,  0.        , ..., -0.51579084,\n",
       "        -0.24345318, -0.22932583],\n",
       "       [ 0.        ,  0.        ,  0.        , ..., -0.51579084,\n",
       "         1.15421854,  1.16875387]])"
      ]
     },
     "execution_count": 33,
     "metadata": {},
     "output_type": "execute_result"
    }
   ],
   "source": [
    "col_trans_tree.transform(X_train)"
   ]
  },
  {
   "cell_type": "code",
   "execution_count": 34,
   "metadata": {},
   "outputs": [],
   "source": [
    "# pipeline StandardScaler + instantiate decision tree classifier\n",
    "pipe_tree = Pipeline([\n",
    "    ('col_trans_tree', col_trans_tree),\n",
    "    ('tree', DecisionTreeClassifier())\n",
    "])"
   ]
  },
  {
   "cell_type": "code",
   "execution_count": 35,
   "metadata": {},
   "outputs": [
    {
     "name": "stdout",
     "output_type": "stream",
     "text": [
      "0.953217259651779\n"
     ]
    },
    {
     "data": {
      "text/plain": [
       "{'tree__max_depth': None, 'tree__random_state': 1}"
      ]
     },
     "execution_count": 35,
     "metadata": {},
     "output_type": "execute_result"
    }
   ],
   "source": [
    "params_tree = {\n",
    "    'tree__random_state': [1, 2],\n",
    "    'tree__max_depth': [None, 1, 2, 3]\n",
    "}\n",
    "tree_gs = GridSearchCV(pipe_tree, param_grid=params_tree, cv=5)\n",
    "tree_gs.fit(X_train, y_train)\n",
    "print(tree_gs.best_score_)\n",
    "tree_gs.best_params_"
   ]
  },
  {
   "cell_type": "code",
   "execution_count": 36,
   "metadata": {},
   "outputs": [
    {
     "data": {
      "text/plain": [
       "(1.0, 0.949134581419993)"
      ]
     },
     "execution_count": 36,
     "metadata": {},
     "output_type": "execute_result"
    }
   ],
   "source": [
    "tree_gs.score(X_train, y_train), tree_gs.score(X_test, y_test)"
   ]
  },
  {
   "cell_type": "code",
   "execution_count": 37,
   "metadata": {},
   "outputs": [
    {
     "data": {
      "text/plain": [
       "1    1423\n",
       "0    1408\n",
       "dtype: int64"
      ]
     },
     "execution_count": 37,
     "metadata": {},
     "output_type": "execute_result"
    }
   ],
   "source": [
    "pd.Series(tree_gs.predict(X_test)).value_counts()"
   ]
  },
  {
   "cell_type": "markdown",
   "metadata": {},
   "source": [
    "### Logistic Regression"
   ]
  },
  {
   "cell_type": "code",
   "execution_count": 39,
   "metadata": {},
   "outputs": [],
   "source": [
    "# pipeline StandardScaler + instantiate RandomForestClassifier\n",
    "pipe_log = Pipeline([\n",
    "    ('col_trans', col_trans),\n",
    "    ('log_reg', LogisticRegression())\n",
    "])"
   ]
  },
  {
   "cell_type": "code",
   "execution_count": 40,
   "metadata": {},
   "outputs": [
    {
     "name": "stderr",
     "output_type": "stream",
     "text": [
      "c:\\Users\\hatch\\anaconda3\\envs\\dsi-222\\lib\\site-packages\\sklearn\\linear_model\\_logistic.py:814: ConvergenceWarning: lbfgs failed to converge (status=1):\n",
      "STOP: TOTAL NO. of ITERATIONS REACHED LIMIT.\n",
      "\n",
      "Increase the number of iterations (max_iter) or scale the data as shown in:\n",
      "    https://scikit-learn.org/stable/modules/preprocessing.html\n",
      "Please also refer to the documentation for alternative solver options:\n",
      "    https://scikit-learn.org/stable/modules/linear_model.html#logistic-regression\n",
      "  n_iter_i = _check_optimize_result(\n",
      "c:\\Users\\hatch\\anaconda3\\envs\\dsi-222\\lib\\site-packages\\sklearn\\linear_model\\_logistic.py:814: ConvergenceWarning: lbfgs failed to converge (status=1):\n",
      "STOP: TOTAL NO. of ITERATIONS REACHED LIMIT.\n",
      "\n",
      "Increase the number of iterations (max_iter) or scale the data as shown in:\n",
      "    https://scikit-learn.org/stable/modules/preprocessing.html\n",
      "Please also refer to the documentation for alternative solver options:\n",
      "    https://scikit-learn.org/stable/modules/linear_model.html#logistic-regression\n",
      "  n_iter_i = _check_optimize_result(\n",
      "c:\\Users\\hatch\\anaconda3\\envs\\dsi-222\\lib\\site-packages\\sklearn\\linear_model\\_logistic.py:814: ConvergenceWarning: lbfgs failed to converge (status=1):\n",
      "STOP: TOTAL NO. of ITERATIONS REACHED LIMIT.\n",
      "\n",
      "Increase the number of iterations (max_iter) or scale the data as shown in:\n",
      "    https://scikit-learn.org/stable/modules/preprocessing.html\n",
      "Please also refer to the documentation for alternative solver options:\n",
      "    https://scikit-learn.org/stable/modules/linear_model.html#logistic-regression\n",
      "  n_iter_i = _check_optimize_result(\n",
      "c:\\Users\\hatch\\anaconda3\\envs\\dsi-222\\lib\\site-packages\\sklearn\\linear_model\\_logistic.py:814: ConvergenceWarning: lbfgs failed to converge (status=1):\n",
      "STOP: TOTAL NO. of ITERATIONS REACHED LIMIT.\n",
      "\n",
      "Increase the number of iterations (max_iter) or scale the data as shown in:\n",
      "    https://scikit-learn.org/stable/modules/preprocessing.html\n",
      "Please also refer to the documentation for alternative solver options:\n",
      "    https://scikit-learn.org/stable/modules/linear_model.html#logistic-regression\n",
      "  n_iter_i = _check_optimize_result(\n",
      "c:\\Users\\hatch\\anaconda3\\envs\\dsi-222\\lib\\site-packages\\sklearn\\linear_model\\_logistic.py:814: ConvergenceWarning: lbfgs failed to converge (status=1):\n",
      "STOP: TOTAL NO. of ITERATIONS REACHED LIMIT.\n",
      "\n",
      "Increase the number of iterations (max_iter) or scale the data as shown in:\n",
      "    https://scikit-learn.org/stable/modules/preprocessing.html\n",
      "Please also refer to the documentation for alternative solver options:\n",
      "    https://scikit-learn.org/stable/modules/linear_model.html#logistic-regression\n",
      "  n_iter_i = _check_optimize_result(\n",
      "c:\\Users\\hatch\\anaconda3\\envs\\dsi-222\\lib\\site-packages\\sklearn\\linear_model\\_logistic.py:814: ConvergenceWarning: lbfgs failed to converge (status=1):\n",
      "STOP: TOTAL NO. of ITERATIONS REACHED LIMIT.\n",
      "\n",
      "Increase the number of iterations (max_iter) or scale the data as shown in:\n",
      "    https://scikit-learn.org/stable/modules/preprocessing.html\n",
      "Please also refer to the documentation for alternative solver options:\n",
      "    https://scikit-learn.org/stable/modules/linear_model.html#logistic-regression\n",
      "  n_iter_i = _check_optimize_result(\n",
      "c:\\Users\\hatch\\anaconda3\\envs\\dsi-222\\lib\\site-packages\\sklearn\\linear_model\\_logistic.py:814: ConvergenceWarning: lbfgs failed to converge (status=1):\n",
      "STOP: TOTAL NO. of ITERATIONS REACHED LIMIT.\n",
      "\n",
      "Increase the number of iterations (max_iter) or scale the data as shown in:\n",
      "    https://scikit-learn.org/stable/modules/preprocessing.html\n",
      "Please also refer to the documentation for alternative solver options:\n",
      "    https://scikit-learn.org/stable/modules/linear_model.html#logistic-regression\n",
      "  n_iter_i = _check_optimize_result(\n",
      "c:\\Users\\hatch\\anaconda3\\envs\\dsi-222\\lib\\site-packages\\sklearn\\linear_model\\_logistic.py:814: ConvergenceWarning: lbfgs failed to converge (status=1):\n",
      "STOP: TOTAL NO. of ITERATIONS REACHED LIMIT.\n",
      "\n",
      "Increase the number of iterations (max_iter) or scale the data as shown in:\n",
      "    https://scikit-learn.org/stable/modules/preprocessing.html\n",
      "Please also refer to the documentation for alternative solver options:\n",
      "    https://scikit-learn.org/stable/modules/linear_model.html#logistic-regression\n",
      "  n_iter_i = _check_optimize_result(\n",
      "c:\\Users\\hatch\\anaconda3\\envs\\dsi-222\\lib\\site-packages\\sklearn\\linear_model\\_logistic.py:814: ConvergenceWarning: lbfgs failed to converge (status=1):\n",
      "STOP: TOTAL NO. of ITERATIONS REACHED LIMIT.\n",
      "\n",
      "Increase the number of iterations (max_iter) or scale the data as shown in:\n",
      "    https://scikit-learn.org/stable/modules/preprocessing.html\n",
      "Please also refer to the documentation for alternative solver options:\n",
      "    https://scikit-learn.org/stable/modules/linear_model.html#logistic-regression\n",
      "  n_iter_i = _check_optimize_result(\n",
      "c:\\Users\\hatch\\anaconda3\\envs\\dsi-222\\lib\\site-packages\\sklearn\\linear_model\\_logistic.py:814: ConvergenceWarning: lbfgs failed to converge (status=1):\n",
      "STOP: TOTAL NO. of ITERATIONS REACHED LIMIT.\n",
      "\n",
      "Increase the number of iterations (max_iter) or scale the data as shown in:\n",
      "    https://scikit-learn.org/stable/modules/preprocessing.html\n",
      "Please also refer to the documentation for alternative solver options:\n",
      "    https://scikit-learn.org/stable/modules/linear_model.html#logistic-regression\n",
      "  n_iter_i = _check_optimize_result(\n",
      "c:\\Users\\hatch\\anaconda3\\envs\\dsi-222\\lib\\site-packages\\sklearn\\model_selection\\_validation.py:372: FitFailedWarning: \n",
      "10 fits failed out of a total of 20.\n",
      "The score on these train-test partitions for these parameters will be set to nan.\n",
      "If these failures are not expected, you can try to debug them by setting error_score='raise'.\n",
      "\n",
      "Below are more details about the failures:\n",
      "--------------------------------------------------------------------------------\n",
      "10 fits failed with the following error:\n",
      "Traceback (most recent call last):\n",
      "  File \"c:\\Users\\hatch\\anaconda3\\envs\\dsi-222\\lib\\site-packages\\sklearn\\model_selection\\_validation.py\", line 680, in _fit_and_score\n",
      "    estimator.fit(X_train, y_train, **fit_params)\n",
      "  File \"c:\\Users\\hatch\\anaconda3\\envs\\dsi-222\\lib\\site-packages\\sklearn\\pipeline.py\", line 394, in fit\n",
      "    self._final_estimator.fit(Xt, y, **fit_params_last_step)\n",
      "  File \"c:\\Users\\hatch\\anaconda3\\envs\\dsi-222\\lib\\site-packages\\sklearn\\linear_model\\_logistic.py\", line 1461, in fit\n",
      "    solver = _check_solver(self.solver, self.penalty, self.dual)\n",
      "  File \"c:\\Users\\hatch\\anaconda3\\envs\\dsi-222\\lib\\site-packages\\sklearn\\linear_model\\_logistic.py\", line 447, in _check_solver\n",
      "    raise ValueError(\n",
      "ValueError: Solver lbfgs supports only 'l2' or 'none' penalties, got elasticnet penalty.\n",
      "\n",
      "  warnings.warn(some_fits_failed_message, FitFailedWarning)\n",
      "c:\\Users\\hatch\\anaconda3\\envs\\dsi-222\\lib\\site-packages\\sklearn\\model_selection\\_search.py:969: UserWarning: One or more of the test scores are non-finite: [0.9654807         nan 0.96381529        nan]\n",
      "  warnings.warn(\n"
     ]
    },
    {
     "name": "stdout",
     "output_type": "stream",
     "text": [
      "0.9654806964420892\n"
     ]
    },
    {
     "name": "stderr",
     "output_type": "stream",
     "text": [
      "c:\\Users\\hatch\\anaconda3\\envs\\dsi-222\\lib\\site-packages\\sklearn\\linear_model\\_logistic.py:814: ConvergenceWarning: lbfgs failed to converge (status=1):\n",
      "STOP: TOTAL NO. of ITERATIONS REACHED LIMIT.\n",
      "\n",
      "Increase the number of iterations (max_iter) or scale the data as shown in:\n",
      "    https://scikit-learn.org/stable/modules/preprocessing.html\n",
      "Please also refer to the documentation for alternative solver options:\n",
      "    https://scikit-learn.org/stable/modules/linear_model.html#logistic-regression\n",
      "  n_iter_i = _check_optimize_result(\n"
     ]
    },
    {
     "data": {
      "text/plain": [
       "{'log_reg__C': 1, 'log_reg__penalty': 'l2'}"
      ]
     },
     "execution_count": 40,
     "metadata": {},
     "output_type": "execute_result"
    }
   ],
   "source": [
    "params_log = {\n",
    "    'log_reg__penalty': ['l2', 'elasticnet'],\n",
    "    'log_reg__C': [1, 2]\n",
    "}\n",
    "log_gs = GridSearchCV(pipe_log, param_grid=params_log, cv=5)\n",
    "log_gs.fit(X_train, y_train)\n",
    "print(log_gs.best_score_)\n",
    "log_gs.best_params_"
   ]
  },
  {
   "cell_type": "code",
   "execution_count": 41,
   "metadata": {},
   "outputs": [
    {
     "data": {
      "text/plain": [
       "(0.9998485995457986, 0.9678558813140233)"
      ]
     },
     "execution_count": 41,
     "metadata": {},
     "output_type": "execute_result"
    }
   ],
   "source": [
    "log_gs.score(X_train, y_train), log_gs.score(X_test, y_test)"
   ]
  },
  {
   "cell_type": "code",
   "execution_count": 42,
   "metadata": {},
   "outputs": [
    {
     "data": {
      "text/plain": [
       "1    1446\n",
       "0    1385\n",
       "dtype: int64"
      ]
     },
     "execution_count": 42,
     "metadata": {},
     "output_type": "execute_result"
    }
   ],
   "source": [
    "pd.Series(log_gs.predict(X_test)).value_counts()"
   ]
  },
  {
   "cell_type": "markdown",
   "metadata": {},
   "source": [
    "### Support Vector Machines (SVM): Linear SVC & C-Support Vector Classification"
   ]
  },
  {
   "cell_type": "code",
   "execution_count": 48,
   "metadata": {},
   "outputs": [],
   "source": [
    "# define linspace variable\n",
    "pgrid = ['C', np.linspace(0.0001, 1, 20)]"
   ]
  },
  {
   "cell_type": "code",
   "execution_count": 49,
   "metadata": {},
   "outputs": [],
   "source": [
    "# pipeline StandardScaler + instantiate RandomForestClassifier\n",
    "pipe_svm = Pipeline([\n",
    "    ('col_trans', col_trans),\n",
    "    ('ln_svc', LinearSVC())\n",
    "])"
   ]
  },
  {
   "cell_type": "code",
   "execution_count": 51,
   "metadata": {},
   "outputs": [
    {
     "name": "stdout",
     "output_type": "stream",
     "text": [
      "0.9609386828160484\n"
     ]
    },
    {
     "data": {
      "text/plain": [
       "{'ln_svc__max_iter': 5000}"
      ]
     },
     "execution_count": 51,
     "metadata": {},
     "output_type": "execute_result"
    }
   ],
   "source": [
    "# instantiate and fit gridsearch\n",
    "\n",
    "params_svm = {\n",
    "    'ln_svc__max_iter': [5000, 10000]\n",
    "}\n",
    "gs_svm = GridSearchCV(pipe_svm, param_grid=params_svm, cv=5)\n",
    "gs_svm.fit(X_train, y_train)\n",
    "print(gs_svm.best_score_)\n",
    "gs_svm.best_params_\n",
    "\n",
    "\n",
    "#gs_svm = GridSearchCV(LinearSVC(max_iter=5000), pgrid)\n",
    "\n",
    "#gs_svm.fit(X, y)"
   ]
  },
  {
   "cell_type": "code",
   "execution_count": 52,
   "metadata": {},
   "outputs": [
    {
     "data": {
      "text/plain": [
       "(1.0, 0.9629106322854115)"
      ]
     },
     "execution_count": 52,
     "metadata": {},
     "output_type": "execute_result"
    }
   ],
   "source": [
    "gs_svm.score(X_train, y_train), gs_svm.score(X_test, y_test)"
   ]
  },
  {
   "cell_type": "code",
   "execution_count": 53,
   "metadata": {},
   "outputs": [
    {
     "data": {
      "text/plain": [
       "1    1440\n",
       "0    1391\n",
       "dtype: int64"
      ]
     },
     "execution_count": 53,
     "metadata": {},
     "output_type": "execute_result"
    }
   ],
   "source": [
    "pd.Series(gs_svm.predict(X_test)).value_counts()"
   ]
  },
  {
   "cell_type": "markdown",
   "metadata": {},
   "source": [
    "### SVM: C-Support Vector Classification"
   ]
  },
  {
   "cell_type": "code",
   "execution_count": 20,
   "metadata": {},
   "outputs": [],
   "source": [
    "# pipeline StandardScaler + instantiate decision tree classifier\n",
    "pipe_svc = Pipeline([\n",
    "    ('col_trans_tree', col_trans_tree),\n",
    "    ('svc', SVC())\n",
    "])"
   ]
  },
  {
   "cell_type": "code",
   "execution_count": 21,
   "metadata": {},
   "outputs": [
    {
     "name": "stdout",
     "output_type": "stream",
     "text": [
      "0.8996214988644965\n"
     ]
    },
    {
     "data": {
      "text/plain": [
       "{'svc__C': 2, 'svc__degree': 2, 'svc__gamma': 'scale', 'svc__kernel': 'poly'}"
      ]
     },
     "execution_count": 21,
     "metadata": {},
     "output_type": "execute_result"
    }
   ],
   "source": [
    "\n",
    "pgrid_svc = {\n",
    "    'svc__C': [1, 2],\n",
    "    'svc__kernel': ['poly'],\n",
    "    'svc__degree': [2],\n",
    "    'svc__gamma': ['scale'] \n",
    "}\n",
    "gs_svc = GridSearchCV(pipe_svc, param_grid=pgrid_svc, cv=5)\n",
    "gs_svc.fit(X_train, y_train)\n",
    "print(gs_svc.best_score_)\n",
    "gs_svc.best_params_"
   ]
  },
  {
   "cell_type": "code",
   "execution_count": 64,
   "metadata": {},
   "outputs": [
    {
     "data": {
      "text/plain": [
       "(0.9330809992429977, 0.9145178382197103)"
      ]
     },
     "execution_count": 64,
     "metadata": {},
     "output_type": "execute_result"
    }
   ],
   "source": [
    "gs_svc.score(X_train, y_train), gs_svc.score(X_test, y_test)"
   ]
  },
  {
   "cell_type": "code",
   "execution_count": 65,
   "metadata": {},
   "outputs": [
    {
     "data": {
      "text/plain": [
       "0    1568\n",
       "1    1263\n",
       "dtype: int64"
      ]
     },
     "execution_count": 65,
     "metadata": {},
     "output_type": "execute_result"
    }
   ],
   "source": [
    "pd.Series(gs_svc.predict(X_test)).value_counts()"
   ]
  },
  {
   "cell_type": "markdown",
   "metadata": {},
   "source": [
    "## Model Evaluation & Comparison"
   ]
  },
  {
   "cell_type": "markdown",
   "metadata": {},
   "source": [
    "### Confusion Matrix Displays"
   ]
  },
  {
   "cell_type": "code",
   "execution_count": 129,
   "metadata": {},
   "outputs": [
    {
     "data": {
      "image/png": "[encoded data removed]",
      "text/plain": [
       "<Figure size 504x360 with 2 Axes>"
      ]
     },
     "metadata": {
      "needs_background": "light"
     },
     "output_type": "display_data"
    }
   ],
   "source": [
    "# Random Forest Classifier\n",
    "fig, ax = plt.subplots(figsize=(7, 5))\n",
    "ConfusionMatrixDisplay.from_estimator(\n",
    "    gs, \n",
    "    X_test, \n",
    "    y_test, \n",
    "    display_labels=['Dog Training', 'Service Dogs'], \n",
    "    cmap='Reds',\n",
    "    ax=ax\n",
    ");"
   ]
  },
  {
   "cell_type": "code",
   "execution_count": 130,
   "metadata": {},
   "outputs": [
    {
     "data": {
      "image/png": "[encoded data removed]",
      "text/plain": [
       "<Figure size 504x360 with 2 Axes>"
      ]
     },
     "metadata": {
      "needs_background": "light"
     },
     "output_type": "display_data"
    }
   ],
   "source": [
    "# Decision Tree Classifier\n",
    "fig, ax = plt.subplots(figsize=(7, 5))\n",
    "ConfusionMatrixDisplay.from_estimator(\n",
    "    tree_gs, \n",
    "    X_test, \n",
    "    y_test, \n",
    "    display_labels=['Dog Training', 'Service Dogs'], \n",
    "    cmap='Reds',\n",
    "    ax=ax\n",
    ");"
   ]
  },
  {
   "cell_type": "code",
   "execution_count": 131,
   "metadata": {},
   "outputs": [
    {
     "data": {
      "image/png": "[encoded data removed]",
      "text/plain": [
       "<Figure size 504x360 with 2 Axes>"
      ]
     },
     "metadata": {
      "needs_background": "light"
     },
     "output_type": "display_data"
    }
   ],
   "source": [
    "# Logisitic Regression\n",
    "fig, ax = plt.subplots(figsize=(7, 5))\n",
    "ConfusionMatrixDisplay.from_estimator(log_gs,\n",
    "                                      X_test,\n",
    "                                      y_test,\n",
    "                                      display_labels=['Dog Training', 'Service Dogs'], \n",
    "                                      cmap='Reds', \n",
    "                                      ax=ax);"
   ]
  },
  {
   "cell_type": "code",
   "execution_count": 128,
   "metadata": {},
   "outputs": [
    {
     "data": {
      "image/png": "[encoded data removed]",
      "text/plain": [
       "<Figure size 504x360 with 2 Axes>"
      ]
     },
     "metadata": {
      "needs_background": "light"
     },
     "output_type": "display_data"
    }
   ],
   "source": [
    "# SVM \n",
    "fig, ax = plt.subplots(figsize=(7, 5))\n",
    "ConfusionMatrixDisplay.from_estimator(gs_svm,\n",
    "                                      X_test,\n",
    "                                      y_test,\n",
    "                                      display_labels=['Dog Training', 'Service Dogs'], \n",
    "                                      cmap='Reds', \n",
    "                                      ax=ax);"
   ]
  },
  {
   "cell_type": "code",
   "execution_count": 23,
   "metadata": {},
   "outputs": [
    {
     "data": {
      "image/png": "[encoded data removed]",
      "text/plain": [
       "<Figure size 504x360 with 2 Axes>"
      ]
     },
     "metadata": {
      "needs_background": "light"
     },
     "output_type": "display_data"
    }
   ],
   "source": [
    "# SVC\n",
    "fig, ax = plt.subplots(figsize=(7, 5))\n",
    "ConfusionMatrixDisplay.from_estimator(gs_svc,\n",
    "                                      X_test,\n",
    "                                      y_test,\n",
    "                                      display_labels=['Dog Training', 'Service Dogs'], \n",
    "                                      cmap='Reds', \n",
    "                                      ax=ax);"
   ]
  },
  {
   "cell_type": "code",
   "execution_count": 54,
   "metadata": {},
   "outputs": [
    {
     "name": "stdout",
     "output_type": "stream",
     "text": [
      "Random Forest Classifier\n",
      "0.9554882664647995\n",
      "{'rf__max_depth': None, 'rf__n_estimators': 200}\n",
      "Decision Tree Classifier\n",
      "0.953217259651779\n",
      "{'tree__max_depth': None, 'tree__random_state': 1}\n",
      "Logistic Regression\n",
      "0.9654806964420892\n",
      "{'log_reg__C': 1, 'log_reg__penalty': 'l2'}\n",
      "SVM: Linear SVC\n",
      "0.9609386828160484\n",
      "{'ln_svc__max_iter': 5000}\n",
      "SVM: C-Support Vector Classification\n",
      "0.8996214988644965\n",
      "{'svc__C': 2, 'svc__degree': 2, 'svc__gamma': 'scale', 'svc__kernel': 'poly'}\n"
     ]
    }
   ],
   "source": [
    "print('Random Forest Classifier')\n",
    "print(gs.best_score_)\n",
    "print(gs.best_params_)\n",
    "print('Decision Tree Classifier')\n",
    "print(tree_gs.best_score_)\n",
    "print(tree_gs.best_params_)\n",
    "print('Logistic Regression')\n",
    "print(log_gs.best_score_)\n",
    "print(log_gs.best_params_)\n",
    "print('SVM: Linear SVC')\n",
    "print(gs_svm.best_score_)\n",
    "print(gs_svm.best_params_)\n",
    "print('SVM: C-Support Vector Classification')\n",
    "print(gs_svc.best_score_)\n",
    "print(gs_svc.best_params_)"
   ]
  },
  {
   "cell_type": "code",
   "execution_count": 55,
   "metadata": {},
   "outputs": [
    {
     "name": "stdout",
     "output_type": "stream",
     "text": [
      "Random Forest Classifier\n",
      "0.9530201342281879\n",
      "Decision Tree Classifier\n",
      "0.949134581419993\n",
      "Logistic Regression\n",
      "0.9678558813140233\n",
      "SVM: Linear SVC\n",
      "0.9629106322854115\n",
      "SVM: C-Support Vector Classification\n",
      "0.9145178382197103\n"
     ]
    }
   ],
   "source": [
    "# Accuracy score\n",
    "print('Random Forest Classifier')\n",
    "print(accuracy_score(y_test, gs.predict(X_test)))\n",
    "print('Decision Tree Classifier')\n",
    "print(accuracy_score(y_test, tree_gs.predict(X_test)))\n",
    "print('Logistic Regression')\n",
    "print(accuracy_score(y_test, log_gs.predict(X_test)))\n",
    "print('SVM: Linear SVC')\n",
    "print(accuracy_score(y_test, gs_svm.predict(X_test)))\n",
    "print('SVM: C-Support Vector Classification')\n",
    "print(accuracy_score(y_test, gs_svc.predict(X_test)))"
   ]
  },
  {
   "cell_type": "code",
   "execution_count": 56,
   "metadata": {},
   "outputs": [
    {
     "name": "stdout",
     "output_type": "stream",
     "text": [
      "Random Forest Classifier\n",
      "0.9530122207704186\n",
      "Decision Tree Classifier\n",
      "0.9491322783856166\n",
      "Logistic Regression\n",
      "0.9678449899632569\n",
      "SVM: Linear SVC\n",
      "0.9629019812960226\n",
      "SVM: C-Support Vector Classification\n",
      "0.9145753873703732\n"
     ]
    }
   ],
   "source": [
    "# ROC Accuracy score\n",
    "print('Random Forest Classifier')\n",
    "print(roc_auc_score(y_test, gs.predict(X_test)))\n",
    "print('Decision Tree Classifier')\n",
    "print(roc_auc_score(y_test, tree_gs.predict(X_test)))\n",
    "print('Logistic Regression')\n",
    "print(roc_auc_score(y_test, log_gs.predict(X_test)))\n",
    "print('SVM: Linear SVC')\n",
    "print(roc_auc_score(y_test, gs_svm.predict(X_test)))\n",
    "print('SVM: C-Support Vector Classification')\n",
    "print(roc_auc_score(y_test, gs_svc.predict(X_test)))"
   ]
  },
  {
   "cell_type": "code",
   "execution_count": 57,
   "metadata": {},
   "outputs": [
    {
     "name": "stdout",
     "output_type": "stream",
     "text": [
      "Random Forest Classifier\n",
      "0.9464534075104312\n",
      "Decision Tree Classifier\n",
      "0.9472944483485594\n",
      "Logistic Regression\n",
      "0.9585062240663901\n",
      "SVM: Linear SVC\n",
      "0.9555555555555556\n",
      "SVM: C-Support Vector Classification\n",
      "0.9651623119556612\n"
     ]
    }
   ],
   "source": [
    "# Precision score\n",
    "print('Random Forest Classifier')\n",
    "print(precision_score(y_test, gs.predict(X_test)))\n",
    "print('Decision Tree Classifier')\n",
    "print(precision_score(y_test, tree_gs.predict(X_test)))\n",
    "print('Logistic Regression')\n",
    "print(precision_score(y_test, log_gs.predict(X_test)))\n",
    "print('SVM: Linear SVC')\n",
    "print(precision_score(y_test, gs_svm.predict(X_test)))\n",
    "print('SVM: C-Support Vector Classification')\n",
    "print(precision_score(y_test, gs_svc.predict(X_test)))"
   ]
  },
  {
   "cell_type": "code",
   "execution_count": 58,
   "metadata": {},
   "outputs": [
    {
     "name": "stdout",
     "output_type": "stream",
     "text": [
      "Random Forest Classifier\n",
      "0.9604798870853917\n",
      "Decision Tree Classifier\n",
      "0.9513055751587862\n",
      "Logistic Regression\n",
      "0.9781227946365562\n",
      "SVM: Linear SVC\n",
      "0.9710656316160904\n",
      "SVM: C-Support Vector Classification\n",
      "0.8602681721947777\n"
     ]
    }
   ],
   "source": [
    "# Recall score\n",
    "print('Random Forest Classifier')\n",
    "print(recall_score(y_test, gs.predict(X_test)))\n",
    "print('Decision Tree Classifier')\n",
    "print(recall_score(y_test, tree_gs.predict(X_test)))\n",
    "print('Logistic Regression')\n",
    "print(recall_score(y_test, log_gs.predict(X_test)))\n",
    "print('SVM: Linear SVC')\n",
    "print(recall_score(y_test, gs_svm.predict(X_test)))\n",
    "print('SVM: C-Support Vector Classification')\n",
    "print(recall_score(y_test, gs_svc.predict(X_test)))"
   ]
  },
  {
   "cell_type": "code",
   "execution_count": 59,
   "metadata": {},
   "outputs": [
    {
     "name": "stdout",
     "output_type": "stream",
     "text": [
      "Random Forest Classifier\n",
      "0.9455445544554455\n",
      "Decision Tree Classifier\n",
      "0.946958981612447\n",
      "Logistic Regression\n",
      "0.9575671852899575\n",
      "SVM: Linear SVC\n",
      "0.9547383309759547\n",
      "SVM: C-Support Vector Classification\n",
      "0.9688826025459689\n"
     ]
    }
   ],
   "source": [
    "# Specificity score\n",
    "print('Random Forest Classifier')\n",
    "print(recall_score(y_test, gs.predict(X_test), pos_label=0))\n",
    "print('Decision Tree Classifier')\n",
    "print(recall_score(y_test, tree_gs.predict(X_test), pos_label=0))\n",
    "print('Logistic Regression')\n",
    "print(recall_score(y_test, log_gs.predict(X_test), pos_label=0))\n",
    "print('SVM: Linear SVC')\n",
    "print(recall_score(y_test, gs_svm.predict(X_test), pos_label=0))\n",
    "print('SVM: C-Support Vector Classification')\n",
    "print(recall_score(y_test, gs_svc.predict(X_test), pos_label=0))"
   ]
  },
  {
   "cell_type": "code",
   "execution_count": 60,
   "metadata": {},
   "outputs": [
    {
     "name": "stdout",
     "output_type": "stream",
     "text": [
      "Random Forest Classifier\n",
      "0.953415061295972\n",
      "Decision Tree Classifier\n",
      "0.9492957746478874\n",
      "Logistic Regression\n",
      "0.9682151589242054\n",
      "SVM: Linear SVC\n",
      "0.9632481624081205\n",
      "SVM: C-Support Vector Classification\n",
      "0.9097014925373135\n"
     ]
    }
   ],
   "source": [
    "# F1 score\n",
    "print('Random Forest Classifier')\n",
    "print(f1_score(y_test, gs.predict(X_test)))\n",
    "print('Decision Tree Classifier')\n",
    "print(f1_score(y_test, tree_gs.predict(X_test)))\n",
    "print('Logistic Regression')\n",
    "print(f1_score(y_test, log_gs.predict(X_test)))\n",
    "print('SVM: Linear SVC')\n",
    "print(f1_score(y_test, gs_svm.predict(X_test)))\n",
    "print('SVM: C-Support Vector Classification')\n",
    "print(f1_score(y_test, gs_svc.predict(X_test)))"
   ]
  },
  {
   "cell_type": "code",
   "execution_count": 61,
   "metadata": {},
   "outputs": [
    {
     "name": "stdout",
     "output_type": "stream",
     "text": [
      "0.5003785011355034 0.5005298481102084\n"
     ]
    }
   ],
   "source": [
    "print(y_train.mean(), y_test.mean())"
   ]
  },
  {
   "cell_type": "code",
   "execution_count": 62,
   "metadata": {},
   "outputs": [
    {
     "data": {
      "text/plain": [
       "0.5005298481102084"
      ]
     },
     "execution_count": 62,
     "metadata": {},
     "output_type": "execute_result"
    }
   ],
   "source": [
    "y_test.sum()/y_test.count()"
   ]
  },
  {
   "cell_type": "code",
   "execution_count": 63,
   "metadata": {},
   "outputs": [
    {
     "data": {
      "text/plain": [
       "1    0.50053\n",
       "0    0.49947\n",
       "Name: subreddit_num, dtype: float64"
      ]
     },
     "execution_count": 63,
     "metadata": {},
     "output_type": "execute_result"
    }
   ],
   "source": [
    "y_test.value_counts(normalize=True)"
   ]
  },
  {
   "cell_type": "markdown",
   "metadata": {},
   "source": [
    "## Answer Problem, Conclusions, and Recommendations"
   ]
  },
  {
   "cell_type": "markdown",
   "metadata": {},
   "source": [
    "__Answer based on the following conclusions:__ Overall, the Logistic Regression model was the best model to identify Service Dogs vs Dog Training Subreddits. The SVM: C-Support Vector Classification model could also be used since it was very close in a lot of ways also. "
   ]
  },
  {
   "cell_type": "markdown",
   "metadata": {},
   "source": [
    "| Variable | Model                                | Best Score (gridsearch) | Train Score       | Test Score        | Accuracy          | ROC Accuracy      | Precision         | Recall            | Specificity       | F1 Score          |\n",
    "|----------|--------------------------------------|-------------------------|-------------------|-------------------|-------------------|-------------------|-------------------|-------------------|-------------------|-------------------|\n",
    "| gs       | Random Forest Classifier             | 0.952763058289175       | 1.000000000000000 | 0.953020134228187 | 0.953020134228187 | 0.953012220770418 | 0.946453407510431 | 0.960479887085391 | 0.945544554455445 | 0.953415061295972 |\n",
    "| tree_gs  | Decision Tree Classifier             | 0.953217259651779       | 1.000000000000000 | 0.949134581419993 | 0.949134581419993 | 0.949132278385616 | 0.947294448348559 | 0.951305575158786 | 0.946958981612447 | 0.949295774647887 |\n",
    "| log_gs   | Logistic Regression                  | 0.965480696442089       | 0.999848599545798 | 0.967855881314023 | 0.967855881314023 | 0.967844989963256 | 0.958506224066390 | 0.978122794636556 | 0.957567185289957 | 0.968215158924205 |\n",
    "| gs_svm   | SVM: Linear SVC                      | 0.960938682816048       | 1.000000000000000 | 0.962910632285411 | 0.962910632285411 | 0.962901981296022 | 0.955555555555555 | 0.971065631616090 | 0.954738330975954 | 0.963248162408120 |\n",
    "| gs_svc   | SVM: C-Support Vector Classification | 0.899621498864496       | 0.933080999242997 | 0.914517838219710 | 0.914517838219710 | 0.914575387370373 | 0.965162311955661 | 0.860268172194777 | 0.968882602545968 | 0.909701492537313 |"
   ]
  },
  {
   "cell_type": "code",
   "execution_count": 68,
   "metadata": {},
   "outputs": [
    {
     "data": {
      "text/plain": [
       "0.018563161023287034"
      ]
     },
     "execution_count": 68,
     "metadata": {},
     "output_type": "execute_result"
    }
   ],
   "source": [
    "# Difference between the Train Score and Test Score of the SVM: C-Support Vector Classification \n",
    "0.933080999242997 - 0.914517838219710"
   ]
  },
  {
   "cell_type": "code",
   "execution_count": 69,
   "metadata": {},
   "outputs": [
    {
     "data": {
      "text/plain": [
       "0.031992718231774964"
      ]
     },
     "execution_count": 69,
     "metadata": {},
     "output_type": "execute_result"
    }
   ],
   "source": [
    "# Difference between the Train Score and Test Score of the Logistic Regression model\n",
    "0.999848599545798 - 0.967855881314023"
   ]
  },
  {
   "cell_type": "markdown",
   "metadata": {},
   "source": [
    "### Findings\n",
    "\n",
    "__Bias/Variance Tradeoff__ All of the models were overfit where the train score was higher than the test score. The *Logistic Regression* model was the least overfit and performed the best in the tradeoff because it had the highest train/test scores. The *SVM: C-Support Vector Classification* was a close second because the difference between the train and test scores was the lowest. <br>  \n",
    "\n",
    "__Accuracy__ Number of correct predictions divided by the total number of predications, multiplied by 100 to get percentage: *Logistic Regression* had the best accuracy because it predicted the correct Subreddit 96.7% of the time. This is a reliable indicator because of the basically even class distribution.<br>\n",
    "\n",
    "__Precision__ Number of true positives divided by the number of true positives plus the false positives: *SVM: C-Support Vector Classification* had the best precision with 96.1% precisely predicted the correct Subreddit. This is not the best indicator because of the even class distribution. Precision in this situation is showing us how many submissions that were predicted as being correct and actually were correct.<br>\n",
    "\n",
    "__Recall__ Fraction of samples from a class which are correctly predicted by the model: *Logistic Regression* had the best recall because of the correctly labeled Subreddits, the model predicted 97.8% correct. <br>\n",
    "\n",
    "__Specificity__ Fraction of samples from a class which are incorrectly predicted as incorrect (True negative rate): *SVM: C-Support Vector Classification* had the best recall because of the incorrectly labeled Subreddits, the model predicted those correctly incorrect at 96.8%. This is not a reliable indicator in this specific situation. <br>\n",
    "\n",
    "__F1 Score__ Combination of precision and recall to check on the balance of the two: *Logistic Regression* has the highest F1 Score, so therefore, is the most balanced of the models."
   ]
  },
  {
   "cell_type": "code",
   "execution_count": 74,
   "metadata": {},
   "outputs": [
    {
     "name": "stderr",
     "output_type": "stream",
     "text": [
      "c:\\Users\\hatch\\anaconda3\\envs\\dsi-222\\lib\\site-packages\\sklearn\\utils\\deprecation.py:87: FutureWarning: Function plot_roc_curve is deprecated; Function :func:`plot_roc_curve` is deprecated in 1.0 and will be removed in 1.2. Use one of the class methods: :meth:`sklearn.metric.RocCurveDisplay.from_predictions` or :meth:`sklearn.metric.RocCurveDisplay.from_estimator`.\n",
      "  warnings.warn(msg, category=FutureWarning)\n"
     ]
    },
    {
     "data": {
      "image/png": "[encoded data removed]",
      "text/plain": [
       "<Figure size 432x288 with 1 Axes>"
      ]
     },
     "metadata": {
      "needs_background": "light"
     },
     "output_type": "display_data"
    }
   ],
   "source": [
    "# Plot Roc Curve for Logistic Regression\n",
    "plot_roc_curve(log_gs, X_test, y_test);"
   ]
  },
  {
   "cell_type": "code",
   "execution_count": 73,
   "metadata": {},
   "outputs": [
    {
     "name": "stderr",
     "output_type": "stream",
     "text": [
      "c:\\Users\\hatch\\anaconda3\\envs\\dsi-222\\lib\\site-packages\\sklearn\\utils\\deprecation.py:87: FutureWarning: Function plot_roc_curve is deprecated; Function :func:`plot_roc_curve` is deprecated in 1.0 and will be removed in 1.2. Use one of the class methods: :meth:`sklearn.metric.RocCurveDisplay.from_predictions` or :meth:`sklearn.metric.RocCurveDisplay.from_estimator`.\n",
      "  warnings.warn(msg, category=FutureWarning)\n"
     ]
    },
    {
     "data": {
      "image/png": "[encoded data removed]",
      "text/plain": [
       "<Figure size 432x288 with 1 Axes>"
      ]
     },
     "metadata": {
      "needs_background": "light"
     },
     "output_type": "display_data"
    }
   ],
   "source": [
    "# Plot Roc Curve for Logistic Regression\n",
    "plot_roc_curve(gs_svc, X_test, y_test);"
   ]
  },
  {
   "cell_type": "markdown",
   "metadata": {},
   "source": [
    "### Recommendations\n",
    "\n",
    "__Implications__ Even though the Logistic Regression model was the most accurate at predicting the difference between the Service Dogs and Dog Training Subreddits, the classifications offered little to help predict training opportunities for service and other dogs. Classification opportunities could be to look more into the most common words and compare the differences between each Subreddit. <br>\n",
    "\n",
    "__Next Steps__ Specifically looking for training theories and pedagogy related words could be a valuable opportunity in the future.\n"
   ]
  },
  {
   "cell_type": "markdown",
   "metadata": {},
   "source": [
    "## Sources"
   ]
  },
  {
   "cell_type": "markdown",
   "metadata": {},
   "source": [
    "https://towardsdatascience.com/20-popular-machine-learning-metrics-part-1-classification-regression-evaluation-metrics-1ca3e282a2ce"
   ]
  }
 ],
 "metadata": {
  "interpreter": {
   "hash": "ec913dcbef39c008784dc6fe095f00003c17434557640291833f1bcf12636147"
  },
  "kernelspec": {
   "display_name": "Python 3.8.12 ('dsi-222')",
   "language": "python",
   "name": "python3"
  },
  "language_info": {
   "codemirror_mode": {
    "name": "ipython",
    "version": 3
   },
   "file_extension": ".py",
   "mimetype": "text/x-python",
   "name": "python",
   "nbconvert_exporter": "python",
   "pygments_lexer": "ipython3",
   "version": "3.8.12"
  },
  "orig_nbformat": 4
 },
 "nbformat": 4,
 "nbformat_minor": 2
}
