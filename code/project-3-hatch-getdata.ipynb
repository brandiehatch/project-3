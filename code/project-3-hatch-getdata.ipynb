{
 "cells": [
  {
   "cell_type": "markdown",
   "metadata": {},
   "source": [
    "# Project 3: Web APIs and NLP <br>\n",
    "\n",
    "#### Brandie Hatch"
   ]
  },
  {
   "cell_type": "markdown",
   "metadata": {},
   "source": [
    "## Preparation and Get Data"
   ]
  },
  {
   "cell_type": "code",
   "execution_count": 6,
   "metadata": {},
   "outputs": [],
   "source": [
    "# imports\n",
    "import pandas as pd\n",
    "\n",
    "pd.options.display.max_columns =999\n",
    "\n",
    "import requests\n",
    "from datetime import datetime"
   ]
  },
  {
   "cell_type": "code",
   "execution_count": 7,
   "metadata": {},
   "outputs": [],
   "source": [
    "CLIENT_ID = '5aTMVLqpXQvo6vpgNv171w'\n",
    "SECRET_KEY = 'FAjO19Zyx5W4N9llEeklP8apwz20Zw'"
   ]
  },
  {
   "cell_type": "code",
   "execution_count": 11,
   "metadata": {},
   "outputs": [],
   "source": [
    "with open('../assets/pw.txt', 'r') as f:\n",
    "    pw = f.read()"
   ]
  },
  {
   "cell_type": "code",
   "execution_count": 12,
   "metadata": {},
   "outputs": [
    {
     "data": {
      "text/plain": [
       "<Response [200]>"
      ]
     },
     "execution_count": 12,
     "metadata": {},
     "output_type": "execute_result"
    }
   ],
   "source": [
    "auth = requests.auth.HTTPBasicAuth(CLIENT_ID, SECRET_KEY)\n",
    "\n",
    "data = {\n",
    "    'grant_type': 'password',\n",
    "    'username': 'BrandieHatch',\n",
    "    'password': pw\n",
    "}\n",
    "\n",
    "headers = {'user-agent': 'praw_BH/0.0.1', 'accept': '*/*'}\n",
    "\n",
    "res = requests.post('https://www.reddit.com/api/v1/access_token',\n",
    "                    auth=auth, data=data, headers=headers)\n",
    "\n",
    "token = res.json()['access_token']\n",
    "\n",
    "\n",
    "# add authorization to our headers dictionary\n",
    "headers = {**headers, **{'Authorization': f'bearer {token}'}}\n",
    "\n",
    "# while the token is valid (~2 hours) we just add headers=headers to our requests\n",
    "requests.get('https://oauth.reddit.com/api/v1/me', headers=headers)"
   ]
  },
  {
   "cell_type": "code",
   "execution_count": 13,
   "metadata": {},
   "outputs": [],
   "source": [
    "def get_posts(subreddit):\n",
    "    \n",
    "    url = f\"https://oauth.reddit.com/r/{subreddit}\"\n",
    "\n",
    "    params = {\n",
    "        'subreddit': subreddit,\n",
    "        'size': 100\n",
    "    }\n",
    "\n",
    "    res = requests.get(url, headers=headers, params=params)\n",
    "\n",
    "    return res.json()['data']['children']\n"
   ]
  },
  {
   "cell_type": "code",
   "execution_count": 14,
   "metadata": {},
   "outputs": [],
   "source": [
    "# function to convert the responses to a dataframe\n",
    "\n",
    "def res_to_df(res):\n",
    "    \n",
    "    df = []\n",
    "\n",
    "    for submission in res:\n",
    "        df.append({\n",
    "            'subreddit': submission['data']['subreddit'],\n",
    "            'id': submission['data']['id'],\n",
    "            'title': submission['data']['title'],\n",
    "            'selftext': submission['data']['selftext'],\n",
    "            'author': submission['data']['author'],\n",
    "            'name': submission['data']['name'],\n",
    "            'ups': submission['data']['ups'], \n",
    "            'downs': submission['data']['downs'],\n",
    "            'score': submission['data']['score'],\n",
    "            'num_comments': submission['data']['num_comments'], \n",
    "            'created_utc': datetime.fromtimestamp(submission['data']['created_utc']).strftime('%Y-%m-%dT%H:%M:%SZ'),\n",
    "            'over_18': submission['data']['over_18']\n",
    "        })\n",
    "    # print(df)\n",
    "    return df"
   ]
  },
  {
   "cell_type": "code",
   "execution_count": 26,
   "metadata": {},
   "outputs": [],
   "source": [
    "df_dogtraining = pd.DataFrame()\n",
    "params = {'limit': 200}\n",
    "url = f\"https://oauth.reddit.com/r/dogtraining/new\"\n",
    "\n",
    "# loop through to get multiple requests\n",
    "for i in range(200):\n",
    "    # make request\n",
    "    res = requests.get(url,\n",
    "                       headers=headers,\n",
    "                       params=params)\n",
    "\n",
    "    # get dataframe from responses\n",
    "    new_df = pd.DataFrame(res_to_df(get_posts('dogtraining')))\n",
    "    # take the final row (which is the oldest entry)\n",
    "    row = new_df.iloc[len(new_df)-1]\n",
    "    # create fullname\n",
    "    fullname = '_' + row['id']\n",
    "    # add fullname in params\n",
    "    params['after'] = fullname\n",
    "    \n",
    "    # append new_df to data\n",
    "    df_dogtraining = df_dogtraining.append(new_df, ignore_index=False)\n",
    "    \n",
    "    import warnings\n",
    "    warnings.simplefilter(\"ignore\")"
   ]
  },
  {
   "cell_type": "code",
   "execution_count": 27,
   "metadata": {},
   "outputs": [
    {
     "data": {
      "text/plain": [
       "(5400, 12)"
      ]
     },
     "execution_count": 27,
     "metadata": {},
     "output_type": "execute_result"
    }
   ],
   "source": [
    "df_dogtraining.shape"
   ]
  },
  {
   "cell_type": "code",
   "execution_count": 28,
   "metadata": {},
   "outputs": [
    {
     "data": {
      "text/html": [
       "<div>\n",
       "<style scoped>\n",
       "    .dataframe tbody tr th:only-of-type {\n",
       "        vertical-align: middle;\n",
       "    }\n",
       "\n",
       "    .dataframe tbody tr th {\n",
       "        vertical-align: top;\n",
       "    }\n",
       "\n",
       "    .dataframe thead th {\n",
       "        text-align: right;\n",
       "    }\n",
       "</style>\n",
       "<table border=\"1\" class=\"dataframe\">\n",
       "  <thead>\n",
       "    <tr style=\"text-align: right;\">\n",
       "      <th></th>\n",
       "      <th>subreddit</th>\n",
       "      <th>id</th>\n",
       "      <th>title</th>\n",
       "      <th>selftext</th>\n",
       "      <th>author</th>\n",
       "      <th>name</th>\n",
       "      <th>ups</th>\n",
       "      <th>downs</th>\n",
       "      <th>score</th>\n",
       "      <th>num_comments</th>\n",
       "      <th>created_utc</th>\n",
       "      <th>over_18</th>\n",
       "    </tr>\n",
       "  </thead>\n",
       "  <tbody>\n",
       "    <tr>\n",
       "      <th>0</th>\n",
       "      <td>Dogtraining</td>\n",
       "      <td>uijir1</td>\n",
       "      <td>Trick of the Month - May 2022 - Crawl Backwards</td>\n",
       "      <td>Welcome to the Trick of the Month!\\n\\nThis mon...</td>\n",
       "      <td>moo6</td>\n",
       "      <td>t3_uijir1</td>\n",
       "      <td>8</td>\n",
       "      <td>0</td>\n",
       "      <td>8</td>\n",
       "      <td>4</td>\n",
       "      <td>2022-05-04T16:25:25Z</td>\n",
       "      <td>False</td>\n",
       "    </tr>\n",
       "    <tr>\n",
       "      <th>1</th>\n",
       "      <td>Dogtraining</td>\n",
       "      <td>ujxbsz</td>\n",
       "      <td>Announcement - Puppy Enrichment AMA With Allie...</td>\n",
       "      <td></td>\n",
       "      <td>Cursethewind</td>\n",
       "      <td>t3_ujxbsz</td>\n",
       "      <td>7</td>\n",
       "      <td>0</td>\n",
       "      <td>7</td>\n",
       "      <td>2</td>\n",
       "      <td>2022-05-06T14:05:34Z</td>\n",
       "      <td>False</td>\n",
       "    </tr>\n",
       "    <tr>\n",
       "      <th>2</th>\n",
       "      <td>Dogtraining</td>\n",
       "      <td>up52vw</td>\n",
       "      <td>How do I get a cafe/brewery dog?</td>\n",
       "      <td>I am sitting at a brewery right now and all th...</td>\n",
       "      <td>slothsandwhich</td>\n",
       "      <td>t3_up52vw</td>\n",
       "      <td>311</td>\n",
       "      <td>0</td>\n",
       "      <td>311</td>\n",
       "      <td>88</td>\n",
       "      <td>2022-05-13T17:11:13Z</td>\n",
       "      <td>False</td>\n",
       "    </tr>\n",
       "    <tr>\n",
       "      <th>3</th>\n",
       "      <td>Dogtraining</td>\n",
       "      <td>upd3e8</td>\n",
       "      <td>Hi, does anybody know the company that makes t...</td>\n",
       "      <td></td>\n",
       "      <td>Fluffy_Overlord_1995</td>\n",
       "      <td>t3_upd3e8</td>\n",
       "      <td>59</td>\n",
       "      <td>0</td>\n",
       "      <td>59</td>\n",
       "      <td>6</td>\n",
       "      <td>2022-05-14T01:47:21Z</td>\n",
       "      <td>False</td>\n",
       "    </tr>\n",
       "    <tr>\n",
       "      <th>4</th>\n",
       "      <td>Dogtraining</td>\n",
       "      <td>upgv84</td>\n",
       "      <td>Warning: Gross</td>\n",
       "      <td>I noticed my dog trying to eat the poop of oth...</td>\n",
       "      <td>oxabexo</td>\n",
       "      <td>t3_upgv84</td>\n",
       "      <td>19</td>\n",
       "      <td>0</td>\n",
       "      <td>19</td>\n",
       "      <td>40</td>\n",
       "      <td>2022-05-14T06:05:24Z</td>\n",
       "      <td>False</td>\n",
       "    </tr>\n",
       "  </tbody>\n",
       "</table>\n",
       "</div>"
      ],
      "text/plain": [
       "     subreddit      id                                              title  \\\n",
       "0  Dogtraining  uijir1    Trick of the Month - May 2022 - Crawl Backwards   \n",
       "1  Dogtraining  ujxbsz  Announcement - Puppy Enrichment AMA With Allie...   \n",
       "2  Dogtraining  up52vw                   How do I get a cafe/brewery dog?   \n",
       "3  Dogtraining  upd3e8  Hi, does anybody know the company that makes t...   \n",
       "4  Dogtraining  upgv84                                     Warning: Gross   \n",
       "\n",
       "                                            selftext                author  \\\n",
       "0  Welcome to the Trick of the Month!\\n\\nThis mon...                  moo6   \n",
       "1                                                             Cursethewind   \n",
       "2  I am sitting at a brewery right now and all th...        slothsandwhich   \n",
       "3                                                     Fluffy_Overlord_1995   \n",
       "4  I noticed my dog trying to eat the poop of oth...               oxabexo   \n",
       "\n",
       "        name  ups  downs  score  num_comments           created_utc  over_18  \n",
       "0  t3_uijir1    8      0      8             4  2022-05-04T16:25:25Z    False  \n",
       "1  t3_ujxbsz    7      0      7             2  2022-05-06T14:05:34Z    False  \n",
       "2  t3_up52vw  311      0    311            88  2022-05-13T17:11:13Z    False  \n",
       "3  t3_upd3e8   59      0     59             6  2022-05-14T01:47:21Z    False  \n",
       "4  t3_upgv84   19      0     19            40  2022-05-14T06:05:24Z    False  "
      ]
     },
     "execution_count": 28,
     "metadata": {},
     "output_type": "execute_result"
    }
   ],
   "source": [
    "df_dogtraining.head()"
   ]
  },
  {
   "cell_type": "code",
   "execution_count": 29,
   "metadata": {},
   "outputs": [],
   "source": [
    "df_dogtraining.to_csv('../data/dogtraining' + '.csv', header=True, index=False)"
   ]
  },
  {
   "cell_type": "code",
   "execution_count": 22,
   "metadata": {},
   "outputs": [],
   "source": [
    "df_dogcare = pd.DataFrame()\n",
    "params = {'limit': 200}\n",
    "url = f\"https://oauth.reddit.com/r/dogtcare/new\"\n",
    "\n",
    "# loop through to get multiple requests\n",
    "for i in range(350):\n",
    "    # make request\n",
    "    res = requests.get(url,\n",
    "                       headers=headers,\n",
    "                       params=params)\n",
    "\n",
    "    # get dataframe from response\n",
    "    new_df = pd.DataFrame(res_to_df(get_posts('dogcare')))\n",
    "    # take the final row (which is the oldest entry)\n",
    "    row = new_df.iloc[len(new_df)-1]\n",
    "    # create fullname\n",
    "    fullname = '_' + row['id']\n",
    "    # add fullname in params\n",
    "    params['after'] = fullname\n",
    "    \n",
    "    # add new_df to data\n",
    "    df_dogcare = df_dogcare.append(new_df, ignore_index=False)\n",
    "    \n",
    "    import warnings\n",
    "    warnings.simplefilter(\"ignore\")"
   ]
  },
  {
   "cell_type": "code",
   "execution_count": 23,
   "metadata": {},
   "outputs": [
    {
     "data": {
      "text/plain": [
       "(8750, 12)"
      ]
     },
     "execution_count": 23,
     "metadata": {},
     "output_type": "execute_result"
    }
   ],
   "source": [
    "df_dogcare.shape"
   ]
  },
  {
   "cell_type": "code",
   "execution_count": 24,
   "metadata": {},
   "outputs": [
    {
     "data": {
      "text/html": [
       "<div>\n",
       "<style scoped>\n",
       "    .dataframe tbody tr th:only-of-type {\n",
       "        vertical-align: middle;\n",
       "    }\n",
       "\n",
       "    .dataframe tbody tr th {\n",
       "        vertical-align: top;\n",
       "    }\n",
       "\n",
       "    .dataframe thead th {\n",
       "        text-align: right;\n",
       "    }\n",
       "</style>\n",
       "<table border=\"1\" class=\"dataframe\">\n",
       "  <thead>\n",
       "    <tr style=\"text-align: right;\">\n",
       "      <th></th>\n",
       "      <th>subreddit</th>\n",
       "      <th>id</th>\n",
       "      <th>title</th>\n",
       "      <th>selftext</th>\n",
       "      <th>author</th>\n",
       "      <th>name</th>\n",
       "      <th>ups</th>\n",
       "      <th>downs</th>\n",
       "      <th>score</th>\n",
       "      <th>num_comments</th>\n",
       "      <th>created_utc</th>\n",
       "      <th>over_18</th>\n",
       "    </tr>\n",
       "  </thead>\n",
       "  <tbody>\n",
       "    <tr>\n",
       "      <th>0</th>\n",
       "      <td>DogCare</td>\n",
       "      <td>upgugb</td>\n",
       "      <td>Massages for hip dysplasia?</td>\n",
       "      <td>He's a 6 yo boxer/mastiff,135 lbs and in good ...</td>\n",
       "      <td>Flaky_Watch</td>\n",
       "      <td>t3_upgugb</td>\n",
       "      <td>5</td>\n",
       "      <td>0</td>\n",
       "      <td>5</td>\n",
       "      <td>1</td>\n",
       "      <td>2022-05-14T06:04:21Z</td>\n",
       "      <td>False</td>\n",
       "    </tr>\n",
       "    <tr>\n",
       "      <th>1</th>\n",
       "      <td>DogCare</td>\n",
       "      <td>uow11b</td>\n",
       "      <td>My dog has this weird thing on the tail, can a...</td>\n",
       "      <td></td>\n",
       "      <td>NivTheGever</td>\n",
       "      <td>t3_uow11b</td>\n",
       "      <td>24</td>\n",
       "      <td>0</td>\n",
       "      <td>24</td>\n",
       "      <td>15</td>\n",
       "      <td>2022-05-13T09:50:09Z</td>\n",
       "      <td>False</td>\n",
       "    </tr>\n",
       "    <tr>\n",
       "      <th>2</th>\n",
       "      <td>DogCare</td>\n",
       "      <td>upa4qd</td>\n",
       "      <td>Lab/Great Dane puppy leg shattered</td>\n",
       "      <td>So my dog jumped out of my truck and completel...</td>\n",
       "      <td>Boomstick825</td>\n",
       "      <td>t3_upa4qd</td>\n",
       "      <td>1</td>\n",
       "      <td>0</td>\n",
       "      <td>1</td>\n",
       "      <td>4</td>\n",
       "      <td>2022-05-13T22:14:14Z</td>\n",
       "      <td>False</td>\n",
       "    </tr>\n",
       "    <tr>\n",
       "      <th>3</th>\n",
       "      <td>DogCare</td>\n",
       "      <td>up7lse</td>\n",
       "      <td>Any ideas what this might be?</td>\n",
       "      <td>I came home from work a couple of days ago and...</td>\n",
       "      <td>ChunkyMonkey3499</td>\n",
       "      <td>t3_up7lse</td>\n",
       "      <td>0</td>\n",
       "      <td>0</td>\n",
       "      <td>0</td>\n",
       "      <td>1</td>\n",
       "      <td>2022-05-13T19:35:38Z</td>\n",
       "      <td>False</td>\n",
       "    </tr>\n",
       "    <tr>\n",
       "      <th>4</th>\n",
       "      <td>DogCare</td>\n",
       "      <td>uoyffw</td>\n",
       "      <td>Anyone know what this could be? 7 Yr old Irish...</td>\n",
       "      <td></td>\n",
       "      <td>Disastrous_Bobcat402</td>\n",
       "      <td>t3_uoyffw</td>\n",
       "      <td>1</td>\n",
       "      <td>0</td>\n",
       "      <td>1</td>\n",
       "      <td>0</td>\n",
       "      <td>2022-05-13T11:44:38Z</td>\n",
       "      <td>False</td>\n",
       "    </tr>\n",
       "  </tbody>\n",
       "</table>\n",
       "</div>"
      ],
      "text/plain": [
       "  subreddit      id                                              title  \\\n",
       "0   DogCare  upgugb                        Massages for hip dysplasia?   \n",
       "1   DogCare  uow11b  My dog has this weird thing on the tail, can a...   \n",
       "2   DogCare  upa4qd                 Lab/Great Dane puppy leg shattered   \n",
       "3   DogCare  up7lse                      Any ideas what this might be?   \n",
       "4   DogCare  uoyffw  Anyone know what this could be? 7 Yr old Irish...   \n",
       "\n",
       "                                            selftext                author  \\\n",
       "0  He's a 6 yo boxer/mastiff,135 lbs and in good ...           Flaky_Watch   \n",
       "1                                                              NivTheGever   \n",
       "2  So my dog jumped out of my truck and completel...          Boomstick825   \n",
       "3  I came home from work a couple of days ago and...      ChunkyMonkey3499   \n",
       "4                                                     Disastrous_Bobcat402   \n",
       "\n",
       "        name  ups  downs  score  num_comments           created_utc  over_18  \n",
       "0  t3_upgugb    5      0      5             1  2022-05-14T06:04:21Z    False  \n",
       "1  t3_uow11b   24      0     24            15  2022-05-13T09:50:09Z    False  \n",
       "2  t3_upa4qd    1      0      1             4  2022-05-13T22:14:14Z    False  \n",
       "3  t3_up7lse    0      0      0             1  2022-05-13T19:35:38Z    False  \n",
       "4  t3_uoyffw    1      0      1             0  2022-05-13T11:44:38Z    False  "
      ]
     },
     "execution_count": 24,
     "metadata": {},
     "output_type": "execute_result"
    }
   ],
   "source": [
    "df_dogcare.head()"
   ]
  },
  {
   "cell_type": "code",
   "execution_count": 25,
   "metadata": {},
   "outputs": [],
   "source": [
    "df_dogcare.to_csv('../data/dogcare' + '.csv', header=True, index=False)"
   ]
  },
  {
   "cell_type": "markdown",
   "metadata": {},
   "source": [
    "## Sources:\n",
    "\n",
    "Initial authorization and PRAW tutorial: https://youtu.be/NRgfgtzIhBQ \n",
    "\n",
    "PRAW, Requests, and authorization code assistance to build functions:\n",
    "https://towardsdatascience.com/how-to-use-the-reddit-api-in-python-5e05ddfd1e5c\n",
    "\n",
    "Python Requests Library Guide: https://realpython.com/python-requests/ "
   ]
  }
 ],
 "metadata": {
  "interpreter": {
   "hash": "ec913dcbef39c008784dc6fe095f00003c17434557640291833f1bcf12636147"
  },
  "kernelspec": {
   "display_name": "Python 3.8.12 ('dsi-222')",
   "language": "python",
   "name": "python3"
  },
  "language_info": {
   "codemirror_mode": {
    "name": "ipython",
    "version": 3
   },
   "file_extension": ".py",
   "mimetype": "text/x-python",
   "name": "python",
   "nbconvert_exporter": "python",
   "pygments_lexer": "ipython3",
   "version": "3.8.12"
  },
  "orig_nbformat": 4
 },
 "nbformat": 4,
 "nbformat_minor": 2
}
