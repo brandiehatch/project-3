{
 "cells": [
  {
   "cell_type": "markdown",
   "metadata": {},
   "source": [
    "# Project 3: Web APIs and NLP <br>\n",
    "\n",
    "#### Brandie Hatch\n",
    "\n",
    "### Exploratory Data Analysis, Cleaning, and Feature Engineering"
   ]
  },
  {
   "cell_type": "markdown",
   "metadata": {},
   "source": [
    "## Problem\n",
    "\n",
    "\n",
    "\n",
    "Learn with Chewie presents:\n",
    "Web API and NLP Services"
   ]
  },
  {
   "cell_type": "markdown",
   "metadata": {},
   "source": [
    "What do the users of Reddit consider dog CARE vs. dog TRAINING?"
   ]
  },
  {
   "cell_type": "markdown",
   "metadata": {},
   "source": [
    "__Data Dictionary__\n",
    "\n",
    "Features used listed below:\n",
    "\n",
    "| **Feature**        | **Type** | **Dataset**  | **Description**                                                                                                                                                                                                              |\n",
    "|--------------------|----------|--------------|------------------------------------------------------------------------------------------------------------------------------------------------------------------------------------------------------------------------------|\n",
    "| **id**             | _int64_  | train & test | ID number used for Kaggle Submission.                                                                                                                                                                                        |\n",
    "| **ms_subclass**    | _object_ | train & test | Identifies the type of dwelling involved in the sale.                                                                                                                                                                        |\n",
    "| **ms_zoning**      | _object_ | train & test | Identifies the general zoning classification of the sale.                                                                                                                                                                    |\n",
    "| **neighborhood**   | _object_ | train & test | Physical locations within Ames city limits.                                                                                                                                                                                  |\n",
    "| **n_code**         | _object_ | train & test | Neighborhood locations bundled based roughly on Census Tracts.                                                                                                                                                               |\n",
    "| **percent_pop**    | _object_ | train & test | Percentage of total Black population that reported their race as Black or African American in the [2020 Census](https://mtgis-portal.geo.census.gov/arcgis/apps/MapSeries/index.html?appid=2566121a73de463995ed2b2fd7ff6eb7). |\n",
    "| **condition_1**    | _object_ | train & test | Proximity to various conditions.                                                                                                                                                                                             |\n",
    "| **condition_2**    | _object_ | train & test | Proximity to various conditions (if more than one is present).                                                                                                                                                               |\n",
    "| **overall_qual**   | _int64_  | train & test | Rates the overall material and finish of the house.                                                                                                                                                                          |\n",
    "| **overall_cond**   | _int64_  | train & test | Rates the overall condition of the house.                                                                                                                                                                                    |\n",
    "| **year_built**     | _int64_  | train & test | Original construction date.                                                                                                                                                                                                  |\n",
    "| **year_remod_add** | _int64_  | train & test | Remodel date (same as construction date if no remodeling or additions).                                                                                                                                                      |\n",
    "| **sale_type**      | _object_ | train & test | Type of sale.                                                                                                                                                                                                                |\n",
    "| **saleprice**      | _int64_  | train        | Sale price in US Dollars.                                                                                                                                                                                                    |\n"
   ]
  },
  {
   "cell_type": "markdown",
   "metadata": {},
   "source": [
    "## Imports and Reading In Data"
   ]
  },
  {
   "cell_type": "code",
   "execution_count": 3,
   "metadata": {},
   "outputs": [],
   "source": [
    "# python library imports\n",
    "import pandas as pd\n",
    "import numpy as np\n",
    "import matplotlib.pyplot as plt\n",
    "import seaborn as sns\n",
    "import scipy.stats as stats\n",
    "import statsmodels.api as sm\n",
    "\n",
    "%matplotlib inline\n",
    "pd.options.display.max_columns =999\n",
    "\n",
    "import requests\n",
    "import time\n",
    "import re\n",
    "import nltk"
   ]
  },
  {
   "cell_type": "code",
   "execution_count": 11,
   "metadata": {},
   "outputs": [
    {
     "name": "stdout",
     "output_type": "stream",
     "text": [
      "(5099, 8)\n"
     ]
    },
    {
     "data": {
      "text/html": [
       "<div>\n",
       "<style scoped>\n",
       "    .dataframe tbody tr th:only-of-type {\n",
       "        vertical-align: middle;\n",
       "    }\n",
       "\n",
       "    .dataframe tbody tr th {\n",
       "        vertical-align: top;\n",
       "    }\n",
       "\n",
       "    .dataframe thead th {\n",
       "        text-align: right;\n",
       "    }\n",
       "</style>\n",
       "<table border=\"1\" class=\"dataframe\">\n",
       "  <thead>\n",
       "    <tr style=\"text-align: right;\">\n",
       "      <th></th>\n",
       "      <th>subreddit</th>\n",
       "      <th>id</th>\n",
       "      <th>author</th>\n",
       "      <th>score</th>\n",
       "      <th>title</th>\n",
       "      <th>selftext</th>\n",
       "      <th>num_comments</th>\n",
       "      <th>created_utc</th>\n",
       "    </tr>\n",
       "  </thead>\n",
       "  <tbody>\n",
       "    <tr>\n",
       "      <th>0</th>\n",
       "      <td>Dogtraining</td>\n",
       "      <td>up55oy</td>\n",
       "      <td>devitosecret</td>\n",
       "      <td>1</td>\n",
       "      <td>Introducing big puppy to smaller older dog?</td>\n",
       "      <td>I have a 5.5 month old GSD who gets very excit...</td>\n",
       "      <td>0</td>\n",
       "      <td>1652487326</td>\n",
       "    </tr>\n",
       "    <tr>\n",
       "      <th>1</th>\n",
       "      <td>Dogtraining</td>\n",
       "      <td>up52vw</td>\n",
       "      <td>slothsandwhich</td>\n",
       "      <td>1</td>\n",
       "      <td>How do I get a cafe/brewery dog?</td>\n",
       "      <td>I am sitting at a brewery right now and all th...</td>\n",
       "      <td>0</td>\n",
       "      <td>1652487073</td>\n",
       "    </tr>\n",
       "    <tr>\n",
       "      <th>2</th>\n",
       "      <td>Dogtraining</td>\n",
       "      <td>up4qcr</td>\n",
       "      <td>L1Llunch</td>\n",
       "      <td>1</td>\n",
       "      <td>Not paying attention to me outside of my bedroom.</td>\n",
       "      <td>i have a year old german shepherd, have only h...</td>\n",
       "      <td>2</td>\n",
       "      <td>1652485953</td>\n",
       "    </tr>\n",
       "    <tr>\n",
       "      <th>3</th>\n",
       "      <td>Dogtraining</td>\n",
       "      <td>up4b6t</td>\n",
       "      <td>Affectionate-Box-276</td>\n",
       "      <td>1</td>\n",
       "      <td>6 month old husky/ shepherd mix suddenly terri...</td>\n",
       "      <td>We adopted a husky/ shepherd mix about 3 weeks...</td>\n",
       "      <td>1</td>\n",
       "      <td>1652484573</td>\n",
       "    </tr>\n",
       "    <tr>\n",
       "      <th>4</th>\n",
       "      <td>Dogtraining</td>\n",
       "      <td>up49sh</td>\n",
       "      <td>Live_Damage_2902</td>\n",
       "      <td>1</td>\n",
       "      <td>why does my Dog get excited when certain peopl...</td>\n",
       "      <td>I've noticed that when my phone rings it gets ...</td>\n",
       "      <td>0</td>\n",
       "      <td>1652484449</td>\n",
       "    </tr>\n",
       "  </tbody>\n",
       "</table>\n",
       "</div>"
      ],
      "text/plain": [
       "     subreddit      id                author  score  \\\n",
       "0  Dogtraining  up55oy          devitosecret      1   \n",
       "1  Dogtraining  up52vw        slothsandwhich      1   \n",
       "2  Dogtraining  up4qcr              L1Llunch      1   \n",
       "3  Dogtraining  up4b6t  Affectionate-Box-276      1   \n",
       "4  Dogtraining  up49sh      Live_Damage_2902      1   \n",
       "\n",
       "                                               title  \\\n",
       "0        Introducing big puppy to smaller older dog?   \n",
       "1                   How do I get a cafe/brewery dog?   \n",
       "2  Not paying attention to me outside of my bedroom.   \n",
       "3  6 month old husky/ shepherd mix suddenly terri...   \n",
       "4  why does my Dog get excited when certain peopl...   \n",
       "\n",
       "                                            selftext  num_comments  \\\n",
       "0  I have a 5.5 month old GSD who gets very excit...             0   \n",
       "1  I am sitting at a brewery right now and all th...             0   \n",
       "2  i have a year old german shepherd, have only h...             2   \n",
       "3  We adopted a husky/ shepherd mix about 3 weeks...             1   \n",
       "4  I've noticed that when my phone rings it gets ...             0   \n",
       "\n",
       "   created_utc  \n",
       "0   1652487326  \n",
       "1   1652487073  \n",
       "2   1652485953  \n",
       "3   1652484573  \n",
       "4   1652484449  "
      ]
     },
     "execution_count": 11,
     "metadata": {},
     "output_type": "execute_result"
    }
   ],
   "source": [
    "dogtraining = pd.read_csv('./dogtraining.csv')\n",
    "print(dogtraining.shape)\n",
    "dogtraining.head()"
   ]
  },
  {
   "cell_type": "markdown",
   "metadata": {},
   "source": [
    "The Dog Training data set includes 5099 observations of eight variables. "
   ]
  },
  {
   "cell_type": "code",
   "execution_count": 10,
   "metadata": {},
   "outputs": [
    {
     "name": "stdout",
     "output_type": "stream",
     "text": [
      "<class 'pandas.core.frame.DataFrame'>\n",
      "RangeIndex: 5099 entries, 0 to 5098\n",
      "Data columns (total 8 columns):\n",
      " #   Column        Non-Null Count  Dtype \n",
      "---  ------        --------------  ----- \n",
      " 0   subreddit     5099 non-null   object\n",
      " 1   id            5099 non-null   object\n",
      " 2   author        5099 non-null   object\n",
      " 3   score         5099 non-null   int64 \n",
      " 4   title         5099 non-null   object\n",
      " 5   selftext      4503 non-null   object\n",
      " 6   num_comments  5099 non-null   int64 \n",
      " 7   created_utc   5099 non-null   int64 \n",
      "dtypes: int64(3), object(5)\n",
      "memory usage: 318.8+ KB\n"
     ]
    }
   ],
   "source": [
    "dogtraining.info()"
   ]
  },
  {
   "cell_type": "code",
   "execution_count": 5,
   "metadata": {},
   "outputs": [
    {
     "data": {
      "text/plain": [
       "subreddit         0\n",
       "id                0\n",
       "author            0\n",
       "score             0\n",
       "title             0\n",
       "selftext        596\n",
       "num_comments      0\n",
       "created_utc       0\n",
       "dtype: int64"
      ]
     },
     "execution_count": 5,
     "metadata": {},
     "output_type": "execute_result"
    }
   ],
   "source": [
    "dogtraining.isnull().sum()"
   ]
  },
  {
   "cell_type": "code",
   "execution_count": 12,
   "metadata": {},
   "outputs": [
    {
     "data": {
      "text/html": [
       "<div>\n",
       "<style scoped>\n",
       "    .dataframe tbody tr th:only-of-type {\n",
       "        vertical-align: middle;\n",
       "    }\n",
       "\n",
       "    .dataframe tbody tr th {\n",
       "        vertical-align: top;\n",
       "    }\n",
       "\n",
       "    .dataframe thead th {\n",
       "        text-align: right;\n",
       "    }\n",
       "</style>\n",
       "<table border=\"1\" class=\"dataframe\">\n",
       "  <thead>\n",
       "    <tr style=\"text-align: right;\">\n",
       "      <th></th>\n",
       "      <th>score</th>\n",
       "      <th>num_comments</th>\n",
       "      <th>created_utc</th>\n",
       "    </tr>\n",
       "  </thead>\n",
       "  <tbody>\n",
       "    <tr>\n",
       "      <th>count</th>\n",
       "      <td>5099.000000</td>\n",
       "      <td>5099.000000</td>\n",
       "      <td>5.099000e+03</td>\n",
       "    </tr>\n",
       "    <tr>\n",
       "      <th>mean</th>\n",
       "      <td>1.012748</td>\n",
       "      <td>0.712493</td>\n",
       "      <td>1.649657e+09</td>\n",
       "    </tr>\n",
       "    <tr>\n",
       "      <th>std</th>\n",
       "      <td>0.457742</td>\n",
       "      <td>1.063178</td>\n",
       "      <td>1.582885e+06</td>\n",
       "    </tr>\n",
       "    <tr>\n",
       "      <th>min</th>\n",
       "      <td>0.000000</td>\n",
       "      <td>0.000000</td>\n",
       "      <td>1.646968e+09</td>\n",
       "    </tr>\n",
       "    <tr>\n",
       "      <th>25%</th>\n",
       "      <td>1.000000</td>\n",
       "      <td>0.000000</td>\n",
       "      <td>1.648247e+09</td>\n",
       "    </tr>\n",
       "    <tr>\n",
       "      <th>50%</th>\n",
       "      <td>1.000000</td>\n",
       "      <td>0.000000</td>\n",
       "      <td>1.649605e+09</td>\n",
       "    </tr>\n",
       "    <tr>\n",
       "      <th>75%</th>\n",
       "      <td>1.000000</td>\n",
       "      <td>1.000000</td>\n",
       "      <td>1.651023e+09</td>\n",
       "    </tr>\n",
       "    <tr>\n",
       "      <th>max</th>\n",
       "      <td>32.000000</td>\n",
       "      <td>25.000000</td>\n",
       "      <td>1.652487e+09</td>\n",
       "    </tr>\n",
       "  </tbody>\n",
       "</table>\n",
       "</div>"
      ],
      "text/plain": [
       "             score  num_comments   created_utc\n",
       "count  5099.000000   5099.000000  5.099000e+03\n",
       "mean      1.012748      0.712493  1.649657e+09\n",
       "std       0.457742      1.063178  1.582885e+06\n",
       "min       0.000000      0.000000  1.646968e+09\n",
       "25%       1.000000      0.000000  1.648247e+09\n",
       "50%       1.000000      0.000000  1.649605e+09\n",
       "75%       1.000000      1.000000  1.651023e+09\n",
       "max      32.000000     25.000000  1.652487e+09"
      ]
     },
     "execution_count": 12,
     "metadata": {},
     "output_type": "execute_result"
    }
   ],
   "source": [
    "dogtraining.describe()"
   ]
  },
  {
   "cell_type": "code",
   "execution_count": 7,
   "metadata": {},
   "outputs": [
    {
     "data": {
      "text/html": [
       "<div>\n",
       "<style scoped>\n",
       "    .dataframe tbody tr th:only-of-type {\n",
       "        vertical-align: middle;\n",
       "    }\n",
       "\n",
       "    .dataframe tbody tr th {\n",
       "        vertical-align: top;\n",
       "    }\n",
       "\n",
       "    .dataframe thead th {\n",
       "        text-align: right;\n",
       "    }\n",
       "</style>\n",
       "<table border=\"1\" class=\"dataframe\">\n",
       "  <thead>\n",
       "    <tr style=\"text-align: right;\">\n",
       "      <th></th>\n",
       "      <th>subreddit</th>\n",
       "      <th>id</th>\n",
       "      <th>author</th>\n",
       "      <th>score</th>\n",
       "      <th>title</th>\n",
       "      <th>selftext</th>\n",
       "      <th>num_comments</th>\n",
       "      <th>created_utc</th>\n",
       "    </tr>\n",
       "  </thead>\n",
       "  <tbody>\n",
       "    <tr>\n",
       "      <th>0</th>\n",
       "      <td>DogCare</td>\n",
       "      <td>uoyffw</td>\n",
       "      <td>Disastrous_Bobcat402</td>\n",
       "      <td>1</td>\n",
       "      <td>Anyone know what this could be? 7 Yr old Irish...</td>\n",
       "      <td>NaN</td>\n",
       "      <td>0</td>\n",
       "      <td>1652467478</td>\n",
       "    </tr>\n",
       "    <tr>\n",
       "      <th>1</th>\n",
       "      <td>DogCare</td>\n",
       "      <td>uoxknd</td>\n",
       "      <td>PerformanceStraight</td>\n",
       "      <td>1</td>\n",
       "      <td>Gum stuck in paw</td>\n",
       "      <td>[removed]</td>\n",
       "      <td>0</td>\n",
       "      <td>1652465017</td>\n",
       "    </tr>\n",
       "    <tr>\n",
       "      <th>2</th>\n",
       "      <td>DogCare</td>\n",
       "      <td>uotky9</td>\n",
       "      <td>Routine_Heart2153</td>\n",
       "      <td>1</td>\n",
       "      <td>Nala's Crucial ACL Surgery</td>\n",
       "      <td>[removed]</td>\n",
       "      <td>0</td>\n",
       "      <td>1652453786</td>\n",
       "    </tr>\n",
       "    <tr>\n",
       "      <th>3</th>\n",
       "      <td>DogCare</td>\n",
       "      <td>uokuoz</td>\n",
       "      <td>PrincessStorm97</td>\n",
       "      <td>1</td>\n",
       "      <td>Enrichment that doesn’t involve treats or exer...</td>\n",
       "      <td>Sad to say my oldest has heart worms. We start...</td>\n",
       "      <td>0</td>\n",
       "      <td>1652420750</td>\n",
       "    </tr>\n",
       "    <tr>\n",
       "      <th>4</th>\n",
       "      <td>DogCare</td>\n",
       "      <td>uohszh</td>\n",
       "      <td>LaTesora</td>\n",
       "      <td>1</td>\n",
       "      <td>New Husky/German Shepherd owner looking for ad...</td>\n",
       "      <td>Hi y'all!\\n\\nI just adopted a 5 year old Germa...</td>\n",
       "      <td>0</td>\n",
       "      <td>1652409660</td>\n",
       "    </tr>\n",
       "  </tbody>\n",
       "</table>\n",
       "</div>"
      ],
      "text/plain": [
       "  subreddit      id                author  score  \\\n",
       "0   DogCare  uoyffw  Disastrous_Bobcat402      1   \n",
       "1   DogCare  uoxknd   PerformanceStraight      1   \n",
       "2   DogCare  uotky9     Routine_Heart2153      1   \n",
       "3   DogCare  uokuoz       PrincessStorm97      1   \n",
       "4   DogCare  uohszh              LaTesora      1   \n",
       "\n",
       "                                               title  \\\n",
       "0  Anyone know what this could be? 7 Yr old Irish...   \n",
       "1                                   Gum stuck in paw   \n",
       "2                         Nala's Crucial ACL Surgery   \n",
       "3  Enrichment that doesn’t involve treats or exer...   \n",
       "4  New Husky/German Shepherd owner looking for ad...   \n",
       "\n",
       "                                            selftext  num_comments  \\\n",
       "0                                                NaN             0   \n",
       "1                                          [removed]             0   \n",
       "2                                          [removed]             0   \n",
       "3  Sad to say my oldest has heart worms. We start...             0   \n",
       "4  Hi y'all!\\n\\nI just adopted a 5 year old Germa...             0   \n",
       "\n",
       "   created_utc  \n",
       "0   1652467478  \n",
       "1   1652465017  \n",
       "2   1652453786  \n",
       "3   1652420750  \n",
       "4   1652409660  "
      ]
     },
     "execution_count": 7,
     "metadata": {},
     "output_type": "execute_result"
    }
   ],
   "source": [
    "dogcare = pd.read_csv('./dogcare.csv')\n",
    "dogcare.head()"
   ]
  },
  {
   "cell_type": "code",
   "execution_count": 8,
   "metadata": {},
   "outputs": [
    {
     "data": {
      "text/plain": [
       "subreddit          0\n",
       "id                 0\n",
       "author             0\n",
       "score              0\n",
       "title              0\n",
       "selftext        2180\n",
       "num_comments       0\n",
       "created_utc        0\n",
       "dtype: int64"
      ]
     },
     "execution_count": 8,
     "metadata": {},
     "output_type": "execute_result"
    }
   ],
   "source": [
    "dogcare.isnull().sum()"
   ]
  },
  {
   "cell_type": "markdown",
   "metadata": {},
   "source": [
    "## Explore Data"
   ]
  },
  {
   "cell_type": "code",
   "execution_count": 2,
   "metadata": {},
   "outputs": [],
   "source": [
    "\n",
    "\n"
   ]
  },
  {
   "cell_type": "markdown",
   "metadata": {},
   "source": [
    "## Model"
   ]
  },
  {
   "cell_type": "code",
   "execution_count": null,
   "metadata": {},
   "outputs": [],
   "source": []
  },
  {
   "cell_type": "markdown",
   "metadata": {},
   "source": [
    "## Model Evaluation"
   ]
  },
  {
   "cell_type": "code",
   "execution_count": null,
   "metadata": {},
   "outputs": [],
   "source": []
  },
  {
   "cell_type": "markdown",
   "metadata": {},
   "source": [
    "## Answer Problem, Conclusions, and Recommendations"
   ]
  },
  {
   "cell_type": "code",
   "execution_count": null,
   "metadata": {},
   "outputs": [],
   "source": []
  },
  {
   "cell_type": "markdown",
   "metadata": {},
   "source": [
    "## Sources"
   ]
  }
 ],
 "metadata": {
  "interpreter": {
   "hash": "ec913dcbef39c008784dc6fe095f00003c17434557640291833f1bcf12636147"
  },
  "kernelspec": {
   "display_name": "Python 3.8.12 ('dsi-222')",
   "language": "python",
   "name": "python3"
  },
  "language_info": {
   "codemirror_mode": {
    "name": "ipython",
    "version": 3
   },
   "file_extension": ".py",
   "mimetype": "text/x-python",
   "name": "python",
   "nbconvert_exporter": "python",
   "pygments_lexer": "ipython3",
   "version": "3.8.12"
  },
  "orig_nbformat": 4
 },
 "nbformat": 4,
 "nbformat_minor": 2
}
