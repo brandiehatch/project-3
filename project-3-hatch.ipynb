{
 "cells": [
  {
   "cell_type": "markdown",
   "metadata": {},
   "source": [
    "# Project 3: Web APIs and NLP <br>\n",
    "\n",
    "#### Brandie Hatch"
   ]
  },
  {
   "cell_type": "markdown",
   "metadata": {},
   "source": [
    "## Problem\n",
    "\n",
    "\n",
    "\n",
    "Learn with Chewie presents:\n",
    "Web API and NLP Services"
   ]
  },
  {
   "cell_type": "code",
   "execution_count": null,
   "metadata": {},
   "outputs": [],
   "source": []
  },
  {
   "cell_type": "markdown",
   "metadata": {},
   "source": [
    "## Preparation"
   ]
  },
  {
   "cell_type": "code",
   "execution_count": 49,
   "metadata": {},
   "outputs": [],
   "source": [
    "# imports\n",
    "import pandas as pd\n",
    "import numpy as np\n",
    "import matplotlib.pyplot as plt\n",
    "import seaborn as sns\n",
    "import scipy.stats as stats\n",
    "import statsmodels.api as sm\n",
    "\n",
    "%matplotlib inline\n",
    "pd.options.display.max_columns =999\n",
    "\n",
    "import requests\n",
    "import time\n",
    "import re\n",
    "import nltk"
   ]
  },
  {
   "cell_type": "code",
   "execution_count": 60,
   "metadata": {},
   "outputs": [
    {
     "name": "stdout",
     "output_type": "stream",
     "text": [
      "False\n"
     ]
    }
   ],
   "source": [
    "# Gather Data\n",
    "import praw\n",
    "\n",
    "reddit = praw.Reddit(\n",
    "    client_id = '5aTMVLqpXQvo6vpgNv171w',\n",
    "    client_secret = 'FAjO19Zyx5W4N9llEeklP8apwz20Zw',\n",
    "    username='BrandieHatch',\n",
    "    password='Qwert123',\n",
    "    user_agent='praw_BH',\n",
    ")\n",
    "print(reddit.read_only)"
   ]
  },
  {
   "cell_type": "code",
   "execution_count": 51,
   "metadata": {},
   "outputs": [
    {
     "name": "stdout",
     "output_type": "stream",
     "text": [
      "Dogtraining\n",
      "DogTraining: For training and rehabilitating dogs and puppies and all things canine behavior\n",
      "###Welcome\n",
      "This is a forum on dog training and behavior that focuses on a [least intrusive, minimally aversive approach.](https://iaabc.org/about/LIMA)    \n",
      "   \n",
      "The advice here is not a replacement for professional help. If your training is not fun and effective, or if you need additional help, then please [find a certified trainer](http://www.reddit.com/r/Dogtraining/wiki/findingatrainer) for assistance.  \n",
      "  \n",
      "----   \n",
      "  \n",
      "###Filters   \n",
      "[All | Remove Filter](http://reddit.com/r/Dogtraining/)   \n",
      "[Academic](http://ac.reddit.com/r/dogtraining/search?q=flair%3Aacademic&restrict_sr=on&sort=new&t=all#ac) [Announcement](http://an.reddit.com/r/Dogtraining/search?q=flair%3Aannouncing&restrict_sr=on&sort=new&t=all#an)  \n",
      "[Brags](http://br.reddit.com/r/Dogtraining/search?q=flair%3Abrags&restrict_sr=on&sort=new&t=all#br) [Community](http://cm.reddit.com/r/Dogtraining/search?q=flair%3Acommunity&restrict_sr=on&sort=new&t=all#cm)  \n",
      "[Criticism Welcome](http://cw.reddit.com/r/Dogtraining/search?q=flair%3Accw+OR+flair%3A\"constructive+criticism+welcome\"&restrict_sr=on&sort=new&t=all#cw) [Discussion](http://ds.reddit.com/r/Dogtraining/search?q=flair%3Adiscussion&restrict_sr=on&sort=new&t=all#ds)  \n",
      "[Equipment](http://eq.reddit.com/r/Dogtraining/search?q=flair%3Aequipment&restrict_sr=on&sort=new&t=all#eq) [Help](http://hp.reddit.com/r/Dogtraining/search?q=flair%3Ahelp&restrict_sr=on&sort=new&t=all#hp)  \n",
      "[Industry](http://up.reddit.com/r/Dogtraining/search?q=flair%3Aindustry&restrict_sr=on&sort=new&t=all#in) [Resource](http://rs.reddit.com/r/Dogtraining/search?q=flair%3Aresource&restrict_sr=on&sort=new&t=all#rs) [Update](http://up.reddit.com/r/Dogtraining/search?q=flair%3Aupdate&restrict_sr=on&sort=new&t=all#up) \n",
      "  \n",
      "----   \n",
      "\n",
      "###Posting Guidelines:  \n",
      "Please read our [rules](https://www.reddit.com/r/Dogtraining/about/rules/) and [posting guidelines](http://www.reddit.com/r/Dogtraining/wiki/guidelines) before posting or commenting.\n",
      "*Posts and comments that don't follow these guidelines will be removed.* In particular, please note that recommending the use of aversives like pain, startle, fear, or intimidation to train dogs is not permitted here.  \n",
      "  \n",
      "Please flair your posts using its flair link (not [help], and so on)! See our [flair guide](https://www.reddit.com/r/Dogtraining/wiki/flairguide) for help.\n",
      "\n",
      "----\n",
      "  \n",
      "### Notable [WIKI](http://www.reddit.com/r/Dogtraining/wiki/index) pages:   \n",
      "\n",
      "  - [Book recommendations](http://www.reddit.com/r/Dogtraining/wiki/books)  \n",
      "  - [Online resources](http://www.reddit.com/r/Dogtraining/wiki/onlineresources)\n",
      "  - [How to choose a trainer](http://www.reddit.com/r/Dogtraining/wiki/findingatrainer)\n",
      "  - [Posting guidelines](http://www.reddit.com/r/Dogtraining/wiki/guidelines)  \n",
      "  - [Dominance](https://www.reddit.com/r/dogtraining/wiki/dominance)  \n",
      "  - [Certified? Apply for User Flair](https://www.reddit.com/r/Dogtraining/wiki/userflair)  \n",
      "\n",
      "----  \n",
      "\n",
      "For content relating to the physical care of dogs, try our sister subreddit, /r/dogCare.\n"
     ]
    }
   ],
   "source": [
    "subreddit = reddit.subreddit('Dogtraining')\n",
    "\n",
    "print(subreddit.display_name)\n",
    "print(subreddit.title)\n",
    "print(subreddit.description)"
   ]
  },
  {
   "cell_type": "code",
   "execution_count": 52,
   "metadata": {},
   "outputs": [
    {
     "name": "stdout",
     "output_type": "stream",
     "text": [
      "['STR_FIELD', '__class__', '__delattr__', '__dict__', '__dir__', '__doc__', '__eq__', '__format__', '__ge__', '__getattr__', '__getattribute__', '__gt__', '__hash__', '__init__', '__init_subclass__', '__le__', '__lt__', '__module__', '__ne__', '__new__', '__reduce__', '__reduce_ex__', '__repr__', '__setattr__', '__sizeof__', '__str__', '__subclasshook__', '__weakref__', '_chunk', '_comments_by_id', '_fetch', '_fetch_data', '_fetch_info', '_fetched', '_kind', '_reddit', '_reset_attributes', '_safely_add_arguments', '_url_parts', '_vote', 'all_awardings', 'allow_live_comments', 'approved_at_utc', 'approved_by', 'archived', 'author', 'author_flair_background_color', 'author_flair_css_class', 'author_flair_richtext', 'author_flair_template_id', 'author_flair_text', 'author_flair_text_color', 'author_flair_type', 'author_fullname', 'author_is_blocked', 'author_patreon_flair', 'author_premium', 'award', 'awarders', 'banned_at_utc', 'banned_by', 'can_gild', 'can_mod_post', 'category', 'clear_vote', 'clicked', 'comment_limit', 'comment_sort', 'comments', 'content_categories', 'contest_mode', 'created', 'created_utc', 'crosspost', 'delete', 'disable_inbox_replies', 'discussion_type', 'distinguished', 'domain', 'downs', 'downvote', 'duplicates', 'edit', 'edited', 'enable_inbox_replies', 'flair', 'fullname', 'gild', 'gilded', 'gildings', 'hidden', 'hide', 'hide_score', 'id', 'id_from_url', 'is_created_from_ads_ui', 'is_crosspostable', 'is_meta', 'is_original_content', 'is_reddit_media_domain', 'is_robot_indexable', 'is_self', 'is_video', 'likes', 'link_flair_background_color', 'link_flair_css_class', 'link_flair_richtext', 'link_flair_template_id', 'link_flair_text', 'link_flair_text_color', 'link_flair_type', 'locked', 'mark_visited', 'media', 'media_embed', 'media_only', 'mod', 'mod_note', 'mod_reason_by', 'mod_reason_title', 'mod_reports', 'name', 'no_follow', 'num_comments', 'num_crossposts', 'num_reports', 'over_18', 'parent_whitelist_status', 'parse', 'permalink', 'pinned', 'post_hint', 'preview', 'pwls', 'quarantine', 'removal_reason', 'removed_by', 'removed_by_category', 'reply', 'report', 'report_reasons', 'save', 'saved', 'score', 'secure_media', 'secure_media_embed', 'selftext', 'selftext_html', 'send_replies', 'shortlink', 'spoiler', 'stickied', 'subreddit', 'subreddit_id', 'subreddit_name_prefixed', 'subreddit_subscribers', 'subreddit_type', 'suggested_sort', 'thumbnail', 'thumbnail_height', 'thumbnail_width', 'title', 'top_awarded_type', 'total_awards_received', 'treatment_tags', 'unhide', 'unsave', 'ups', 'upvote', 'upvote_ratio', 'url', 'user_reports', 'view_count', 'visited', 'whitelist_status', 'wls']\n"
     ]
    }
   ],
   "source": [
    "hot_dogtraining = subreddit.hot(limit=1)\n",
    "\n",
    "for submission in hot_dogtraining:\n",
    "    print(dir(submission))   # can see what all is connected"
   ]
  },
  {
   "cell_type": "code",
   "execution_count": 53,
   "metadata": {},
   "outputs": [
    {
     "name": "stdout",
     "output_type": "stream",
     "text": [
      "8\n",
      "0\n",
      "Trick of the Month - May 2022 - Crawl Backwards\n",
      "7\n",
      "0\n",
      "Announcement - Puppy Enrichment AMA With Allie Bender! Sunday 5/22 1PM EST\n",
      "344\n",
      "0\n",
      "10 Month old cocker spaniel agression , he's very excited for walks , but it's very hard to wear and remove the harness and he ends up like this. Please help!\n",
      "5\n",
      "0\n",
      "How do I get a cafe/brewery dog?\n",
      "4\n",
      "0\n",
      "Dog suddenly peeing?\n"
     ]
    }
   ],
   "source": [
    "hot_dogtraining = subreddit.hot(limit=5)\n",
    "\n",
    "for submission in hot_dogtraining:\n",
    "    print(submission.ups)   \n",
    "    print(submission.downs)\n",
    "    print(submission.title)"
   ]
  },
  {
   "cell_type": "code",
   "execution_count": 58,
   "metadata": {},
   "outputs": [
    {
     "name": "stdout",
     "output_type": "stream",
     "text": [
      "Title: 10 Month old cocker spaniel agression , he's very excited for walks , but it's very hard to wear and remove the harness and he ends up like this. Please help!, ups: 341, downs: 0\n",
      "Title: How do I get a cafe/brewery dog?, ups: 5, downs: 0\n",
      "Title: Dog suddenly peeing?, ups: 4, downs: 0\n"
     ]
    }
   ],
   "source": [
    "hot_dogtraining = subreddit.hot(limit=5)\n",
    "\n",
    "for submission in hot_dogtraining:\n",
    "    if not submission.stickied:\n",
    "        print('Title: {}, ups: {}, downs: {}'.format(submission.title, submission.ups, submission.downs))"
   ]
  },
  {
   "cell_type": "code",
   "execution_count": 67,
   "metadata": {},
   "outputs": [],
   "source": [
    "subreddit_dogs = reddit.subreddit('dogtraining+dogcare').hot(limit=5)\n",
    "\n",
    "#subs = []\n",
    "\n",
    "for submission in subreddit_dogs:\n",
    "    if not submission.stickied:\n",
    "        subs = {'subreddit: {}, id: {}, Title: {}, author: {}, ups: {}, downs: {}, selftext: {}, score: {}'.format(submission.subreddit, submission.id, submission.title, submission.author, submission.ups, submission.downs, submission.selftext, submission.score)}\n",
    "        post_df = pd.DataFrame(data=subs)\n",
    "\n"
   ]
  },
  {
   "cell_type": "code",
   "execution_count": 78,
   "metadata": {},
   "outputs": [],
   "source": [
    "#def posts(subreddit):\n",
    "\n",
    "#subs_dict = {}\n",
    "\n",
    "subreddit_dogs = reddit.subreddit('dogtraining+dogcare').hot(limit=5)\n",
    "\n",
    "for submission in subreddit_dogs:\n",
    "    if not submission.stickied:\n",
    "\n",
    "        df = pd.DataFrame([['subreddit: {}, id: {}, Title: {}, author: {}, ups: {}, downs: {}, selftext: {}, score: {}'.format(submission.subreddit, submission.id, submission.title, submission.author, submission.ups, submission.downs, submission.selftext, submission.score)]])\n",
    "\n",
    "\n",
    "#def posts_to_df(posts):\n",
    "    #data = posts['data']\n",
    "    \n",
    "    #df = pd.DataFrame(data)\n",
    "    #return df[['subreddit', 'id', 'author', 'score', 'title', 'selftext', 'num_comments', 'created_utc']]\n",
    "\n",
    "\n"
   ]
  },
  {
   "cell_type": "code",
   "execution_count": 79,
   "metadata": {},
   "outputs": [
    {
     "data": {
      "text/html": [
       "<div>\n",
       "<style scoped>\n",
       "    .dataframe tbody tr th:only-of-type {\n",
       "        vertical-align: middle;\n",
       "    }\n",
       "\n",
       "    .dataframe tbody tr th {\n",
       "        vertical-align: top;\n",
       "    }\n",
       "\n",
       "    .dataframe thead th {\n",
       "        text-align: right;\n",
       "    }\n",
       "</style>\n",
       "<table border=\"1\" class=\"dataframe\">\n",
       "  <thead>\n",
       "    <tr style=\"text-align: right;\">\n",
       "      <th></th>\n",
       "      <th>0</th>\n",
       "    </tr>\n",
       "  </thead>\n",
       "  <tbody>\n",
       "    <tr>\n",
       "      <th>0</th>\n",
       "      <td>subreddit: Dogtraining, id: uoc80s, Title: “Wa...</td>\n",
       "    </tr>\n",
       "  </tbody>\n",
       "</table>\n",
       "</div>"
      ],
      "text/plain": [
       "                                                   0\n",
       "0  subreddit: Dogtraining, id: uoc80s, Title: “Wa..."
      ]
     },
     "execution_count": 79,
     "metadata": {},
     "output_type": "execute_result"
    }
   ],
   "source": [
    "df.head()"
   ]
  },
  {
   "cell_type": "code",
   "execution_count": 68,
   "metadata": {},
   "outputs": [
    {
     "data": {
      "text/html": [
       "<div>\n",
       "<style scoped>\n",
       "    .dataframe tbody tr th:only-of-type {\n",
       "        vertical-align: middle;\n",
       "    }\n",
       "\n",
       "    .dataframe tbody tr th {\n",
       "        vertical-align: top;\n",
       "    }\n",
       "\n",
       "    .dataframe thead th {\n",
       "        text-align: right;\n",
       "    }\n",
       "</style>\n",
       "<table border=\"1\" class=\"dataframe\">\n",
       "  <thead>\n",
       "    <tr style=\"text-align: right;\">\n",
       "      <th></th>\n",
       "      <th>0</th>\n",
       "    </tr>\n",
       "  </thead>\n",
       "  <tbody>\n",
       "    <tr>\n",
       "      <th>0</th>\n",
       "      <td>subreddit: Dogtraining, id: uoc80s, Title: “Wa...</td>\n",
       "    </tr>\n",
       "  </tbody>\n",
       "</table>\n",
       "</div>"
      ],
      "text/plain": [
       "                                                   0\n",
       "0  subreddit: Dogtraining, id: uoc80s, Title: “Wa..."
      ]
     },
     "execution_count": 68,
     "metadata": {},
     "output_type": "execute_result"
    }
   ],
   "source": [
    "post_df.head()"
   ]
  },
  {
   "cell_type": "code",
   "execution_count": 13,
   "metadata": {},
   "outputs": [],
   "source": [
    "response = requests.get(\n",
    "    'http://reddit.com/r/Dogtraining/',\n",
    "    params={'q': 'requests+language:python'},\n",
    ")"
   ]
  },
  {
   "cell_type": "code",
   "execution_count": 14,
   "metadata": {},
   "outputs": [
    {
     "data": {
      "text/plain": [
       "<Response [None]>"
      ]
     },
     "execution_count": 14,
     "metadata": {},
     "output_type": "execute_result"
    }
   ],
   "source": [
    "requests.Response()"
   ]
  },
  {
   "cell_type": "code",
   "execution_count": null,
   "metadata": {},
   "outputs": [],
   "source": [
    "url = 'http://reddit.com/r/Dogtraining/'\n",
    "params = {}\n",
    "x = requests.get(url, params)\n",
    "print(x.json())"
   ]
  },
  {
   "cell_type": "code",
   "execution_count": 33,
   "metadata": {},
   "outputs": [],
   "source": [
    "def get_posts_batch(subreddit, before):\n",
    "    \n",
    "    url = 'https://api.pushshift.io/reddit/search/submission'\n",
    "    \n",
    "    params = {\n",
    "        'subreddit': subreddit,\n",
    "        'size': 100\n",
    "    }\n",
    "    if before is not None: \n",
    "        params['before'] = before\n",
    "        \n",
    "    res = requests.get(url, params)\n",
    "\n",
    "    return res.json()\n",
    "\n",
    "def posts_to_df(posts):\n",
    "    data = posts['data']\n",
    "    \n",
    "    df = pd.DataFrame(data)\n",
    "    return df[['subreddit', 'id', 'author', 'score', 'title', 'selftext', 'num_comments', 'created_utc']]\n",
    "\n",
    "def get_posts(subreddit, num_posts):\n",
    "    \n",
    "    post_ids = set()\n",
    "    \n",
    "    before = None\n",
    "    \n",
    "    i = 0\n",
    "    \n",
    "    while len(post_ids) < num_posts:\n",
    "        batch = get_posts_batch(subreddit, before)\n",
    "        \n",
    "        df = posts_to_df(batch)\n",
    "        \n",
    "        before = df['created_utc'].min()\n",
    "        \n",
    "        post_ids.update(df['id'])\n",
    "        \n",
    "        if i == 0: \n",
    "            header = True\n",
    "            mode = 'w'\n",
    "        else: \n",
    "            header = False \n",
    "            mode = 'a'\n",
    "        df.to_csv(subreddit + '.csv', mode=mode, header=header, index=False)\n",
    "        print(f'We have scraped {len(post_ids)} posts.')\n",
    "        i += 1\n",
    "        time.sleep(2)"
   ]
  },
  {
   "cell_type": "code",
   "execution_count": 37,
   "metadata": {},
   "outputs": [
    {
     "name": "stdout",
     "output_type": "stream",
     "text": [
      "We have scraped 100 posts.\n",
      "We have scraped 200 posts.\n",
      "We have scraped 300 posts.\n",
      "We have scraped 400 posts.\n",
      "We have scraped 500 posts.\n",
      "We have scraped 600 posts.\n",
      "We have scraped 700 posts.\n",
      "We have scraped 800 posts.\n",
      "We have scraped 900 posts.\n",
      "We have scraped 1000 posts.\n",
      "We have scraped 1100 posts.\n",
      "We have scraped 1200 posts.\n",
      "We have scraped 1300 posts.\n",
      "We have scraped 1400 posts.\n",
      "We have scraped 1500 posts.\n",
      "We have scraped 1600 posts.\n",
      "We have scraped 1700 posts.\n",
      "We have scraped 1800 posts.\n",
      "We have scraped 1900 posts.\n",
      "We have scraped 2000 posts.\n",
      "We have scraped 2100 posts.\n",
      "We have scraped 2200 posts.\n",
      "We have scraped 2300 posts.\n",
      "We have scraped 2400 posts.\n",
      "We have scraped 2500 posts.\n",
      "We have scraped 2600 posts.\n",
      "We have scraped 2700 posts.\n",
      "We have scraped 2800 posts.\n",
      "We have scraped 2900 posts.\n",
      "We have scraped 3000 posts.\n",
      "We have scraped 3100 posts.\n",
      "We have scraped 3199 posts.\n",
      "We have scraped 3299 posts.\n",
      "We have scraped 3399 posts.\n",
      "We have scraped 3499 posts.\n",
      "We have scraped 3599 posts.\n",
      "We have scraped 3699 posts.\n",
      "We have scraped 3799 posts.\n",
      "We have scraped 3899 posts.\n",
      "We have scraped 3999 posts.\n",
      "We have scraped 4099 posts.\n",
      "We have scraped 4199 posts.\n",
      "We have scraped 4299 posts.\n",
      "We have scraped 4399 posts.\n",
      "We have scraped 4499 posts.\n",
      "We have scraped 4599 posts.\n",
      "We have scraped 4699 posts.\n",
      "We have scraped 4799 posts.\n",
      "We have scraped 4899 posts.\n",
      "We have scraped 4999 posts.\n",
      "We have scraped 5099 posts.\n"
     ]
    }
   ],
   "source": [
    "get_posts('dogtraining', 5000)"
   ]
  },
  {
   "cell_type": "code",
   "execution_count": 39,
   "metadata": {},
   "outputs": [
    {
     "data": {
      "text/html": [
       "<div>\n",
       "<style scoped>\n",
       "    .dataframe tbody tr th:only-of-type {\n",
       "        vertical-align: middle;\n",
       "    }\n",
       "\n",
       "    .dataframe tbody tr th {\n",
       "        vertical-align: top;\n",
       "    }\n",
       "\n",
       "    .dataframe thead th {\n",
       "        text-align: right;\n",
       "    }\n",
       "</style>\n",
       "<table border=\"1\" class=\"dataframe\">\n",
       "  <thead>\n",
       "    <tr style=\"text-align: right;\">\n",
       "      <th></th>\n",
       "      <th>subreddit</th>\n",
       "      <th>id</th>\n",
       "      <th>author</th>\n",
       "      <th>score</th>\n",
       "      <th>title</th>\n",
       "      <th>selftext</th>\n",
       "      <th>num_comments</th>\n",
       "      <th>created_utc</th>\n",
       "    </tr>\n",
       "  </thead>\n",
       "  <tbody>\n",
       "    <tr>\n",
       "      <th>0</th>\n",
       "      <td>Dogtraining</td>\n",
       "      <td>up55oy</td>\n",
       "      <td>devitosecret</td>\n",
       "      <td>1</td>\n",
       "      <td>Introducing big puppy to smaller older dog?</td>\n",
       "      <td>I have a 5.5 month old GSD who gets very excit...</td>\n",
       "      <td>0</td>\n",
       "      <td>1652487326</td>\n",
       "    </tr>\n",
       "    <tr>\n",
       "      <th>1</th>\n",
       "      <td>Dogtraining</td>\n",
       "      <td>up52vw</td>\n",
       "      <td>slothsandwhich</td>\n",
       "      <td>1</td>\n",
       "      <td>How do I get a cafe/brewery dog?</td>\n",
       "      <td>I am sitting at a brewery right now and all th...</td>\n",
       "      <td>0</td>\n",
       "      <td>1652487073</td>\n",
       "    </tr>\n",
       "    <tr>\n",
       "      <th>2</th>\n",
       "      <td>Dogtraining</td>\n",
       "      <td>up4qcr</td>\n",
       "      <td>L1Llunch</td>\n",
       "      <td>1</td>\n",
       "      <td>Not paying attention to me outside of my bedroom.</td>\n",
       "      <td>i have a year old german shepherd, have only h...</td>\n",
       "      <td>2</td>\n",
       "      <td>1652485953</td>\n",
       "    </tr>\n",
       "    <tr>\n",
       "      <th>3</th>\n",
       "      <td>Dogtraining</td>\n",
       "      <td>up4b6t</td>\n",
       "      <td>Affectionate-Box-276</td>\n",
       "      <td>1</td>\n",
       "      <td>6 month old husky/ shepherd mix suddenly terri...</td>\n",
       "      <td>We adopted a husky/ shepherd mix about 3 weeks...</td>\n",
       "      <td>1</td>\n",
       "      <td>1652484573</td>\n",
       "    </tr>\n",
       "    <tr>\n",
       "      <th>4</th>\n",
       "      <td>Dogtraining</td>\n",
       "      <td>up49sh</td>\n",
       "      <td>Live_Damage_2902</td>\n",
       "      <td>1</td>\n",
       "      <td>why does my Dog get excited when certain peopl...</td>\n",
       "      <td>I've noticed that when my phone rings it gets ...</td>\n",
       "      <td>0</td>\n",
       "      <td>1652484449</td>\n",
       "    </tr>\n",
       "  </tbody>\n",
       "</table>\n",
       "</div>"
      ],
      "text/plain": [
       "     subreddit      id                author  score  \\\n",
       "0  Dogtraining  up55oy          devitosecret      1   \n",
       "1  Dogtraining  up52vw        slothsandwhich      1   \n",
       "2  Dogtraining  up4qcr              L1Llunch      1   \n",
       "3  Dogtraining  up4b6t  Affectionate-Box-276      1   \n",
       "4  Dogtraining  up49sh      Live_Damage_2902      1   \n",
       "\n",
       "                                               title  \\\n",
       "0        Introducing big puppy to smaller older dog?   \n",
       "1                   How do I get a cafe/brewery dog?   \n",
       "2  Not paying attention to me outside of my bedroom.   \n",
       "3  6 month old husky/ shepherd mix suddenly terri...   \n",
       "4  why does my Dog get excited when certain peopl...   \n",
       "\n",
       "                                            selftext  num_comments  \\\n",
       "0  I have a 5.5 month old GSD who gets very excit...             0   \n",
       "1  I am sitting at a brewery right now and all th...             0   \n",
       "2  i have a year old german shepherd, have only h...             2   \n",
       "3  We adopted a husky/ shepherd mix about 3 weeks...             1   \n",
       "4  I've noticed that when my phone rings it gets ...             0   \n",
       "\n",
       "   created_utc  \n",
       "0   1652487326  \n",
       "1   1652487073  \n",
       "2   1652485953  \n",
       "3   1652484573  \n",
       "4   1652484449  "
      ]
     },
     "execution_count": 39,
     "metadata": {},
     "output_type": "execute_result"
    }
   ],
   "source": [
    "dogtraining = pd.read_csv('./dogtraining.csv')\n",
    "dogtraining.head()"
   ]
  },
  {
   "cell_type": "code",
   "execution_count": 40,
   "metadata": {},
   "outputs": [
    {
     "data": {
      "text/plain": [
       "subreddit         0\n",
       "id                0\n",
       "author            0\n",
       "score             0\n",
       "title             0\n",
       "selftext        596\n",
       "num_comments      0\n",
       "created_utc       0\n",
       "dtype: int64"
      ]
     },
     "execution_count": 40,
     "metadata": {},
     "output_type": "execute_result"
    }
   ],
   "source": [
    "dogtraining.isnull().sum()"
   ]
  },
  {
   "cell_type": "code",
   "execution_count": 41,
   "metadata": {},
   "outputs": [
    {
     "name": "stdout",
     "output_type": "stream",
     "text": [
      "We have scraped 100 posts.\n",
      "We have scraped 200 posts.\n",
      "We have scraped 300 posts.\n",
      "We have scraped 400 posts.\n",
      "We have scraped 500 posts.\n",
      "We have scraped 600 posts.\n",
      "We have scraped 700 posts.\n",
      "We have scraped 800 posts.\n",
      "We have scraped 900 posts.\n",
      "We have scraped 1000 posts.\n",
      "We have scraped 1100 posts.\n",
      "We have scraped 1200 posts.\n",
      "We have scraped 1300 posts.\n",
      "We have scraped 1400 posts.\n",
      "We have scraped 1500 posts.\n",
      "We have scraped 1600 posts.\n",
      "We have scraped 1700 posts.\n",
      "We have scraped 1799 posts.\n",
      "We have scraped 1899 posts.\n",
      "We have scraped 1999 posts.\n",
      "We have scraped 2099 posts.\n",
      "We have scraped 2199 posts.\n",
      "We have scraped 2299 posts.\n",
      "We have scraped 2399 posts.\n",
      "We have scraped 2499 posts.\n",
      "We have scraped 2599 posts.\n",
      "We have scraped 2699 posts.\n",
      "We have scraped 2799 posts.\n",
      "We have scraped 2899 posts.\n",
      "We have scraped 2999 posts.\n",
      "We have scraped 3099 posts.\n",
      "We have scraped 3199 posts.\n",
      "We have scraped 3299 posts.\n",
      "We have scraped 3399 posts.\n",
      "We have scraped 3499 posts.\n",
      "We have scraped 3599 posts.\n",
      "We have scraped 3699 posts.\n",
      "We have scraped 3799 posts.\n",
      "We have scraped 3899 posts.\n",
      "We have scraped 3999 posts.\n",
      "We have scraped 4096 posts.\n",
      "We have scraped 4196 posts.\n",
      "We have scraped 4296 posts.\n",
      "We have scraped 4396 posts.\n",
      "We have scraped 4496 posts.\n",
      "We have scraped 4596 posts.\n",
      "We have scraped 4696 posts.\n",
      "We have scraped 4796 posts.\n",
      "We have scraped 4896 posts.\n",
      "We have scraped 4996 posts.\n",
      "We have scraped 5096 posts.\n"
     ]
    }
   ],
   "source": [
    "get_posts('dogcare', 5000)"
   ]
  },
  {
   "cell_type": "code",
   "execution_count": 43,
   "metadata": {},
   "outputs": [
    {
     "data": {
      "text/html": [
       "<div>\n",
       "<style scoped>\n",
       "    .dataframe tbody tr th:only-of-type {\n",
       "        vertical-align: middle;\n",
       "    }\n",
       "\n",
       "    .dataframe tbody tr th {\n",
       "        vertical-align: top;\n",
       "    }\n",
       "\n",
       "    .dataframe thead th {\n",
       "        text-align: right;\n",
       "    }\n",
       "</style>\n",
       "<table border=\"1\" class=\"dataframe\">\n",
       "  <thead>\n",
       "    <tr style=\"text-align: right;\">\n",
       "      <th></th>\n",
       "      <th>subreddit</th>\n",
       "      <th>id</th>\n",
       "      <th>author</th>\n",
       "      <th>score</th>\n",
       "      <th>title</th>\n",
       "      <th>selftext</th>\n",
       "      <th>num_comments</th>\n",
       "      <th>created_utc</th>\n",
       "    </tr>\n",
       "  </thead>\n",
       "  <tbody>\n",
       "    <tr>\n",
       "      <th>0</th>\n",
       "      <td>DogCare</td>\n",
       "      <td>uoyffw</td>\n",
       "      <td>Disastrous_Bobcat402</td>\n",
       "      <td>1</td>\n",
       "      <td>Anyone know what this could be? 7 Yr old Irish...</td>\n",
       "      <td>NaN</td>\n",
       "      <td>0</td>\n",
       "      <td>1652467478</td>\n",
       "    </tr>\n",
       "    <tr>\n",
       "      <th>1</th>\n",
       "      <td>DogCare</td>\n",
       "      <td>uoxknd</td>\n",
       "      <td>PerformanceStraight</td>\n",
       "      <td>1</td>\n",
       "      <td>Gum stuck in paw</td>\n",
       "      <td>[removed]</td>\n",
       "      <td>0</td>\n",
       "      <td>1652465017</td>\n",
       "    </tr>\n",
       "    <tr>\n",
       "      <th>2</th>\n",
       "      <td>DogCare</td>\n",
       "      <td>uotky9</td>\n",
       "      <td>Routine_Heart2153</td>\n",
       "      <td>1</td>\n",
       "      <td>Nala's Crucial ACL Surgery</td>\n",
       "      <td>[removed]</td>\n",
       "      <td>0</td>\n",
       "      <td>1652453786</td>\n",
       "    </tr>\n",
       "    <tr>\n",
       "      <th>3</th>\n",
       "      <td>DogCare</td>\n",
       "      <td>uokuoz</td>\n",
       "      <td>PrincessStorm97</td>\n",
       "      <td>1</td>\n",
       "      <td>Enrichment that doesn’t involve treats or exer...</td>\n",
       "      <td>Sad to say my oldest has heart worms. We start...</td>\n",
       "      <td>0</td>\n",
       "      <td>1652420750</td>\n",
       "    </tr>\n",
       "    <tr>\n",
       "      <th>4</th>\n",
       "      <td>DogCare</td>\n",
       "      <td>uohszh</td>\n",
       "      <td>LaTesora</td>\n",
       "      <td>1</td>\n",
       "      <td>New Husky/German Shepherd owner looking for ad...</td>\n",
       "      <td>Hi y'all!\\n\\nI just adopted a 5 year old Germa...</td>\n",
       "      <td>0</td>\n",
       "      <td>1652409660</td>\n",
       "    </tr>\n",
       "  </tbody>\n",
       "</table>\n",
       "</div>"
      ],
      "text/plain": [
       "  subreddit      id                author  score  \\\n",
       "0   DogCare  uoyffw  Disastrous_Bobcat402      1   \n",
       "1   DogCare  uoxknd   PerformanceStraight      1   \n",
       "2   DogCare  uotky9     Routine_Heart2153      1   \n",
       "3   DogCare  uokuoz       PrincessStorm97      1   \n",
       "4   DogCare  uohszh              LaTesora      1   \n",
       "\n",
       "                                               title  \\\n",
       "0  Anyone know what this could be? 7 Yr old Irish...   \n",
       "1                                   Gum stuck in paw   \n",
       "2                         Nala's Crucial ACL Surgery   \n",
       "3  Enrichment that doesn’t involve treats or exer...   \n",
       "4  New Husky/German Shepherd owner looking for ad...   \n",
       "\n",
       "                                            selftext  num_comments  \\\n",
       "0                                                NaN             0   \n",
       "1                                          [removed]             0   \n",
       "2                                          [removed]             0   \n",
       "3  Sad to say my oldest has heart worms. We start...             0   \n",
       "4  Hi y'all!\\n\\nI just adopted a 5 year old Germa...             0   \n",
       "\n",
       "   created_utc  \n",
       "0   1652467478  \n",
       "1   1652465017  \n",
       "2   1652453786  \n",
       "3   1652420750  \n",
       "4   1652409660  "
      ]
     },
     "execution_count": 43,
     "metadata": {},
     "output_type": "execute_result"
    }
   ],
   "source": [
    "dogcare = pd.read_csv('./dogcare.csv')\n",
    "dogcare.head()"
   ]
  },
  {
   "cell_type": "code",
   "execution_count": 48,
   "metadata": {},
   "outputs": [
    {
     "data": {
      "text/plain": [
       "subreddit          0\n",
       "id                 0\n",
       "author             0\n",
       "score              0\n",
       "title              0\n",
       "selftext        2180\n",
       "num_comments       0\n",
       "created_utc        0\n",
       "dtype: int64"
      ]
     },
     "execution_count": 48,
     "metadata": {},
     "output_type": "execute_result"
    }
   ],
   "source": [
    "dogcare.isnull().sum()"
   ]
  },
  {
   "cell_type": "markdown",
   "metadata": {},
   "source": [
    "## Explore Data"
   ]
  },
  {
   "cell_type": "code",
   "execution_count": 2,
   "metadata": {},
   "outputs": [],
   "source": [
    "# Imports\n",
    "\n"
   ]
  },
  {
   "cell_type": "markdown",
   "metadata": {},
   "source": [
    "## Model"
   ]
  },
  {
   "cell_type": "code",
   "execution_count": null,
   "metadata": {},
   "outputs": [],
   "source": []
  },
  {
   "cell_type": "markdown",
   "metadata": {},
   "source": [
    "## Model Evaluation"
   ]
  },
  {
   "cell_type": "code",
   "execution_count": null,
   "metadata": {},
   "outputs": [],
   "source": []
  },
  {
   "cell_type": "markdown",
   "metadata": {},
   "source": [
    "## Answer Problem, Conclusions, and Recommendations"
   ]
  },
  {
   "cell_type": "code",
   "execution_count": null,
   "metadata": {},
   "outputs": [],
   "source": []
  },
  {
   "cell_type": "markdown",
   "metadata": {},
   "source": [
    "## Sources"
   ]
  }
 ],
 "metadata": {
  "interpreter": {
   "hash": "bee7f723e8de006fbc10ab2a326e1b10643793c86d76dca5e0479e98f4fcd42d"
  },
  "kernelspec": {
   "display_name": "Python 3.8.12 ('base')",
   "language": "python",
   "name": "python3"
  },
  "language_info": {
   "codemirror_mode": {
    "name": "ipython",
    "version": 3
   },
   "file_extension": ".py",
   "mimetype": "text/x-python",
   "name": "python",
   "nbconvert_exporter": "python",
   "pygments_lexer": "ipython3",
   "version": "3.8.12"
  },
  "orig_nbformat": 4
 },
 "nbformat": 4,
 "nbformat_minor": 2
}
