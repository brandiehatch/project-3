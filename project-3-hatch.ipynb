{
 "cells": [
  {
   "cell_type": "markdown",
   "metadata": {},
   "source": [
    "# Project 3: Web APIs and NLP <br>\n",
    "\n",
    "#### Brandie Hatch"
   ]
  },
  {
   "cell_type": "markdown",
   "metadata": {},
   "source": [
    "## Problem\n",
    "\n",
    "\n",
    "\n",
    "Learn with Chewie presents:\n",
    "Web API and NLP Services"
   ]
  },
  {
   "cell_type": "code",
   "execution_count": null,
   "metadata": {},
   "outputs": [],
   "source": []
  },
  {
   "cell_type": "markdown",
   "metadata": {},
   "source": [
    "## Preparation"
   ]
  },
  {
   "cell_type": "code",
   "execution_count": 18,
   "metadata": {},
   "outputs": [
    {
     "name": "stdout",
     "output_type": "stream",
     "text": [
      "False\n"
     ]
    }
   ],
   "source": [
    "# Gather Data\n",
    "import praw\n",
    "\n",
    "reddit = praw.Reddit(\n",
    "    client_id = '5aTMVLqpXQvo6vpgNv171w',\n",
    "    client_secret = 'FAjO19Zyx5W4N9llEeklP8apwz20Zw',\n",
    "    username='BrandieHatch',\n",
    "    password='Qwert123',\n",
    "    user_agent='praw_BH',\n",
    ")\n",
    "print(reddit.read_only)"
   ]
  },
  {
   "cell_type": "code",
   "execution_count": 19,
   "metadata": {},
   "outputs": [
    {
     "name": "stdout",
     "output_type": "stream",
     "text": [
      "Dogtraining\n",
      "DogTraining: For training and rehabilitating dogs and puppies and all things canine behavior\n",
      "###Welcome\n",
      "This is a forum on dog training and behavior that focuses on a [least intrusive, minimally aversive approach.](https://iaabc.org/about/LIMA)    \n",
      "   \n",
      "The advice here is not a replacement for professional help. If your training is not fun and effective, or if you need additional help, then please [find a certified trainer](http://www.reddit.com/r/Dogtraining/wiki/findingatrainer) for assistance.  \n",
      "  \n",
      "----   \n",
      "  \n",
      "###Filters   \n",
      "[All | Remove Filter](http://reddit.com/r/Dogtraining/)   \n",
      "[Academic](http://ac.reddit.com/r/dogtraining/search?q=flair%3Aacademic&restrict_sr=on&sort=new&t=all#ac) [Announcement](http://an.reddit.com/r/Dogtraining/search?q=flair%3Aannouncing&restrict_sr=on&sort=new&t=all#an)  \n",
      "[Brags](http://br.reddit.com/r/Dogtraining/search?q=flair%3Abrags&restrict_sr=on&sort=new&t=all#br) [Community](http://cm.reddit.com/r/Dogtraining/search?q=flair%3Acommunity&restrict_sr=on&sort=new&t=all#cm)  \n",
      "[Criticism Welcome](http://cw.reddit.com/r/Dogtraining/search?q=flair%3Accw+OR+flair%3A\"constructive+criticism+welcome\"&restrict_sr=on&sort=new&t=all#cw) [Discussion](http://ds.reddit.com/r/Dogtraining/search?q=flair%3Adiscussion&restrict_sr=on&sort=new&t=all#ds)  \n",
      "[Equipment](http://eq.reddit.com/r/Dogtraining/search?q=flair%3Aequipment&restrict_sr=on&sort=new&t=all#eq) [Help](http://hp.reddit.com/r/Dogtraining/search?q=flair%3Ahelp&restrict_sr=on&sort=new&t=all#hp)  \n",
      "[Industry](http://up.reddit.com/r/Dogtraining/search?q=flair%3Aindustry&restrict_sr=on&sort=new&t=all#in) [Resource](http://rs.reddit.com/r/Dogtraining/search?q=flair%3Aresource&restrict_sr=on&sort=new&t=all#rs) [Update](http://up.reddit.com/r/Dogtraining/search?q=flair%3Aupdate&restrict_sr=on&sort=new&t=all#up) \n",
      "  \n",
      "----   \n",
      "\n",
      "###Posting Guidelines:  \n",
      "Please read our [rules](https://www.reddit.com/r/Dogtraining/about/rules/) and [posting guidelines](http://www.reddit.com/r/Dogtraining/wiki/guidelines) before posting or commenting.\n",
      "*Posts and comments that don't follow these guidelines will be removed.* In particular, please note that recommending the use of aversives like pain, startle, fear, or intimidation to train dogs is not permitted here.  \n",
      "  \n",
      "Please flair your posts using its flair link (not [help], and so on)! See our [flair guide](https://www.reddit.com/r/Dogtraining/wiki/flairguide) for help.\n",
      "\n",
      "----\n",
      "  \n",
      "### Notable [WIKI](http://www.reddit.com/r/Dogtraining/wiki/index) pages:   \n",
      "\n",
      "  - [Book recommendations](http://www.reddit.com/r/Dogtraining/wiki/books)  \n",
      "  - [Online resources](http://www.reddit.com/r/Dogtraining/wiki/onlineresources)\n",
      "  - [How to choose a trainer](http://www.reddit.com/r/Dogtraining/wiki/findingatrainer)\n",
      "  - [Posting guidelines](http://www.reddit.com/r/Dogtraining/wiki/guidelines)  \n",
      "  - [Dominance](https://www.reddit.com/r/dogtraining/wiki/dominance)  \n",
      "  - [Certified? Apply for User Flair](https://www.reddit.com/r/Dogtraining/wiki/userflair)  \n",
      "\n",
      "----  \n",
      "\n",
      "For content relating to the physical care of dogs, try our sister subreddit, /r/dogCare.\n"
     ]
    }
   ],
   "source": [
    "subreddit = reddit.subreddit('Dogtraining')\n",
    "\n",
    "print(subreddit.display_name)\n",
    "print(subreddit.title)\n",
    "print(subreddit.description)"
   ]
  },
  {
   "cell_type": "code",
   "execution_count": 20,
   "metadata": {},
   "outputs": [
    {
     "name": "stdout",
     "output_type": "stream",
     "text": [
      "['STR_FIELD', '__class__', '__delattr__', '__dict__', '__dir__', '__doc__', '__eq__', '__format__', '__ge__', '__getattr__', '__getattribute__', '__gt__', '__hash__', '__init__', '__init_subclass__', '__le__', '__lt__', '__module__', '__ne__', '__new__', '__reduce__', '__reduce_ex__', '__repr__', '__setattr__', '__sizeof__', '__str__', '__subclasshook__', '__weakref__', '_chunk', '_comments_by_id', '_fetch', '_fetch_data', '_fetch_info', '_fetched', '_kind', '_reddit', '_reset_attributes', '_safely_add_arguments', '_url_parts', '_vote', 'all_awardings', 'allow_live_comments', 'approved_at_utc', 'approved_by', 'archived', 'author', 'author_flair_background_color', 'author_flair_css_class', 'author_flair_richtext', 'author_flair_template_id', 'author_flair_text', 'author_flair_text_color', 'author_flair_type', 'author_fullname', 'author_is_blocked', 'author_patreon_flair', 'author_premium', 'award', 'awarders', 'banned_at_utc', 'banned_by', 'can_gild', 'can_mod_post', 'category', 'clear_vote', 'clicked', 'comment_limit', 'comment_sort', 'comments', 'content_categories', 'contest_mode', 'created', 'created_utc', 'crosspost', 'delete', 'disable_inbox_replies', 'discussion_type', 'distinguished', 'domain', 'downs', 'downvote', 'duplicates', 'edit', 'edited', 'enable_inbox_replies', 'flair', 'fullname', 'gild', 'gilded', 'gildings', 'hidden', 'hide', 'hide_score', 'id', 'id_from_url', 'is_created_from_ads_ui', 'is_crosspostable', 'is_meta', 'is_original_content', 'is_reddit_media_domain', 'is_robot_indexable', 'is_self', 'is_video', 'likes', 'link_flair_background_color', 'link_flair_css_class', 'link_flair_richtext', 'link_flair_template_id', 'link_flair_text', 'link_flair_text_color', 'link_flair_type', 'locked', 'mark_visited', 'media', 'media_embed', 'media_only', 'mod', 'mod_note', 'mod_reason_by', 'mod_reason_title', 'mod_reports', 'name', 'no_follow', 'num_comments', 'num_crossposts', 'num_reports', 'over_18', 'parent_whitelist_status', 'parse', 'permalink', 'pinned', 'pwls', 'quarantine', 'removal_reason', 'removed_by', 'removed_by_category', 'reply', 'report', 'report_reasons', 'save', 'saved', 'score', 'secure_media', 'secure_media_embed', 'selftext', 'selftext_html', 'send_replies', 'shortlink', 'spoiler', 'stickied', 'subreddit', 'subreddit_id', 'subreddit_name_prefixed', 'subreddit_subscribers', 'subreddit_type', 'suggested_sort', 'thumbnail', 'thumbnail_height', 'thumbnail_width', 'title', 'top_awarded_type', 'total_awards_received', 'treatment_tags', 'unhide', 'unsave', 'ups', 'upvote', 'upvote_ratio', 'url', 'user_reports', 'view_count', 'visited', 'whitelist_status', 'wls']\n"
     ]
    }
   ],
   "source": [
    "hot_dogtraining = subreddit.hot(limit=1)\n",
    "\n",
    "for submission in hot_dogtraining:\n",
    "    print(dir(submission))   # can see what all is connected"
   ]
  },
  {
   "cell_type": "code",
   "execution_count": 21,
   "metadata": {},
   "outputs": [
    {
     "name": "stdout",
     "output_type": "stream",
     "text": [
      "21\n",
      "0\n",
      "Save the Date! - Upcoming major dog training event list for 2022 Apr - 2022 Sep\n",
      "13\n",
      "0\n",
      "Trick of the Month - April 2022 - Balance on an Object\n",
      "36\n",
      "0\n",
      "My overseas rescue dog is agoraphobic and doesn't know how to walk on a leash - advice, please?\n",
      "1521\n",
      "0\n",
      "3 month old lab is my 4 year olds first puppy.\n",
      "41\n",
      "0\n",
      "Dog won’t stop ripping up furniture in the middle of the night\n"
     ]
    }
   ],
   "source": [
    "hot_dogtraining = subreddit.hot(limit=5)\n",
    "\n",
    "for submission in hot_dogtraining:\n",
    "    print(submission.ups)   \n",
    "    print(submission.downs)\n",
    "    print(submission.title)"
   ]
  },
  {
   "cell_type": "code",
   "execution_count": 22,
   "metadata": {},
   "outputs": [
    {
     "name": "stdout",
     "output_type": "stream",
     "text": [
      "Title: My overseas rescue dog is agoraphobic and doesn't know how to walk on a leash - advice, please?, ups: 41, downs: 0\n",
      "Title: 3 month old lab is my 4 year olds first puppy., ups: 1525, downs: 0\n",
      "Title: Dog won’t stop ripping up furniture in the middle of the night, ups: 39, downs: 0\n"
     ]
    }
   ],
   "source": [
    "hot_dogtraining = subreddit.hot(limit=5)\n",
    "\n",
    "for submission in hot_dogtraining:\n",
    "    if not submission.stickied:\n",
    "        print('Title: {}, ups: {}, downs: {}'.format(submission.title, submission.ups, submission.downs))"
   ]
  },
  {
   "cell_type": "code",
   "execution_count": null,
   "metadata": {},
   "outputs": [],
   "source": []
  },
  {
   "cell_type": "markdown",
   "metadata": {},
   "source": [
    "## Explore Data"
   ]
  },
  {
   "cell_type": "code",
   "execution_count": 2,
   "metadata": {},
   "outputs": [],
   "source": [
    "# Imports\n",
    "\n"
   ]
  },
  {
   "cell_type": "markdown",
   "metadata": {},
   "source": [
    "## Model"
   ]
  },
  {
   "cell_type": "code",
   "execution_count": null,
   "metadata": {},
   "outputs": [],
   "source": []
  },
  {
   "cell_type": "markdown",
   "metadata": {},
   "source": [
    "## Model Evaluation"
   ]
  },
  {
   "cell_type": "code",
   "execution_count": null,
   "metadata": {},
   "outputs": [],
   "source": []
  },
  {
   "cell_type": "markdown",
   "metadata": {},
   "source": [
    "## Answer Problem, Conclusions, and Recommendations"
   ]
  },
  {
   "cell_type": "code",
   "execution_count": null,
   "metadata": {},
   "outputs": [],
   "source": []
  },
  {
   "cell_type": "markdown",
   "metadata": {},
   "source": [
    "## Sources"
   ]
  }
 ],
 "metadata": {
  "interpreter": {
   "hash": "5f2c757ba6faed44dd25c45dea02c7b2ee52fced49f565c4812f8f82458a9a02"
  },
  "kernelspec": {
   "display_name": "Python 3.8.12 ('base')",
   "language": "python",
   "name": "python3"
  },
  "language_info": {
   "codemirror_mode": {
    "name": "ipython",
    "version": 3
   },
   "file_extension": ".py",
   "mimetype": "text/x-python",
   "name": "python",
   "nbconvert_exporter": "python",
   "pygments_lexer": "ipython3",
   "version": "3.8.12"
  },
  "orig_nbformat": 4
 },
 "nbformat": 4,
 "nbformat_minor": 2
}
