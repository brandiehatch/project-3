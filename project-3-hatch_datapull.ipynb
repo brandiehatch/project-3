{
 "cells": [
  {
   "cell_type": "markdown",
   "metadata": {},
   "source": [
    "# Project 3: Web APIs and NLP <br>\n",
    "\n",
    "#### Brandie Hatch"
   ]
  },
  {
   "cell_type": "markdown",
   "metadata": {},
   "source": [
    "## Problem\n",
    "\n",
    "\n",
    "\n",
    "Learn with Chewie presents:\n",
    "Web API and NLP Services"
   ]
  },
  {
   "cell_type": "code",
   "execution_count": null,
   "metadata": {},
   "outputs": [],
   "source": []
  },
  {
   "cell_type": "markdown",
   "metadata": {},
   "source": [
    "## Preparation"
   ]
  },
  {
   "cell_type": "code",
   "execution_count": 52,
   "metadata": {},
   "outputs": [],
   "source": [
    "# imports\n",
    "import pandas as pd\n",
    "import numpy as np\n",
    "import matplotlib.pyplot as plt\n",
    "import seaborn as sns\n",
    "import scipy.stats as stats\n",
    "import statsmodels.api as sm\n",
    "\n",
    "%matplotlib inline\n",
    "pd.options.display.max_columns =999\n",
    "\n",
    "import requests\n",
    "import time\n",
    "import re\n",
    "import nltk"
   ]
  },
  {
   "cell_type": "code",
   "execution_count": 53,
   "metadata": {},
   "outputs": [
    {
     "name": "stdout",
     "output_type": "stream",
     "text": [
      "False\n"
     ]
    }
   ],
   "source": [
    "# Gather Data\n",
    "import praw\n",
    "\n",
    "reddit = praw.Reddit(\n",
    "    client_id = '5aTMVLqpXQvo6vpgNv171w',\n",
    "    client_secret = 'FAjO19Zyx5W4N9llEeklP8apwz20Zw',\n",
    "    username='BrandieHatch',\n",
    "    password='Qwert123',\n",
    "    user_agent='praw_BH',\n",
    ")\n",
    "print(reddit.read_only)"
   ]
  },
  {
   "cell_type": "code",
   "execution_count": 54,
   "metadata": {},
   "outputs": [
    {
     "name": "stdout",
     "output_type": "stream",
     "text": [
      "Dogtraining\n",
      "DogTraining: For training and rehabilitating dogs and puppies and all things canine behavior\n",
      "###Welcome\n",
      "This is a forum on dog training and behavior that focuses on a [least intrusive, minimally aversive approach.](https://iaabc.org/about/LIMA)    \n",
      "   \n",
      "The advice here is not a replacement for professional help. If your training is not fun and effective, or if you need additional help, then please [find a certified trainer](http://www.reddit.com/r/Dogtraining/wiki/findingatrainer) for assistance.  \n",
      "  \n",
      "----   \n",
      "  \n",
      "###Filters   \n",
      "[All | Remove Filter](http://reddit.com/r/Dogtraining/)   \n",
      "[Academic](http://ac.reddit.com/r/dogtraining/search?q=flair%3Aacademic&restrict_sr=on&sort=new&t=all#ac) [Announcement](http://an.reddit.com/r/Dogtraining/search?q=flair%3Aannouncing&restrict_sr=on&sort=new&t=all#an)  \n",
      "[Brags](http://br.reddit.com/r/Dogtraining/search?q=flair%3Abrags&restrict_sr=on&sort=new&t=all#br) [Community](http://cm.reddit.com/r/Dogtraining/search?q=flair%3Acommunity&restrict_sr=on&sort=new&t=all#cm)  \n",
      "[Criticism Welcome](http://cw.reddit.com/r/Dogtraining/search?q=flair%3Accw+OR+flair%3A\"constructive+criticism+welcome\"&restrict_sr=on&sort=new&t=all#cw) [Discussion](http://ds.reddit.com/r/Dogtraining/search?q=flair%3Adiscussion&restrict_sr=on&sort=new&t=all#ds)  \n",
      "[Equipment](http://eq.reddit.com/r/Dogtraining/search?q=flair%3Aequipment&restrict_sr=on&sort=new&t=all#eq) [Help](http://hp.reddit.com/r/Dogtraining/search?q=flair%3Ahelp&restrict_sr=on&sort=new&t=all#hp)  \n",
      "[Industry](http://up.reddit.com/r/Dogtraining/search?q=flair%3Aindustry&restrict_sr=on&sort=new&t=all#in) [Resource](http://rs.reddit.com/r/Dogtraining/search?q=flair%3Aresource&restrict_sr=on&sort=new&t=all#rs) [Update](http://up.reddit.com/r/Dogtraining/search?q=flair%3Aupdate&restrict_sr=on&sort=new&t=all#up) \n",
      "  \n",
      "----   \n",
      "\n",
      "###Posting Guidelines:  \n",
      "Please read our [rules](https://www.reddit.com/r/Dogtraining/about/rules/) and [posting guidelines](http://www.reddit.com/r/Dogtraining/wiki/guidelines) before posting or commenting.\n",
      "*Posts and comments that don't follow these guidelines will be removed.* In particular, please note that recommending the use of aversives like pain, startle, fear, or intimidation to train dogs is not permitted here.  \n",
      "  \n",
      "Please flair your posts using its flair link (not [help], and so on)! See our [flair guide](https://www.reddit.com/r/Dogtraining/wiki/flairguide) for help.\n",
      "\n",
      "----\n",
      "  \n",
      "### Notable [WIKI](http://www.reddit.com/r/Dogtraining/wiki/index) pages:   \n",
      "\n",
      "  - [Book recommendations](http://www.reddit.com/r/Dogtraining/wiki/books)  \n",
      "  - [Online resources](http://www.reddit.com/r/Dogtraining/wiki/onlineresources)\n",
      "  - [How to choose a trainer](http://www.reddit.com/r/Dogtraining/wiki/findingatrainer)\n",
      "  - [Posting guidelines](http://www.reddit.com/r/Dogtraining/wiki/guidelines)  \n",
      "  - [Dominance](https://www.reddit.com/r/dogtraining/wiki/dominance)  \n",
      "  - [Certified? Apply for User Flair](https://www.reddit.com/r/Dogtraining/wiki/userflair)  \n",
      "\n",
      "----  \n",
      "\n",
      "For content relating to the physical care of dogs, try our sister subreddit, /r/dogCare.\n"
     ]
    }
   ],
   "source": [
    "subreddit = reddit.subreddit('Dogtraining')\n",
    "\n",
    "print(subreddit.display_name)\n",
    "print(subreddit.title)\n",
    "print(subreddit.description)"
   ]
  },
  {
   "cell_type": "code",
   "execution_count": 55,
   "metadata": {},
   "outputs": [
    {
     "name": "stdout",
     "output_type": "stream",
     "text": [
      "['STR_FIELD', '__class__', '__delattr__', '__dict__', '__dir__', '__doc__', '__eq__', '__format__', '__ge__', '__getattr__', '__getattribute__', '__gt__', '__hash__', '__init__', '__init_subclass__', '__le__', '__lt__', '__module__', '__ne__', '__new__', '__reduce__', '__reduce_ex__', '__repr__', '__setattr__', '__sizeof__', '__str__', '__subclasshook__', '__weakref__', '_chunk', '_comments_by_id', '_fetch', '_fetch_data', '_fetch_info', '_fetched', '_kind', '_reddit', '_reset_attributes', '_safely_add_arguments', '_url_parts', '_vote', 'all_awardings', 'allow_live_comments', 'approved_at_utc', 'approved_by', 'archived', 'author', 'author_flair_background_color', 'author_flair_css_class', 'author_flair_richtext', 'author_flair_template_id', 'author_flair_text', 'author_flair_text_color', 'author_flair_type', 'author_fullname', 'author_is_blocked', 'author_patreon_flair', 'author_premium', 'award', 'awarders', 'banned_at_utc', 'banned_by', 'can_gild', 'can_mod_post', 'category', 'clear_vote', 'clicked', 'comment_limit', 'comment_sort', 'comments', 'content_categories', 'contest_mode', 'created', 'created_utc', 'crosspost', 'delete', 'disable_inbox_replies', 'discussion_type', 'distinguished', 'domain', 'downs', 'downvote', 'duplicates', 'edit', 'edited', 'enable_inbox_replies', 'flair', 'fullname', 'gild', 'gilded', 'gildings', 'hidden', 'hide', 'hide_score', 'id', 'id_from_url', 'is_created_from_ads_ui', 'is_crosspostable', 'is_meta', 'is_original_content', 'is_reddit_media_domain', 'is_robot_indexable', 'is_self', 'is_video', 'likes', 'link_flair_background_color', 'link_flair_css_class', 'link_flair_richtext', 'link_flair_template_id', 'link_flair_text', 'link_flair_text_color', 'link_flair_type', 'locked', 'mark_visited', 'media', 'media_embed', 'media_only', 'mod', 'mod_note', 'mod_reason_by', 'mod_reason_title', 'mod_reports', 'name', 'no_follow', 'num_comments', 'num_crossposts', 'num_reports', 'over_18', 'parent_whitelist_status', 'parse', 'permalink', 'pinned', 'post_hint', 'preview', 'pwls', 'quarantine', 'removal_reason', 'removed_by', 'removed_by_category', 'reply', 'report', 'report_reasons', 'save', 'saved', 'score', 'secure_media', 'secure_media_embed', 'selftext', 'selftext_html', 'send_replies', 'shortlink', 'spoiler', 'stickied', 'subreddit', 'subreddit_id', 'subreddit_name_prefixed', 'subreddit_subscribers', 'subreddit_type', 'suggested_sort', 'thumbnail', 'thumbnail_height', 'thumbnail_width', 'title', 'top_awarded_type', 'total_awards_received', 'treatment_tags', 'unhide', 'unsave', 'ups', 'upvote', 'upvote_ratio', 'url', 'user_reports', 'view_count', 'visited', 'whitelist_status', 'wls']\n"
     ]
    }
   ],
   "source": [
    "hot_dogtraining = subreddit.hot(limit=1)\n",
    "\n",
    "for submission in hot_dogtraining:\n",
    "    print(dir(submission))   # can see what all is connected"
   ]
  },
  {
   "cell_type": "code",
   "execution_count": 56,
   "metadata": {},
   "outputs": [
    {
     "name": "stdout",
     "output_type": "stream",
     "text": [
      "7\n",
      "0\n",
      "Trick of the Month - May 2022 - Crawl Backwards\n",
      "6\n",
      "0\n",
      "Announcement - Puppy Enrichment AMA With Allie Bender! Sunday 5/22 1PM EST\n",
      "63\n",
      "0\n",
      "How do I get a cafe/brewery dog?\n",
      "382\n",
      "0\n",
      "10 Month old cocker spaniel agression , he's very excited for walks , but it's very hard to wear and remove the harness and he ends up like this. Please help!\n",
      "4\n",
      "0\n",
      "How to act around a reactive dog?\n"
     ]
    }
   ],
   "source": [
    "hot_dogtraining = subreddit.hot(limit=5)\n",
    "\n",
    "for submission in hot_dogtraining:\n",
    "    print(submission.ups)   \n",
    "    print(submission.downs)\n",
    "    print(submission.title)"
   ]
  },
  {
   "cell_type": "code",
   "execution_count": 57,
   "metadata": {},
   "outputs": [
    {
     "name": "stdout",
     "output_type": "stream",
     "text": [
      "Title: How do I get a cafe/brewery dog?, ups: 63, downs: 0\n",
      "Title: 10 Month old cocker spaniel agression , he's very excited for walks , but it's very hard to wear and remove the harness and he ends up like this. Please help!, ups: 381, downs: 0\n",
      "Title: How to act around a reactive dog?, ups: 4, downs: 0\n"
     ]
    }
   ],
   "source": [
    "hot_dogtraining = subreddit.hot(limit=5)\n",
    "\n",
    "for submission in hot_dogtraining:\n",
    "    if not submission.stickied:\n",
    "        print('Title: {}, ups: {}, downs: {}'.format(submission.title, submission.ups, submission.downs))"
   ]
  },
  {
   "cell_type": "code",
   "execution_count": 58,
   "metadata": {},
   "outputs": [
    {
     "name": "stdout",
     "output_type": "stream",
     "text": [
      "subreddit: Dogtraining, id: up52vw, Title: How do I get a cafe/brewery dog?, author: slothsandwhich, ups: 66, downs: 0, selftext: I am sitting at a brewery right now and all the dogs are laying down just relaxing and I am jealous.  I love to take my dog (2yo) out with me as much as possible, but she can never just calm down in cafes/breweries/any other outdoor public spaces. I don’t think she’s ever lied down… Any tips to train her to be a well-mannered cafe pup?, score: 66\n",
      "subreddit: DogCare, id: uow11b, Title: My dog has this weird thing on the tail, can anyone identify what is it?, author: NivTheGever, ups: 17, downs: 0, selftext: , score: 17\n",
      "subreddit: Dogtraining, id: uoq0a6, Title: 10 Month old cocker spaniel agression , he's very excited for walks , but it's very hard to wear and remove the harness and he ends up like this. Please help!, author: vishwanath123, ups: 378, downs: 0, selftext: , score: 378\n",
      "subreddit: DogCare, id: up7lse, Title: Any ideas what this might be?, author: ChunkyMonkey3499, ups: 0, downs: 0, selftext: I came home from work a couple of days ago and my dog had a spot on his back leg. I’m not sure what it is. He has an appointment at the vet but it’s not very soon and it’s a soon as I could get. I just wanna know if he is in pain. And if so if there’s something I can do to help? And or what it is?, score: 0\n",
      "subreddit: DogCare, id: uoyffw, Title: Anyone know what this could be? 7 Yr old Irish setter, just noticed it today. On her rear left leg. Doesn’t seem to cause any pain., author: Disastrous_Bobcat402, ups: 2, downs: 0, selftext: , score: 2\n"
     ]
    }
   ],
   "source": [
    "subreddit_dogs = reddit.subreddit('dogtraining+dogcare').hot(limit=5)\n",
    "\n",
    "#subs = []\n",
    "\n",
    "for submission in subreddit_dogs:\n",
    "    if not submission.stickied:\n",
    "        print('subreddit: {}, id: {}, Title: {}, author: {}, ups: {}, downs: {}, selftext: {}, score: {}'.format(submission.subreddit, submission.id, submission.title, submission.author, submission.ups, submission.downs, submission.selftext, submission.score))\n"
   ]
  },
  {
   "cell_type": "code",
   "execution_count": 59,
   "metadata": {},
   "outputs": [],
   "source": [
    "subreddit_dogs = reddit.subreddit('dogtraining+dogcare').hot(limit=5)\n",
    "\n",
    "#subs = []\n",
    "\n",
    "for submission in subreddit_dogs:\n",
    "    if not submission.stickied:\n",
    "        subs = {'subreddit: {}, id: {}, Title: {}, author: {}, ups: {}, downs: {}, selftext: {}, score: {}'.format(submission.subreddit, submission.id, submission.title, submission.author, submission.ups, submission.downs, submission.selftext, submission.score)}\n",
    "        post_df = pd.DataFrame(data=subs)\n",
    "\n"
   ]
  },
  {
   "cell_type": "code",
   "execution_count": 60,
   "metadata": {},
   "outputs": [
    {
     "data": {
      "text/html": [
       "<div>\n",
       "<style scoped>\n",
       "    .dataframe tbody tr th:only-of-type {\n",
       "        vertical-align: middle;\n",
       "    }\n",
       "\n",
       "    .dataframe tbody tr th {\n",
       "        vertical-align: top;\n",
       "    }\n",
       "\n",
       "    .dataframe thead th {\n",
       "        text-align: right;\n",
       "    }\n",
       "</style>\n",
       "<table border=\"1\" class=\"dataframe\">\n",
       "  <thead>\n",
       "    <tr style=\"text-align: right;\">\n",
       "      <th></th>\n",
       "      <th>0</th>\n",
       "    </tr>\n",
       "  </thead>\n",
       "  <tbody>\n",
       "    <tr>\n",
       "      <th>0</th>\n",
       "      <td>subreddit: DogCare, id: uoyffw, Title: Anyone ...</td>\n",
       "    </tr>\n",
       "  </tbody>\n",
       "</table>\n",
       "</div>"
      ],
      "text/plain": [
       "                                                   0\n",
       "0  subreddit: DogCare, id: uoyffw, Title: Anyone ..."
      ]
     },
     "execution_count": 60,
     "metadata": {},
     "output_type": "execute_result"
    }
   ],
   "source": [
    "post_df.head()"
   ]
  },
  {
   "cell_type": "code",
   "execution_count": 61,
   "metadata": {},
   "outputs": [],
   "source": [
    "#def posts(subreddit):\n",
    "\n",
    "#subs_dict = {}\n",
    "\n",
    "subreddit_dogs = reddit.subreddit('dogtraining+dogcare').hot(limit=5)\n",
    "\n",
    "for submission in subreddit_dogs:\n",
    "    if not submission.stickied:\n",
    "\n",
    "        df = pd.DataFrame(data=[['subreddit: {}, id: {}, Title: {}, author: {}, ups: {}, downs: {}, selftext: {}, score: {}'.format(submission.subreddit, submission.id, submission.title, submission.author, submission.ups, submission.downs, submission.selftext, submission.score)]])\n",
    "\n"
   ]
  },
  {
   "cell_type": "code",
   "execution_count": 62,
   "metadata": {},
   "outputs": [
    {
     "data": {
      "text/html": [
       "<div>\n",
       "<style scoped>\n",
       "    .dataframe tbody tr th:only-of-type {\n",
       "        vertical-align: middle;\n",
       "    }\n",
       "\n",
       "    .dataframe tbody tr th {\n",
       "        vertical-align: top;\n",
       "    }\n",
       "\n",
       "    .dataframe thead th {\n",
       "        text-align: right;\n",
       "    }\n",
       "</style>\n",
       "<table border=\"1\" class=\"dataframe\">\n",
       "  <thead>\n",
       "    <tr style=\"text-align: right;\">\n",
       "      <th></th>\n",
       "      <th>0</th>\n",
       "    </tr>\n",
       "  </thead>\n",
       "  <tbody>\n",
       "    <tr>\n",
       "      <th>0</th>\n",
       "      <td>subreddit: DogCare, id: uoyffw, Title: Anyone ...</td>\n",
       "    </tr>\n",
       "  </tbody>\n",
       "</table>\n",
       "</div>"
      ],
      "text/plain": [
       "                                                   0\n",
       "0  subreddit: DogCare, id: uoyffw, Title: Anyone ..."
      ]
     },
     "execution_count": 62,
     "metadata": {},
     "output_type": "execute_result"
    }
   ],
   "source": [
    "df.head()"
   ]
  },
  {
   "cell_type": "code",
   "execution_count": 63,
   "metadata": {},
   "outputs": [],
   "source": [
    "def get_posts(subreddit):\n",
    "    subreddit_dogs = reddit.subreddit(subreddit).hot(limit=5)\n",
    "\n",
    "    for submission in subreddit_dogs:\n",
    "        if not submission.stickied:\n",
    "    \n",
    "            subs_dict = {\n",
    "                'subreddit': [], 'id': [], 'title': [], 'selftext': [], 'author': [], 'ups': [], 'downs': [], 'score': [], 'num_comments': [], 'sorted_by': [], 'created': []\n",
    "            }\n",
    "\n",
    "    for submission in subreddit_dogs:\n",
    "        subs_dict[\"subreddit\"].append(submission.subreddit)\n",
    "        subs_dict[\"id\"].append(submission.id)\n",
    "        subs_dict[\"title\"].append(submission.title)\n",
    "        subs_dict[\"selftext\"].append(submission.selftext)\n",
    "        subs_dict[\"author\"].append(submission.author)\n",
    "        subs_dict[\"ups\"].append(submission.ups)\n",
    "        subs_dict[\"downs\"].append(submission.downs)\n",
    "        subs_dict[\"score\"].append(submission.score)\n",
    "        subs_dict[\"num_comments\"].append(submission.num_comments)      \n",
    "        subs_dict[\"sorted_by\"].append(submission.sorted_by)\n",
    "        subs_dict[\"created\"].append(submission.created)\n",
    "\n",
    "    return pd.DataFrame(subs_dict)\n",
    "\n",
    "# subreddit_dogs = reddit.subreddit('dogtraining+dogcare').hot(limit=5)\n",
    "\n",
    "#for submission in subreddit_dogs:\n",
    " #   if not submission.stickied:\n",
    "\n",
    "  #      df = pd.DataFrame(data=[['subreddit: {}, id: {}, Title: {}, author: {}, ups: {}, downs: {}, selftext: {}, score: {}'.format(submission.subreddit, submission.id, submission.title, submission.selftext, submission.author, submission.ups, submission.downs, submission.score, submission.num_comments, submission.sorted_by)]])\n",
    "\n"
   ]
  },
  {
   "cell_type": "code",
   "execution_count": 64,
   "metadata": {},
   "outputs": [
    {
     "data": {
      "text/html": [
       "<div>\n",
       "<style scoped>\n",
       "    .dataframe tbody tr th:only-of-type {\n",
       "        vertical-align: middle;\n",
       "    }\n",
       "\n",
       "    .dataframe tbody tr th {\n",
       "        vertical-align: top;\n",
       "    }\n",
       "\n",
       "    .dataframe thead th {\n",
       "        text-align: right;\n",
       "    }\n",
       "</style>\n",
       "<table border=\"1\" class=\"dataframe\">\n",
       "  <thead>\n",
       "    <tr style=\"text-align: right;\">\n",
       "      <th></th>\n",
       "      <th>subreddit</th>\n",
       "      <th>id</th>\n",
       "      <th>title</th>\n",
       "      <th>selftext</th>\n",
       "      <th>author</th>\n",
       "      <th>ups</th>\n",
       "      <th>downs</th>\n",
       "      <th>score</th>\n",
       "      <th>num_comments</th>\n",
       "      <th>sorted_by</th>\n",
       "      <th>created</th>\n",
       "    </tr>\n",
       "  </thead>\n",
       "  <tbody>\n",
       "  </tbody>\n",
       "</table>\n",
       "</div>"
      ],
      "text/plain": [
       "Empty DataFrame\n",
       "Columns: [subreddit, id, title, selftext, author, ups, downs, score, num_comments, sorted_by, created]\n",
       "Index: []"
      ]
     },
     "execution_count": 64,
     "metadata": {},
     "output_type": "execute_result"
    }
   ],
   "source": [
    "df_dogs = get_posts('dogtraining+dogcare')\n",
    "df_dogs.head()\n"
   ]
  },
  {
   "cell_type": "code",
   "execution_count": 69,
   "metadata": {},
   "outputs": [],
   "source": [
    "CLIENT_ID = '5aTMVLqpXQvo6vpgNv171w'\n",
    "SECRET_KEY = 'FAjO19Zyx5W4N9llEeklP8apwz20Zw'"
   ]
  },
  {
   "cell_type": "code",
   "execution_count": 70,
   "metadata": {},
   "outputs": [],
   "source": [
    "with open('pw.txt', 'r') as f:\n",
    "    pw = f.read()"
   ]
  },
  {
   "cell_type": "code",
   "execution_count": 75,
   "metadata": {},
   "outputs": [],
   "source": [
    "import requests\n",
    "\n",
    "auth = requests.auth.HTTPBasicAuth(CLIENT_ID, SECRET_KEY)\n",
    "\n",
    "data = {\n",
    "    'grant_type': 'password',\n",
    "    'username': 'BrandieHatch',\n",
    "    'password': pw\n",
    "}\n",
    "\n",
    "headers = {'user-agent': 'praw_BH/0.0.1', 'accept': '*/*'}\n",
    "\n",
    "res = requests.post('https://www.reddit.com/api/v1/access_token',\n",
    "                    auth=auth, data=data, headers=headers)\n",
    "\n",
    "token = res.json()['access_token']\n",
    "\n",
    "\n",
    "# add authorization to our headers dictionary\n",
    "headers = {**headers, **{'Authorization': f'bearer {token}'}}\n",
    "\n",
    "# while the token is valid (~2 hours) we just add headers=headers to our requests\n",
    "requests.get('https://oauth.reddit.com/api/v1/me', headers=headers)"
   ]
  },
  {
   "cell_type": "code",
   "execution_count": null,
   "metadata": {},
   "outputs": [],
   "source": [
    "# requests.get(\"https://oauth.reddit.com/r/dogtraining/hot\", headers=headers).json()"
   ]
  },
  {
   "cell_type": "code",
   "execution_count": 85,
   "metadata": {},
   "outputs": [],
   "source": [
    "#params = {'size': 100}\n",
    "\n",
    "#res = requests.get(\"https://oauth.reddit.com/r/dogtraining/hot\", params, headers=headers).json()"
   ]
  },
  {
   "cell_type": "code",
   "execution_count": 88,
   "metadata": {},
   "outputs": [
    {
     "name": "stderr",
     "output_type": "stream",
     "text": [
      "C:\\Users\\hatch\\AppData\\Local\\Temp/ipykernel_13536/3894367570.py:10: FutureWarning: The frame.append method is deprecated and will be removed from pandas in a future version. Use pandas.concat instead.\n",
      "  df_dogtraining = df_dogtraining.append({\n",
      "C:\\Users\\hatch\\AppData\\Local\\Temp/ipykernel_13536/3894367570.py:10: FutureWarning: The frame.append method is deprecated and will be removed from pandas in a future version. Use pandas.concat instead.\n",
      "  df_dogtraining = df_dogtraining.append({\n",
      "C:\\Users\\hatch\\AppData\\Local\\Temp/ipykernel_13536/3894367570.py:10: FutureWarning: The frame.append method is deprecated and will be removed from pandas in a future version. Use pandas.concat instead.\n",
      "  df_dogtraining = df_dogtraining.append({\n",
      "C:\\Users\\hatch\\AppData\\Local\\Temp/ipykernel_13536/3894367570.py:10: FutureWarning: The frame.append method is deprecated and will be removed from pandas in a future version. Use pandas.concat instead.\n",
      "  df_dogtraining = df_dogtraining.append({\n",
      "C:\\Users\\hatch\\AppData\\Local\\Temp/ipykernel_13536/3894367570.py:10: FutureWarning: The frame.append method is deprecated and will be removed from pandas in a future version. Use pandas.concat instead.\n",
      "  df_dogtraining = df_dogtraining.append({\n",
      "C:\\Users\\hatch\\AppData\\Local\\Temp/ipykernel_13536/3894367570.py:10: FutureWarning: The frame.append method is deprecated and will be removed from pandas in a future version. Use pandas.concat instead.\n",
      "  df_dogtraining = df_dogtraining.append({\n",
      "C:\\Users\\hatch\\AppData\\Local\\Temp/ipykernel_13536/3894367570.py:10: FutureWarning: The frame.append method is deprecated and will be removed from pandas in a future version. Use pandas.concat instead.\n",
      "  df_dogtraining = df_dogtraining.append({\n",
      "C:\\Users\\hatch\\AppData\\Local\\Temp/ipykernel_13536/3894367570.py:10: FutureWarning: The frame.append method is deprecated and will be removed from pandas in a future version. Use pandas.concat instead.\n",
      "  df_dogtraining = df_dogtraining.append({\n",
      "C:\\Users\\hatch\\AppData\\Local\\Temp/ipykernel_13536/3894367570.py:10: FutureWarning: The frame.append method is deprecated and will be removed from pandas in a future version. Use pandas.concat instead.\n",
      "  df_dogtraining = df_dogtraining.append({\n",
      "C:\\Users\\hatch\\AppData\\Local\\Temp/ipykernel_13536/3894367570.py:10: FutureWarning: The frame.append method is deprecated and will be removed from pandas in a future version. Use pandas.concat instead.\n",
      "  df_dogtraining = df_dogtraining.append({\n",
      "C:\\Users\\hatch\\AppData\\Local\\Temp/ipykernel_13536/3894367570.py:10: FutureWarning: The frame.append method is deprecated and will be removed from pandas in a future version. Use pandas.concat instead.\n",
      "  df_dogtraining = df_dogtraining.append({\n",
      "C:\\Users\\hatch\\AppData\\Local\\Temp/ipykernel_13536/3894367570.py:10: FutureWarning: The frame.append method is deprecated and will be removed from pandas in a future version. Use pandas.concat instead.\n",
      "  df_dogtraining = df_dogtraining.append({\n",
      "C:\\Users\\hatch\\AppData\\Local\\Temp/ipykernel_13536/3894367570.py:10: FutureWarning: The frame.append method is deprecated and will be removed from pandas in a future version. Use pandas.concat instead.\n",
      "  df_dogtraining = df_dogtraining.append({\n",
      "C:\\Users\\hatch\\AppData\\Local\\Temp/ipykernel_13536/3894367570.py:10: FutureWarning: The frame.append method is deprecated and will be removed from pandas in a future version. Use pandas.concat instead.\n",
      "  df_dogtraining = df_dogtraining.append({\n",
      "C:\\Users\\hatch\\AppData\\Local\\Temp/ipykernel_13536/3894367570.py:10: FutureWarning: The frame.append method is deprecated and will be removed from pandas in a future version. Use pandas.concat instead.\n",
      "  df_dogtraining = df_dogtraining.append({\n",
      "C:\\Users\\hatch\\AppData\\Local\\Temp/ipykernel_13536/3894367570.py:10: FutureWarning: The frame.append method is deprecated and will be removed from pandas in a future version. Use pandas.concat instead.\n",
      "  df_dogtraining = df_dogtraining.append({\n",
      "C:\\Users\\hatch\\AppData\\Local\\Temp/ipykernel_13536/3894367570.py:10: FutureWarning: The frame.append method is deprecated and will be removed from pandas in a future version. Use pandas.concat instead.\n",
      "  df_dogtraining = df_dogtraining.append({\n",
      "C:\\Users\\hatch\\AppData\\Local\\Temp/ipykernel_13536/3894367570.py:10: FutureWarning: The frame.append method is deprecated and will be removed from pandas in a future version. Use pandas.concat instead.\n",
      "  df_dogtraining = df_dogtraining.append({\n",
      "C:\\Users\\hatch\\AppData\\Local\\Temp/ipykernel_13536/3894367570.py:10: FutureWarning: The frame.append method is deprecated and will be removed from pandas in a future version. Use pandas.concat instead.\n",
      "  df_dogtraining = df_dogtraining.append({\n",
      "C:\\Users\\hatch\\AppData\\Local\\Temp/ipykernel_13536/3894367570.py:10: FutureWarning: The frame.append method is deprecated and will be removed from pandas in a future version. Use pandas.concat instead.\n",
      "  df_dogtraining = df_dogtraining.append({\n",
      "C:\\Users\\hatch\\AppData\\Local\\Temp/ipykernel_13536/3894367570.py:10: FutureWarning: The frame.append method is deprecated and will be removed from pandas in a future version. Use pandas.concat instead.\n",
      "  df_dogtraining = df_dogtraining.append({\n",
      "C:\\Users\\hatch\\AppData\\Local\\Temp/ipykernel_13536/3894367570.py:10: FutureWarning: The frame.append method is deprecated and will be removed from pandas in a future version. Use pandas.concat instead.\n",
      "  df_dogtraining = df_dogtraining.append({\n",
      "C:\\Users\\hatch\\AppData\\Local\\Temp/ipykernel_13536/3894367570.py:10: FutureWarning: The frame.append method is deprecated and will be removed from pandas in a future version. Use pandas.concat instead.\n",
      "  df_dogtraining = df_dogtraining.append({\n",
      "C:\\Users\\hatch\\AppData\\Local\\Temp/ipykernel_13536/3894367570.py:10: FutureWarning: The frame.append method is deprecated and will be removed from pandas in a future version. Use pandas.concat instead.\n",
      "  df_dogtraining = df_dogtraining.append({\n",
      "C:\\Users\\hatch\\AppData\\Local\\Temp/ipykernel_13536/3894367570.py:10: FutureWarning: The frame.append method is deprecated and will be removed from pandas in a future version. Use pandas.concat instead.\n",
      "  df_dogtraining = df_dogtraining.append({\n",
      "C:\\Users\\hatch\\AppData\\Local\\Temp/ipykernel_13536/3894367570.py:10: FutureWarning: The frame.append method is deprecated and will be removed from pandas in a future version. Use pandas.concat instead.\n",
      "  df_dogtraining = df_dogtraining.append({\n",
      "C:\\Users\\hatch\\AppData\\Local\\Temp/ipykernel_13536/3894367570.py:10: FutureWarning: The frame.append method is deprecated and will be removed from pandas in a future version. Use pandas.concat instead.\n",
      "  df_dogtraining = df_dogtraining.append({\n"
     ]
    }
   ],
   "source": [
    "params = {\n",
    "     'size': 100\n",
    "}\n",
    "\n",
    "res = requests.get(\"https://oauth.reddit.com/r/dogtraining/\", params, headers=headers)\n",
    "\n",
    "df_dogtraining = pd.DataFrame()\n",
    "\n",
    "for submission in res.json()['data']['children']:\n",
    "    df_dogtraining = df_dogtraining.append({\n",
    "        'subreddit': submission['data']['subreddit'],\n",
    "        'id': submission['data']['id'],\n",
    "        'title': submission['data']['title'],\n",
    "        'selftext': submission['data']['selftext'], \n",
    "        'author': submission['data']['author'],\n",
    "        'name': submission['data']['name'],\n",
    "        'ups': submission['data']['ups'], \n",
    "        'downs': submission['data']['downs'],\n",
    "        'score': submission['data']['score'],\n",
    "        'num_comments': submission['data']['num_comments'], \n",
    "        'created_utc': submission['data']['created_utc'],\n",
    "        'over_18': submission['data']['over_18']\n",
    "    }, ignore_index=True)\n"
   ]
  },
  {
   "cell_type": "code",
   "execution_count": 89,
   "metadata": {},
   "outputs": [
    {
     "data": {
      "text/plain": [
       "(27, 12)"
      ]
     },
     "execution_count": 89,
     "metadata": {},
     "output_type": "execute_result"
    }
   ],
   "source": [
    "df_dogtraining.shape"
   ]
  },
  {
   "cell_type": "code",
   "execution_count": 78,
   "metadata": {},
   "outputs": [],
   "source": [
    "def get_posts(subreddit):\n",
    "    subreddit_dogs = reddit.subreddit(subreddit).hot(limit=5)\n",
    "\n",
    "    for submission in subreddit_dogs:\n",
    "        if not submission.stickied:\n",
    "    \n",
    "            subs_dict = {\n",
    "                'subreddit': [], 'id': [], 'title': [], 'selftext': [], 'author': [], 'ups': [], 'downs': [], 'score': [], 'num_comments': [], 'sorted_by': [], 'created': []\n",
    "            }\n",
    "\n",
    "    for submission in subreddit_dogs:\n",
    "        subs_dict[\"subreddit\"].append(submission.subreddit)\n",
    "        subs_dict[\"id\"].append(submission.id)\n",
    "        subs_dict[\"title\"].append(submission.title)\n",
    "        subs_dict[\"selftext\"].append(submission.selftext)\n",
    "        subs_dict[\"author\"].append(submission.author)\n",
    "        subs_dict[\"ups\"].append(submission.ups)\n",
    "        subs_dict[\"downs\"].append(submission.downs)\n",
    "        subs_dict[\"score\"].append(submission.score)\n",
    "        subs_dict[\"num_comments\"].append(submission.num_comments)      \n",
    "        subs_dict[\"sorted_by\"].append(submission.sorted_by)\n",
    "        subs_dict[\"created\"].append(submission.created)\n",
    "\n",
    "\n",
    "\n",
    "    return pd.DataFrame(subs_dict)\n",
    "\n",
    "    # https://towardsdatascience.com/scraping-reddit-with-praw-76efc1d1e1d9\n",
    "    # https://www.storybench.org/how-to-scrape-reddit-with-python/"
   ]
  },
  {
   "cell_type": "code",
   "execution_count": null,
   "metadata": {},
   "outputs": [],
   "source": []
  },
  {
   "cell_type": "markdown",
   "metadata": {},
   "source": [
    "## Explore Data"
   ]
  },
  {
   "cell_type": "code",
   "execution_count": 2,
   "metadata": {},
   "outputs": [],
   "source": [
    "# Imports\n",
    "\n"
   ]
  },
  {
   "cell_type": "markdown",
   "metadata": {},
   "source": [
    "## Model"
   ]
  },
  {
   "cell_type": "code",
   "execution_count": null,
   "metadata": {},
   "outputs": [],
   "source": []
  },
  {
   "cell_type": "markdown",
   "metadata": {},
   "source": [
    "## Model Evaluation"
   ]
  },
  {
   "cell_type": "code",
   "execution_count": null,
   "metadata": {},
   "outputs": [],
   "source": []
  },
  {
   "cell_type": "markdown",
   "metadata": {},
   "source": [
    "## Answer Problem, Conclusions, and Recommendations"
   ]
  },
  {
   "cell_type": "code",
   "execution_count": null,
   "metadata": {},
   "outputs": [],
   "source": []
  },
  {
   "cell_type": "markdown",
   "metadata": {},
   "source": [
    "## Sources"
   ]
  }
 ],
 "metadata": {
  "interpreter": {
   "hash": "bee7f723e8de006fbc10ab2a326e1b10643793c86d76dca5e0479e98f4fcd42d"
  },
  "kernelspec": {
   "display_name": "Python 3.8.12 ('base')",
   "language": "python",
   "name": "python3"
  },
  "language_info": {
   "codemirror_mode": {
    "name": "ipython",
    "version": 3
   },
   "file_extension": ".py",
   "mimetype": "text/x-python",
   "name": "python",
   "nbconvert_exporter": "python",
   "pygments_lexer": "ipython3",
   "version": "3.8.12"
  },
  "orig_nbformat": 4
 },
 "nbformat": 4,
 "nbformat_minor": 2
}
